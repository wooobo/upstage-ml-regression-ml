{
 "cells": [
  {
   "cell_type": "markdown",
   "metadata": {},
   "source": [
    "# 신축에 따른 가격변화 추이"
   ]
  },
  {
   "cell_type": "markdown",
   "metadata": {},
   "source": [
    "유의미한 가격 추이를 확인하지 못했음"
   ]
  },
  {
   "cell_type": "code",
   "metadata": {
    "ExecuteTime": {
     "end_time": "2025-01-11T16:38:36.666646Z",
     "start_time": "2025-01-11T16:38:36.106186Z"
    }
   },
   "source": [
    "# visualization\n",
    "import matplotlib.pyplot as plt\n",
    "import matplotlib.font_manager as fm\n",
    "fe = fm.FontEntry(\n",
    "    fname=r'/usr/share/fonts/truetype/nanum/NanumGothic.ttf', # ttf 파일이 저장되어 있는 경로\n",
    "    name='NanumBarunGothic')                        # 이 폰트의 원하는 이름 설정\n",
    "fm.fontManager.ttflist.insert(0, fe)              # Matplotlib에 폰트 추가\n",
    "plt.rcParams.update({'font.size': 10, 'font.family': 'NanumBarunGothic'}) # 폰트 설정\n",
    "plt.rc('font', family='NanumBarunGothic')\n",
    "import seaborn as sns\n",
    "\n",
    "# utils\n",
    "import pandas as pd\n",
    "import numpy as np\n",
    "from tqdm import tqdm\n",
    "import pickle\n",
    "import warnings;warnings.filterwarnings('ignore')\n",
    "\n",
    "# Model\n",
    "from sklearn.preprocessing import LabelEncoder\n",
    "from sklearn.model_selection import train_test_split\n",
    "from sklearn.metrics import mean_squared_error\n",
    "from sklearn.ensemble import RandomForestRegressor\n",
    "from sklearn import metrics\n",
    "\n",
    "import eli5\n",
    "from eli5.sklearn import PermutationImportance"
   ],
   "outputs": [],
   "execution_count": 1
  },
  {
   "cell_type": "code",
   "metadata": {
    "ExecuteTime": {
     "end_time": "2025-01-11T16:38:37.576367Z",
     "start_time": "2025-01-11T16:38:37.508776Z"
    }
   },
   "source": [
    "# sys.path를 수정하여 모듈 경로를 설정\n",
    "import sys\n",
    "import os\n",
    "import pandas as pd\n",
    "\n",
    "# 프로젝트 루트 경로 추가\n",
    "project_root = os.path.abspath(\"..\")\n",
    "sys.path.append(project_root)\n",
    "\n",
    "import module"
   ],
   "outputs": [],
   "execution_count": 2
  },
  {
   "cell_type": "code",
   "metadata": {
    "ExecuteTime": {
     "end_time": "2025-01-11T16:38:44.012691Z",
     "start_time": "2025-01-11T16:38:39.191315Z"
    }
   },
   "source": [
    "df = module.file_load.load_origin_train()"
   ],
   "outputs": [],
   "execution_count": 3
  },
  {
   "metadata": {
    "ExecuteTime": {
     "end_time": "2025-01-11T16:39:54.328536Z",
     "start_time": "2025-01-11T16:39:54.323416Z"
    }
   },
   "cell_type": "code",
   "source": "df.columns",
   "outputs": [
    {
     "data": {
      "text/plain": [
       "Index(['시군구', '번지', '본번', '부번', '아파트명', '전용면적(㎡)', '계약년월', '계약일', '층', '건축년도',\n",
       "       '도로명', '해제사유발생일', '등기신청일자', '거래유형', '중개사소재지', 'k-단지분류(아파트,주상복합등등)',\n",
       "       'k-전화번호', 'k-팩스번호', '단지소개기존clob', 'k-세대타입(분양형태)', 'k-관리방식', 'k-복도유형',\n",
       "       'k-난방방식', 'k-전체동수', 'k-전체세대수', 'k-건설사(시공사)', 'k-시행사', 'k-사용검사일-사용승인일',\n",
       "       'k-연면적', 'k-주거전용면적', 'k-관리비부과면적', 'k-전용면적별세대현황(60㎡이하)',\n",
       "       'k-전용면적별세대현황(60㎡~85㎡이하)', 'k-85㎡~135㎡이하', 'k-135㎡초과', 'k-홈페이지',\n",
       "       'k-등록일자', 'k-수정일자', '고용보험관리번호', '경비비관리형태', '세대전기계약방법', '청소비관리형태',\n",
       "       '건축면적', '주차대수', '기타/의무/임대/임의=1/2/3/4', '단지승인일', '사용허가여부', '관리비 업로드',\n",
       "       '좌표X', '좌표Y', '단지신청일', 'target'],\n",
       "      dtype='object')"
      ]
     },
     "execution_count": 7,
     "metadata": {},
     "output_type": "execute_result"
    }
   ],
   "execution_count": 7
  },
  {
   "metadata": {
    "ExecuteTime": {
     "end_time": "2025-01-11T16:40:06.279810Z",
     "start_time": "2025-01-11T16:40:06.226804Z"
    }
   },
   "cell_type": "code",
   "source": [
    "\n",
    "df[(df['아파트명']=='헬리오시티')][['target','계약년월','전용면적(㎡)']]"
   ],
   "outputs": [
    {
     "data": {
      "text/plain": [
       "        target    계약년월  전용면적(㎡)\n",
       "217189  262000  202210   110.44\n",
       "217190  178500  202210    84.99\n",
       "217191  179500  202210    84.99\n",
       "217192  180000  202210    84.98\n",
       "217193  186500  202210    84.95\n",
       "...        ...     ...      ...\n",
       "427103  188900  201907   110.44\n",
       "427104   97570  201907    39.86\n",
       "427105  190470  201907   110.44\n",
       "427106  151440  201907    84.97\n",
       "427107  152220  201907    84.95\n",
       "\n",
       "[484 rows x 3 columns]"
      ],
      "text/html": [
       "<div>\n",
       "<style scoped>\n",
       "    .dataframe tbody tr th:only-of-type {\n",
       "        vertical-align: middle;\n",
       "    }\n",
       "\n",
       "    .dataframe tbody tr th {\n",
       "        vertical-align: top;\n",
       "    }\n",
       "\n",
       "    .dataframe thead th {\n",
       "        text-align: right;\n",
       "    }\n",
       "</style>\n",
       "<table border=\"1\" class=\"dataframe\">\n",
       "  <thead>\n",
       "    <tr style=\"text-align: right;\">\n",
       "      <th></th>\n",
       "      <th>target</th>\n",
       "      <th>계약년월</th>\n",
       "      <th>전용면적(㎡)</th>\n",
       "    </tr>\n",
       "  </thead>\n",
       "  <tbody>\n",
       "    <tr>\n",
       "      <th>217189</th>\n",
       "      <td>262000</td>\n",
       "      <td>202210</td>\n",
       "      <td>110.44</td>\n",
       "    </tr>\n",
       "    <tr>\n",
       "      <th>217190</th>\n",
       "      <td>178500</td>\n",
       "      <td>202210</td>\n",
       "      <td>84.99</td>\n",
       "    </tr>\n",
       "    <tr>\n",
       "      <th>217191</th>\n",
       "      <td>179500</td>\n",
       "      <td>202210</td>\n",
       "      <td>84.99</td>\n",
       "    </tr>\n",
       "    <tr>\n",
       "      <th>217192</th>\n",
       "      <td>180000</td>\n",
       "      <td>202210</td>\n",
       "      <td>84.98</td>\n",
       "    </tr>\n",
       "    <tr>\n",
       "      <th>217193</th>\n",
       "      <td>186500</td>\n",
       "      <td>202210</td>\n",
       "      <td>84.95</td>\n",
       "    </tr>\n",
       "    <tr>\n",
       "      <th>...</th>\n",
       "      <td>...</td>\n",
       "      <td>...</td>\n",
       "      <td>...</td>\n",
       "    </tr>\n",
       "    <tr>\n",
       "      <th>427103</th>\n",
       "      <td>188900</td>\n",
       "      <td>201907</td>\n",
       "      <td>110.44</td>\n",
       "    </tr>\n",
       "    <tr>\n",
       "      <th>427104</th>\n",
       "      <td>97570</td>\n",
       "      <td>201907</td>\n",
       "      <td>39.86</td>\n",
       "    </tr>\n",
       "    <tr>\n",
       "      <th>427105</th>\n",
       "      <td>190470</td>\n",
       "      <td>201907</td>\n",
       "      <td>110.44</td>\n",
       "    </tr>\n",
       "    <tr>\n",
       "      <th>427106</th>\n",
       "      <td>151440</td>\n",
       "      <td>201907</td>\n",
       "      <td>84.97</td>\n",
       "    </tr>\n",
       "    <tr>\n",
       "      <th>427107</th>\n",
       "      <td>152220</td>\n",
       "      <td>201907</td>\n",
       "      <td>84.95</td>\n",
       "    </tr>\n",
       "  </tbody>\n",
       "</table>\n",
       "<p>484 rows × 3 columns</p>\n",
       "</div>"
      ]
     },
     "execution_count": 9,
     "metadata": {},
     "output_type": "execute_result"
    }
   ],
   "execution_count": 9
  },
  {
   "cell_type": "code",
   "execution_count": 5,
   "metadata": {},
   "outputs": [],
   "source": [
    "module.preprocess.날짜포맷_add(df)"
   ]
  },
  {
   "cell_type": "code",
   "execution_count": 7,
   "metadata": {},
   "outputs": [],
   "source": [
    "# 건축년도와 계약연도의 차이 계산\n",
    "df['연수차'] = df['계약연도'].astype(int) - df['건축년도'].astype(int)\n"
   ]
  },
  {
   "cell_type": "code",
   "execution_count": 12,
   "metadata": {},
   "outputs": [],
   "source": [
    "# 3년, 5년, 10년 기준으로 파생 변수 생성\n",
    "def 구간분류(연수차):\n",
    "    if 연수차 <= 3:\n",
    "        return '3년 이내'\n",
    "    elif 연수차 <= 5:\n",
    "        return '3~5년'\n",
    "    elif 연수차 <= 10:\n",
    "        return '5~10년'\n",
    "    elif 연수차 == 11:\n",
    "        return '11년'\n",
    "    else:\n",
    "        return '10년 초과'\n",
    "\n",
    "df['연수구간'] = df['연수차'].apply(구간분류)"
   ]
  },
  {
   "cell_type": "code",
   "execution_count": 13,
   "metadata": {},
   "outputs": [
    {
     "name": "stdout",
     "output_type": "stream",
     "text": [
      "                   시군구     번지     본번    부번    아파트명  전용면적(㎡)    계약년월 계약일   층  \\\n",
      "0        서울특별시 강남구 개포동  658-1  658.0   1.0  개포6차우성    79.97  201712  08   3   \n",
      "1        서울특별시 강남구 개포동  658-1  658.0   1.0  개포6차우성    79.97  201712  22   4   \n",
      "2        서울특별시 강남구 개포동  658-1  658.0   1.0  개포6차우성    54.98  201712  28   5   \n",
      "3        서울특별시 강남구 개포동  658-1  658.0   1.0  개포6차우성    79.97  201801  03   4   \n",
      "4        서울특별시 강남구 개포동  658-1  658.0   1.0  개포6차우성    79.97  201801  08   2   \n",
      "...                ...    ...    ...   ...     ...      ...     ...  ..  ..   \n",
      "1118817  서울특별시 은평구 구산동    382  382.0   0.0    갈현현대    59.94  200707  12  11   \n",
      "1118818  서울특별시 은평구 구산동    382  382.0   0.0    갈현현대    59.94  200708  25  10   \n",
      "1118819  서울특별시 은평구 구산동    382  382.0   0.0    갈현현대    84.83  200708  31  20   \n",
      "1118820  서울특별시 은평구 구산동    382  382.0   0.0    갈현현대    84.83  200709  15   8   \n",
      "1118821   서울특별시 중구 묵정동  11-67   11.0  67.0      묵정    52.46  200701  10   5   \n",
      "\n",
      "         건축년도  ... 관리비 업로드         좌표X        좌표Y                  단지신청일  \\\n",
      "0        1987  ...       N  127.057210  37.476763  2022-11-17 10:19:06.0   \n",
      "1        1987  ...       N  127.057210  37.476763  2022-11-17 10:19:06.0   \n",
      "2        1987  ...       N  127.057210  37.476763  2022-11-17 10:19:06.0   \n",
      "3        1987  ...       N  127.057210  37.476763  2022-11-17 10:19:06.0   \n",
      "4        1987  ...       N  127.057210  37.476763  2022-11-17 10:19:06.0   \n",
      "...       ...  ...     ...         ...        ...                    ...   \n",
      "1118817  1998  ...       N  126.905638  37.612962  2013-03-07 09:46:27.0   \n",
      "1118818  1998  ...       N  126.905638  37.612962  2013-03-07 09:46:27.0   \n",
      "1118819  1998  ...       N  126.905638  37.612962  2013-03-07 09:46:27.0   \n",
      "1118820  1998  ...       N  126.905638  37.612962  2013-03-07 09:46:27.0   \n",
      "1118821  1981  ...       Y  127.000071  37.560706  2017-09-05 20:06:39.0   \n",
      "\n",
      "         target  계약연도 계약월     계약년월일  연수차    연수구간  \n",
      "0        124000  2017  12  20171208   30  10년 초과  \n",
      "1        123500  2017  12  20171222   30  10년 초과  \n",
      "2         91500  2017  12  20171228   30  10년 초과  \n",
      "3        130000  2018  01  20180103   31  10년 초과  \n",
      "4        117000  2018  01  20180108   31  10년 초과  \n",
      "...         ...   ...  ..       ...  ...     ...  \n",
      "1118817   20000  2007  07  20070712    9   5~10년  \n",
      "1118818   20000  2007  08  20070825    9   5~10년  \n",
      "1118819   28000  2007  08  20070831    9   5~10년  \n",
      "1118820   29000  2007  09  20070915    9   5~10년  \n",
      "1118821   13250  2007  01  20070110   26  10년 초과  \n",
      "\n",
      "[1118822 rows x 57 columns]\n"
     ]
    }
   ],
   "source": [
    "# 결과 출력\n",
    "print(df)"
   ]
  },
  {
   "cell_type": "code",
   "execution_count": 14,
   "metadata": {},
   "outputs": [],
   "source": [
    "# 구간별 target 평균 분석\n",
    "구간별_평균 = df.groupby('연수구간')['target'].mean().reset_index()"
   ]
  },
  {
   "cell_type": "code",
   "execution_count": 15,
   "metadata": {},
   "outputs": [
    {
     "name": "stdout",
     "output_type": "stream",
     "text": [
      "\n",
      "구간별 target 평균:\n",
      "     연수구간        target\n",
      "0  10년 초과  57593.666983\n",
      "1     11년  57238.519013\n",
      "2    3~5년  61153.965186\n",
      "3   3년 이내  61556.768219\n",
      "4   5~10년  56754.325364\n"
     ]
    }
   ],
   "source": [
    "print(\"\\n구간별 target 평균:\")\n",
    "print(구간별_평균)"
   ]
  },
  {
   "cell_type": "code",
   "execution_count": 16,
   "metadata": {},
   "outputs": [
    {
     "data": {
      "image/png": "[encoded data removed]",
      "text/plain": [
       "<Figure size 800x600 with 1 Axes>"
      ]
     },
     "metadata": {},
     "output_type": "display_data"
    }
   ],
   "source": [
    "\n",
    "# 그래프 그리기\n",
    "plt.figure(figsize=(8, 6))\n",
    "sns.barplot(data=구간별_평균, x='연수구간', y='target', palette='Blues_d')\n",
    "\n",
    "# 그래프 꾸미기\n",
    "plt.title('구간별 Target 평균', fontsize=16)\n",
    "plt.xlabel('연수구간', fontsize=14)\n",
    "plt.ylabel('Target 평균', fontsize=14)\n",
    "plt.xticks(fontsize=12)\n",
    "plt.yticks(fontsize=12)\n",
    "plt.tight_layout()\n",
    "\n",
    "# 그래프 출력\n",
    "plt.show()"
   ]
  },
  {
   "cell_type": "code",
   "execution_count": null,
   "metadata": {},
   "outputs": [],
   "source": []
  }
 ],
 "metadata": {
  "kernelspec": {
   "display_name": "base",
   "language": "python",
   "name": "python3"
  },
  "language_info": {
   "codemirror_mode": {
    "name": "ipython",
    "version": 3
   },
   "file_extension": ".py",
   "mimetype": "text/x-python",
   "name": "python",
   "nbconvert_exporter": "python",
   "pygments_lexer": "ipython3",
   "version": "3.10.13"
  }
 },
 "nbformat": 4,
 "nbformat_minor": 2
}
