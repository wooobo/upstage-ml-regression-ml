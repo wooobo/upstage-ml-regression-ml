{
 "cells": [
  {
   "metadata": {
    "collapsed": true,
    "ExecuteTime": {
     "end_time": "2025-01-09T09:46:53.960354Z",
     "start_time": "2025-01-09T09:46:53.795542Z"
    }
   },
   "cell_type": "code",
   "source": [
    "# sys.path를 수정하여 모듈 경로를 설정\n",
    "import sys\n",
    "import os\n",
    "import pandas as pd\n",
    "\n",
    "# 프로젝트 루트 경로 추가\n",
    "project_root = os.path.abspath(\"..\")\n",
    "sys.path.append(project_root)\n",
    "import numpy as np\n",
    "\n",
    "import module\n",
    "import seaborn as sns\n",
    "import matplotlib.pyplot as plt\n",
    "\n",
    "from matplotlib.dates import DateFormatter\n",
    "\n",
    "import warnings\n",
    "warnings.filterwarnings('ignore')\n",
    "pd.set_option('display.max_columns', None)\n",
    "\n",
    "# 모든 행 출력 설정\n",
    "pd.set_option('display.max_rows', None)\n"
   ],
   "id": "initial_id",
   "outputs": [],
   "execution_count": 1
  },
  {
   "metadata": {
    "ExecuteTime": {
     "end_time": "2025-01-09T09:47:07.526365Z",
     "start_time": "2025-01-09T09:46:53.963951Z"
    }
   },
   "cell_type": "code",
   "source": "df = module.file_load.load_current_version()",
   "id": "b0dacf1865bd682d",
   "outputs": [],
   "execution_count": 2
  },
  {
   "metadata": {
    "ExecuteTime": {
     "end_time": "2025-01-09T09:47:21.620368Z",
     "start_time": "2025-01-09T09:47:20.723099Z"
    }
   },
   "cell_type": "code",
   "source": "module.preprocess.날짜포맷_add(df)",
   "id": "f10f9cfd480abc83",
   "outputs": [],
   "execution_count": 3
  },
  {
   "metadata": {
    "ExecuteTime": {
     "end_time": "2025-01-09T10:04:38.387014Z",
     "start_time": "2025-01-09T10:04:38.143698Z"
    }
   },
   "cell_type": "code",
   "source": "module.preprocess.to_datetime(df, '계약년월일')",
   "id": "d44c7b9a08f37471",
   "outputs": [],
   "execution_count": 4
  },
  {
   "metadata": {},
   "cell_type": "code",
   "outputs": [],
   "execution_count": null,
   "source": "module.preprocess.시_군_구_add(df)",
   "id": "c1575b4f093f2555"
  },
  {
   "metadata": {},
   "cell_type": "code",
   "source": [
    "df_target_ths = df.query('is_test == 0')\n",
    "df_test = df.query('is_test == 1')\n",
    "\n",
    "하락률_filter = module.preprocess.하락률_filter(df_target_ths)"
   ],
   "id": "7a7756b9dfb7047c",
   "outputs": [],
   "execution_count": null
  },
  {
   "metadata": {},
   "cell_type": "code",
   "source": "하락률_filter['하락률'].fillna(0, inplace=True)",
   "id": "75825550f880fadc",
   "outputs": [],
   "execution_count": null
  },
  {
   "metadata": {},
   "cell_type": "code",
   "source": "하락률_filter['하락률'] = 하락률_filter['하락률'].astype(int)",
   "id": "129316b0fcf1bc96",
   "outputs": [],
   "execution_count": null
  },
  {
   "metadata": {},
   "cell_type": "code",
   "source": "하락률_filter['하락률'].describe(percentiles = [0.1, 0.2,0.3,0.4,0.5,0.6,0.65, 0.7,0.8,0.9])",
   "id": "5a51d5c7fb0b38ce",
   "outputs": [],
   "execution_count": null
  },
  {
   "metadata": {},
   "cell_type": "code",
   "source": [
    "\n",
    "# 구간 설정 (예: 10% 단위로 나눔)\n",
    "bins = np.arange(0, 51, 5)\n",
    "labels = ['0-5', '5-10', '10-15', '15-20', '20-25', '25-30', '30-35', '35-40', '40-45', '45-50']\n",
    "\n",
    "# 구간별로 데이터 분류\n",
    "filter['구간'] = pd.cut(filter['하락률'], bins=bins, labels=labels, right=False)\n",
    "\n",
    "# 빈도 계산\n",
    "freq = filter['구간'].value_counts().sort_index()\n",
    "\n",
    "# 막대그래프 시각화\n",
    "plt.figure(figsize=(10, 6))\n",
    "plt.bar(freq.index, freq.values, color='skyblue', width=0.6)\n",
    "plt.title('Price Drop Ratio Distribution', fontsize=16)\n",
    "plt.xlabel('Price Drop Ratio Range (%)', fontsize=14)\n",
    "plt.ylabel('Frequency', fontsize=14)\n",
    "plt.grid(axis='y', linestyle='--', alpha=0.7)\n",
    "plt.show()\n",
    "\n",
    "# 하락률 통계 확인\n",
    "print(\"하락률 요약 통계:\")\n",
    "print(filter['하락률'].describe())"
   ],
   "id": "f3f275596901f7ce",
   "outputs": [],
   "execution_count": null
  },
  {
   "metadata": {},
   "cell_type": "code",
   "source": "",
   "id": "3b7c07cad8c2eaeb",
   "outputs": [],
   "execution_count": null
  },
  {
   "metadata": {},
   "cell_type": "code",
   "outputs": [],
   "execution_count": null,
   "source": "",
   "id": "deaa280b7cacabfa"
  }
 ],
 "metadata": {
  "kernelspec": {
   "display_name": "Python 3",
   "language": "python",
   "name": "python3"
  },
  "language_info": {
   "codemirror_mode": {
    "name": "ipython",
    "version": 2
   },
   "file_extension": ".py",
   "mimetype": "text/x-python",
   "name": "python",
   "nbconvert_exporter": "python",
   "pygments_lexer": "ipython2",
   "version": "2.7.6"
  }
 },
 "nbformat": 4,
 "nbformat_minor": 5
}
