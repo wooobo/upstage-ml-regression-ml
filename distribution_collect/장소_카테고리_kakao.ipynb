{
 "cells": [
  {
   "cell_type": "code",
   "execution_count": 1,
   "metadata": {},
   "outputs": [],
   "source": [
    "# sys.path를 수정하여 모듈 경로를 설정\n",
    "import sys\n",
    "import os\n",
    "import pandas as pd\n",
    "\n",
    "# 프로젝트 루트 경로 추가\n",
    "project_root = os.path.abspath(\"..\")\n",
    "sys.path.append(project_root)\n",
    "\n",
    "\n",
    "# 모든 컬럼 출력 설정\n",
    "pd.set_option('display.max_columns', None)\n",
    "\n",
    "# 모든 행 출력 설정\n",
    "pd.set_option('display.max_rows', None)\n",
    "import module\n"
   ]
  },
  {
   "cell_type": "code",
   "execution_count": 2,
   "metadata": {},
   "outputs": [],
   "source": [
    "df = module.file_load.load_current_version()"
   ]
  },
  {
   "cell_type": "code",
   "execution_count": 3,
   "metadata": {},
   "outputs": [],
   "source": [
    "module.preprocess.시_군_구_add(df)\n",
    "module.parser.아파트_unique_key_add(df)"
   ]
  },
  {
   "cell_type": "code",
   "execution_count": 4,
   "metadata": {},
   "outputs": [],
   "source": [
    "df.drop_duplicates(subset='아파트_unique_key', keep='first', inplace=True)"
   ]
  },
  {
   "cell_type": "code",
   "execution_count": 5,
   "metadata": {},
   "outputs": [],
   "source": [
    "api_cache = pd.read_csv('api_카테고리검색_cache.csv')\n",
    "api_cache = api_cache.set_index('query')\n",
    "def find_cash_and_save(query):\n",
    "    if query in api_cache.index:\n",
    "        print('cache hit')\n",
    "        return api_cache.loc[query]['result']\n",
    "    else:\n",
    "        result = module.api.장소검색(query)\n",
    "        api_cache.loc[query] = result\n",
    "        return result\n"
   ]
  },
  {
   "cell_type": "code",
   "execution_count": 6,
   "metadata": {},
   "outputs": [],
   "source": [
    "df_select = df[\n",
    "['시군구', '번지', '본번', '부번', '아파트명',\n",
    "        '건축년도', '도로명', \n",
    "        '좌표X', '좌표Y',\n",
    "        '구', '동', '아파트_unique_key']        \n",
    "]"
   ]
  },
  {
   "cell_type": "code",
   "execution_count": 34,
   "metadata": {},
   "outputs": [
    {
     "name": "stderr",
     "output_type": "stream",
     "text": [
      "/tmp/ipykernel_3226321/2073180525.py:3: SettingWithCopyWarning: \n",
      "A value is trying to be set on a copy of a slice from a DataFrame.\n",
      "Try using .loc[row_indexer,col_indexer] = value instead\n",
      "\n",
      "See the caveats in the documentation: https://pandas.pydata.org/pandas-docs/stable/user_guide/indexing.html#returning-a-view-versus-a-copy\n",
      "  df_select['편의점'] = 0\n",
      "/tmp/ipykernel_3226321/2073180525.py:4: SettingWithCopyWarning: \n",
      "A value is trying to be set on a copy of a slice from a DataFrame.\n",
      "Try using .loc[row_indexer,col_indexer] = value instead\n",
      "\n",
      "See the caveats in the documentation: https://pandas.pydata.org/pandas-docs/stable/user_guide/indexing.html#returning-a-view-versus-a-copy\n",
      "  df_select['학원'] = 0\n",
      "/tmp/ipykernel_3226321/2073180525.py:5: SettingWithCopyWarning: \n",
      "A value is trying to be set on a copy of a slice from a DataFrame.\n",
      "Try using .loc[row_indexer,col_indexer] = value instead\n",
      "\n",
      "See the caveats in the documentation: https://pandas.pydata.org/pandas-docs/stable/user_guide/indexing.html#returning-a-view-versus-a-copy\n",
      "  df_select['학교'] = 0\n",
      "/tmp/ipykernel_3226321/2073180525.py:6: SettingWithCopyWarning: \n",
      "A value is trying to be set on a copy of a slice from a DataFrame.\n",
      "Try using .loc[row_indexer,col_indexer] = value instead\n",
      "\n",
      "See the caveats in the documentation: https://pandas.pydata.org/pandas-docs/stable/user_guide/indexing.html#returning-a-view-versus-a-copy\n",
      "  df_select['공공기관'] = 0\n",
      "/tmp/ipykernel_3226321/2073180525.py:7: SettingWithCopyWarning: \n",
      "A value is trying to be set on a copy of a slice from a DataFrame.\n",
      "Try using .loc[row_indexer,col_indexer] = value instead\n",
      "\n",
      "See the caveats in the documentation: https://pandas.pydata.org/pandas-docs/stable/user_guide/indexing.html#returning-a-view-versus-a-copy\n",
      "  df_select['병원'] = 0\n",
      "/tmp/ipykernel_3226321/2073180525.py:8: SettingWithCopyWarning: \n",
      "A value is trying to be set on a copy of a slice from a DataFrame.\n",
      "Try using .loc[row_indexer,col_indexer] = value instead\n",
      "\n",
      "See the caveats in the documentation: https://pandas.pydata.org/pandas-docs/stable/user_guide/indexing.html#returning-a-view-versus-a-copy\n",
      "  df_select['음식점'] = 0\n",
      "/tmp/ipykernel_3226321/2073180525.py:9: SettingWithCopyWarning: \n",
      "A value is trying to be set on a copy of a slice from a DataFrame.\n",
      "Try using .loc[row_indexer,col_indexer] = value instead\n",
      "\n",
      "See the caveats in the documentation: https://pandas.pydata.org/pandas-docs/stable/user_guide/indexing.html#returning-a-view-versus-a-copy\n",
      "  df_select['어린이집, 유치원'] = 0\n"
     ]
    }
   ],
   "source": [
    "# 편의점 500, 학원 500, 학교 500, 공공기관 500, 병원 500, 음식점, \"어린이집, 유치원\"\n",
    "df_select['편의점'] = 0\n",
    "df_select['학원'] = 0\n",
    "df_select['학교'] = 0\n",
    "df_select['공공기관'] = 0\n",
    "df_select['병원'] = 0\n",
    "df_select['음식점'] = 0\n",
    "df_select['어린이집, 유치원'] = 0\n",
    "\n"
   ]
  },
  {
   "cell_type": "code",
   "execution_count": 74,
   "metadata": {},
   "outputs": [],
   "source": [
    "# # 편의점 500, 학원 500, 학교 500, 공공기관 500, 병원 500, 음식점, \"어린이집, 유치원\"\n",
    "\n",
    "category = \"어린이집, 유치원\""
   ]
  },
  {
   "cell_type": "code",
   "execution_count": 75,
   "metadata": {},
   "outputs": [
    {
     "name": "stdout",
     "output_type": "stream",
     "text": [
      "어린이집, 유치원\n",
      "cache hit\n",
      "cache hit\n",
      "cache hit\n",
      "cache hit\n",
      "cache hit\n",
      "cache hit\n",
      "cache hit\n",
      "500\n",
      "cache hit\n",
      "cache hit\n",
      "cache hit\n",
      "1000\n",
      "cache hit\n",
      "cache hit\n",
      "1500\n",
      "cache hit\n",
      "cache hit\n",
      "2000\n",
      "cache hit\n",
      "cache hit\n",
      "cache hit\n",
      "cache hit\n",
      "cache hit\n",
      "cache hit\n",
      "cache hit\n",
      "2500\n",
      "cache hit\n",
      "cache hit\n",
      "cache hit\n",
      "cache hit\n",
      "cache hit\n",
      "cache hit\n",
      "cache hit\n",
      "cache hit\n",
      "cache hit\n",
      "cache hit\n",
      "cache hit\n",
      "3000\n",
      "cache hit\n",
      "cache hit\n",
      "cache hit\n",
      "cache hit\n",
      "cache hit\n",
      "cache hit\n",
      "cache hit\n",
      "cache hit\n",
      "3500\n",
      "cache hit\n",
      "4000\n",
      "cache hit\n",
      "cache hit\n",
      "4500\n",
      "cache hit\n",
      "cache hit\n",
      "cache hit\n",
      "cache hit\n",
      "cache hit\n",
      "5000\n",
      "cache hit\n",
      "5500\n",
      "6000\n",
      "cache hit\n",
      "cache hit\n",
      "cache hit\n",
      "cache hit\n",
      "cache hit\n",
      "cache hit\n",
      "cache hit\n",
      "6500\n",
      "cache hit\n",
      "cache hit\n",
      "cache hit\n",
      "cache hit\n",
      "cache hit\n",
      "7000\n",
      "cache hit\n",
      "cache hit\n",
      "cache hit\n",
      "cache hit\n",
      "cache hit\n",
      "cache hit\n",
      "cache hit\n",
      "7500\n",
      "cache hit\n",
      "cache hit\n",
      "cache hit\n",
      "cache hit\n",
      "cache hit\n",
      "8000\n",
      "cache hit\n",
      "8500\n",
      "cache hit\n",
      "cache hit\n",
      "cache hit\n",
      "cache hit\n",
      "cache hit\n",
      "cache hit\n",
      "cache hit\n",
      "cache hit\n",
      "cache hit\n",
      "cache hit\n",
      "cache hit\n",
      "cache hit\n",
      "cache hit\n",
      "cache hit\n",
      "cache hit\n",
      "cache hit\n",
      "cache hit\n",
      "cache hit\n",
      "cache hit\n",
      "9000\n",
      "cache hit\n",
      "cache hit\n",
      "cache hit\n",
      "cache hit\n"
     ]
    }
   ],
   "source": [
    "print(category)\n",
    "# 편의점 , 학교, 학원, 음식점, 병원\n",
    "# query = module.api.장소검색_쿼리(127.060972, 37.500979, 300, \"편의점\")\n",
    "\n",
    "# result = find_cash_and_save(query)\n",
    "# query, result\n",
    "cnt = 0\n",
    "for index, row in df_select.iterrows():\n",
    "    query = module.api.장소검색_쿼리(row['좌표X'], row['좌표Y'], 500, category)\n",
    "    result = find_cash_and_save(query)\n",
    "    df_select.loc[index, category] = result\n",
    "    cnt += 1\n",
    "    if cnt % 500 == 0:\n",
    "        print(cnt)\n"
   ]
  },
  {
   "cell_type": "code",
   "execution_count": 76,
   "metadata": {},
   "outputs": [
    {
     "name": "stdout",
     "output_type": "stream",
     "text": [
      "0\n",
      "(47, 19)\n"
     ]
    }
   ],
   "source": [
    "print(df_select[category].isnull().sum())\n",
    "print(df_select[df_select[category] == 0].shape)"
   ]
  },
  {
   "cell_type": "code",
   "execution_count": 77,
   "metadata": {},
   "outputs": [
    {
     "data": {
      "text/plain": [
       "어린이집, 유치원\n",
       "0      47\n",
       "1     113\n",
       "2     228\n",
       "3     376\n",
       "4     464\n",
       "5     586\n",
       "6     644\n",
       "7     603\n",
       "8     582\n",
       "9     710\n",
       "10    634\n",
       "11    568\n",
       "12    590\n",
       "13    500\n",
       "14    397\n",
       "15    320\n",
       "16    286\n",
       "17    256\n",
       "18    235\n",
       "19    208\n",
       "20    210\n",
       "21    181\n",
       "22    139\n",
       "23     90\n",
       "24     24\n",
       "25     11\n",
       "26     12\n",
       "27      7\n",
       "28      6\n",
       "29      2\n",
       "30      1\n",
       "31      1\n",
       "35      1\n",
       "Name: count, dtype: int64"
      ]
     },
     "execution_count": 77,
     "metadata": {},
     "output_type": "execute_result"
    }
   ],
   "source": [
    "df_select[category].value_counts().sort_index()"
   ]
  },
  {
   "cell_type": "code",
   "execution_count": 78,
   "metadata": {},
   "outputs": [],
   "source": [
    "df_select.to_csv('주변시설_apt_편의점_학원_학교_공공기관_병원_음식점_어린이집.csv', index=False)\n",
    "df_select.to_csv('주변시설_apt.csv', index=False)"
   ]
  },
  {
   "cell_type": "code",
   "execution_count": 79,
   "metadata": {},
   "outputs": [
    {
     "ename": "",
     "evalue": "",
     "output_type": "error",
     "traceback": [
      "\u001b[1;31m현재 셀 또는 이전 셀에서 코드를 실행하는 동안 Kernel이 충돌했습니다. \n",
      "\u001b[1;31m셀의 코드를 검토하여 가능한 오류 원인을 식별하세요. \n",
      "\u001b[1;31m자세한 내용을 보려면 <a href='https://aka.ms/vscodeJupyterKernelCrash'>여기</a>를 클릭하세요. \n",
      "\u001b[1;31m자세한 내용은 Jupyter <a href='command:jupyter.viewOutput'>로그</a>를 참조하세요."
     ]
    }
   ],
   "source": [
    "api_cache.to_csv('api_카테고리검색_cache.csv')"
   ]
  },
  {
   "cell_type": "code",
   "execution_count": null,
   "metadata": {},
   "outputs": [],
   "source": [
    "df.columns"
   ]
  },
  {
   "cell_type": "code",
   "execution_count": 21,
   "metadata": {},
   "outputs": [],
   "source": []
  }
 ],
 "metadata": {
  "kernelspec": {
   "display_name": "base",
   "language": "python",
   "name": "python3"
  },
  "language_info": {
   "codemirror_mode": {
    "name": "ipython",
    "version": 3
   },
   "file_extension": ".py",
   "mimetype": "text/x-python",
   "name": "python",
   "nbconvert_exporter": "python",
   "pygments_lexer": "ipython3",
   "version": "3.10.13"
  }
 },
 "nbformat": 4,
 "nbformat_minor": 2
}
