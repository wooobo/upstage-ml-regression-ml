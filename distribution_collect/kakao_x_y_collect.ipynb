{
 "cells": [
  {
   "cell_type": "markdown",
   "id": "e1735951b10ef724",
   "metadata": {},
   "source": [
    "# kakao 주소 검색 API를 활용하여 X_Y 좌표 수집"
   ]
  },
  {
   "cell_type": "markdown",
   "id": "6bdab7d2",
   "metadata": {},
   "source": [
    "- [좌표X,좌표Y 모두 맵핑](../data/unique_apt_group_xy.csv)\n",
    "- [아파트 중복제거 좌표X,좌표Y 결측치 있음](../data/unique_apt_group.csv)"
   ]
  },
  {
   "cell_type": "code",
   "execution_count": 1,
   "id": "initial_id",
   "metadata": {
    "collapsed": true
   },
   "outputs": [],
   "source": [
    "# sys.path를 수정하여 모듈 경로를 설정\n",
    "import sys\n",
    "import os\n",
    "\n",
    "# 프로젝트 루트 경로 추가\n",
    "project_root = os.path.abspath(\"..\")\n",
    "sys.path.append(project_root)\n",
    "import module"
   ]
  },
  {
   "cell_type": "code",
   "execution_count": 2,
   "id": "fc40320b",
   "metadata": {},
   "outputs": [],
   "source": [
    "# visualization\n",
    "import matplotlib.pyplot as plt\n",
    "import matplotlib.font_manager as fm\n",
    "# AppleGothic\n",
    "fe = fm.FontEntry(\n",
    "    fname=r'/usr/share/fonts/truetype/nanum/NanumGothic.ttf', # ttf 파일이 저장되어 있는 경로\n",
    "    name='NanumBarunGothic')                        # 이 폰트의 원하는 이름 설정\n",
    "fm.fontManager.ttflist.insert(0, fe)              # Matplotlib에 폰트 추가\n",
    "plt.rcParams.update({'font.size': 10, 'font.family': 'NanumBarunGothic'}) # 폰트 설정\n",
    "plt.rc('font', family='NanumBarunGothic')\n",
    "import seaborn as sns\n",
    "\n",
    "# utils\n",
    "import pandas as pd\n",
    "import numpy as np\n",
    "from tqdm import tqdm\n",
    "import pickle\n",
    "import warnings;warnings.filterwarnings('ignore')\n",
    "\n",
    "# Model\n",
    "from sklearn.preprocessing import LabelEncoder\n",
    "from sklearn.model_selection import train_test_split\n",
    "from sklearn.metrics import mean_squared_error\n",
    "from sklearn.ensemble import RandomForestRegressor\n",
    "from sklearn import metrics\n",
    "\n",
    "import eli5\n",
    "from eli5.sklearn import PermutationImportance"
   ]
  },
  {
   "cell_type": "code",
   "execution_count": 3,
   "id": "a68ce66c",
   "metadata": {},
   "outputs": [],
   "source": [
    "df = module.file_load.unique_apt_group_file()"
   ]
  },
  {
   "cell_type": "code",
   "execution_count": 4,
   "id": "ed4bb53d",
   "metadata": {},
   "outputs": [
    {
     "data": {
      "text/plain": [
       "(9032, 12)"
      ]
     },
     "execution_count": 4,
     "metadata": {},
     "output_type": "execute_result"
    }
   ],
   "source": [
    "df.shape"
   ]
  },
  {
   "cell_type": "code",
   "execution_count": 6,
   "id": "86b79e11",
   "metadata": {},
   "outputs": [
    {
     "name": "stdout",
     "output_type": "stream",
     "text": [
      "0\n",
      "0\n",
      "0\n",
      "(0, 12)\n"
     ]
    }
   ],
   "source": [
    "print(df['시군구'].isnull().sum())\n",
    "print(df['아파트명'].isnull().sum())\n",
    "print(df['번지'].isnull().sum())\n",
    "print(df[df['아파트명'] == \" \"].shape)"
   ]
  },
  {
   "cell_type": "code",
   "execution_count": 7,
   "id": "6950d1c8",
   "metadata": {},
   "outputs": [
    {
     "name": "stdout",
     "output_type": "stream",
     "text": [
      "126.893453118769 37.4949593550093\n"
     ]
    }
   ],
   "source": [
    "(x,y) = module.api.get_coordinates('서울특별시 구로구 구로동 92')\n",
    "print(x,y)"
   ]
  },
  {
   "cell_type": "code",
   "execution_count": 9,
   "id": "afac1c36",
   "metadata": {},
   "outputs": [
    {
     "data": {
      "text/plain": [
       "(8274, 12)"
      ]
     },
     "execution_count": 9,
     "metadata": {},
     "output_type": "execute_result"
    }
   ],
   "source": [
    "none_list = filtered_nan_rows = df[df['좌표X'].isna()]\n",
    "none_list.shape"
   ]
  },
  {
   "cell_type": "code",
   "execution_count": 10,
   "id": "1bab601d",
   "metadata": {},
   "outputs": [
    {
     "data": {
      "text/plain": [
       "아파트_unique_key    강남구_개포동_189_개포주공4단지_1982\n",
       "시                                    서울특별시\n",
       "구                                      강남구\n",
       "동                                      개포동\n",
       "시군구                          서울특별시 강남구 개포동\n",
       "번지                                     189\n",
       "본번                                   189.0\n",
       "아파트명                               개포주공4단지\n",
       "건축년도                                  1982\n",
       "도로명                                 삼성로 14\n",
       "좌표Y                                    NaN\n",
       "좌표X                                    NaN\n",
       "Name: 758, dtype: object"
      ]
     },
     "execution_count": 10,
     "metadata": {},
     "output_type": "execute_result"
    }
   ],
   "source": [
    "df.loc[758]"
   ]
  },
  {
   "cell_type": "code",
   "execution_count": 11,
   "id": "a9ec22e7",
   "metadata": {},
   "outputs": [
    {
     "data": {
      "text/plain": [
       "0"
      ]
     },
     "execution_count": 11,
     "metadata": {},
     "output_type": "execute_result"
    }
   ],
   "source": [
    "df['아파트_unique_key'].isnull().sum()"
   ]
  },
  {
   "cell_type": "code",
   "execution_count": 12,
   "id": "8221d6c8",
   "metadata": {},
   "outputs": [],
   "source": [
    "# api_cache = {}\n",
    "\n",
    "# def find_cash_and_save(query):\n",
    "#     if query in api_cache:\n",
    "#         return api_cache[query]\n",
    "#     else:\n",
    "#         (x,y) = module.api.get_coordinates(query)\n",
    "#         api_cache[query] = (x,y)\n",
    "#         return (x,y)"
   ]
  },
  {
   "cell_type": "code",
   "execution_count": 13,
   "id": "7657d770",
   "metadata": {},
   "outputs": [],
   "source": [
    "api_cache = pd.read_csv('api_cache.csv')\n",
    "api_cache = api_cache.set_index('query')\n",
    "def find_cash_and_save(query):\n",
    "    if query in api_cache.index:\n",
    "        return (api_cache.loc[query]['x'], api_cache.loc[query]['y'])\n",
    "    else:\n",
    "        (x,y) = module.api.get_coordinates(query)\n",
    "        api_cache.loc[query] = [x,y]\n",
    "        return (x,y)\n"
   ]
  },
  {
   "cell_type": "code",
   "execution_count": 12,
   "id": "82218d43",
   "metadata": {},
   "outputs": [],
   "source": [
    "# api_cache['x'] = api_cache['x'].astype(str)\n",
    "# api_cache['y'] = api_cache['y'].astype(str)"
   ]
  },
  {
   "cell_type": "code",
   "execution_count": null,
   "id": "a78a53e6",
   "metadata": {},
   "outputs": [],
   "source": [
    "# for index, row in none_list.iterrows():\n",
    "for index, row in df.iterrows():\n",
    "    if pd.isna(row['좌표X']):\n",
    "        continue\n",
    "    # try:\n",
    "    query = module.api.search_apt_query(row)\n",
    "    (x,y) = find_cash_and_save(query)\n",
    "    if x != None:\n",
    "        df.loc[index, '좌표X'] = x\n",
    "        df.loc[index, '좌표Y'] = y\n",
    "    else:\n",
    "        print(index, row['아파트명'], query)\n",
    "    # except Exception as e:\n",
    "    #     print(e)\n",
    "    #     print('err', index, query)\n",
    "    #     print(row)\n",
    "    #     break"
   ]
  },
  {
   "cell_type": "code",
   "execution_count": 27,
   "id": "92b79372",
   "metadata": {},
   "outputs": [],
   "source": [
    "df['좌표X'].isnull().sum()  \n",
    "df.to_csv('../data/unique_apt_group_xy_v3.csv', index=False)"
   ]
  },
  {
   "cell_type": "code",
   "execution_count": null,
   "id": "0e3958a4",
   "metadata": {},
   "outputs": [],
   "source": [
    "df['좌표X'].isnull().sum()  \n"
   ]
  },
  {
   "cell_type": "code",
   "execution_count": null,
   "id": "4865b9ac",
   "metadata": {},
   "outputs": [],
   "source": [
    "df[df['좌표X'].isnull()]"
   ]
  },
  {
   "cell_type": "code",
   "execution_count": 38,
   "id": "2872b770",
   "metadata": {},
   "outputs": [],
   "source": [
    "for index, row in df.iterrows():\n",
    "    if row['좌표X'] != None:\n",
    "        continue\n",
    "\n",
    "    print(row['좌표X'], row['좌표Y'])\n",
    "    # query = module.api.search_apt_query(row)\n",
    "    # query = row['시군구'] +  \" \" + row['아파트명']\n",
    "    # print(query)\n",
    "    # (x,y) = module.api.get_coordinates(query)\n",
    "    # if x != None:\n",
    "    #     print('찾음',query, x, y)\n",
    "    #     # df.loc[index, '좌표X'] = x\n",
    "    #     # df.loc[index, '좌표Y'] = y\n",
    "    # else:\n",
    "    #     print(index, row['아파트명'], query)"
   ]
  },
  {
   "cell_type": "code",
   "execution_count": 24,
   "id": "e8b1a0bd",
   "metadata": {},
   "outputs": [],
   "source": [
    "api_cache.to_csv('api_cache_v2.csv')"
   ]
  },
  {
   "cell_type": "code",
   "execution_count": 13,
   "id": "3a24d1f6",
   "metadata": {},
   "outputs": [],
   "source": [
    "# # pd.DataFrame(api_cache).to_csv('api_cache.csv', index=False)\n",
    "# def save_api_cache_to_csv(api_cache, file_name='api_cache.csv'):\n",
    "#     # 딕셔너리를 DataFrame으로 변환\n",
    "#     data = [{'query': query, 'x': coords[0], 'y': coords[1]} for query, coords in api_cache.items()]\n",
    "#     df = pd.DataFrame(data)\n",
    "    \n",
    "#     # CSV 파일로 저장\n",
    "#     df.to_csv(file_name, index=False, encoding='utf-8')\n",
    "\n",
    "# # 사용 예시\n",
    "# save_api_cache_to_csv(api_cache)"
   ]
  },
  {
   "cell_type": "code",
   "execution_count": 16,
   "id": "d0f96790",
   "metadata": {},
   "outputs": [],
   "source": [
    "df['좌표X'].isnull().sum()"
   ]
  },
  {
   "cell_type": "code",
   "execution_count": 15,
   "id": "717a2543",
   "metadata": {},
   "outputs": [],
   "source": [
    "df.to_csv('../data/unique_apt_group_xy_v2.csv', index=False)"
   ]
  },
  {
   "cell_type": "code",
   "execution_count": null,
   "id": "cf3b2ac1",
   "metadata": {},
   "outputs": [],
   "source": [
    "api_cache"
   ]
  },
  {
   "cell_type": "code",
   "execution_count": 15,
   "id": "41410c50",
   "metadata": {},
   "outputs": [],
   "source": [
    "# df.to_csv('unique_apt_group_임시.csv', index=False)"
   ]
  },
  {
   "cell_type": "code",
   "execution_count": null,
   "id": "c3bc6171",
   "metadata": {},
   "outputs": [],
   "source": [
    "df['좌표X'].isnull().sum()"
   ]
  },
  {
   "cell_type": "code",
   "execution_count": null,
   "id": "96346b4d",
   "metadata": {},
   "outputs": [],
   "source": [
    "df.shape"
   ]
  },
  {
   "cell_type": "code",
   "execution_count": 17,
   "id": "57a0511b",
   "metadata": {},
   "outputs": [],
   "source": [
    "unique = pd.read_csv('../data/unique_apt_group_xy.csv')"
   ]
  },
  {
   "cell_type": "code",
   "execution_count": null,
   "id": "d76dc00c",
   "metadata": {},
   "outputs": [],
   "source": [
    "xy_df = pd.read_csv('../data/x_y_key_map.csv')"
   ]
  },
  {
   "cell_type": "code",
   "execution_count": null,
   "id": "452eaf39",
   "metadata": {},
   "outputs": [],
   "source": [
    "unique[unique['좌표X'].isna()].head(1)"
   ]
  },
  {
   "cell_type": "code",
   "execution_count": null,
   "id": "a9b43869",
   "metadata": {},
   "outputs": [],
   "source": [
    "xy_df.head(1)"
   ]
  },
  {
   "cell_type": "code",
   "execution_count": 18,
   "id": "37cba6e9",
   "metadata": {},
   "outputs": [],
   "source": []
  },
  {
   "cell_type": "markdown",
   "id": "4e0263d6",
   "metadata": {},
   "source": [
    "## 결측치 보완"
   ]
  },
  {
   "cell_type": "code",
   "execution_count": 19,
   "id": "36e79d4f",
   "metadata": {},
   "outputs": [],
   "source": [
    "결측치_df = df.copy()"
   ]
  },
  {
   "cell_type": "code",
   "execution_count": null,
   "id": "3dce2bcb",
   "metadata": {},
   "outputs": [],
   "source": [
    "결측치_df['좌표X'].isnull().sum()"
   ]
  },
  {
   "cell_type": "code",
   "execution_count": null,
   "id": "c1f30137",
   "metadata": {},
   "outputs": [],
   "source": [
    "unique.head(1)"
   ]
  },
  {
   "cell_type": "code",
   "execution_count": null,
   "id": "96fd1cce",
   "metadata": {},
   "outputs": [],
   "source": [
    "결측치_df.head(1)"
   ]
  },
  {
   "cell_type": "code",
   "execution_count": null,
   "id": "1deffd63",
   "metadata": {},
   "outputs": [],
   "source": [
    "for index, row in unique[unique['좌표X'].isna()].iterrows():\n",
    "    key_query = row['시군구'] + ' ' + row['도로명']\n",
    "    try:\n",
    "        x = xy_df[xy_df['search_key1'] == key_query]['좌표X'].values[0]\n",
    "        y = xy_df[xy_df['search_key1'] == key_query]['좌표Y'].values[0]\n",
    "        unique.loc[index, '좌표X'] = x\n",
    "        unique.loc[index, '좌표Y'] = y\n",
    "    except:\n",
    "        print('err', index, row['아파트명'])\n",
    "        continue"
   ]
  },
  {
   "cell_type": "code",
   "execution_count": null,
   "id": "078e8164",
   "metadata": {},
   "outputs": [],
   "source": []
  },
  {
   "cell_type": "code",
   "execution_count": 29,
   "id": "d8efd309",
   "metadata": {},
   "outputs": [],
   "source": [
    "# unique.to_csv('../data/unique_apt_group_xy.csv', index=False)"
   ]
  },
  {
   "cell_type": "code",
   "execution_count": null,
   "id": "d42fe99c",
   "metadata": {},
   "outputs": [],
   "source": []
  }
 ],
 "metadata": {
  "kernelspec": {
   "display_name": "Python 3",
   "language": "python",
   "name": "python3"
  },
  "language_info": {
   "codemirror_mode": {
    "name": "ipython",
    "version": 3
   },
   "file_extension": ".py",
   "mimetype": "text/x-python",
   "name": "python",
   "nbconvert_exporter": "python",
   "pygments_lexer": "ipython3",
   "version": "3.10.13"
  }
 },
 "nbformat": 4,
 "nbformat_minor": 5
}
