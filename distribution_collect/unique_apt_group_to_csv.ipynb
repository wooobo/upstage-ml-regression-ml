{
 "cells": [
  {
   "cell_type": "markdown",
   "id": "1738a9371a59c978",
   "metadata": {},
   "source": [
    "# 아파트 고유 식별자로 파일 생성"
   ]
  },
  {
   "cell_type": "markdown",
   "id": "efecb49e",
   "metadata": {},
   "source": [
    "# load"
   ]
  },
  {
   "cell_type": "code",
   "execution_count": 1,
   "id": "0595b157",
   "metadata": {},
   "outputs": [],
   "source": [
    "unique_apt_group_file_name = '../data/unique_apt_group_v2.csv'"
   ]
  },
  {
   "cell_type": "code",
   "execution_count": 2,
   "id": "95f13cdaaab67568",
   "metadata": {
    "ExecuteTime": {
     "end_time": "2024-12-31T15:52:50.551318Z",
     "start_time": "2024-12-31T15:52:50.548812Z"
    }
   },
   "outputs": [],
   "source": [
    "# sys.path를 수정하여 모듈 경로를 설정\n",
    "import sys\n",
    "import os\n",
    "\n",
    "# 프로젝트 루트 경로 추가\n",
    "project_root = os.path.abspath(\"..\")\n",
    "sys.path.append(project_root)"
   ]
  },
  {
   "cell_type": "code",
   "execution_count": 3,
   "id": "8b58a5b7cc63b298",
   "metadata": {
    "ExecuteTime": {
     "end_time": "2024-12-31T15:52:51.127088Z",
     "start_time": "2024-12-31T15:52:50.951449Z"
    }
   },
   "outputs": [],
   "source": [
    "# visualization\n",
    "import matplotlib.pyplot as plt\n",
    "import matplotlib.font_manager as fm\n",
    "# AppleGothic\n",
    "fe = fm.FontEntry(\n",
    "    fname=r'/usr/share/fonts/truetype/nanum/NanumGothic.ttf', # ttf 파일이 저장되어 있는 경로\n",
    "    name='NanumBarunGothic')                        # 이 폰트의 원하는 이름 설정\n",
    "fm.fontManager.ttflist.insert(0, fe)              # Matplotlib에 폰트 추가\n",
    "plt.rcParams.update({'font.size': 10, 'font.family': 'NanumBarunGothic'}) # 폰트 설정\n",
    "plt.rc('font', family='NanumBarunGothic')\n",
    "import seaborn as sns\n",
    "\n",
    "# utils\n",
    "import pandas as pd\n",
    "import numpy as np\n",
    "from tqdm import tqdm\n",
    "import pickle\n",
    "import warnings;warnings.filterwarnings('ignore')\n",
    "\n",
    "# Model\n",
    "from sklearn.preprocessing import LabelEncoder\n",
    "from sklearn.model_selection import train_test_split\n",
    "from sklearn.metrics import mean_squared_error\n",
    "from sklearn.ensemble import RandomForestRegressor\n",
    "from sklearn import metrics\n",
    "\n",
    "import eli5\n",
    "from eli5.sklearn import PermutationImportance"
   ]
  },
  {
   "cell_type": "code",
   "execution_count": 4,
   "id": "initial_id",
   "metadata": {
    "ExecuteTime": {
     "end_time": "2024-12-31T15:52:52.028412Z",
     "start_time": "2024-12-31T15:52:52.024204Z"
    },
    "collapsed": true
   },
   "outputs": [],
   "source": [
    "import module"
   ]
  },
  {
   "cell_type": "code",
   "execution_count": 5,
   "id": "4bd8e41e4e4f5cd4",
   "metadata": {
    "ExecuteTime": {
     "end_time": "2024-12-31T15:52:57.714385Z",
     "start_time": "2024-12-31T15:52:52.844337Z"
    }
   },
   "outputs": [],
   "source": [
    "df = module.file_load.load_origin_data()"
   ]
  },
  {
   "cell_type": "code",
   "execution_count": 6,
   "id": "68b82e710d2178",
   "metadata": {
    "ExecuteTime": {
     "end_time": "2024-12-31T15:52:57.731185Z",
     "start_time": "2024-12-31T15:52:57.719195Z"
    }
   },
   "outputs": [
    {
     "data": {
      "text/plain": [
       "0    1118822\n",
       "1       9272\n",
       "Name: is_test, dtype: int64"
      ]
     },
     "execution_count": 6,
     "metadata": {},
     "output_type": "execute_result"
    }
   ],
   "source": [
    "df['is_test'].value_counts()"
   ]
  },
  {
   "cell_type": "code",
   "execution_count": 7,
   "id": "e510193ff81ff048",
   "metadata": {
    "ExecuteTime": {
     "end_time": "2024-12-31T15:52:57.779439Z",
     "start_time": "2024-12-31T15:52:57.775054Z"
    }
   },
   "outputs": [
    {
     "name": "stdout",
     "output_type": "stream",
     "text": [
      "Index(['시군구', '번지', '본번', '부번', '아파트명', '전용면적(㎡)', '계약년월', '계약일', '층', '건축년도',\n",
      "       '도로명', '해제사유발생일', '등기신청일자', '거래유형', '중개사소재지', 'k-단지분류(아파트,주상복합등등)',\n",
      "       'k-전화번호', 'k-팩스번호', '단지소개기존clob', 'k-세대타입(분양형태)', 'k-관리방식', 'k-복도유형',\n",
      "       'k-난방방식', 'k-전체동수', 'k-전체세대수', 'k-건설사(시공사)', 'k-시행사', 'k-사용검사일-사용승인일',\n",
      "       'k-연면적', 'k-주거전용면적', 'k-관리비부과면적', 'k-전용면적별세대현황(60㎡이하)',\n",
      "       'k-전용면적별세대현황(60㎡~85㎡이하)', 'k-85㎡~135㎡이하', 'k-135㎡초과', 'k-홈페이지',\n",
      "       'k-등록일자', 'k-수정일자', '고용보험관리번호', '경비비관리형태', '세대전기계약방법', '청소비관리형태',\n",
      "       '건축면적', '주차대수', '기타/의무/임대/임의=1/2/3/4', '단지승인일', '사용허가여부', '관리비 업로드',\n",
      "       '좌표X', '좌표Y', '단지신청일', 'target', 'is_test'],\n",
      "      dtype='object')\n",
      "(1128094, 53)\n"
     ]
    }
   ],
   "source": [
    "print(df.columns)\n",
    "print(df.shape)"
   ]
  },
  {
   "cell_type": "markdown",
   "id": "45cb8bca",
   "metadata": {},
   "source": [
    "## 컬럼 정제"
   ]
  },
  {
   "cell_type": "code",
   "execution_count": 8,
   "id": "52a7ec6ace2479e9",
   "metadata": {
    "ExecuteTime": {
     "end_time": "2024-12-31T15:53:05.100387Z",
     "start_time": "2024-12-31T15:53:03.531021Z"
    }
   },
   "outputs": [],
   "source": [
    "# 시, 군, 구 추가\n",
    "module.parser.시_군_구_add(df)"
   ]
  },
  {
   "cell_type": "code",
   "execution_count": 12,
   "id": "3c6f0e67f871b355",
   "metadata": {
    "ExecuteTime": {
     "end_time": "2024-12-31T15:53:06.585826Z",
     "start_time": "2024-12-31T15:53:05.459935Z"
    }
   },
   "outputs": [],
   "source": [
    "# 서초포레스타2단지 내곡동 384\n",
    "# 힐스테이트 서초 젠트리스\t557\n",
    "# 아파트 고유 식별자 추가\n",
    "df.loc[df['아파트명'] == '서초포레스타2단지', '번지'] = df.loc[df['아파트명'] == '서초포레스타2단지', '번지'].fillna('384')\n",
    "df.loc[df['아파트명'] == '힐스테이트 서초 젠트리스', '번지'] = df.loc[df['아파트명'] == '힐스테이트 서초 젠트리스', '번지'].fillna('557')\n",
    "df['아파트명'] = df['아파트명'].fillna(df['도로명'])\n",
    "module.parser.아파트_unique_key_add(df)"
   ]
  },
  {
   "cell_type": "code",
   "execution_count": 13,
   "metadata": {},
   "outputs": [],
   "source": [
    "assert df['아파트_unique_key'].isnull().sum() == 0"
   ]
  },
  {
   "cell_type": "code",
   "execution_count": 14,
   "id": "a1d894ea",
   "metadata": {},
   "outputs": [],
   "source": [
    "df['아파트_unique_key'].value_counts().to_csv(\"아파트_unique_key.csv\")"
   ]
  },
  {
   "cell_type": "code",
   "execution_count": 15,
   "id": "e2e0b99fd76eae21",
   "metadata": {
    "ExecuteTime": {
     "end_time": "2024-12-31T15:53:40.236008Z",
     "start_time": "2024-12-31T15:53:38.633751Z"
    }
   },
   "outputs": [],
   "source": [
    "# 좌표X 기준으로 정렬 후, 첫 번째 값을 유지하여 채우는 함수\n",
    "parse_df = df.copy()\n",
    "module.parser.fill_coordinates_sorted(parse_df)"
   ]
  },
  {
   "cell_type": "code",
   "execution_count": 16,
   "id": "42a6cabd4447dcc",
   "metadata": {
    "ExecuteTime": {
     "end_time": "2024-12-31T15:53:40.344423Z",
     "start_time": "2024-12-31T15:53:40.339307Z"
    }
   },
   "outputs": [
    {
     "name": "stdout",
     "output_type": "stream",
     "text": [
      "(9032, 57)\n",
      "Index(['시군구', '번지', '본번', '부번', '아파트명', '전용면적(㎡)', '계약년월', '계약일', '층', '건축년도',\n",
      "       '도로명', '해제사유발생일', '등기신청일자', '거래유형', '중개사소재지', 'k-단지분류(아파트,주상복합등등)',\n",
      "       'k-전화번호', 'k-팩스번호', '단지소개기존clob', 'k-세대타입(분양형태)', 'k-관리방식', 'k-복도유형',\n",
      "       'k-난방방식', 'k-전체동수', 'k-전체세대수', 'k-건설사(시공사)', 'k-시행사', 'k-사용검사일-사용승인일',\n",
      "       'k-연면적', 'k-주거전용면적', 'k-관리비부과면적', 'k-전용면적별세대현황(60㎡이하)',\n",
      "       'k-전용면적별세대현황(60㎡~85㎡이하)', 'k-85㎡~135㎡이하', 'k-135㎡초과', 'k-홈페이지',\n",
      "       'k-등록일자', 'k-수정일자', '고용보험관리번호', '경비비관리형태', '세대전기계약방법', '청소비관리형태',\n",
      "       '건축면적', '주차대수', '기타/의무/임대/임의=1/2/3/4', '단지승인일', '사용허가여부', '관리비 업로드',\n",
      "       '좌표X', '좌표Y', '단지신청일', 'target', 'is_test', '시', '구', '동',\n",
      "       '아파트_unique_key'],\n",
      "      dtype='object')\n"
     ]
    }
   ],
   "source": [
    "print(parse_df.shape)\n",
    "print(parse_df.columns)"
   ]
  },
  {
   "cell_type": "markdown",
   "id": "9cb7793f",
   "metadata": {},
   "source": [
    "## 저장"
   ]
  },
  {
   "cell_type": "code",
   "execution_count": 17,
   "id": "20fa2a33",
   "metadata": {},
   "outputs": [
    {
     "data": {
      "text/html": [
       "<div>\n",
       "<style scoped>\n",
       "    .dataframe tbody tr th:only-of-type {\n",
       "        vertical-align: middle;\n",
       "    }\n",
       "\n",
       "    .dataframe tbody tr th {\n",
       "        vertical-align: top;\n",
       "    }\n",
       "\n",
       "    .dataframe thead th {\n",
       "        text-align: right;\n",
       "    }\n",
       "</style>\n",
       "<table border=\"1\" class=\"dataframe\">\n",
       "  <thead>\n",
       "    <tr style=\"text-align: right;\">\n",
       "      <th></th>\n",
       "      <th>시군구</th>\n",
       "      <th>번지</th>\n",
       "      <th>본번</th>\n",
       "      <th>부번</th>\n",
       "      <th>아파트명</th>\n",
       "      <th>전용면적(㎡)</th>\n",
       "      <th>계약년월</th>\n",
       "      <th>계약일</th>\n",
       "      <th>층</th>\n",
       "      <th>건축년도</th>\n",
       "      <th>...</th>\n",
       "      <th>관리비 업로드</th>\n",
       "      <th>좌표X</th>\n",
       "      <th>좌표Y</th>\n",
       "      <th>단지신청일</th>\n",
       "      <th>target</th>\n",
       "      <th>is_test</th>\n",
       "      <th>시</th>\n",
       "      <th>구</th>\n",
       "      <th>동</th>\n",
       "      <th>아파트_unique_key</th>\n",
       "    </tr>\n",
       "  </thead>\n",
       "  <tbody>\n",
       "  </tbody>\n",
       "</table>\n",
       "<p>0 rows × 57 columns</p>\n",
       "</div>"
      ],
      "text/plain": [
       "Empty DataFrame\n",
       "Columns: [시군구, 번지, 본번, 부번, 아파트명, 전용면적(㎡), 계약년월, 계약일, 층, 건축년도, 도로명, 해제사유발생일, 등기신청일자, 거래유형, 중개사소재지, k-단지분류(아파트,주상복합등등), k-전화번호, k-팩스번호, 단지소개기존clob, k-세대타입(분양형태), k-관리방식, k-복도유형, k-난방방식, k-전체동수, k-전체세대수, k-건설사(시공사), k-시행사, k-사용검사일-사용승인일, k-연면적, k-주거전용면적, k-관리비부과면적, k-전용면적별세대현황(60㎡이하), k-전용면적별세대현황(60㎡~85㎡이하), k-85㎡~135㎡이하, k-135㎡초과, k-홈페이지, k-등록일자, k-수정일자, 고용보험관리번호, 경비비관리형태, 세대전기계약방법, 청소비관리형태, 건축면적, 주차대수, 기타/의무/임대/임의=1/2/3/4, 단지승인일, 사용허가여부, 관리비 업로드, 좌표X, 좌표Y, 단지신청일, target, is_test, 시, 구, 동, 아파트_unique_key]\n",
       "Index: []\n",
       "\n",
       "[0 rows x 57 columns]"
      ]
     },
     "execution_count": 17,
     "metadata": {},
     "output_type": "execute_result"
    }
   ],
   "source": [
    "# 번지 빈값 2개 아파트명 대체\n",
    "parse_df[parse_df['번지'].isnull()]\n",
    "# 서초포레스타2단지 내곡동 384\n",
    "# 힐스테이트 서초 젠트리스\t557"
   ]
  },
  {
   "cell_type": "code",
   "execution_count": 18,
   "id": "678083348cf64db6",
   "metadata": {
    "ExecuteTime": {
     "end_time": "2024-12-31T15:53:43.093703Z",
     "start_time": "2024-12-31T15:53:42.974975Z"
    }
   },
   "outputs": [],
   "source": [
    "# (['시군구', '번지', '본번', '부번', '아파트명', '전용면적(㎡)', '계약년월', '계약일', '층', '건축년도',\n",
    "#        '도로명', '해제사유발생일', '등기신청일자', '거래유형', '중개사소재지', 'k-단지분류(아파트,주상복합등등)',\n",
    "#        'k-전화번호', 'k-팩스번호', '단지소개기존clob', 'k-세대타입(분양형태)', 'k-관리방식', 'k-복도유형',\n",
    "#        'k-난방방식', 'k-전체동수', 'k-전체세대수', 'k-건설사(시공사)', 'k-시행사', 'k-사용검사일-사용승인일',\n",
    "#        'k-연면적', 'k-주거전용면적', 'k-관리비부과면적', 'k-전용면적별세대현황(60㎡이하)',\n",
    "#        'k-전용면적별세대현황(60㎡~85㎡이하)', 'k-85㎡~135㎡이하', 'k-135㎡초과', 'k-홈페이지',\n",
    "#        'k-등록일자', 'k-수정일자', '고용보험관리번호', '경비비관리형태', '세대전기계약방법', '청소비관리형태',\n",
    "#        '건축면적', '주차대수', '기타/의무/임대/임의=1/2/3/4', '단지승인일', '사용허가여부', '관리비 업로드',\n",
    "#        '좌표X', '좌표Y', '단지신청일', 'is_test', 'target'],\n",
    "save_columns = ['아파트_unique_key','시', '구', '동','시군구', '번지', '본번','아파트명', '건축년도','도로명','좌표Y','좌표X']\n",
    "parse_df[save_columns].to_csv(unique_apt_group_file_name, index=False)"
   ]
  },
  {
   "cell_type": "code",
   "execution_count": null,
   "id": "b6af342cc185575c",
   "metadata": {
    "ExecuteTime": {
     "end_time": "2024-12-31T15:37:04.291168Z",
     "start_time": "2024-12-31T15:37:04.276925Z"
    }
   },
   "outputs": [],
   "source": [
    "parse_df.head(1)"
   ]
  },
  {
   "cell_type": "code",
   "execution_count": null,
   "id": "d191064e",
   "metadata": {},
   "outputs": [],
   "source": []
  }
 ],
 "metadata": {
  "kernelspec": {
   "display_name": "Python 3",
   "language": "python",
   "name": "python3"
  },
  "language_info": {
   "codemirror_mode": {
    "name": "ipython",
    "version": 3
   },
   "file_extension": ".py",
   "mimetype": "text/x-python",
   "name": "python",
   "nbconvert_exporter": "python",
   "pygments_lexer": "ipython3",
   "version": "3.10.13"
  }
 },
 "nbformat": 4,
 "nbformat_minor": 5
}
