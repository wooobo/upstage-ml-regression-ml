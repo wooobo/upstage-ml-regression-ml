{
 "cells": [
  {
   "cell_type": "markdown",
   "metadata": {},
   "source": [
    "# 타임시리즈 로직적용\n",
    "\n",
    "5000 개 테스트 셋 구성\n",
    "- 2023년 기준\n",
    "- 2023년에만 있는 아파트 추가"
   ]
  },
  {
   "cell_type": "code",
   "execution_count": 1,
   "metadata": {},
   "outputs": [],
   "source": [
    "# visualization\n",
    "import matplotlib.pyplot as plt\n",
    "import matplotlib.font_manager as fm\n",
    "\n",
    "from matplotlib import rc  ### 이 줄과\n",
    "rc('font', family='AppleGothic') \t\t\t## 이 두 줄을 \n",
    "plt.rcParams['axes.unicode_minus'] = False  ## 추가해줍니다. \n",
    "\n",
    "\n",
    "import seaborn as sns\n",
    "\n",
    "# utils\n",
    "import pandas as pd\n",
    "import numpy as np\n",
    "from tqdm import tqdm\n",
    "import pickle\n",
    "import warnings;warnings.filterwarnings('ignore')\n",
    "\n",
    "# Model\n",
    "from sklearn.preprocessing import LabelEncoder\n",
    "from sklearn.model_selection import train_test_split\n",
    "from sklearn.metrics import mean_squared_error\n",
    "from sklearn.ensemble import RandomForestRegressor\n",
    "from sklearn import metrics\n",
    "\n",
    "import eli5\n",
    "from eli5.sklearn import PermutationImportance"
   ]
  },
  {
   "cell_type": "code",
   "execution_count": 2,
   "metadata": {},
   "outputs": [],
   "source": [
    "# sys.path를 수정하여 모듈 경로를 설정\n",
    "import sys\n",
    "import os\n",
    "import pandas as pd\n",
    "\n",
    "# 프로젝트 루트 경로 추가\n",
    "project_root = os.path.abspath(\"..\")\n",
    "sys.path.append(project_root)\n",
    "\n",
    "\n",
    "# 모든 컬럼 출력 설정\n",
    "pd.set_option('display.max_columns', None)\n",
    "\n",
    "# 모든 행 출력 설정\n",
    "pd.set_option('display.max_rows', None)\n",
    "\n",
    "import module\n"
   ]
  },
  {
   "cell_type": "code",
   "execution_count": 3,
   "metadata": {},
   "outputs": [
    {
     "name": "stdout",
     "output_type": "stream",
     "text": [
      "Train data shape :  (1118822, 94) Test data shape :  (9272, 94)\n"
     ]
    }
   ],
   "source": [
    "subway_df = module.file_load.load_지하철()\n",
    "bus_df = module.file_load.load_버스()\n",
    "subway_df = subway_df.rename(columns={'위도': 'y', '경도': 'x'})\n",
    "bus_df = bus_df.rename(columns={'Y좌표': 'y', 'X좌표': 'x'})\n",
    "\n",
    "# 필요한 데이터를 load 하겠습니다. 경로는 환경에 맞게 지정해주면 됩니다.\n",
    "dt = module.file_load.loadVersionOfData('train_v30')\n",
    "dt_test = module.file_load.loadVersionOfData('test_v30')\n",
    "print('Train data shape : ', dt.shape, 'Test data shape : ', dt_test.shape)"
   ]
  },
  {
   "cell_type": "code",
   "execution_count": 4,
   "metadata": {},
   "outputs": [],
   "source": [
    "dt['is_test'] = 0\n",
    "dt_test['is_test'] = 1\n",
    "concat = pd.concat([dt, dt_test]) "
   ]
  },
  {
   "cell_type": "code",
   "execution_count": 5,
   "metadata": {},
   "outputs": [],
   "source": [
    "drop_columns1 = ['k-단지분류(아파트,주상복합등등)', 'k-전화번호', 'k-팩스번호', '단지소개기존clob', 'k-세대타입(분양형태)',\n",
    "       'k-관리방식', 'k-복도유형', 'k-난방방식', 'k-전체동수', 'k-전체세대수', 'k-건설사(시공사)',\n",
    "       'k-시행사', 'k-사용검사일-사용승인일', 'k-연면적', 'k-주거전용면적', 'k-관리비부과면적',\n",
    "       'k-전용면적별세대현황(60㎡이하)', 'k-전용면적별세대현황(60㎡~85㎡이하)', 'k-85㎡~135㎡이하',\n",
    "       'k-135㎡초과', 'k-홈페이지', 'k-등록일자', 'k-수정일자', '고용보험관리번호', '경비비관리형태',\n",
    "       '세대전기계약방법', '청소비관리형태', '건축면적', '주차대수', '기타/의무/임대/임의=1/2/3/4', '단지승인일',\n",
    "       '사용허가여부', '관리비 업로드','해제사유발생일', '등기신청일자', '거래유형', '중개사소재지','단지신청일' ]"
   ]
  },
  {
   "cell_type": "code",
   "execution_count": 6,
   "metadata": {},
   "outputs": [
    {
     "name": "stdout",
     "output_type": "stream",
     "text": [
      "21.68500000000001\n",
      "122.92499999999998\n"
     ]
    }
   ],
   "source": [
    "concat = module.preprocess.rename(concat) # 컬럼명을 변경해줍니다.\n",
    "concat = module.preprocess.remove_outliers_iqr(concat, '전용면적')\n",
    "\n",
    "module.preprocess.아파트_unique_key_add(concat) # 아파트 고유 키를 만들어줍니다.\n",
    "module.preprocess.해제사유발생유무_add(concat) # 해제사유 발생 유무 컬럼을 추가합니다.\n",
    "module.preprocess.번지_본번_부번_결측채우기(concat) # 번지, 본번, 부번을 결측치를 채워줍니다.\n",
    "module.preprocess.계약년월일(concat) #\n",
    "module.preprocess.강남_add(concat)\n",
    "module.preprocess.신축_add(concat)\n",
    "module.preprocess.탑층_add(concat)\n",
    "module.preprocess.층그룹_add(concat)\n",
    "module.preprocess.평수그룹_add(concat)\n",
    "module.preprocess.생활지수파생변수(concat)\n",
    "\n",
    "concat = module.preprocess.테스트_최대평수이상제거(concat)\n",
    "concat = module.preprocess.테스트_최대층이상제거(concat)\n",
    "concat = module.preprocess.건축년도_계약년도_앞서면제거(concat)\n",
    "concat = module.preprocess.target이상치제거(concat) \n",
    "module.preprocess.공원밀도_add(concat)\n",
    "# 호선 정보 추가\n",
    "unique_apt = concat.drop_duplicates(subset='아파트_unique_key', keep='first')\n",
    "unique_apt2 = module.preprocess.nearest_subway_name(unique_apt, subway_df, '호선')[['아파트_unique_key','호선']]\n",
    "concat = concat.merge(unique_apt2[['아파트_unique_key', '호선']], on='아파트_unique_key', how='left')\n",
    "\n",
    "module.preprocess.한강거리_add(concat)\n",
    "concat['한강근접'] = concat['한강거리'].apply(lambda x: 1 if x < 800 else 0)\n",
    "\n",
    "module.preprocess.고급아파트_추가(concat)\n",
    "concat = module.preprocess.비싼아파트_add(concat)\n",
    "\n",
    "concat['재건축30'] = concat['경과연도'] >= 30\n",
    "\n",
    "concat = module.preprocess.아파트주변정보(concat)\n"
   ]
  },
  {
   "cell_type": "code",
   "execution_count": 7,
   "metadata": {},
   "outputs": [],
   "source": [
    "concat_temp = concat.copy()"
   ]
  },
  {
   "cell_type": "code",
   "execution_count": 8,
   "metadata": {},
   "outputs": [],
   "source": [
    "concat = concat_temp.copy()"
   ]
  },
  {
   "cell_type": "code",
   "execution_count": 9,
   "metadata": {},
   "outputs": [],
   "source": [
    "module.preprocess.log처리(concat)"
   ]
  },
  {
   "cell_type": "code",
   "execution_count": 684,
   "metadata": {},
   "outputs": [],
   "source": [
    "final_drop = [\n",
    "'index', '시군구','본번', '부번','전용면적', '경과구분','층_그룹', '평수_그룹','시',\n",
    "'가까운공원이름','아파트_unique_key',\n",
    "'계약년월일','지가지수', \n",
    "'아파트전세_전기대비증감률',  '민간소비', '소비자심리지수', '경제심리지수', '여수신 금리차','음식점','편의점', '생태문화생활권점수'\n",
    ", '고급아파트','숲세권종합점수', '공원생활권점수', '공원총면적',\n",
    "\n",
    "\n",
    "'1차역세권', '2차역세권', '1차버스정류장', '경과연도',  '구',   \n",
    "'nearest_park_distance', '산책생활권점수', '한강지천길갯수', '한강지천길총길이',\n",
    "'한강지천생활권점수', '숲세권등급', '한강거리', '실업률',  '해제사유발생유무',\n",
    "'건물연령구분', 'is_top',  '생태문화길밀도', '공원밀도', '호선', '한강근접', '비싼아파트',\n",
    "'재건축30', '학원', '병원', '어린이집, 유치원'\n",
    "]\n",
    "\n",
    "# '번지', '아파트명', '계약년월', '계약일', '층', '건축년도', '도로명', '좌표X', '좌표Y', 'target',\n",
    "# '금리_단기1년전차이', 'nearest_subway_distance', 'nearest_bus_distance',\n",
    "# '1차역세권', '2차역세권', '1차버스정류장', '경과연도', '평수', '구', '동', '아파트ID', '아파트ID거리',\n",
    "# 'nearest_park_distance', '가까운공원ID', '산책생활권점수', '한강지천길갯수', '한강지천길총길이',\n",
    "# '한강지천생활권점수', '숲세권등급', '한강거리', '실업률', 'is_test', '해제사유발생유무', '강남여부',\n",
    "# '건물연령구분', 'is_top', '산책로밀도', '생태문화길밀도', '공원밀도', '호선', '한강근접', '비싼아파트',\n",
    "# '재건축30', '학원', '학교', '공공기관', '병원', '어린이집, 유치원', '계약년'"
   ]
  },
  {
   "cell_type": "code",
   "execution_count": 685,
   "metadata": {},
   "outputs": [],
   "source": [
    "concat_select = concat.drop(columns=drop_columns1)"
   ]
  },
  {
   "cell_type": "code",
   "execution_count": 686,
   "metadata": {},
   "outputs": [],
   "source": [
    "model_data = concat_select.drop(columns=final_drop)"
   ]
  },
  {
   "cell_type": "code",
   "execution_count": 687,
   "metadata": {},
   "outputs": [],
   "source": [
    "# 필터링을 위해 넣음\n",
    "model_data['계약년'] = model_data[\"계약년월\"].astype(str).str[:4]\n",
    "model_data['계약년'] = model_data['계약년'].astype(int)"
   ]
  },
  {
   "cell_type": "code",
   "execution_count": 688,
   "metadata": {},
   "outputs": [],
   "source": [
    "# 2023년도에만 존재하는 아파트 추출\n",
    "unique_2023_apartments = model_data.groupby(\"아파트명\").filter(\n",
    "    lambda x: x[\"계약년\"].nunique() == 1 and 2023 in x[\"계약년\"].values\n",
    ")"
   ]
  },
  {
   "cell_type": "code",
   "execution_count": 689,
   "metadata": {},
   "outputs": [],
   "source": [
    "# 분석 결과 정리\n",
    "summary = unique_2023_apartments.groupby(\"아파트명\").agg(\n",
    "    거래건수=(\"target\", \"count\"),\n",
    "    평균target=(\"target\", \"mean\"),\n",
    "    최고target=(\"target\", \"max\"),\n",
    "    최저target=(\"target\", \"min\"),\n",
    ").reset_index()\n",
    "\n"
   ]
  },
  {
   "cell_type": "code",
   "execution_count": 690,
   "metadata": {},
   "outputs": [
    {
     "data": {
      "text/plain": [
       "Index(['번지', '아파트명', '계약년월', '계약일', '층', '건축년도', '도로명', '좌표X', '좌표Y', 'target',\n",
       "       '금리_단기1년전차이', 'nearest_subway_distance', 'nearest_bus_distance', '평수',\n",
       "       '동', '아파트ID', '아파트ID거리', '가까운공원ID', '공원갯수', 'is_test', '강남여부', '산책로밀도',\n",
       "       '학교', '공공기관', '계약년'],\n",
       "      dtype='object')"
      ]
     },
     "execution_count": 690,
     "metadata": {},
     "output_type": "execute_result"
    }
   ],
   "source": [
    "model_data.columns"
   ]
  },
  {
   "cell_type": "code",
   "execution_count": 691,
   "metadata": {},
   "outputs": [
    {
     "name": "stdout",
     "output_type": "stream",
     "text": [
      "<class 'pandas.core.frame.DataFrame'>\n",
      "RangeIndex: 1036984 entries, 0 to 1036983\n",
      "Data columns (total 25 columns):\n",
      " #   Column                   Non-Null Count    Dtype  \n",
      "---  ------                   --------------    -----  \n",
      " 0   번지                       1036984 non-null  object \n",
      " 1   아파트명                     1036984 non-null  object \n",
      " 2   계약년월                     1036984 non-null  int64  \n",
      " 3   계약일                      1036984 non-null  int64  \n",
      " 4   층                        1036984 non-null  int64  \n",
      " 5   건축년도                     1036984 non-null  int64  \n",
      " 6   도로명                      1036984 non-null  object \n",
      " 7   좌표X                      1036984 non-null  float64\n",
      " 8   좌표Y                      1036984 non-null  float64\n",
      " 9   target                   1027712 non-null  float64\n",
      " 10  금리_단기1년전차이               1036984 non-null  float64\n",
      " 11  nearest_subway_distance  1036984 non-null  float64\n",
      " 12  nearest_bus_distance     1036984 non-null  float64\n",
      " 13  평수                       1036984 non-null  int64  \n",
      " 14  동                        1036984 non-null  object \n",
      " 15  아파트ID                    1036984 non-null  object \n",
      " 16  아파트ID거리                  1036984 non-null  float64\n",
      " 17  가까운공원ID                  1036984 non-null  object \n",
      " 18  공원갯수                     1036984 non-null  int64  \n",
      " 19  is_test                  1036984 non-null  int64  \n",
      " 20  강남여부                     1036984 non-null  int64  \n",
      " 21  산책로밀도                    1036984 non-null  float64\n",
      " 22  학교                       1036984 non-null  float64\n",
      " 23  공공기관                     1036984 non-null  float64\n",
      " 24  계약년                      1036984 non-null  int64  \n",
      "dtypes: float64(10), int64(9), object(6)\n",
      "memory usage: 197.8+ MB\n"
     ]
    }
   ],
   "source": [
    "model_data.info()"
   ]
  },
  {
   "cell_type": "markdown",
   "metadata": {},
   "source": [
    "# 모델\n"
   ]
  },
  {
   "cell_type": "code",
   "execution_count": 732,
   "metadata": {},
   "outputs": [
    {
     "data": {
      "text/plain": [
       "((1027712, 24), (9272, 24))"
      ]
     },
     "execution_count": 732,
     "metadata": {},
     "output_type": "execute_result"
    }
   ],
   "source": [
    "from sklearn.model_selection import TimeSeriesSplit\n",
    "\n",
    "dt_train = model_data.query('is_test==0')\n",
    "dt_test = model_data.query('is_test==1')\n",
    "dt_train.drop(['is_test'], axis = 1, inplace=True)\n",
    "dt_test.drop(['is_test'], axis = 1, inplace=True)\n",
    "dt_train.shape, dt_test.shape\n"
   ]
  },
  {
   "cell_type": "code",
   "execution_count": 733,
   "metadata": {},
   "outputs": [],
   "source": [
    "filter_apt = ['송파시그니처롯데캐슬',\n",
    "'송파위례리슈빌',\n",
    "'송파레이크파크호반써밋Ⅱ',\n",
    "'루컴즈힐서리풀',\n",
    "'더샵반포리버파크',\n",
    "'도곡로93길',\n",
    "'반포센트레빌아스테리움',\n",
    "'개포자이프레지던스',\n",
    "'개포더샵트리에',\n",
    "'반포르엘',\n",
    "'래미안원베일리',]\n",
    "filter_apt_indexs = dt_train[dt_train['아파트명'].isin(filter_apt)].index\n",
    "# dt_train = dt_train[~dt_train.index.isin(filter_apt.index)]\n"
   ]
  },
  {
   "cell_type": "code",
   "execution_count": 734,
   "metadata": {},
   "outputs": [
    {
     "name": "stdout",
     "output_type": "stream",
     "text": [
      "연속형 변수: ['계약년월', '계약일', '층', '건축년도', '좌표X', '좌표Y', 'target', '금리_단기1년전차이', 'nearest_subway_distance', 'nearest_bus_distance', '평수', '아파트ID거리', '공원갯수', '강남여부', '산책로밀도', '학교', '공공기관', '계약년']\n",
      "범주형 변수: ['번지', '아파트명', '도로명', '동', '아파트ID', '가까운공원ID']\n"
     ]
    },
    {
     "name": "stderr",
     "output_type": "stream",
     "text": [
      "100%|██████████| 6/6 [00:08<00:00,  1.49s/it]\n"
     ]
    }
   ],
   "source": [
    "module.preprocess.label_encoding(dt_train, dt_test)"
   ]
  },
  {
   "cell_type": "code",
   "execution_count": 735,
   "metadata": {},
   "outputs": [],
   "source": [
    "filter_apt = dt_train[dt_train.index.isin(filter_apt_indexs)]\n",
    "dt_train = dt_train[~dt_train.index.isin(filter_apt.index)]\n"
   ]
  },
  {
   "cell_type": "code",
   "execution_count": 736,
   "metadata": {},
   "outputs": [
    {
     "name": "stdout",
     "output_type": "stream",
     "text": [
      "2023년 이상 데이터 개수: 15847\n",
      "이상치 데이터 개수: 793\n",
      "일반 데이터 개수: 15054\n",
      "최종 샘플 데이터 크기: (5026, 24)\n",
      "재구성된 dt_train 크기: (1022686, 24)\n",
      "이상치 샘플 개수: 500\n",
      "일반 샘플 개수: 4500\n"
     ]
    }
   ],
   "source": [
    "from sklearn.ensemble import IsolationForest\n",
    "\n",
    "# 1. 2023년 이상 데이터 필터링\n",
    "dt_train_2023 = dt_train[(dt_train['계약년'] >= 2023) & (dt_train['아파트명'] != '래미안원베일리')]\n",
    "print(f\"2023년 이상 데이터 개수: {dt_train_2023.shape[0]}\")\n",
    "\n",
    "# 2. IsolationForest로 이상치 탐지\n",
    "isolation_forest = IsolationForest(n_estimators=100, contamination=0.05, random_state=2023)\n",
    "dt_train_2023['anomaly_score'] = isolation_forest.fit_predict(dt_train_2023)\n",
    "\n",
    "# 3. 이상치와 일반 데이터 분리\n",
    "dt_anomalies = dt_train_2023[dt_train_2023['anomaly_score'] == -1]  # 이상치\n",
    "dt_normal = dt_train_2023[dt_train_2023['anomaly_score'] != -1]    # 일반 데이터\n",
    "\n",
    "print(f\"이상치 데이터 개수: {dt_anomalies.shape[0]}\")\n",
    "print(f\"일반 데이터 개수: {dt_normal.shape[0]}\")\n",
    "\n",
    "# 4. 500개 이상치 샘플링\n",
    "num_anomalies = min(500, len(dt_anomalies))\n",
    "dt_sample_anomalies = dt_anomalies.sample(n=num_anomalies, random_state=2023)\n",
    "\n",
    "# 5. 4500개 일반 데이터 샘플링\n",
    "num_normal = 5000 - num_anomalies\n",
    "dt_sample_normal = dt_normal.sample(n=num_normal, random_state=2023)\n",
    "\n",
    "# 6. 최종 샘플 결합\n",
    "dt_sample = pd.concat([dt_sample_anomalies, dt_sample_normal])\n",
    "\n",
    "# 2023년에만 있는고액 아파트\n",
    "dt_sample = pd.concat([dt_sample, filter_apt])\n",
    "\n",
    "# 7. dt_train 재구성 (dt_sample에 포함되지 않은 데이터)\n",
    "dt_train = dt_train[~dt_train.index.isin(dt_sample.index)]\n",
    "\n",
    "dt_sample.drop(columns=['anomaly_score'], inplace=True)\n",
    "\n",
    "# 결과 확인\n",
    "print(\"최종 샘플 데이터 크기:\", dt_sample.shape)\n",
    "print(\"재구성된 dt_train 크기:\", dt_train.shape)\n",
    "print(\"이상치 샘플 개수:\", dt_sample_anomalies.shape[0])\n",
    "print(\"일반 샘플 개수:\", dt_sample_normal.shape[0])\n"
   ]
  },
  {
   "cell_type": "code",
   "execution_count": 737,
   "metadata": {},
   "outputs": [
    {
     "name": "stdout",
     "output_type": "stream",
     "text": [
      "특이한 데이터 샘플 수: (5026, 24)\n",
      "재구성된 dt_train 크기: (1022686, 24)\n"
     ]
    }
   ],
   "source": [
    "print(\"특이한 데이터 샘플 수:\", dt_sample.shape)\n",
    "print(\"재구성된 dt_train 크기:\", dt_train.shape)"
   ]
  },
  {
   "cell_type": "code",
   "execution_count": 738,
   "metadata": {},
   "outputs": [
    {
     "data": {
      "text/plain": [
       "(Index(['번지', '아파트명', '계약년월', '계약일', '층', '건축년도', '도로명', '좌표X', '좌표Y', 'target',\n",
       "        '금리_단기1년전차이', 'nearest_subway_distance', 'nearest_bus_distance', '평수',\n",
       "        '동', '아파트ID', '아파트ID거리', '가까운공원ID', '공원갯수', '강남여부', '산책로밀도', '학교',\n",
       "        '공공기관', '계약년'],\n",
       "       dtype='object'),\n",
       " Index(['번지', '아파트명', '계약년월', '계약일', '층', '건축년도', '도로명', '좌표X', '좌표Y', 'target',\n",
       "        '금리_단기1년전차이', 'nearest_subway_distance', 'nearest_bus_distance', '평수',\n",
       "        '동', '아파트ID', '아파트ID거리', '가까운공원ID', '공원갯수', '강남여부', '산책로밀도', '학교',\n",
       "        '공공기관', '계약년'],\n",
       "       dtype='object'))"
      ]
     },
     "execution_count": 738,
     "metadata": {},
     "output_type": "execute_result"
    }
   ],
   "source": [
    "dt_sample.columns, dt_train.columns"
   ]
  },
  {
   "cell_type": "code",
   "execution_count": 739,
   "metadata": {},
   "outputs": [
    {
     "data": {
      "text/plain": [
       "((1022686, 24), (5026, 24))"
      ]
     },
     "execution_count": 739,
     "metadata": {},
     "output_type": "execute_result"
    }
   ],
   "source": [
    "dt_train.shape, dt_sample.shape"
   ]
  },
  {
   "cell_type": "code",
   "execution_count": 740,
   "metadata": {},
   "outputs": [
    {
     "data": {
      "text/plain": [
       "((0, 24), (0, 24))"
      ]
     },
     "execution_count": 740,
     "metadata": {},
     "output_type": "execute_result"
    }
   ],
   "source": [
    "dt_train[dt_train['아파트명'] == '래미안원베일리'].shape, dt_sample[dt_sample['아파트명'] == '래미안원베일리'].shape"
   ]
  },
  {
   "cell_type": "code",
   "execution_count": 741,
   "metadata": {},
   "outputs": [],
   "source": [
    "dt_train.drop(columns=['계약년'], inplace=True)\n",
    "dt_sample.drop(columns=['계약년'], inplace=True)\n",
    "dt_test.drop(columns=['계약년'], inplace=True)"
   ]
  },
  {
   "cell_type": "code",
   "execution_count": 799,
   "metadata": {},
   "outputs": [
    {
     "data": {
      "text/plain": [
       "((980075, 22), (42611, 22), (980075,), (42611,))"
      ]
     },
     "execution_count": 799,
     "metadata": {},
     "output_type": "execute_result"
    }
   ],
   "source": [
    "# Target과 독립변수 분리\n",
    "y = dt_train['target']\n",
    "X = dt_train.drop(['target'], axis=1)\n",
    "# Time Series Split 설정 (5개 분할)\n",
    "# 12\n",
    "tscv = TimeSeriesSplit(n_splits=23)\n",
    "# 마지막 분할을 사용하여 train/val 분리\n",
    "for train_idx, val_idx in tscv.split(X):\n",
    "    X_train, X_val = X.iloc[train_idx], X.iloc[val_idx]\n",
    "    y_train, y_val = y.iloc[train_idx], y.iloc[val_idx]\n",
    "\n",
    "X_train.shape, X_val.shape, y_train.shape, y_val.shape"
   ]
  },
  {
   "cell_type": "code",
   "execution_count": 800,
   "metadata": {},
   "outputs": [
    {
     "data": {
      "text/plain": [
       "번지                         0\n",
       "아파트명                       0\n",
       "계약년월                       0\n",
       "계약일                        0\n",
       "층                          0\n",
       "건축년도                       0\n",
       "도로명                        0\n",
       "좌표X                        0\n",
       "좌표Y                        0\n",
       "금리_단기1년전차이                 0\n",
       "nearest_subway_distance    0\n",
       "nearest_bus_distance       0\n",
       "평수                         0\n",
       "동                          0\n",
       "아파트ID                      0\n",
       "아파트ID거리                    0\n",
       "가까운공원ID                    0\n",
       "공원갯수                       0\n",
       "강남여부                       0\n",
       "산책로밀도                      0\n",
       "학교                         0\n",
       "공공기관                       0\n",
       "dtype: int64"
      ]
     },
     "execution_count": 800,
     "metadata": {},
     "output_type": "execute_result"
    }
   ],
   "source": [
    "X_train.isnull().sum()"
   ]
  },
  {
   "cell_type": "code",
   "execution_count": 801,
   "metadata": {},
   "outputs": [
    {
     "name": "stdout",
     "output_type": "stream",
     "text": [
      "RMSE test: 10830.038081332536\n"
     ]
    }
   ],
   "source": [
    "model = RandomForestRegressor(n_estimators=5, criterion='squared_error', random_state=1, n_jobs=-1)\n",
    "model.fit(X_train, y_train)\n",
    "pred = model.predict(X_val)\n",
    "print(f'RMSE test: {np.sqrt(metrics.mean_squared_error(y_val, pred))}')\n",
    "# RMSE test: 13750.323952543033\n",
    "# 19941.27864681778\n",
    "# 동 19341.93961662063\n",
    "# 구  19542.685488355273 \n",
    "# 가까운 공원 ID 18734.154030823986\n",
    "# 평수 12171.000942024768\n",
    "# nearest_subway_distance', 12319.594042140187\n",
    "# 'nearest_bus_distance', 11912.710887284435\n",
    "# '강남여부',11786.560930470752.\n",
    "# '경과연도',12739.31641401874\n",
    "# '아파트ID',12121.357929812462\n",
    "# '아파트ID거리',11998.069947955455\n",
    "# '학교', 11898.373976518556\n",
    "# '금리_단기1년전차이', 11612.924144775998\n",
    "# '1차역세권', 12007.109951717943\n",
    "# 산책로밀도 11978.509953687264\n",
    "# nearest_subway_distance 11744.709360642923\n",
    "# '공원갯수', 11763.436616422723\n",
    "# '공공기관', 11340.311757280839\n",
    "# 23 10000"
   ]
  },
  {
   "cell_type": "code",
   "execution_count": 802,
   "metadata": {},
   "outputs": [],
   "source": [
    "# Target과 독립변수들을 분리해줍니다.\n",
    "y_test_sample = dt_sample['target'] # 맞추어야 할 대상, 주택 가격\n",
    "X_test_sample = dt_sample.drop(['target'], axis=1) # 독립변수들, 번지, 면적,층,년도 등등.."
   ]
  },
  {
   "cell_type": "code",
   "execution_count": 803,
   "metadata": {},
   "outputs": [
    {
     "data": {
      "text/plain": [
       "((5026, 22), (5026,))"
      ]
     },
     "execution_count": 803,
     "metadata": {},
     "output_type": "execute_result"
    }
   ],
   "source": [
    "X_test_sample.shape, y_test_sample.shape"
   ]
  },
  {
   "cell_type": "code",
   "execution_count": 804,
   "metadata": {},
   "outputs": [
    {
     "name": "stdout",
     "output_type": "stream",
     "text": [
      "RMSE test: 11025.180117732067\n"
     ]
    }
   ],
   "source": [
    "pred_sample = model.predict(X_test_sample)\n",
    "print(f'RMSE test: {np.sqrt(metrics.mean_squared_error(y_test_sample, pred_sample))}')\n",
    "# RMSE test: 11844.032735556266\n",
    "# RMSE test: 23282.717687554745\n",
    "# 계약년 제거 23101.099572460094\n",
    "# 동 22807.721122453364\n",
    "# 구 24547.77163418365 x\n",
    "# 가까운 공원 ID 23005.010862630013\n",
    "# 평수 12603.994964329304\n",
    "# 'nearest_subway_distance',  12581.752540060683\n",
    "# 'nearest_bus_distance',12867.372825971848\n",
    "# '강남여부', 11749.575533739957\n",
    "# '경과연도',12669.667053641955\n",
    "# '아파트ID',12053.950786546386\n",
    "# 아파트 ID거리 11917.295566792649\n",
    "# '학교', 12822.325427612579\n",
    "# '금리_단기1년전차이', 12381.167296607522\n",
    "# '1차역세권', 11993.189591240709\n",
    "# '산책로밀도',11274.021778617485\n",
    "# 'nearest_subway_distance', 11493.459457644092\n",
    "# '공원갯수', 11993.200119665444 \n",
    "# 공공기관 11923.490651933871\n",
    "# 24 11025.180117732067"
   ]
  },
  {
   "cell_type": "code",
   "execution_count": 805,
   "metadata": {},
   "outputs": [
    {
     "data": {
      "image/png": "[encoded data removed]",
      "text/plain": [
       "<Figure size 1000x800 with 1 Axes>"
      ]
     },
     "metadata": {},
     "output_type": "display_data"
    }
   ],
   "source": [
    "# 위 feature importance를 시각화해봅니다.\n",
    "importances = pd.Series(model.feature_importances_, index=list(X_train.columns))\n",
    "importances = importances.sort_values(ascending=False)\n",
    "\n",
    "plt.figure(figsize=(10,8))\n",
    "plt.title(\"Feature Importances\")\n",
    "sns.barplot(x=importances, y=importances.index)\n",
    "plt.show()"
   ]
  },
  {
   "cell_type": "markdown",
   "metadata": {},
   "source": [
    "# 테스트셋"
   ]
  },
  {
   "cell_type": "code",
   "execution_count": 757,
   "metadata": {},
   "outputs": [],
   "source": [
    "X_test = dt_test.drop(['target'], axis=1)\n",
    "\n",
    "# Test dataset에 대한 inference를 진행합니다.\n",
    "real_test_pred = model.predict(X_test)"
   ]
  },
  {
   "cell_type": "code",
   "execution_count": 758,
   "metadata": {},
   "outputs": [],
   "source": [
    "# 앞서 예측한 예측값들을 저장합니다.\n",
    "preds_df = pd.DataFrame(real_test_pred.astype(int), columns=[\"target\"])\n",
    "preds_df.to_csv('테스트셋_copy.csv', index=False)"
   ]
  },
  {
   "cell_type": "code",
   "execution_count": null,
   "metadata": {},
   "outputs": [],
   "source": []
  },
  {
   "cell_type": "code",
   "execution_count": null,
   "metadata": {},
   "outputs": [],
   "source": []
  }
 ],
 "metadata": {
  "kernelspec": {
   "display_name": "house-test3.8",
   "language": "python",
   "name": "python3"
  },
  "language_info": {
   "codemirror_mode": {
    "name": "ipython",
    "version": 3
   },
   "file_extension": ".py",
   "mimetype": "text/x-python",
   "name": "python",
   "nbconvert_exporter": "python",
   "pygments_lexer": "ipython3",
   "version": "3.8.20"
  }
 },
 "nbformat": 4,
 "nbformat_minor": 2
}
