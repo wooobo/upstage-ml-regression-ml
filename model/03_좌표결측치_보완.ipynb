{
 "cells": [
  {
   "metadata": {
    "ExecuteTime": {
     "end_time": "2025-01-09T14:20:06.554160Z",
     "start_time": "2025-01-09T14:20:06.544999Z"
    }
   },
   "cell_type": "code",
   "source": [
    "# visualization\n",
    "import matplotlib.pyplot as plt\n",
    "import matplotlib.font_manager as fm\n",
    "\n",
    "from backup.module.preprocess import drop_columns\n",
    "\n",
    "fe = fm.FontEntry(\n",
    "    fname=r'/usr/share/fonts/truetype/nanum/NanumGothic.ttf', # ttf 파일이 저장되어 있는 경로\n",
    "    name='NanumBarunGothic')                        # 이 폰트의 원하는 이름 설정\n",
    "fm.fontManager.ttflist.insert(0, fe)              # Matplotlib에 폰트 추가\n",
    "plt.rcParams.update({'font.size': 10, 'font.family': 'AppleGothic'}) # 폰트 설정\n",
    "plt.rc('font', family='AppleGothic')\n",
    "import seaborn as sns\n",
    "\n",
    "# utils\n",
    "import pandas as pd\n",
    "import numpy as np\n",
    "from tqdm import tqdm\n",
    "import pickle\n",
    "import warnings;warnings.filterwarnings('ignore')\n",
    "\n",
    "# Model\n",
    "from sklearn.preprocessing import LabelEncoder\n",
    "from sklearn.model_selection import train_test_split\n",
    "from sklearn.metrics import mean_squared_error\n",
    "from sklearn.ensemble import RandomForestRegressor\n",
    "from sklearn import metrics\n",
    "\n",
    "import eli5\n",
    "from eli5.sklearn import PermutationImportance"
   ],
   "id": "c4f07c1ef46945d",
   "outputs": [],
   "execution_count": 25
  },
  {
   "metadata": {
    "ExecuteTime": {
     "end_time": "2025-01-09T14:20:06.567503Z",
     "start_time": "2025-01-09T14:20:06.565065Z"
    }
   },
   "cell_type": "code",
   "source": [
    "# sys.path를 수정하여 모듈 경로를 설정\n",
    "import sys\n",
    "import os\n",
    "import pandas as pd\n",
    "\n",
    "# 프로젝트 루트 경로 추가\n",
    "project_root = os.path.abspath(\"..\")\n",
    "sys.path.append(project_root)\n",
    "# 모든 컬럼 출력 설정\n",
    "# pd.set_option('display.max_columns', None)\n",
    "# 모든 행 출력 설정\n",
    "# pd.set_option('display.max_rows', None)\n",
    "\n",
    "import module"
   ],
   "id": "eb3e01a70c3324fa",
   "outputs": [],
   "execution_count": 26
  },
  {
   "metadata": {
    "ExecuteTime": {
     "end_time": "2025-01-09T14:21:35.767424Z",
     "start_time": "2025-01-09T14:21:22.167763Z"
    }
   },
   "cell_type": "code",
   "source": "df, df_test_y = module.file_load.load_current_version()",
   "id": "4f69e96e93e1e0e5",
   "outputs": [],
   "execution_count": 39
  },
  {
   "metadata": {
    "ExecuteTime": {
     "end_time": "2025-01-09T14:21:35.793141Z",
     "start_time": "2025-01-09T14:21:35.785443Z"
    }
   },
   "cell_type": "code",
   "source": "df.columns",
   "id": "4a26fbded17b6eab",
   "outputs": [
    {
     "data": {
      "text/plain": [
       "Index(['index', '시군구', '번지', '본번', '부번', '아파트명', '전용면적(㎡)', '계약년월', '계약일', '층',\n",
       "       '건축년도', '도로명', '해제사유발생일', '등기신청일자', '거래유형', '중개사소재지',\n",
       "       'k-단지분류(아파트,주상복합등등)', 'k-전화번호', 'k-팩스번호', '단지소개기존clob', 'k-세대타입(분양형태)',\n",
       "       'k-관리방식', 'k-복도유형', 'k-난방방식', 'k-전체동수', 'k-전체세대수', 'k-건설사(시공사)',\n",
       "       'k-시행사', 'k-사용검사일-사용승인일', 'k-연면적', 'k-주거전용면적', 'k-관리비부과면적',\n",
       "       'k-전용면적별세대현황(60㎡이하)', 'k-전용면적별세대현황(60㎡~85㎡이하)', 'k-85㎡~135㎡이하',\n",
       "       'k-135㎡초과', 'k-홈페이지', 'k-등록일자', 'k-수정일자', '고용보험관리번호', '경비비관리형태',\n",
       "       '세대전기계약방법', '청소비관리형태', '건축면적', '주차대수', '기타/의무/임대/임의=1/2/3/4', '단지승인일',\n",
       "       '사용허가여부', '관리비 업로드', '좌표X', '좌표Y', '단지신청일', 'target', '금리_단기1년전차이',\n",
       "       'nearest_subway_distance', 'nearest_bus_distance', '1차역세권', '2차역세권',\n",
       "       '1차버스정류장', '경과연도', '경과구분', '평수', '층_그룹', '평수_그룹', '시', '구', '동',\n",
       "       '아파트ID', '아파트ID거리', 'nearest_park_distance', '가까운공원이름', '가까운공원ID',\n",
       "       '공원갯수', '공원총면적', '공원생활권점수', '산책로갯수', '산책로총길이', '산책생활권점수', '생태문화길갯수',\n",
       "       '생태문화길총길이', '생태문화생활권점수', '한강지천길갯수', '한강지천길총길이', '한강지천생활권점수', '숲세권종합점수',\n",
       "       '숲세권등급', '한강거리', '지가지수', '아파트전세_전기대비증감률', '실업률', '민간소비', '소비자심리지수',\n",
       "       '경제심리지수', '여수신 금리차', 'is_test'],\n",
       "      dtype='object')"
      ]
     },
     "execution_count": 40,
     "metadata": {},
     "output_type": "execute_result"
    }
   ],
   "execution_count": 40
  },
  {
   "metadata": {
    "ExecuteTime": {
     "end_time": "2025-01-09T14:21:36.465799Z",
     "start_time": "2025-01-09T14:21:36.459632Z"
    }
   },
   "cell_type": "code",
   "source": "df['is_test'].value_counts()      # train과 test data가 하나로 합쳐진 것을 확인할 수 있습니다.",
   "id": "1cac72146f407cb",
   "outputs": [
    {
     "data": {
      "text/plain": [
       "is_test\n",
       "0    1097155\n",
       "1       5607\n",
       "Name: count, dtype: int64"
      ]
     },
     "execution_count": 41,
     "metadata": {},
     "output_type": "execute_result"
    }
   ],
   "execution_count": 41
  },
  {
   "metadata": {
    "ExecuteTime": {
     "end_time": "2025-01-09T14:24:31.916459Z",
     "start_time": "2025-01-09T14:24:31.910131Z"
    }
   },
   "cell_type": "code",
   "source": [
    "# 결측치가 많거나 필요 없는 컬럼을 정리한다\n",
    "drop_columns = [\n",
    "    'index', '시군구',  '본번', '부번',\n",
    "      '해제사유발생일', '등기신청일자', '거래유형', '중개사소재지',\n",
    "       'k-단지분류(아파트,주상복합등등)', 'k-전화번호', 'k-팩스번호', '단지소개기존clob', 'k-세대타입(분양형태)',\n",
    "       'k-관리방식', 'k-복도유형', 'k-난방방식', 'k-전체동수', 'k-전체세대수', 'k-건설사(시공사)',\n",
    "       'k-시행사', 'k-사용검사일-사용승인일', 'k-연면적', 'k-주거전용면적', 'k-관리비부과면적',\n",
    "       'k-전용면적별세대현황(60㎡이하)', 'k-전용면적별세대현황(60㎡~85㎡이하)', 'k-85㎡~135㎡이하',\n",
    "       'k-135㎡초과', 'k-홈페이지', 'k-등록일자', 'k-수정일자', '고용보험관리번호', '경비비관리형태',\n",
    "       '세대전기계약방법', '청소비관리형태', '건축면적', '주차대수', '기타/의무/임대/임의=1/2/3/4', '단지승인일',\n",
    "       '사용허가여부', '관리비 업로드','단지신청일', '금리_단기1년전차이',\n",
    "       'nearest_subway_distance', 'nearest_bus_distance', '1차역세권', '2차역세권',\n",
    "       '1차버스정류장', '경과연도', '경과구분', '평수', '층_그룹', '평수_그룹', '시',\n",
    "       '아파트ID', '아파트ID거리', 'nearest_park_distance', '가까운공원이름', '가까운공원ID',\n",
    "       '공원갯수', '공원총면적', '공원생활권점수', '산책로갯수', '산책로총길이', '산책생활권점수', '생태문화길갯수',\n",
    "       '생태문화길총길이', '생태문화생활권점수', '한강지천길갯수', '한강지천길총길이', '한강지천생활권점수', '숲세권종합점수',\n",
    "       '숲세권등급', '한강거리', '지가지수', '아파트전세_전기대비증감률', '실업률', '민간소비', '소비자심리지수',\n",
    "       '경제심리지수', '여수신 금리차','계약일',\n",
    "                            \n",
    "    #                         \n",
    "    # '본번','부번','거래유형', '중개사소재지','등기신청일자',\n",
    "    #    '해제사유발생일', 'k-단지분류(아파트,주상복합등등)',\n",
    "    #    'k-전화번호', 'k-팩스번호', '단지소개기존clob', 'k-세대타입(분양형태)', 'k-관리방식', 'k-복도유형',\n",
    "    #    'k-난방방식', 'k-전체동수', 'k-전체세대수', 'k-건설사(시공사)', 'k-시행사', 'k-사용검사일-사용승인일',\n",
    "    #    'k-연면적', 'k-주거전용면적', 'k-관리비부과면적', 'k-전용면적별세대현황(60㎡이하)',\n",
    "    #    'k-전용면적별세대현황(60㎡~85㎡이하)', 'k-85㎡~135㎡이하', 'k-135㎡초과', 'k-홈페이지',\n",
    "    #    'k-등록일자', 'k-수정일자', '고용보험관리번호', '경비비관리형태', '세대전기계약방법', '청소비관리형태',\n",
    "    #    '건축면적', '주차대수', '기타/의무/임대/임의=1/2/3/4', '단지승인일', '사용허가여부', '관리비 업로드',\n",
    "    #    '단지신청일'\n",
    "]"
   ],
   "id": "687643b502b9a749",
   "outputs": [],
   "execution_count": 66
  },
  {
   "metadata": {},
   "cell_type": "markdown",
   "source": "# 전처리",
   "id": "cec4cd9593ec6f4e"
  },
  {
   "metadata": {
    "ExecuteTime": {
     "end_time": "2025-01-09T14:24:33.761121Z",
     "start_time": "2025-01-09T14:24:33.543918Z"
    }
   },
   "cell_type": "code",
   "source": [
    "module.preprocess.컬럼_정리(df)\n",
    "df_select = module.preprocess.drop_columns(df, drop_columns)\n",
    "module.preprocess.번지_본번_부번_결측채우기(df_select)"
   ],
   "id": "524d33e39dc09754",
   "outputs": [],
   "execution_count": 67
  },
  {
   "metadata": {
    "ExecuteTime": {
     "end_time": "2025-01-09T14:24:34.516555Z",
     "start_time": "2025-01-09T14:24:34.512055Z"
    }
   },
   "cell_type": "code",
   "source": "df_select.columns",
   "id": "35d305492b09b250",
   "outputs": [
    {
     "data": {
      "text/plain": [
       "Index(['번지', '아파트명', '전용면적', '계약년월', '층', '건축년도', '도로명', '좌표X', '좌표Y',\n",
       "       'target', '구', '동', 'is_test'],\n",
       "      dtype='object')"
      ]
     },
     "execution_count": 68,
     "metadata": {},
     "output_type": "execute_result"
    }
   ],
   "execution_count": 68
  },
  {
   "metadata": {
    "ExecuteTime": {
     "end_time": "2025-01-09T14:24:35.535077Z",
     "start_time": "2025-01-09T14:24:35.401978Z"
    }
   },
   "cell_type": "code",
   "source": "df_select.isnull().sum()",
   "id": "41bd101a8af0a737",
   "outputs": [
    {
     "data": {
      "text/plain": [
       "번지            0\n",
       "아파트명          0\n",
       "전용면적          0\n",
       "계약년월          0\n",
       "층             0\n",
       "건축년도          0\n",
       "도로명           0\n",
       "좌표X           0\n",
       "좌표Y           0\n",
       "target     5607\n",
       "구             0\n",
       "동             0\n",
       "is_test       0\n",
       "dtype: int64"
      ]
     },
     "execution_count": 69,
     "metadata": {},
     "output_type": "execute_result"
    }
   ],
   "execution_count": 69
  },
  {
   "metadata": {},
   "cell_type": "markdown",
   "source": "# 파생변수",
   "id": "ea39a5cbe8ef7f6e"
  },
  {
   "metadata": {
    "ExecuteTime": {
     "end_time": "2025-01-09T14:24:37.378903Z",
     "start_time": "2025-01-09T14:24:37.153831Z"
    }
   },
   "cell_type": "code",
   "source": [
    "module.preprocess.강남_add(df_select)\n",
    "module.preprocess.신축_add(df_select)\n",
    "# module.preprocess.계약_건축년도_차이(df_select)"
   ],
   "id": "99b78aee4f5151d2",
   "outputs": [],
   "execution_count": 70
  },
  {
   "metadata": {
    "ExecuteTime": {
     "end_time": "2025-01-09T14:24:37.454586Z",
     "start_time": "2025-01-09T14:24:37.384147Z"
    }
   },
   "cell_type": "code",
   "source": [
    "final_drop_columns = []\n",
    "df_select.drop(final_drop_columns, axis=1, inplace=True)"
   ],
   "id": "3d531f5c7df9fef8",
   "outputs": [],
   "execution_count": 71
  },
  {
   "metadata": {},
   "cell_type": "markdown",
   "source": "# Model Training",
   "id": "1df752cfb07be26"
  },
  {
   "metadata": {},
   "cell_type": "markdown",
   "source": "## 범주형 변수 Encoding",
   "id": "3afbdcde8557e5fa"
  },
  {
   "metadata": {
    "ExecuteTime": {
     "end_time": "2025-01-09T14:24:38.266698Z",
     "start_time": "2025-01-09T14:24:38.143066Z"
    }
   },
   "cell_type": "code",
   "source": "model_data = df_select.copy()",
   "id": "a4befac26e6522db",
   "outputs": [],
   "execution_count": 72
  },
  {
   "metadata": {
    "ExecuteTime": {
     "end_time": "2025-01-09T14:24:38.285625Z",
     "start_time": "2025-01-09T14:24:38.281733Z"
    }
   },
   "cell_type": "code",
   "source": "model_data.columns",
   "id": "6e838abae3784377",
   "outputs": [
    {
     "data": {
      "text/plain": [
       "Index(['번지', '아파트명', '전용면적', '계약년월', '층', '건축년도', '도로명', '좌표X', '좌표Y',\n",
       "       'target', '구', '동', 'is_test', '강남여부'],\n",
       "      dtype='object')"
      ]
     },
     "execution_count": 73,
     "metadata": {},
     "output_type": "execute_result"
    }
   ],
   "execution_count": 73
  },
  {
   "metadata": {
    "ExecuteTime": {
     "end_time": "2025-01-09T14:24:39.911259Z",
     "start_time": "2025-01-09T14:24:38.820064Z"
    }
   },
   "cell_type": "code",
   "source": [
    "dt_train, dt_test = module.preprocess.split_train_test(model_data)\n",
    "categorical_columns_v2 = module.preprocess.범주형_filter(dt_train)\n",
    "label_encoders = module.preprocess.범주형_encoding(dt_train, dt_test, categorical_columns_v2)\n",
    "print(dt_train.shape, dt_test.shape)"
   ],
   "id": "ae3ef63768ad6c39",
   "outputs": [
    {
     "name": "stderr",
     "output_type": "stream",
     "text": [
      "100%|██████████| 5/5 [00:00<00:00,  5.27it/s]"
     ]
    },
    {
     "name": "stdout",
     "output_type": "stream",
     "text": [
      "(1097155, 13) (5607, 13)\n"
     ]
    },
    {
     "name": "stderr",
     "output_type": "stream",
     "text": [
      "\n"
     ]
    }
   ],
   "execution_count": 74
  },
  {
   "metadata": {},
   "cell_type": "markdown",
   "source": "## Model Training\n",
   "id": "6965824bbc4a624c"
  },
  {
   "metadata": {},
   "cell_type": "markdown",
   "source": "# 훈련데이터 분할",
   "id": "fb9319e479302a9b"
  },
  {
   "metadata": {
    "ExecuteTime": {
     "end_time": "2025-01-09T14:24:40.051367Z",
     "start_time": "2025-01-09T14:24:39.926099Z"
    }
   },
   "cell_type": "code",
   "source": "X_train, X_val, y_train, y_val = module.preprocess.holdout_split_X_y(dt_train)",
   "id": "1f81a7fa9d42bb22",
   "outputs": [],
   "execution_count": 75
  },
  {
   "metadata": {
    "ExecuteTime": {
     "end_time": "2025-01-09T14:24:40.210796Z",
     "start_time": "2025-01-09T14:24:40.205567Z"
    }
   },
   "cell_type": "code",
   "source": "X_train.shape, X_val.shape, y_train.shape, y_val.shape",
   "id": "79b6c1256eb120ac",
   "outputs": [
    {
     "data": {
      "text/plain": [
       "((877724, 12), (219431, 12), (877724,), (219431,))"
      ]
     },
     "execution_count": 76,
     "metadata": {},
     "output_type": "execute_result"
    }
   ],
   "execution_count": 76
  },
  {
   "metadata": {
    "ExecuteTime": {
     "end_time": "2025-01-09T14:24:40.383842Z",
     "start_time": "2025-01-09T14:24:40.372159Z"
    }
   },
   "cell_type": "code",
   "source": "X_train.head(1)",
   "id": "6116e7b8ceb3dc07",
   "outputs": [
    {
     "data": {
      "text/plain": [
       "          번지  아파트명   전용면적    계약년월   층  건축년도   도로명         좌표X        좌표Y   구  \\\n",
       "586784  1444  3131  79.47  201605  11  1988  4922  127.015602  37.498732  14   \n",
       "\n",
       "          동  강남여부  \n",
       "586784  151     1  "
      ],
      "text/html": [
       "<div>\n",
       "<style scoped>\n",
       "    .dataframe tbody tr th:only-of-type {\n",
       "        vertical-align: middle;\n",
       "    }\n",
       "\n",
       "    .dataframe tbody tr th {\n",
       "        vertical-align: top;\n",
       "    }\n",
       "\n",
       "    .dataframe thead th {\n",
       "        text-align: right;\n",
       "    }\n",
       "</style>\n",
       "<table border=\"1\" class=\"dataframe\">\n",
       "  <thead>\n",
       "    <tr style=\"text-align: right;\">\n",
       "      <th></th>\n",
       "      <th>번지</th>\n",
       "      <th>아파트명</th>\n",
       "      <th>전용면적</th>\n",
       "      <th>계약년월</th>\n",
       "      <th>층</th>\n",
       "      <th>건축년도</th>\n",
       "      <th>도로명</th>\n",
       "      <th>좌표X</th>\n",
       "      <th>좌표Y</th>\n",
       "      <th>구</th>\n",
       "      <th>동</th>\n",
       "      <th>강남여부</th>\n",
       "    </tr>\n",
       "  </thead>\n",
       "  <tbody>\n",
       "    <tr>\n",
       "      <th>586784</th>\n",
       "      <td>1444</td>\n",
       "      <td>3131</td>\n",
       "      <td>79.47</td>\n",
       "      <td>201605</td>\n",
       "      <td>11</td>\n",
       "      <td>1988</td>\n",
       "      <td>4922</td>\n",
       "      <td>127.015602</td>\n",
       "      <td>37.498732</td>\n",
       "      <td>14</td>\n",
       "      <td>151</td>\n",
       "      <td>1</td>\n",
       "    </tr>\n",
       "  </tbody>\n",
       "</table>\n",
       "</div>"
      ]
     },
     "execution_count": 77,
     "metadata": {},
     "output_type": "execute_result"
    }
   ],
   "execution_count": 77
  },
  {
   "metadata": {
    "ExecuteTime": {
     "end_time": "2025-01-09T14:24:46.351654Z",
     "start_time": "2025-01-09T14:24:40.593183Z"
    }
   },
   "cell_type": "code",
   "source": [
    "# RandomForestRegressor 를 이용해 회귀 모델을 적합시키겠습니다.\n",
    "model = RandomForestRegressor(n_estimators=5, criterion='squared_error', random_state=1, n_jobs=-1)\n",
    "model.fit(X_train, y_train)\n",
    "pred = model.predict(X_val)"
   ],
   "id": "62b2872ffe93c4f3",
   "outputs": [],
   "execution_count": 78
  },
  {
   "metadata": {
    "ExecuteTime": {
     "end_time": "2025-01-09T14:24:46.375698Z",
     "start_time": "2025-01-09T14:24:46.372476Z"
    }
   },
   "cell_type": "code",
   "source": "print(f'RMSE test: {np.sqrt(metrics.mean_squared_error(y_val, pred))}')",
   "id": "352d041885332758",
   "outputs": [
    {
     "name": "stdout",
     "output_type": "stream",
     "text": [
      "RMSE test: 6741.275848223425\n"
     ]
    }
   ],
   "execution_count": 79
  },
  {
   "metadata": {
    "ExecuteTime": {
     "end_time": "2025-01-09T14:24:46.460510Z",
     "start_time": "2025-01-09T14:24:46.440922Z"
    }
   },
   "cell_type": "code",
   "source": [
    "X_test = dt_test.drop(['target'], axis=1)\n",
    "\n",
    "real_test_pred = model.predict(X_test)\n",
    "print(f'RMSE test: {np.sqrt(metrics.mean_squared_error(df_test_y, real_test_pred))}')"
   ],
   "id": "c058038429b80b58",
   "outputs": [
    {
     "name": "stdout",
     "output_type": "stream",
     "text": [
      "RMSE test: 29340.046436182532\n"
     ]
    }
   ],
   "execution_count": 80
  },
  {
   "metadata": {
    "ExecuteTime": {
     "end_time": "2025-01-09T14:24:46.608104Z",
     "start_time": "2025-01-09T14:24:46.606291Z"
    }
   },
   "cell_type": "code",
   "source": [
    "# Squared_error를 계산하는 함수를 정의하겠습니다.\n",
    "def calculate_se(target, pred):\n",
    "    squared_errors = (target - pred) ** 2\n",
    "    return squared_errors"
   ],
   "id": "cba55395adae6179",
   "outputs": [],
   "execution_count": 81
  },
  {
   "metadata": {
    "ExecuteTime": {
     "end_time": "2025-01-09T14:24:46.832146Z",
     "start_time": "2025-01-09T14:24:46.827613Z"
    }
   },
   "cell_type": "code",
   "source": [
    "X_val = X_test\n",
    "X_val['target'] = df_test_y\n",
    "X_val['pred'] = real_test_pred\n",
    "X_val['예측차이'] = X_val['target'] - X_val['pred']\n",
    "# RMSE 계산\n",
    "squared_errors = calculate_se(X_val['target'], X_val['pred'])\n",
    "X_val['error'] = squared_errors\n",
    "# Error가 큰 순서대로 sorting 해 보겠습니다.\n",
    "X_val_sort = X_val.sort_values(by='error', ascending=False)       # 내림차순 sorting"
   ],
   "id": "efccbc2a620ab136",
   "outputs": [],
   "execution_count": 82
  },
  {
   "metadata": {
    "ExecuteTime": {
     "end_time": "2025-01-09T14:24:46.839670Z",
     "start_time": "2025-01-09T14:24:46.835748Z"
    }
   },
   "cell_type": "code",
   "source": [
    "X_val_sort_top100 = X_val.sort_values(by='error', ascending=False).head(100)        # 예측을 잘 하지못한 top 100개의 data\n",
    "X_val_sort_tail100 = X_val.sort_values(by='error', ascending=False).tail(100)       # 예측을 잘한 top 100개의 data"
   ],
   "id": "2cc078c44d187234",
   "outputs": [],
   "execution_count": 83
  },
  {
   "metadata": {
    "ExecuteTime": {
     "end_time": "2025-01-09T14:24:46.950786Z",
     "start_time": "2025-01-09T14:24:46.945219Z"
    }
   },
   "cell_type": "code",
   "source": [
    "# 해석을 위해 레이블인코딩 된 변수를 복원해줍니다.\n",
    "error_top100 = X_val_sort_top100.copy()\n",
    "for column in categorical_columns_v2 :     # 앞서 레이블 인코딩에서 정의했던 categorical_columns_v2 범주형 변수 리스트를 사용합니다.\n",
    "    error_top100[column] = label_encoders[column].inverse_transform(X_val_sort_top100[column])\n",
    "\n",
    "best_top100 = X_val_sort_tail100.copy()\n",
    "for column in categorical_columns_v2 :     # 앞서 레이블 인코딩에서 정의했던 categorical_columns_v2 범주형 변수 리스트를 사용합니다.\n",
    "    best_top100[column] = label_encoders[column].inverse_transform(X_val_sort_tail100[column])"
   ],
   "id": "b9490c2ca426939",
   "outputs": [],
   "execution_count": 84
  },
  {
   "metadata": {
    "ExecuteTime": {
     "end_time": "2025-01-09T14:24:47.055484Z",
     "start_time": "2025-01-09T14:24:47.054066Z"
    }
   },
   "cell_type": "code",
   "source": [
    "# X_val_sort_top100.to_csv('top100_top_전용면적안함.csv', index=False)\n",
    "# X_val_sort_tail100.to_csv('tail100_error_전용면적안함.csv', index=False)"
   ],
   "id": "b4885d95b0c347d3",
   "outputs": [],
   "execution_count": 85
  },
  {
   "metadata": {
    "ExecuteTime": {
     "end_time": "2025-01-09T14:24:47.282089Z",
     "start_time": "2025-01-09T14:24:47.162243Z"
    }
   },
   "cell_type": "code",
   "source": [
    "# 위 feature importance를 시각화해봅니다.\n",
    "importances = pd.Series(model.feature_importances_, index=list(X_train.columns))\n",
    "importances = importances.sort_values(ascending=False)\n",
    "\n",
    "plt.figure(figsize=(10,8))\n",
    "plt.title(\"Feature Importances\")\n",
    "sns.barplot(x=importances, y=importances.index)\n",
    "plt.show()"
   ],
   "id": "fb730abec283f2de",
   "outputs": [
    {
     "data": {
      "text/plain": [
       "<Figure size 1000x800 with 1 Axes>"
      ],
      "image/png": "[encoded data removed]"
     },
     "metadata": {},
     "output_type": "display_data"
    }
   ],
   "execution_count": 86
  },
  {
   "metadata": {
    "ExecuteTime": {
     "end_time": "2025-01-09T14:24:47.396014Z",
     "start_time": "2025-01-09T14:24:47.394620Z"
    }
   },
   "cell_type": "code",
   "source": "",
   "id": "6ba7094759c91051",
   "outputs": [],
   "execution_count": null
  },
  {
   "metadata": {
    "ExecuteTime": {
     "end_time": "2025-01-09T14:20:23.610021Z",
     "start_time": "2025-01-09T14:15:45.746492Z"
    }
   },
   "cell_type": "code",
   "source": "",
   "id": "3808b641bf23ef60",
   "outputs": [],
   "execution_count": null
  },
  {
   "metadata": {
    "ExecuteTime": {
     "end_time": "2025-01-09T14:20:23.610088Z",
     "start_time": "2025-01-09T14:15:46.088859Z"
    }
   },
   "cell_type": "code",
   "source": "",
   "id": "dfbdf5b5baf4182",
   "outputs": [],
   "execution_count": null
  },
  {
   "metadata": {
    "ExecuteTime": {
     "end_time": "2025-01-09T14:20:23.610152Z",
     "start_time": "2025-01-09T14:15:46.441828Z"
    }
   },
   "cell_type": "code",
   "source": "",
   "id": "27810597086e6ece",
   "outputs": [],
   "execution_count": null
  },
  {
   "metadata": {
    "ExecuteTime": {
     "end_time": "2025-01-09T14:20:23.610212Z",
     "start_time": "2025-01-09T14:15:46.780610Z"
    }
   },
   "cell_type": "code",
   "source": "",
   "id": "e4430a77242caa24",
   "outputs": [],
   "execution_count": null
  }
 ],
 "metadata": {
  "kernelspec": {
   "display_name": "Python 3",
   "language": "python",
   "name": "python3"
  },
  "language_info": {
   "codemirror_mode": {
    "name": "ipython",
    "version": 2
   },
   "file_extension": ".py",
   "mimetype": "text/x-python",
   "name": "python",
   "nbconvert_exporter": "python",
   "pygments_lexer": "ipython2",
   "version": "2.7.6"
  }
 },
 "nbformat": 4,
 "nbformat_minor": 5
}
