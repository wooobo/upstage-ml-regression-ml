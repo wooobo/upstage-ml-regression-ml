{
 "cells": [
  {
   "metadata": {},
   "cell_type": "markdown",
   "source": "",
   "id": "17dde6c81c0d579c"
  },
  {
   "metadata": {},
   "cell_type": "markdown",
   "source": "지하철 추가\n",
   "id": "289a10be6f164df3"
  },
  {
   "metadata": {
    "ExecuteTime": {
     "end_time": "2025-01-10T07:06:34.276783Z",
     "start_time": "2025-01-10T07:06:34.262116Z"
    }
   },
   "cell_type": "code",
   "source": [
    "# visualization\n",
    "import matplotlib.pyplot as plt\n",
    "import matplotlib.font_manager as fm\n",
    "\n",
    "from backup.module.preprocess import drop_columns\n",
    "\n",
    "fe = fm.FontEntry(\n",
    "    fname=r'/usr/share/fonts/truetype/nanum/NanumGothic.ttf', # ttf 파일이 저장되어 있는 경로\n",
    "    name='NanumBarunGothic')                        # 이 폰트의 원하는 이름 설정\n",
    "fm.fontManager.ttflist.insert(0, fe)              # Matplotlib에 폰트 추가\n",
    "plt.rcParams.update({'font.size': 10, 'font.family': 'AppleGothic'}) # 폰트 설정\n",
    "plt.rc('font', family='AppleGothic')\n",
    "import seaborn as sns\n",
    "\n",
    "# utils\n",
    "import pandas as pd\n",
    "import numpy as np\n",
    "from tqdm import tqdm\n",
    "import pickle\n",
    "import warnings;warnings.filterwarnings('ignore')\n",
    "\n",
    "# Model\n",
    "from sklearn.preprocessing import LabelEncoder\n",
    "from sklearn.model_selection import train_test_split\n",
    "from sklearn.metrics import mean_squared_error\n",
    "from sklearn.ensemble import RandomForestRegressor\n",
    "from sklearn import metrics\n",
    "\n",
    "import eli5\n",
    "from eli5.sklearn import PermutationImportance"
   ],
   "id": "c4f07c1ef46945d",
   "outputs": [],
   "execution_count": 107
  },
  {
   "metadata": {
    "ExecuteTime": {
     "end_time": "2025-01-10T07:06:34.824651Z",
     "start_time": "2025-01-10T07:06:34.822045Z"
    }
   },
   "cell_type": "code",
   "source": [
    "# sys.path를 수정하여 모듈 경로를 설정\n",
    "import sys\n",
    "import os\n",
    "import pandas as pd\n",
    "\n",
    "# 프로젝트 루트 경로 추가\n",
    "project_root = os.path.abspath(\"..\")\n",
    "sys.path.append(project_root)\n",
    "# 모든 컬럼 출력 설정\n",
    "# pd.set_option('display.max_columns', None)\n",
    "# 모든 행 출력 설정\n",
    "# pd.set_option('display.max_rows', None)\n",
    "\n",
    "import module"
   ],
   "id": "eb3e01a70c3324fa",
   "outputs": [],
   "execution_count": 108
  },
  {
   "metadata": {
    "ExecuteTime": {
     "end_time": "2025-01-10T07:06:52.172877Z",
     "start_time": "2025-01-10T07:06:34.829998Z"
    }
   },
   "cell_type": "code",
   "source": "df, df_test_y = module.file_load.load_current_version()",
   "id": "4f69e96e93e1e0e5",
   "outputs": [],
   "execution_count": 109
  },
  {
   "metadata": {
    "ExecuteTime": {
     "end_time": "2025-01-10T07:06:52.339962Z",
     "start_time": "2025-01-10T07:06:52.333191Z"
    }
   },
   "cell_type": "code",
   "source": "df['is_test'].value_counts()      # train과 test data가 하나로 합쳐진 것을 확인할 수 있습니다.",
   "id": "1cac72146f407cb",
   "outputs": [
    {
     "data": {
      "text/plain": [
       "is_test\n",
       "0    1097155\n",
       "1       5607\n",
       "Name: count, dtype: int64"
      ]
     },
     "execution_count": 110,
     "metadata": {},
     "output_type": "execute_result"
    }
   ],
   "execution_count": 110
  },
  {
   "metadata": {},
   "cell_type": "code",
   "outputs": [],
   "execution_count": null,
   "source": [
    "module.preprocess.아파트_unique_key_add(df)\n",
    "df = module.preprocess.단지정보_add(df)\n",
    "\n",
    "df.columns"
   ],
   "id": "64324c17bb9b4f73"
  },
  {
   "metadata": {
    "ExecuteTime": {
     "end_time": "2025-01-10T07:06:52.504166Z",
     "start_time": "2025-01-10T07:06:52.500777Z"
    }
   },
   "cell_type": "code",
   "source": "df.columns",
   "id": "270ff13665d05154",
   "outputs": [
    {
     "data": {
      "text/plain": [
       "Index(['index', '시군구', '번지', '본번', '부번', '아파트명', '전용면적(㎡)', '계약년월', '계약일', '층',\n",
       "       '건축년도', '도로명', '해제사유발생일', '등기신청일자', '거래유형', '중개사소재지',\n",
       "       'k-단지분류(아파트,주상복합등등)', 'k-전화번호', 'k-팩스번호', '단지소개기존clob', 'k-세대타입(분양형태)',\n",
       "       'k-관리방식', 'k-복도유형', 'k-난방방식', 'k-전체동수', 'k-전체세대수', 'k-건설사(시공사)',\n",
       "       'k-시행사', 'k-사용검사일-사용승인일', 'k-연면적', 'k-주거전용면적', 'k-관리비부과면적',\n",
       "       'k-전용면적별세대현황(60㎡이하)', 'k-전용면적별세대현황(60㎡~85㎡이하)', 'k-85㎡~135㎡이하',\n",
       "       'k-135㎡초과', 'k-홈페이지', 'k-등록일자', 'k-수정일자', '고용보험관리번호', '경비비관리형태',\n",
       "       '세대전기계약방법', '청소비관리형태', '건축면적', '주차대수', '기타/의무/임대/임의=1/2/3/4', '단지승인일',\n",
       "       '사용허가여부', '관리비 업로드', '좌표X', '좌표Y', '단지신청일', 'target', '금리_단기1년전차이',\n",
       "       'nearest_subway_distance', 'nearest_bus_distance', '1차역세권', '2차역세권',\n",
       "       '1차버스정류장', '경과연도', '경과구분', '평수', '층_그룹', '평수_그룹', '시', '구', '동',\n",
       "       '아파트ID', '아파트ID거리', 'nearest_park_distance', '가까운공원이름', '가까운공원ID',\n",
       "       '공원갯수', '공원총면적', '공원생활권점수', '산책로갯수', '산책로총길이', '산책생활권점수', '생태문화길갯수',\n",
       "       '생태문화길총길이', '생태문화생활권점수', '한강지천길갯수', '한강지천길총길이', '한강지천생활권점수', '숲세권종합점수',\n",
       "       '숲세권등급', '한강거리', '지가지수', '아파트전세_전기대비증감률', '실업률', '민간소비', '소비자심리지수',\n",
       "       '경제심리지수', '여수신 금리차', 'is_test'],\n",
       "      dtype='object')"
      ]
     },
     "execution_count": 111,
     "metadata": {},
     "output_type": "execute_result"
    }
   ],
   "execution_count": 111
  },
  {
   "metadata": {
    "ExecuteTime": {
     "end_time": "2025-01-10T07:06:52.596322Z",
     "start_time": "2025-01-10T07:06:52.592831Z"
    }
   },
   "cell_type": "code",
   "source": [
    "# 결측치가 많거나 필요 없는 컬럼을 정리한다\n",
    "drop_columns = [\n",
    "    'index', '시군구',  '본번', '부번', \n",
    "      '해제사유발생일', '등기신청일자', '거래유형', '중개사소재지',\n",
    "       'k-단지분류(아파트,주상복합등등)', 'k-전화번호', 'k-팩스번호', '단지소개기존clob', 'k-세대타입(분양형태)',\n",
    "       'k-관리방식', 'k-복도유형', 'k-난방방식', 'k-전체동수', 'k-전체세대수', 'k-건설사(시공사)',\n",
    "       'k-시행사', 'k-사용검사일-사용승인일', 'k-연면적', 'k-주거전용면적', 'k-관리비부과면적',\n",
    "       'k-전용면적별세대현황(60㎡이하)', 'k-전용면적별세대현황(60㎡~85㎡이하)', 'k-85㎡~135㎡이하',\n",
    "       'k-135㎡초과', 'k-홈페이지', 'k-등록일자', 'k-수정일자', '고용보험관리번호', '경비비관리형태',\n",
    "       '세대전기계약방법', '청소비관리형태', '건축면적', '주차대수', '기타/의무/임대/임의=1/2/3/4', '단지승인일',\n",
    "       '사용허가여부', '관리비 업로드','단지신청일', '금리_단기1년전차이',\n",
    "       'nearest_subway_distance', 'nearest_bus_distance', '1차역세권', '2차역세권',\n",
    "       '1차버스정류장', '경과연도', '경과구분',  '층_그룹', '평수_그룹', '시',\n",
    "       '아파트ID', '아파트ID거리', 'nearest_park_distance', '가까운공원이름', \n",
    "       '공원갯수', '공원총면적', '공원생활권점수', '산책로갯수', '산책로총길이', '산책생활권점수', '생태문화길갯수',\n",
    "       '생태문화길총길이', '생태문화생활권점수', '한강지천길갯수', '한강지천길총길이', '한강지천생활권점수', '숲세권종합점수',\n",
    "       '숲세권등급', '한강거리', '지가지수', '아파트전세_전기대비증감률', '실업률', '민간소비', '소비자심리지수',\n",
    "       '경제심리지수', '여수신 금리차','계약일','전용면적(㎡)',\n",
    "]"
   ],
   "id": "687643b502b9a749",
   "outputs": [],
   "execution_count": 112
  },
  {
   "metadata": {},
   "cell_type": "markdown",
   "source": "# 전처리",
   "id": "cec4cd9593ec6f4e"
  },
  {
   "metadata": {
    "ExecuteTime": {
     "end_time": "2025-01-10T07:06:52.845104Z",
     "start_time": "2025-01-10T07:06:52.676901Z"
    }
   },
   "cell_type": "code",
   "source": [
    "# module.preprocess.컬럼_정리(df)\n",
    "df_select = module.preprocess.drop_columns(df, drop_columns)\n"
   ],
   "id": "524d33e39dc09754",
   "outputs": [],
   "execution_count": 113
  },
  {
   "metadata": {
    "ExecuteTime": {
     "end_time": "2025-01-10T07:06:53.016403Z",
     "start_time": "2025-01-10T07:06:53.013202Z"
    }
   },
   "cell_type": "code",
   "source": "df_select.columns\n",
   "id": "172e119c251d955f",
   "outputs": [
    {
     "data": {
      "text/plain": [
       "Index(['번지', '아파트명', '계약년월', '층', '건축년도', '도로명', '좌표X', '좌표Y', 'target', '평수',\n",
       "       '구', '동', '가까운공원ID', 'is_test'],\n",
       "      dtype='object')"
      ]
     },
     "execution_count": 114,
     "metadata": {},
     "output_type": "execute_result"
    }
   ],
   "execution_count": 114
  },
  {
   "metadata": {
    "ExecuteTime": {
     "end_time": "2025-01-10T07:06:53.316863Z",
     "start_time": "2025-01-10T07:06:53.141740Z"
    }
   },
   "cell_type": "code",
   "source": [
    "# df_select = df_select[df_select['계약년월'] > 201701]\n",
    "module.preprocess.번지_본번_부번_결측채우기(df_select)\n",
    "# module.preprocess.한강거리_add(df_select)"
   ],
   "id": "a10f133aff6ec6fb",
   "outputs": [],
   "execution_count": 115
  },
  {
   "metadata": {},
   "cell_type": "markdown",
   "source": "# 파생변수",
   "id": "ea39a5cbe8ef7f6e"
  },
  {
   "metadata": {
    "ExecuteTime": {
     "end_time": "2025-01-10T07:06:53.616038Z",
     "start_time": "2025-01-10T07:06:53.445799Z"
    }
   },
   "cell_type": "code",
   "source": [
    "# module.preprocess.강남_add(df_select)\n",
    "module.preprocess.신축_add(df_select)\n",
    "# module.preprocess.계약_건축년도_차이(df_select)\n",
    "# 강남 8학군 지역 설정\n",
    "gangnam_8_schools = ['강남구', '서초구', '송파구']\n",
    "\n",
    "# 학군 변수 추가: 강남 8학군이면 1, 아니면 0\n",
    "df_select['학군'] = df_select['구'].apply(lambda x: 1 if x in gangnam_8_schools else 0)\n"
   ],
   "id": "99b78aee4f5151d2",
   "outputs": [],
   "execution_count": 116
  },
  {
   "metadata": {
    "ExecuteTime": {
     "end_time": "2025-01-10T07:06:53.816200Z",
     "start_time": "2025-01-10T07:06:53.738721Z"
    }
   },
   "cell_type": "code",
   "source": [
    "final_drop_columns = []\n",
    "df_select.drop(final_drop_columns, axis=1, inplace=True)"
   ],
   "id": "3d531f5c7df9fef8",
   "outputs": [],
   "execution_count": 117
  },
  {
   "metadata": {},
   "cell_type": "markdown",
   "source": "# Model Training",
   "id": "1df752cfb07be26"
  },
  {
   "metadata": {},
   "cell_type": "markdown",
   "source": "## 범주형 변수 Encoding",
   "id": "3afbdcde8557e5fa"
  },
  {
   "metadata": {
    "ExecuteTime": {
     "end_time": "2025-01-10T07:06:54.084750Z",
     "start_time": "2025-01-10T07:06:53.938212Z"
    }
   },
   "cell_type": "code",
   "source": [
    "model_data = df_select.copy()\n",
    "# model_data['한강거리'] = np.log1p(model_data['한강거리'])"
   ],
   "id": "a4befac26e6522db",
   "outputs": [],
   "execution_count": 118
  },
  {
   "metadata": {
    "ExecuteTime": {
     "end_time": "2025-01-10T07:06:54.335224Z",
     "start_time": "2025-01-10T07:06:54.211111Z"
    }
   },
   "cell_type": "code",
   "source": "model_data.isnull().sum()",
   "id": "28dbb76d2933cd97",
   "outputs": [
    {
     "data": {
      "text/plain": [
       "번지            0\n",
       "아파트명          0\n",
       "계약년월          0\n",
       "층             0\n",
       "건축년도          0\n",
       "도로명           0\n",
       "좌표X           0\n",
       "좌표Y           0\n",
       "target     5607\n",
       "평수            0\n",
       "구             0\n",
       "동             0\n",
       "가까운공원ID       0\n",
       "is_test       0\n",
       "학군            0\n",
       "dtype: int64"
      ]
     },
     "execution_count": 119,
     "metadata": {},
     "output_type": "execute_result"
    }
   ],
   "execution_count": 119
  },
  {
   "metadata": {
    "ExecuteTime": {
     "end_time": "2025-01-10T07:06:54.486143Z",
     "start_time": "2025-01-10T07:06:54.483503Z"
    }
   },
   "cell_type": "code",
   "source": "model_data.columns",
   "id": "6e838abae3784377",
   "outputs": [
    {
     "data": {
      "text/plain": [
       "Index(['번지', '아파트명', '계약년월', '층', '건축년도', '도로명', '좌표X', '좌표Y', 'target', '평수',\n",
       "       '구', '동', '가까운공원ID', 'is_test', '학군'],\n",
       "      dtype='object')"
      ]
     },
     "execution_count": 120,
     "metadata": {},
     "output_type": "execute_result"
    }
   ],
   "execution_count": 120
  },
  {
   "metadata": {
    "ExecuteTime": {
     "end_time": "2025-01-10T07:06:55.994792Z",
     "start_time": "2025-01-10T07:06:54.514567Z"
    }
   },
   "cell_type": "code",
   "source": [
    "dt_train, dt_test = module.preprocess.split_train_test(model_data)\n",
    "categorical_columns_v2 = module.preprocess.범주형_filter(dt_train)\n",
    "label_encoders = module.preprocess.범주형_encoding(dt_train, dt_test, categorical_columns_v2)\n",
    "print(dt_train.shape, dt_test.shape)"
   ],
   "id": "ae3ef63768ad6c39",
   "outputs": [
    {
     "name": "stderr",
     "output_type": "stream",
     "text": [
      "100%|██████████| 6/6 [00:01<00:00,  4.87it/s]"
     ]
    },
    {
     "name": "stdout",
     "output_type": "stream",
     "text": [
      "(1097155, 14) (5607, 14)\n"
     ]
    },
    {
     "name": "stderr",
     "output_type": "stream",
     "text": [
      "\n"
     ]
    }
   ],
   "execution_count": 121
  },
  {
   "metadata": {},
   "cell_type": "markdown",
   "source": "## Model Training\n",
   "id": "6965824bbc4a624c"
  },
  {
   "metadata": {},
   "cell_type": "markdown",
   "source": "# 훈련데이터 분할",
   "id": "fb9319e479302a9b"
  },
  {
   "metadata": {
    "ExecuteTime": {
     "end_time": "2025-01-10T07:06:56.218455Z",
     "start_time": "2025-01-10T07:06:56.030258Z"
    }
   },
   "cell_type": "code",
   "source": "X_train, X_val, y_train, y_val = module.preprocess.holdout_split_X_y(dt_train)",
   "id": "1f81a7fa9d42bb22",
   "outputs": [],
   "execution_count": 122
  },
  {
   "metadata": {
    "ExecuteTime": {
     "end_time": "2025-01-10T07:06:56.376177Z",
     "start_time": "2025-01-10T07:06:56.372694Z"
    }
   },
   "cell_type": "code",
   "source": "X_train.shape, X_val.shape, y_train.shape, y_val.shape",
   "id": "79b6c1256eb120ac",
   "outputs": [
    {
     "data": {
      "text/plain": [
       "((877724, 13), (219431, 13), (877724,), (219431,))"
      ]
     },
     "execution_count": 123,
     "metadata": {},
     "output_type": "execute_result"
    }
   ],
   "execution_count": 123
  },
  {
   "metadata": {
    "ExecuteTime": {
     "end_time": "2025-01-10T07:06:56.511537Z",
     "start_time": "2025-01-10T07:06:56.506475Z"
    }
   },
   "cell_type": "code",
   "source": "X_train.head(1)",
   "id": "6116e7b8ceb3dc07",
   "outputs": [
    {
     "data": {
      "text/plain": [
       "          번지  아파트명    계약년월   층  건축년도   도로명         좌표X        좌표Y  평수   구  \\\n",
       "586784  1444  3131  201605  11  1988  4922  127.015602  37.498732  24  14   \n",
       "\n",
       "          동  가까운공원ID  학군  \n",
       "586784  151     1612   1  "
      ],
      "text/html": [
       "<div>\n",
       "<style scoped>\n",
       "    .dataframe tbody tr th:only-of-type {\n",
       "        vertical-align: middle;\n",
       "    }\n",
       "\n",
       "    .dataframe tbody tr th {\n",
       "        vertical-align: top;\n",
       "    }\n",
       "\n",
       "    .dataframe thead th {\n",
       "        text-align: right;\n",
       "    }\n",
       "</style>\n",
       "<table border=\"1\" class=\"dataframe\">\n",
       "  <thead>\n",
       "    <tr style=\"text-align: right;\">\n",
       "      <th></th>\n",
       "      <th>번지</th>\n",
       "      <th>아파트명</th>\n",
       "      <th>계약년월</th>\n",
       "      <th>층</th>\n",
       "      <th>건축년도</th>\n",
       "      <th>도로명</th>\n",
       "      <th>좌표X</th>\n",
       "      <th>좌표Y</th>\n",
       "      <th>평수</th>\n",
       "      <th>구</th>\n",
       "      <th>동</th>\n",
       "      <th>가까운공원ID</th>\n",
       "      <th>학군</th>\n",
       "    </tr>\n",
       "  </thead>\n",
       "  <tbody>\n",
       "    <tr>\n",
       "      <th>586784</th>\n",
       "      <td>1444</td>\n",
       "      <td>3131</td>\n",
       "      <td>201605</td>\n",
       "      <td>11</td>\n",
       "      <td>1988</td>\n",
       "      <td>4922</td>\n",
       "      <td>127.015602</td>\n",
       "      <td>37.498732</td>\n",
       "      <td>24</td>\n",
       "      <td>14</td>\n",
       "      <td>151</td>\n",
       "      <td>1612</td>\n",
       "      <td>1</td>\n",
       "    </tr>\n",
       "  </tbody>\n",
       "</table>\n",
       "</div>"
      ]
     },
     "execution_count": 124,
     "metadata": {},
     "output_type": "execute_result"
    }
   ],
   "execution_count": 124
  },
  {
   "metadata": {
    "ExecuteTime": {
     "end_time": "2025-01-10T07:07:04.102057Z",
     "start_time": "2025-01-10T07:06:56.657335Z"
    }
   },
   "cell_type": "code",
   "source": [
    "# RandomForestRegressor 를 이용해 회귀 모델을 적합시키겠습니다.\n",
    "model = RandomForestRegressor(n_estimators=5, criterion='squared_error', random_state=1, n_jobs=-1)\n",
    "model.fit(X_train, y_train)\n",
    "# pred = model.predict(X_val)"
   ],
   "id": "62b2872ffe93c4f3",
   "outputs": [
    {
     "data": {
      "text/plain": [
       "RandomForestRegressor(n_estimators=5, n_jobs=-1, random_state=1)"
      ],
      "text/html": [
       "<style>#sk-container-id-3 {color: black;}#sk-container-id-3 pre{padding: 0;}#sk-container-id-3 div.sk-toggleable {background-color: white;}#sk-container-id-3 label.sk-toggleable__label {cursor: pointer;display: block;width: 100%;margin-bottom: 0;padding: 0.3em;box-sizing: border-box;text-align: center;}#sk-container-id-3 label.sk-toggleable__label-arrow:before {content: \"▸\";float: left;margin-right: 0.25em;color: #696969;}#sk-container-id-3 label.sk-toggleable__label-arrow:hover:before {color: black;}#sk-container-id-3 div.sk-estimator:hover label.sk-toggleable__label-arrow:before {color: black;}#sk-container-id-3 div.sk-toggleable__content {max-height: 0;max-width: 0;overflow: hidden;text-align: left;background-color: #f0f8ff;}#sk-container-id-3 div.sk-toggleable__content pre {margin: 0.2em;color: black;border-radius: 0.25em;background-color: #f0f8ff;}#sk-container-id-3 input.sk-toggleable__control:checked~div.sk-toggleable__content {max-height: 200px;max-width: 100%;overflow: auto;}#sk-container-id-3 input.sk-toggleable__control:checked~label.sk-toggleable__label-arrow:before {content: \"▾\";}#sk-container-id-3 div.sk-estimator input.sk-toggleable__control:checked~label.sk-toggleable__label {background-color: #d4ebff;}#sk-container-id-3 div.sk-label input.sk-toggleable__control:checked~label.sk-toggleable__label {background-color: #d4ebff;}#sk-container-id-3 input.sk-hidden--visually {border: 0;clip: rect(1px 1px 1px 1px);clip: rect(1px, 1px, 1px, 1px);height: 1px;margin: -1px;overflow: hidden;padding: 0;position: absolute;width: 1px;}#sk-container-id-3 div.sk-estimator {font-family: monospace;background-color: #f0f8ff;border: 1px dotted black;border-radius: 0.25em;box-sizing: border-box;margin-bottom: 0.5em;}#sk-container-id-3 div.sk-estimator:hover {background-color: #d4ebff;}#sk-container-id-3 div.sk-parallel-item::after {content: \"\";width: 100%;border-bottom: 1px solid gray;flex-grow: 1;}#sk-container-id-3 div.sk-label:hover label.sk-toggleable__label {background-color: #d4ebff;}#sk-container-id-3 div.sk-serial::before {content: \"\";position: absolute;border-left: 1px solid gray;box-sizing: border-box;top: 0;bottom: 0;left: 50%;z-index: 0;}#sk-container-id-3 div.sk-serial {display: flex;flex-direction: column;align-items: center;background-color: white;padding-right: 0.2em;padding-left: 0.2em;position: relative;}#sk-container-id-3 div.sk-item {position: relative;z-index: 1;}#sk-container-id-3 div.sk-parallel {display: flex;align-items: stretch;justify-content: center;background-color: white;position: relative;}#sk-container-id-3 div.sk-item::before, #sk-container-id-3 div.sk-parallel-item::before {content: \"\";position: absolute;border-left: 1px solid gray;box-sizing: border-box;top: 0;bottom: 0;left: 50%;z-index: -1;}#sk-container-id-3 div.sk-parallel-item {display: flex;flex-direction: column;z-index: 1;position: relative;background-color: white;}#sk-container-id-3 div.sk-parallel-item:first-child::after {align-self: flex-end;width: 50%;}#sk-container-id-3 div.sk-parallel-item:last-child::after {align-self: flex-start;width: 50%;}#sk-container-id-3 div.sk-parallel-item:only-child::after {width: 0;}#sk-container-id-3 div.sk-dashed-wrapped {border: 1px dashed gray;margin: 0 0.4em 0.5em 0.4em;box-sizing: border-box;padding-bottom: 0.4em;background-color: white;}#sk-container-id-3 div.sk-label label {font-family: monospace;font-weight: bold;display: inline-block;line-height: 1.2em;}#sk-container-id-3 div.sk-label-container {text-align: center;}#sk-container-id-3 div.sk-container {/* jupyter's `normalize.less` sets `[hidden] { display: none; }` but bootstrap.min.css set `[hidden] { display: none !important; }` so we also need the `!important` here to be able to override the default hidden behavior on the sphinx rendered scikit-learn.org. See: https://github.com/scikit-learn/scikit-learn/issues/21755 */display: inline-block !important;position: relative;}#sk-container-id-3 div.sk-text-repr-fallback {display: none;}</style><div id=\"sk-container-id-3\" class=\"sk-top-container\"><div class=\"sk-text-repr-fallback\"><pre>RandomForestRegressor(n_estimators=5, n_jobs=-1, random_state=1)</pre><b>In a Jupyter environment, please rerun this cell to show the HTML representation or trust the notebook. <br />On GitHub, the HTML representation is unable to render, please try loading this page with nbviewer.org.</b></div><div class=\"sk-container\" hidden><div class=\"sk-item\"><div class=\"sk-estimator sk-toggleable\"><input class=\"sk-toggleable__control sk-hidden--visually\" id=\"sk-estimator-id-3\" type=\"checkbox\" checked><label for=\"sk-estimator-id-3\" class=\"sk-toggleable__label sk-toggleable__label-arrow\">RandomForestRegressor</label><div class=\"sk-toggleable__content\"><pre>RandomForestRegressor(n_estimators=5, n_jobs=-1, random_state=1)</pre></div></div></div></div></div>"
      ]
     },
     "execution_count": 125,
     "metadata": {},
     "output_type": "execute_result"
    }
   ],
   "execution_count": 125
  },
  {
   "metadata": {
    "ExecuteTime": {
     "end_time": "2025-01-10T07:07:04.152053Z",
     "start_time": "2025-01-10T07:07:04.149530Z"
    }
   },
   "cell_type": "code",
   "source": "# print(f'RMSE test: {np.sqrt(metrics.mean_squared_error(y_val, pred))}')",
   "id": "352d041885332758",
   "outputs": [],
   "execution_count": 126
  },
  {
   "metadata": {
    "ExecuteTime": {
     "end_time": "2025-01-10T07:07:04.187319Z",
     "start_time": "2025-01-10T07:07:04.182339Z"
    }
   },
   "cell_type": "code",
   "source": "df_test_y.head()",
   "id": "cbc5ee7086faea46",
   "outputs": [
    {
     "data": {
      "text/plain": [
       "     target\n",
       "0  210000.0\n",
       "1  190000.0\n",
       "2  230000.0\n",
       "3  185000.0\n",
       "4  241000.0"
      ],
      "text/html": [
       "<div>\n",
       "<style scoped>\n",
       "    .dataframe tbody tr th:only-of-type {\n",
       "        vertical-align: middle;\n",
       "    }\n",
       "\n",
       "    .dataframe tbody tr th {\n",
       "        vertical-align: top;\n",
       "    }\n",
       "\n",
       "    .dataframe thead th {\n",
       "        text-align: right;\n",
       "    }\n",
       "</style>\n",
       "<table border=\"1\" class=\"dataframe\">\n",
       "  <thead>\n",
       "    <tr style=\"text-align: right;\">\n",
       "      <th></th>\n",
       "      <th>target</th>\n",
       "    </tr>\n",
       "  </thead>\n",
       "  <tbody>\n",
       "    <tr>\n",
       "      <th>0</th>\n",
       "      <td>210000.0</td>\n",
       "    </tr>\n",
       "    <tr>\n",
       "      <th>1</th>\n",
       "      <td>190000.0</td>\n",
       "    </tr>\n",
       "    <tr>\n",
       "      <th>2</th>\n",
       "      <td>230000.0</td>\n",
       "    </tr>\n",
       "    <tr>\n",
       "      <th>3</th>\n",
       "      <td>185000.0</td>\n",
       "    </tr>\n",
       "    <tr>\n",
       "      <th>4</th>\n",
       "      <td>241000.0</td>\n",
       "    </tr>\n",
       "  </tbody>\n",
       "</table>\n",
       "</div>"
      ]
     },
     "execution_count": 127,
     "metadata": {},
     "output_type": "execute_result"
    }
   ],
   "execution_count": 127
  },
  {
   "metadata": {
    "ExecuteTime": {
     "end_time": "2025-01-10T07:07:04.436419Z",
     "start_time": "2025-01-10T07:07:04.415336Z"
    }
   },
   "cell_type": "code",
   "source": [
    "X_test = dt_test.drop(['target'], axis=1)\n",
    "\n",
    "real_test_pred = model.predict(X_test)\n",
    "print(f'RMSE test: {np.sqrt(metrics.mean_squared_error(df_test_y, real_test_pred))}')"
   ],
   "id": "c058038429b80b58",
   "outputs": [
    {
     "name": "stdout",
     "output_type": "stream",
     "text": [
      "RMSE test: 29935.258330094523\n"
     ]
    }
   ],
   "execution_count": 128
  },
  {
   "metadata": {
    "ExecuteTime": {
     "end_time": "2025-01-10T07:07:04.500099Z",
     "start_time": "2025-01-10T07:07:04.496425Z"
    }
   },
   "cell_type": "code",
   "source": "X_test.shape, real_test_pred.shape, df_test_y.shape",
   "id": "7f3be5c6ff0f0f6e",
   "outputs": [
    {
     "data": {
      "text/plain": [
       "((5607, 13), (5607,), (5607, 1))"
      ]
     },
     "execution_count": 129,
     "metadata": {},
     "output_type": "execute_result"
    }
   ],
   "execution_count": 129
  },
  {
   "metadata": {
    "ExecuteTime": {
     "end_time": "2025-01-10T07:07:04.532842Z",
     "start_time": "2025-01-10T07:07:04.529962Z"
    }
   },
   "cell_type": "code",
   "source": [
    "# Squared_error를 계산하는 함수를 정의하겠습니다.\n",
    "def calculate_se(target, pred):\n",
    "    squared_errors = (target - pred) ** 2\n",
    "    return squared_errors"
   ],
   "id": "cba55395adae6179",
   "outputs": [],
   "execution_count": 130
  },
  {
   "metadata": {
    "ExecuteTime": {
     "end_time": "2025-01-10T07:07:04.757467Z",
     "start_time": "2025-01-10T07:07:04.738968Z"
    }
   },
   "cell_type": "code",
   "source": [
    "X_val = X_test.reset_index(drop=True)\n",
    "# real_test_pred.reset_index(drop=True)\n",
    "X_val"
   ],
   "id": "645d130018057a8",
   "outputs": [
    {
     "data": {
      "text/plain": [
       "        번지  아파트명    계약년월   층  건축년도   도로명         좌표X        좌표Y  평수   구    동  \\\n",
       "0     1678   327  202301  10  1983  4465  127.068028  37.487802  22   0    8   \n",
       "1     1665   328  202212   3  1983   471  127.072682  37.489122  25   0    8   \n",
       "2     1665   328  202301  10  1983   471  127.072682  37.489122  25   0    8   \n",
       "3      728  1933  202210   7  2019  4978  127.064151  37.480049  18   0    8   \n",
       "4      728  1933  202212   8  2019  4978  127.064151  37.480049  25   0    8   \n",
       "...    ...   ...     ...  ..   ...   ...         ...        ...  ..  ..  ...   \n",
       "5602  3322    36  202207   4  2021  5352  126.891951  37.584794  25  21  163   \n",
       "5603  3322    36  202207   6  2021  5352  126.891951  37.584794  25  21  163   \n",
       "5604  3322    36  202207   7  2021  5352  126.891951  37.584794  25  21  163   \n",
       "5605  3322    36  202209   4  2021  5352  126.891951  37.584794  25  21  163   \n",
       "5606  5760  3895  202209  14  2014  5536  127.106720  37.618870  25  24  174   \n",
       "\n",
       "      가까운공원ID  학군  \n",
       "0        1661   1  \n",
       "1        1731   1  \n",
       "2        1731   1  \n",
       "3        1691   1  \n",
       "4        1691   1  \n",
       "...       ...  ..  \n",
       "5602      747   0  \n",
       "5603      747   0  \n",
       "5604      747   0  \n",
       "5605      747   0  \n",
       "5606      307   0  \n",
       "\n",
       "[5607 rows x 13 columns]"
      ],
      "text/html": [
       "<div>\n",
       "<style scoped>\n",
       "    .dataframe tbody tr th:only-of-type {\n",
       "        vertical-align: middle;\n",
       "    }\n",
       "\n",
       "    .dataframe tbody tr th {\n",
       "        vertical-align: top;\n",
       "    }\n",
       "\n",
       "    .dataframe thead th {\n",
       "        text-align: right;\n",
       "    }\n",
       "</style>\n",
       "<table border=\"1\" class=\"dataframe\">\n",
       "  <thead>\n",
       "    <tr style=\"text-align: right;\">\n",
       "      <th></th>\n",
       "      <th>번지</th>\n",
       "      <th>아파트명</th>\n",
       "      <th>계약년월</th>\n",
       "      <th>층</th>\n",
       "      <th>건축년도</th>\n",
       "      <th>도로명</th>\n",
       "      <th>좌표X</th>\n",
       "      <th>좌표Y</th>\n",
       "      <th>평수</th>\n",
       "      <th>구</th>\n",
       "      <th>동</th>\n",
       "      <th>가까운공원ID</th>\n",
       "      <th>학군</th>\n",
       "    </tr>\n",
       "  </thead>\n",
       "  <tbody>\n",
       "    <tr>\n",
       "      <th>0</th>\n",
       "      <td>1678</td>\n",
       "      <td>327</td>\n",
       "      <td>202301</td>\n",
       "      <td>10</td>\n",
       "      <td>1983</td>\n",
       "      <td>4465</td>\n",
       "      <td>127.068028</td>\n",
       "      <td>37.487802</td>\n",
       "      <td>22</td>\n",
       "      <td>0</td>\n",
       "      <td>8</td>\n",
       "      <td>1661</td>\n",
       "      <td>1</td>\n",
       "    </tr>\n",
       "    <tr>\n",
       "      <th>1</th>\n",
       "      <td>1665</td>\n",
       "      <td>328</td>\n",
       "      <td>202212</td>\n",
       "      <td>3</td>\n",
       "      <td>1983</td>\n",
       "      <td>471</td>\n",
       "      <td>127.072682</td>\n",
       "      <td>37.489122</td>\n",
       "      <td>25</td>\n",
       "      <td>0</td>\n",
       "      <td>8</td>\n",
       "      <td>1731</td>\n",
       "      <td>1</td>\n",
       "    </tr>\n",
       "    <tr>\n",
       "      <th>2</th>\n",
       "      <td>1665</td>\n",
       "      <td>328</td>\n",
       "      <td>202301</td>\n",
       "      <td>10</td>\n",
       "      <td>1983</td>\n",
       "      <td>471</td>\n",
       "      <td>127.072682</td>\n",
       "      <td>37.489122</td>\n",
       "      <td>25</td>\n",
       "      <td>0</td>\n",
       "      <td>8</td>\n",
       "      <td>1731</td>\n",
       "      <td>1</td>\n",
       "    </tr>\n",
       "    <tr>\n",
       "      <th>3</th>\n",
       "      <td>728</td>\n",
       "      <td>1933</td>\n",
       "      <td>202210</td>\n",
       "      <td>7</td>\n",
       "      <td>2019</td>\n",
       "      <td>4978</td>\n",
       "      <td>127.064151</td>\n",
       "      <td>37.480049</td>\n",
       "      <td>18</td>\n",
       "      <td>0</td>\n",
       "      <td>8</td>\n",
       "      <td>1691</td>\n",
       "      <td>1</td>\n",
       "    </tr>\n",
       "    <tr>\n",
       "      <th>4</th>\n",
       "      <td>728</td>\n",
       "      <td>1933</td>\n",
       "      <td>202212</td>\n",
       "      <td>8</td>\n",
       "      <td>2019</td>\n",
       "      <td>4978</td>\n",
       "      <td>127.064151</td>\n",
       "      <td>37.480049</td>\n",
       "      <td>25</td>\n",
       "      <td>0</td>\n",
       "      <td>8</td>\n",
       "      <td>1691</td>\n",
       "      <td>1</td>\n",
       "    </tr>\n",
       "    <tr>\n",
       "      <th>...</th>\n",
       "      <td>...</td>\n",
       "      <td>...</td>\n",
       "      <td>...</td>\n",
       "      <td>...</td>\n",
       "      <td>...</td>\n",
       "      <td>...</td>\n",
       "      <td>...</td>\n",
       "      <td>...</td>\n",
       "      <td>...</td>\n",
       "      <td>...</td>\n",
       "      <td>...</td>\n",
       "      <td>...</td>\n",
       "      <td>...</td>\n",
       "    </tr>\n",
       "    <tr>\n",
       "      <th>5602</th>\n",
       "      <td>3322</td>\n",
       "      <td>36</td>\n",
       "      <td>202207</td>\n",
       "      <td>4</td>\n",
       "      <td>2021</td>\n",
       "      <td>5352</td>\n",
       "      <td>126.891951</td>\n",
       "      <td>37.584794</td>\n",
       "      <td>25</td>\n",
       "      <td>21</td>\n",
       "      <td>163</td>\n",
       "      <td>747</td>\n",
       "      <td>0</td>\n",
       "    </tr>\n",
       "    <tr>\n",
       "      <th>5603</th>\n",
       "      <td>3322</td>\n",
       "      <td>36</td>\n",
       "      <td>202207</td>\n",
       "      <td>6</td>\n",
       "      <td>2021</td>\n",
       "      <td>5352</td>\n",
       "      <td>126.891951</td>\n",
       "      <td>37.584794</td>\n",
       "      <td>25</td>\n",
       "      <td>21</td>\n",
       "      <td>163</td>\n",
       "      <td>747</td>\n",
       "      <td>0</td>\n",
       "    </tr>\n",
       "    <tr>\n",
       "      <th>5604</th>\n",
       "      <td>3322</td>\n",
       "      <td>36</td>\n",
       "      <td>202207</td>\n",
       "      <td>7</td>\n",
       "      <td>2021</td>\n",
       "      <td>5352</td>\n",
       "      <td>126.891951</td>\n",
       "      <td>37.584794</td>\n",
       "      <td>25</td>\n",
       "      <td>21</td>\n",
       "      <td>163</td>\n",
       "      <td>747</td>\n",
       "      <td>0</td>\n",
       "    </tr>\n",
       "    <tr>\n",
       "      <th>5605</th>\n",
       "      <td>3322</td>\n",
       "      <td>36</td>\n",
       "      <td>202209</td>\n",
       "      <td>4</td>\n",
       "      <td>2021</td>\n",
       "      <td>5352</td>\n",
       "      <td>126.891951</td>\n",
       "      <td>37.584794</td>\n",
       "      <td>25</td>\n",
       "      <td>21</td>\n",
       "      <td>163</td>\n",
       "      <td>747</td>\n",
       "      <td>0</td>\n",
       "    </tr>\n",
       "    <tr>\n",
       "      <th>5606</th>\n",
       "      <td>5760</td>\n",
       "      <td>3895</td>\n",
       "      <td>202209</td>\n",
       "      <td>14</td>\n",
       "      <td>2014</td>\n",
       "      <td>5536</td>\n",
       "      <td>127.106720</td>\n",
       "      <td>37.618870</td>\n",
       "      <td>25</td>\n",
       "      <td>24</td>\n",
       "      <td>174</td>\n",
       "      <td>307</td>\n",
       "      <td>0</td>\n",
       "    </tr>\n",
       "  </tbody>\n",
       "</table>\n",
       "<p>5607 rows × 13 columns</p>\n",
       "</div>"
      ]
     },
     "execution_count": 131,
     "metadata": {},
     "output_type": "execute_result"
    }
   ],
   "execution_count": 131
  },
  {
   "metadata": {
    "ExecuteTime": {
     "end_time": "2025-01-10T07:07:04.976631Z",
     "start_time": "2025-01-10T07:07:04.971981Z"
    }
   },
   "cell_type": "code",
   "source": [
    "X_val['target'] = df_test_y\n",
    "X_val['pred'] = real_test_pred\n",
    "X_val['예측차이'] = X_val['target'] - X_val['pred']\n",
    "# RMSE 계산\n",
    "squared_errors = calculate_se(X_val['target'], X_val['pred'])\n",
    "X_val['error'] = squared_errors\n",
    "# Error가 큰 순서대로 sorting 해 보겠습니다.\n",
    "X_val_sort = X_val.sort_values(by='error', ascending=False)       # 내림차순 sorting"
   ],
   "id": "efccbc2a620ab136",
   "outputs": [],
   "execution_count": 132
  },
  {
   "metadata": {
    "ExecuteTime": {
     "end_time": "2025-01-10T07:07:05.034568Z",
     "start_time": "2025-01-10T07:07:05.028653Z"
    }
   },
   "cell_type": "code",
   "source": "X_val.isnull().sum()",
   "id": "41a6a74ffa766cba",
   "outputs": [
    {
     "data": {
      "text/plain": [
       "번지         0\n",
       "아파트명       0\n",
       "계약년월       0\n",
       "층          0\n",
       "건축년도       0\n",
       "도로명        0\n",
       "좌표X        0\n",
       "좌표Y        0\n",
       "평수         0\n",
       "구          0\n",
       "동          0\n",
       "가까운공원ID    0\n",
       "학군         0\n",
       "target     0\n",
       "pred       0\n",
       "예측차이       0\n",
       "error      0\n",
       "dtype: int64"
      ]
     },
     "execution_count": 133,
     "metadata": {},
     "output_type": "execute_result"
    }
   ],
   "execution_count": 133
  },
  {
   "metadata": {
    "ExecuteTime": {
     "end_time": "2025-01-10T07:07:05.155381Z",
     "start_time": "2025-01-10T07:07:05.124323Z"
    }
   },
   "cell_type": "code",
   "source": "X_val.sort_values(by='error', ascending=False).head(10)",
   "id": "77c0edb6c38faf0b",
   "outputs": [
    {
     "data": {
      "text/plain": [
       "        번지  아파트명    계약년월   층  건축년도   도로명         좌표X        좌표Y  평수   구    동  \\\n",
       "3420  3957  3230  202301  37  2016  4591  127.092204  37.597362  61  24  143   \n",
       "2201  1104  5894  202212   4  2002  3352  127.002921  37.486202  82  14  151   \n",
       "3650  4006   221  202208   5  1974  5849  127.020669  37.518772  43   0  181   \n",
       "4534  3854  2262  202209  39  2012  6131  126.913938  37.551322  67  12  149   \n",
       "3679  2969  6413  202207   6  1976  5846  127.027926  37.533027  59   0  196   \n",
       "3600  3651  4661  202207   1  2003  8664  127.022957  37.513048  39   0   45   \n",
       "3272  5798   949  202211   8  2019  8751  127.003365  37.536254  62  20  310   \n",
       "3641  2448  4788  202208   5  2003  4989  127.044329  37.517182  39   0  138   \n",
       "3281    37  6747  202301   3  2003  7120  127.013718  37.538466  67  20  310   \n",
       "4810  4503  2901  202207   1  1998  4381  126.992966  37.496919  73  14  112   \n",
       "\n",
       "      가까운공원ID  학군    target      pred      예측차이         error  \n",
       "3420      335   0  185000.0  679600.0 -494600.0  2.446292e+11  \n",
       "2201     1578   1  640000.0  256800.0  383200.0  1.468422e+11  \n",
       "3650     1669   1  129500.0  423400.0 -293900.0  8.637721e+10  \n",
       "4534      948   0  510000.0  745600.0 -235600.0  5.550736e+10  \n",
       "3679     1708   1  800000.0  582400.0  217600.0  4.734976e+10  \n",
       "3600     1702   1  106000.0  318000.0 -212000.0  4.494400e+10  \n",
       "3272      119   0  945000.0  742000.0  203000.0  4.120900e+10  \n",
       "3641     1680   1  210000.0  410000.0 -200000.0  4.000000e+10  \n",
       "3281       99   0  430000.0  231040.0  198960.0  3.958508e+10  \n",
       "4810     1640   1  450000.0  266700.0  183300.0  3.359889e+10  "
      ],
      "text/html": [
       "<div>\n",
       "<style scoped>\n",
       "    .dataframe tbody tr th:only-of-type {\n",
       "        vertical-align: middle;\n",
       "    }\n",
       "\n",
       "    .dataframe tbody tr th {\n",
       "        vertical-align: top;\n",
       "    }\n",
       "\n",
       "    .dataframe thead th {\n",
       "        text-align: right;\n",
       "    }\n",
       "</style>\n",
       "<table border=\"1\" class=\"dataframe\">\n",
       "  <thead>\n",
       "    <tr style=\"text-align: right;\">\n",
       "      <th></th>\n",
       "      <th>번지</th>\n",
       "      <th>아파트명</th>\n",
       "      <th>계약년월</th>\n",
       "      <th>층</th>\n",
       "      <th>건축년도</th>\n",
       "      <th>도로명</th>\n",
       "      <th>좌표X</th>\n",
       "      <th>좌표Y</th>\n",
       "      <th>평수</th>\n",
       "      <th>구</th>\n",
       "      <th>동</th>\n",
       "      <th>가까운공원ID</th>\n",
       "      <th>학군</th>\n",
       "      <th>target</th>\n",
       "      <th>pred</th>\n",
       "      <th>예측차이</th>\n",
       "      <th>error</th>\n",
       "    </tr>\n",
       "  </thead>\n",
       "  <tbody>\n",
       "    <tr>\n",
       "      <th>3420</th>\n",
       "      <td>3957</td>\n",
       "      <td>3230</td>\n",
       "      <td>202301</td>\n",
       "      <td>37</td>\n",
       "      <td>2016</td>\n",
       "      <td>4591</td>\n",
       "      <td>127.092204</td>\n",
       "      <td>37.597362</td>\n",
       "      <td>61</td>\n",
       "      <td>24</td>\n",
       "      <td>143</td>\n",
       "      <td>335</td>\n",
       "      <td>0</td>\n",
       "      <td>185000.0</td>\n",
       "      <td>679600.0</td>\n",
       "      <td>-494600.0</td>\n",
       "      <td>2.446292e+11</td>\n",
       "    </tr>\n",
       "    <tr>\n",
       "      <th>2201</th>\n",
       "      <td>1104</td>\n",
       "      <td>5894</td>\n",
       "      <td>202212</td>\n",
       "      <td>4</td>\n",
       "      <td>2002</td>\n",
       "      <td>3352</td>\n",
       "      <td>127.002921</td>\n",
       "      <td>37.486202</td>\n",
       "      <td>82</td>\n",
       "      <td>14</td>\n",
       "      <td>151</td>\n",
       "      <td>1578</td>\n",
       "      <td>1</td>\n",
       "      <td>640000.0</td>\n",
       "      <td>256800.0</td>\n",
       "      <td>383200.0</td>\n",
       "      <td>1.468422e+11</td>\n",
       "    </tr>\n",
       "    <tr>\n",
       "      <th>3650</th>\n",
       "      <td>4006</td>\n",
       "      <td>221</td>\n",
       "      <td>202208</td>\n",
       "      <td>5</td>\n",
       "      <td>1974</td>\n",
       "      <td>5849</td>\n",
       "      <td>127.020669</td>\n",
       "      <td>37.518772</td>\n",
       "      <td>43</td>\n",
       "      <td>0</td>\n",
       "      <td>181</td>\n",
       "      <td>1669</td>\n",
       "      <td>1</td>\n",
       "      <td>129500.0</td>\n",
       "      <td>423400.0</td>\n",
       "      <td>-293900.0</td>\n",
       "      <td>8.637721e+10</td>\n",
       "    </tr>\n",
       "    <tr>\n",
       "      <th>4534</th>\n",
       "      <td>3854</td>\n",
       "      <td>2262</td>\n",
       "      <td>202209</td>\n",
       "      <td>39</td>\n",
       "      <td>2012</td>\n",
       "      <td>6131</td>\n",
       "      <td>126.913938</td>\n",
       "      <td>37.551322</td>\n",
       "      <td>67</td>\n",
       "      <td>12</td>\n",
       "      <td>149</td>\n",
       "      <td>948</td>\n",
       "      <td>0</td>\n",
       "      <td>510000.0</td>\n",
       "      <td>745600.0</td>\n",
       "      <td>-235600.0</td>\n",
       "      <td>5.550736e+10</td>\n",
       "    </tr>\n",
       "    <tr>\n",
       "      <th>3679</th>\n",
       "      <td>2969</td>\n",
       "      <td>6413</td>\n",
       "      <td>202207</td>\n",
       "      <td>6</td>\n",
       "      <td>1976</td>\n",
       "      <td>5846</td>\n",
       "      <td>127.027926</td>\n",
       "      <td>37.533027</td>\n",
       "      <td>59</td>\n",
       "      <td>0</td>\n",
       "      <td>196</td>\n",
       "      <td>1708</td>\n",
       "      <td>1</td>\n",
       "      <td>800000.0</td>\n",
       "      <td>582400.0</td>\n",
       "      <td>217600.0</td>\n",
       "      <td>4.734976e+10</td>\n",
       "    </tr>\n",
       "    <tr>\n",
       "      <th>3600</th>\n",
       "      <td>3651</td>\n",
       "      <td>4661</td>\n",
       "      <td>202207</td>\n",
       "      <td>1</td>\n",
       "      <td>2003</td>\n",
       "      <td>8664</td>\n",
       "      <td>127.022957</td>\n",
       "      <td>37.513048</td>\n",
       "      <td>39</td>\n",
       "      <td>0</td>\n",
       "      <td>45</td>\n",
       "      <td>1702</td>\n",
       "      <td>1</td>\n",
       "      <td>106000.0</td>\n",
       "      <td>318000.0</td>\n",
       "      <td>-212000.0</td>\n",
       "      <td>4.494400e+10</td>\n",
       "    </tr>\n",
       "    <tr>\n",
       "      <th>3272</th>\n",
       "      <td>5798</td>\n",
       "      <td>949</td>\n",
       "      <td>202211</td>\n",
       "      <td>8</td>\n",
       "      <td>2019</td>\n",
       "      <td>8751</td>\n",
       "      <td>127.003365</td>\n",
       "      <td>37.536254</td>\n",
       "      <td>62</td>\n",
       "      <td>20</td>\n",
       "      <td>310</td>\n",
       "      <td>119</td>\n",
       "      <td>0</td>\n",
       "      <td>945000.0</td>\n",
       "      <td>742000.0</td>\n",
       "      <td>203000.0</td>\n",
       "      <td>4.120900e+10</td>\n",
       "    </tr>\n",
       "    <tr>\n",
       "      <th>3641</th>\n",
       "      <td>2448</td>\n",
       "      <td>4788</td>\n",
       "      <td>202208</td>\n",
       "      <td>5</td>\n",
       "      <td>2003</td>\n",
       "      <td>4989</td>\n",
       "      <td>127.044329</td>\n",
       "      <td>37.517182</td>\n",
       "      <td>39</td>\n",
       "      <td>0</td>\n",
       "      <td>138</td>\n",
       "      <td>1680</td>\n",
       "      <td>1</td>\n",
       "      <td>210000.0</td>\n",
       "      <td>410000.0</td>\n",
       "      <td>-200000.0</td>\n",
       "      <td>4.000000e+10</td>\n",
       "    </tr>\n",
       "    <tr>\n",
       "      <th>3281</th>\n",
       "      <td>37</td>\n",
       "      <td>6747</td>\n",
       "      <td>202301</td>\n",
       "      <td>3</td>\n",
       "      <td>2003</td>\n",
       "      <td>7120</td>\n",
       "      <td>127.013718</td>\n",
       "      <td>37.538466</td>\n",
       "      <td>67</td>\n",
       "      <td>20</td>\n",
       "      <td>310</td>\n",
       "      <td>99</td>\n",
       "      <td>0</td>\n",
       "      <td>430000.0</td>\n",
       "      <td>231040.0</td>\n",
       "      <td>198960.0</td>\n",
       "      <td>3.958508e+10</td>\n",
       "    </tr>\n",
       "    <tr>\n",
       "      <th>4810</th>\n",
       "      <td>4503</td>\n",
       "      <td>2901</td>\n",
       "      <td>202207</td>\n",
       "      <td>1</td>\n",
       "      <td>1998</td>\n",
       "      <td>4381</td>\n",
       "      <td>126.992966</td>\n",
       "      <td>37.496919</td>\n",
       "      <td>73</td>\n",
       "      <td>14</td>\n",
       "      <td>112</td>\n",
       "      <td>1640</td>\n",
       "      <td>1</td>\n",
       "      <td>450000.0</td>\n",
       "      <td>266700.0</td>\n",
       "      <td>183300.0</td>\n",
       "      <td>3.359889e+10</td>\n",
       "    </tr>\n",
       "  </tbody>\n",
       "</table>\n",
       "</div>"
      ]
     },
     "execution_count": 134,
     "metadata": {},
     "output_type": "execute_result"
    }
   ],
   "execution_count": 134
  },
  {
   "metadata": {
    "ExecuteTime": {
     "end_time": "2025-01-10T07:07:05.256274Z",
     "start_time": "2025-01-10T07:07:05.243026Z"
    }
   },
   "cell_type": "code",
   "source": "X_val.sort_values(by='error', ascending=False).tail(10)",
   "id": "fc07d8f30c628b10",
   "outputs": [
    {
     "data": {
      "text/plain": [
       "        번지  아파트명    계약년월   층  건축년도   도로명         좌표X        좌표Y  평수   구    동  \\\n",
       "4526    23  4121  202209   7  2004  5713  126.942127  37.556259   9  12   42   \n",
       "721   6259  6291  202212  10  2013   414  126.841934  37.528851   4   3  323   \n",
       "5002   576  6271  202207   7  1983    38  127.115050  37.505873  47  17  162   \n",
       "22    4077  1429  202301  12  2006  4970  127.048985  37.493029  25   0   63   \n",
       "4325  2695  3690  202209   5  2014  1783  127.066152  37.656462   4   8  140   \n",
       "3859  3791  3790  202207   3  2016  2007  127.022159  37.634345   5   2  166   \n",
       "1607  3836  3676  202301  13  2013  7632  127.056359  37.566276   4  10   48   \n",
       "5448  1828  5283  202209  10  2013  1462  127.021307  37.573839   3  22  168   \n",
       "1641  2657  2507  202210  12  2022  7282  127.059111  37.595186   5  10  247   \n",
       "5548   285  3233  202208   8  2021  4106  127.087754  37.593696   5  24  143   \n",
       "\n",
       "      가까운공원ID  학군    target      pred  예측차이  error  \n",
       "4526      861   0   25200.0   25200.0   0.0    0.0  \n",
       "721      1099   0    8500.0    8500.0   0.0    0.0  \n",
       "5002     1775   1  199500.0  199500.0   0.0    0.0  \n",
       "22       1677   1  240000.0  240000.0   0.0    0.0  \n",
       "4325      671   0   11000.0   11000.0   0.0    0.0  \n",
       "3859      465   0   11000.0   11000.0   0.0    0.0  \n",
       "1607      280   0   10000.0   10000.0   0.0    0.0  \n",
       "5448       41   0    9700.0    9700.0   0.0    0.0  \n",
       "1641      295   0   23000.0   23000.0   0.0    0.0  \n",
       "5548      364   0   30500.0   30500.0   0.0    0.0  "
      ],
      "text/html": [
       "<div>\n",
       "<style scoped>\n",
       "    .dataframe tbody tr th:only-of-type {\n",
       "        vertical-align: middle;\n",
       "    }\n",
       "\n",
       "    .dataframe tbody tr th {\n",
       "        vertical-align: top;\n",
       "    }\n",
       "\n",
       "    .dataframe thead th {\n",
       "        text-align: right;\n",
       "    }\n",
       "</style>\n",
       "<table border=\"1\" class=\"dataframe\">\n",
       "  <thead>\n",
       "    <tr style=\"text-align: right;\">\n",
       "      <th></th>\n",
       "      <th>번지</th>\n",
       "      <th>아파트명</th>\n",
       "      <th>계약년월</th>\n",
       "      <th>층</th>\n",
       "      <th>건축년도</th>\n",
       "      <th>도로명</th>\n",
       "      <th>좌표X</th>\n",
       "      <th>좌표Y</th>\n",
       "      <th>평수</th>\n",
       "      <th>구</th>\n",
       "      <th>동</th>\n",
       "      <th>가까운공원ID</th>\n",
       "      <th>학군</th>\n",
       "      <th>target</th>\n",
       "      <th>pred</th>\n",
       "      <th>예측차이</th>\n",
       "      <th>error</th>\n",
       "    </tr>\n",
       "  </thead>\n",
       "  <tbody>\n",
       "    <tr>\n",
       "      <th>4526</th>\n",
       "      <td>23</td>\n",
       "      <td>4121</td>\n",
       "      <td>202209</td>\n",
       "      <td>7</td>\n",
       "      <td>2004</td>\n",
       "      <td>5713</td>\n",
       "      <td>126.942127</td>\n",
       "      <td>37.556259</td>\n",
       "      <td>9</td>\n",
       "      <td>12</td>\n",
       "      <td>42</td>\n",
       "      <td>861</td>\n",
       "      <td>0</td>\n",
       "      <td>25200.0</td>\n",
       "      <td>25200.0</td>\n",
       "      <td>0.0</td>\n",
       "      <td>0.0</td>\n",
       "    </tr>\n",
       "    <tr>\n",
       "      <th>721</th>\n",
       "      <td>6259</td>\n",
       "      <td>6291</td>\n",
       "      <td>202212</td>\n",
       "      <td>10</td>\n",
       "      <td>2013</td>\n",
       "      <td>414</td>\n",
       "      <td>126.841934</td>\n",
       "      <td>37.528851</td>\n",
       "      <td>4</td>\n",
       "      <td>3</td>\n",
       "      <td>323</td>\n",
       "      <td>1099</td>\n",
       "      <td>0</td>\n",
       "      <td>8500.0</td>\n",
       "      <td>8500.0</td>\n",
       "      <td>0.0</td>\n",
       "      <td>0.0</td>\n",
       "    </tr>\n",
       "    <tr>\n",
       "      <th>5002</th>\n",
       "      <td>576</td>\n",
       "      <td>6271</td>\n",
       "      <td>202207</td>\n",
       "      <td>7</td>\n",
       "      <td>1983</td>\n",
       "      <td>38</td>\n",
       "      <td>127.115050</td>\n",
       "      <td>37.505873</td>\n",
       "      <td>47</td>\n",
       "      <td>17</td>\n",
       "      <td>162</td>\n",
       "      <td>1775</td>\n",
       "      <td>1</td>\n",
       "      <td>199500.0</td>\n",
       "      <td>199500.0</td>\n",
       "      <td>0.0</td>\n",
       "      <td>0.0</td>\n",
       "    </tr>\n",
       "    <tr>\n",
       "      <th>22</th>\n",
       "      <td>4077</td>\n",
       "      <td>1429</td>\n",
       "      <td>202301</td>\n",
       "      <td>12</td>\n",
       "      <td>2006</td>\n",
       "      <td>4970</td>\n",
       "      <td>127.048985</td>\n",
       "      <td>37.493029</td>\n",
       "      <td>25</td>\n",
       "      <td>0</td>\n",
       "      <td>63</td>\n",
       "      <td>1677</td>\n",
       "      <td>1</td>\n",
       "      <td>240000.0</td>\n",
       "      <td>240000.0</td>\n",
       "      <td>0.0</td>\n",
       "      <td>0.0</td>\n",
       "    </tr>\n",
       "    <tr>\n",
       "      <th>4325</th>\n",
       "      <td>2695</td>\n",
       "      <td>3690</td>\n",
       "      <td>202209</td>\n",
       "      <td>5</td>\n",
       "      <td>2014</td>\n",
       "      <td>1783</td>\n",
       "      <td>127.066152</td>\n",
       "      <td>37.656462</td>\n",
       "      <td>4</td>\n",
       "      <td>8</td>\n",
       "      <td>140</td>\n",
       "      <td>671</td>\n",
       "      <td>0</td>\n",
       "      <td>11000.0</td>\n",
       "      <td>11000.0</td>\n",
       "      <td>0.0</td>\n",
       "      <td>0.0</td>\n",
       "    </tr>\n",
       "    <tr>\n",
       "      <th>3859</th>\n",
       "      <td>3791</td>\n",
       "      <td>3790</td>\n",
       "      <td>202207</td>\n",
       "      <td>3</td>\n",
       "      <td>2016</td>\n",
       "      <td>2007</td>\n",
       "      <td>127.022159</td>\n",
       "      <td>37.634345</td>\n",
       "      <td>5</td>\n",
       "      <td>2</td>\n",
       "      <td>166</td>\n",
       "      <td>465</td>\n",
       "      <td>0</td>\n",
       "      <td>11000.0</td>\n",
       "      <td>11000.0</td>\n",
       "      <td>0.0</td>\n",
       "      <td>0.0</td>\n",
       "    </tr>\n",
       "    <tr>\n",
       "      <th>1607</th>\n",
       "      <td>3836</td>\n",
       "      <td>3676</td>\n",
       "      <td>202301</td>\n",
       "      <td>13</td>\n",
       "      <td>2013</td>\n",
       "      <td>7632</td>\n",
       "      <td>127.056359</td>\n",
       "      <td>37.566276</td>\n",
       "      <td>4</td>\n",
       "      <td>10</td>\n",
       "      <td>48</td>\n",
       "      <td>280</td>\n",
       "      <td>0</td>\n",
       "      <td>10000.0</td>\n",
       "      <td>10000.0</td>\n",
       "      <td>0.0</td>\n",
       "      <td>0.0</td>\n",
       "    </tr>\n",
       "    <tr>\n",
       "      <th>5448</th>\n",
       "      <td>1828</td>\n",
       "      <td>5283</td>\n",
       "      <td>202209</td>\n",
       "      <td>10</td>\n",
       "      <td>2013</td>\n",
       "      <td>1462</td>\n",
       "      <td>127.021307</td>\n",
       "      <td>37.573839</td>\n",
       "      <td>3</td>\n",
       "      <td>22</td>\n",
       "      <td>168</td>\n",
       "      <td>41</td>\n",
       "      <td>0</td>\n",
       "      <td>9700.0</td>\n",
       "      <td>9700.0</td>\n",
       "      <td>0.0</td>\n",
       "      <td>0.0</td>\n",
       "    </tr>\n",
       "    <tr>\n",
       "      <th>1641</th>\n",
       "      <td>2657</td>\n",
       "      <td>2507</td>\n",
       "      <td>202210</td>\n",
       "      <td>12</td>\n",
       "      <td>2022</td>\n",
       "      <td>7282</td>\n",
       "      <td>127.059111</td>\n",
       "      <td>37.595186</td>\n",
       "      <td>5</td>\n",
       "      <td>10</td>\n",
       "      <td>247</td>\n",
       "      <td>295</td>\n",
       "      <td>0</td>\n",
       "      <td>23000.0</td>\n",
       "      <td>23000.0</td>\n",
       "      <td>0.0</td>\n",
       "      <td>0.0</td>\n",
       "    </tr>\n",
       "    <tr>\n",
       "      <th>5548</th>\n",
       "      <td>285</td>\n",
       "      <td>3233</td>\n",
       "      <td>202208</td>\n",
       "      <td>8</td>\n",
       "      <td>2021</td>\n",
       "      <td>4106</td>\n",
       "      <td>127.087754</td>\n",
       "      <td>37.593696</td>\n",
       "      <td>5</td>\n",
       "      <td>24</td>\n",
       "      <td>143</td>\n",
       "      <td>364</td>\n",
       "      <td>0</td>\n",
       "      <td>30500.0</td>\n",
       "      <td>30500.0</td>\n",
       "      <td>0.0</td>\n",
       "      <td>0.0</td>\n",
       "    </tr>\n",
       "  </tbody>\n",
       "</table>\n",
       "</div>"
      ]
     },
     "execution_count": 135,
     "metadata": {},
     "output_type": "execute_result"
    }
   ],
   "execution_count": 135
  },
  {
   "metadata": {
    "ExecuteTime": {
     "end_time": "2025-01-10T07:07:05.382898Z",
     "start_time": "2025-01-10T07:07:05.372589Z"
    }
   },
   "cell_type": "code",
   "source": [
    "X_val_sort_top100 = X_val.sort_values(by='error', ascending=False).head(100)        # 예측을 잘 하지못한 top 100개의 data\n",
    "X_val_sort_tail100 = X_val.sort_values(by='error', ascending=False).tail(100)       # 예측을 잘한 top 100개의 data"
   ],
   "id": "2cc078c44d187234",
   "outputs": [],
   "execution_count": 136
  },
  {
   "metadata": {
    "ExecuteTime": {
     "end_time": "2025-01-10T07:07:05.444306Z",
     "start_time": "2025-01-10T07:07:05.436559Z"
    }
   },
   "cell_type": "code",
   "source": [
    "# 해석을 위해 레이블인코딩 된 변수를 복원해줍니다.\n",
    "error_top100 = X_val_sort_top100.copy()\n",
    "for column in categorical_columns_v2 :     # 앞서 레이블 인코딩에서 정의했던 categorical_columns_v2 범주형 변수 리스트를 사용합니다.\n",
    "    error_top100[column] = label_encoders[column].inverse_transform(X_val_sort_top100[column])\n",
    "\n",
    "best_top100 = X_val_sort_tail100.copy()\n",
    "for column in categorical_columns_v2 :     # 앞서 레이블 인코딩에서 정의했던 categorical_columns_v2 범주형 변수 리스트를 사용합니다.\n",
    "    best_top100[column] = label_encoders[column].inverse_transform(X_val_sort_tail100[column])"
   ],
   "id": "b9490c2ca426939",
   "outputs": [],
   "execution_count": 137
  },
  {
   "metadata": {
    "ExecuteTime": {
     "end_time": "2025-01-10T07:07:05.527528Z",
     "start_time": "2025-01-10T07:07:05.521829Z"
    }
   },
   "cell_type": "code",
   "source": [
    "error_top100.to_csv('top50_error_단지_클러스터.csv', index=False)\n",
    "best_top100.to_csv('tail50_top_단지_클러스터.csv', index=False)"
   ],
   "id": "b4885d95b0c347d3",
   "outputs": [],
   "execution_count": 138
  },
  {
   "metadata": {
    "ExecuteTime": {
     "end_time": "2025-01-10T07:07:06.113107Z",
     "start_time": "2025-01-10T07:07:05.930678Z"
    }
   },
   "cell_type": "code",
   "source": [
    "# 위 feature importance를 시각화해봅니다.\n",
    "importances = pd.Series(model.feature_importances_, index=list(X_train.columns))\n",
    "importances = importances.sort_values(ascending=False)\n",
    "\n",
    "plt.figure(figsize=(10,8))\n",
    "plt.title(\"Feature Importances\")\n",
    "sns.barplot(x=importances, y=importances.index)\n",
    "plt.show()"
   ],
   "id": "fb730abec283f2de",
   "outputs": [
    {
     "data": {
      "text/plain": [
       "<Figure size 1000x800 with 1 Axes>"
      ],
      "image/png": "[encoded data removed]"
     },
     "metadata": {},
     "output_type": "display_data"
    }
   ],
   "execution_count": 139
  },
  {
   "metadata": {
    "ExecuteTime": {
     "end_time": "2025-01-10T07:07:06.294141Z",
     "start_time": "2025-01-10T07:07:06.291147Z"
    }
   },
   "cell_type": "code",
   "source": "error_top100.isnull().sum()",
   "id": "110f65be3d2d8a91",
   "outputs": [
    {
     "data": {
      "text/plain": [
       "번지         0\n",
       "아파트명       0\n",
       "계약년월       0\n",
       "층          0\n",
       "건축년도       0\n",
       "도로명        0\n",
       "좌표X        0\n",
       "좌표Y        0\n",
       "평수         0\n",
       "구          0\n",
       "동          0\n",
       "가까운공원ID    0\n",
       "학군         0\n",
       "target     0\n",
       "pred       0\n",
       "예측차이       0\n",
       "error      0\n",
       "dtype: int64"
      ]
     },
     "execution_count": 141,
     "metadata": {},
     "output_type": "execute_result"
    }
   ],
   "execution_count": 141
  },
  {
   "metadata": {
    "ExecuteTime": {
     "end_time": "2025-01-10T07:07:06.881080Z",
     "start_time": "2025-01-10T07:07:06.534861Z"
    }
   },
   "cell_type": "code",
   "source": [
    "# 2D 히트맵으로 target, 층, 전용면적의 분포 비교\n",
    "plt.figure(figsize=(10, 8))\n",
    "sns.scatterplot(\n",
    "    data=error_top100, \n",
    "    x='평수', \n",
    "    y='층', \n",
    "    size='error', \n",
    "    hue='error', \n",
    "    palette='coolwarm', \n",
    "    alpha=0.7, \n",
    "    sizes=(20, 200)\n",
    ")\n",
    "plt.title('error, 층, 평수 분포 비교', fontsize=16)\n",
    "plt.xlabel('평수', fontsize=14)\n",
    "plt.ylabel('층', fontsize=14)\n",
    "plt.legend(title='error')\n",
    "plt.grid(True)\n",
    "plt.show()"
   ],
   "id": "27810597086e6ece",
   "outputs": [
    {
     "data": {
      "text/plain": [
       "<Figure size 1000x800 with 1 Axes>"
      ],
      "image/png": "[encoded data removed]"
     },
     "metadata": {},
     "output_type": "display_data"
    }
   ],
   "execution_count": 143
  },
  {
   "metadata": {
    "ExecuteTime": {
     "end_time": "2025-01-10T07:07:07.218833Z",
     "start_time": "2025-01-10T07:07:06.975433Z"
    }
   },
   "cell_type": "code",
   "source": [
    "sns.histplot(data = error_top100, x='층', alpha=0.5)\n",
    "sns.histplot(data = best_top100, x='층', color='orange', alpha=0.5)\n",
    "plt.title('층 분포 비교')\n",
    "plt.show()"
   ],
   "id": "e4430a77242caa24",
   "outputs": [
    {
     "data": {
      "text/plain": [
       "<Figure size 640x480 with 1 Axes>"
      ],
      "image/png": "[encoded data removed]"
     },
     "metadata": {},
     "output_type": "display_data"
    }
   ],
   "execution_count": 145
  },
  {
   "metadata": {
    "ExecuteTime": {
     "end_time": "2025-01-10T07:07:07.508645Z",
     "start_time": "2025-01-10T07:07:07.375379Z"
    }
   },
   "cell_type": "code",
   "source": [
    "sns.histplot(data = error_top100, x='평수', alpha=0.5)\n",
    "sns.histplot(data = best_top100, x='평수', color='orange', alpha=0.5)\n",
    "plt.title('평수 분포 비교')\n",
    "plt.show()"
   ],
   "id": "9cc8c5e8e0c5b5cd",
   "outputs": [
    {
     "data": {
      "text/plain": [
       "<Figure size 640x480 with 1 Axes>"
      ],
      "image/png": "[encoded data removed]"
     },
     "metadata": {},
     "output_type": "display_data"
    }
   ],
   "execution_count": 146
  },
  {
   "metadata": {
    "ExecuteTime": {
     "end_time": "2025-01-10T07:07:07.673195Z",
     "start_time": "2025-01-10T07:07:07.664109Z"
    }
   },
   "cell_type": "code",
   "source": "error_top100",
   "id": "e8772937a4799363",
   "outputs": [
    {
     "data": {
      "text/plain": [
       "           번지           아파트명    계약년월   층  건축년도         도로명         좌표X  \\\n",
       "3420      501        상봉듀오트리스  202301  37  2016     상봉로 131  127.092204   \n",
       "2201  1496-24        트라움하우스3  202212   4  2002   명달로 97-14  127.002921   \n",
       "3650   510-11           강남상가  202208   5  1974   압구정로2길 46  127.020669   \n",
       "4534      490         메세나폴리스  202209  39  2012      양화로 45  126.913938   \n",
       "3679    369-1           현대1차  202207   6  1976  압구정로29길 71  127.027926   \n",
       "...       ...            ...     ...  ..   ...         ...         ...   \n",
       "4801      913          헬리오시티  202209  20  2018    송파대로 345  127.102497   \n",
       "111     944-6          대명비발디  202212   6  2003    도곡로6길 18  127.034294   \n",
       "3743   122-15  청담대우멤버스카운티11차  202207   3  2004  도산대로87길 23  127.049974   \n",
       "2747       17           파크리오  202301   9  2008    올림픽로 435  127.106151   \n",
       "3744   122-15  청담대우멤버스카운티11차  202207   3  2004  도산대로87길 23  127.049974   \n",
       "\n",
       "            좌표Y  평수    구     동 가까운공원ID  학군    target      pred      예측차이  \\\n",
       "3420  37.597362  61  중랑구   상봉동  P00566   0  185000.0  679600.0 -494600.0   \n",
       "2201  37.486202  82  서초구   서초동  P02373   1  640000.0  256800.0  383200.0   \n",
       "3650  37.518772  43  강남구   신사동  P02521   1  129500.0  423400.0 -293900.0   \n",
       "4534  37.551322  67  마포구   서교동  P01499   0  510000.0  745600.0 -235600.0   \n",
       "3679  37.533027  59  강남구  압구정동  P02575   1  800000.0  582400.0  217600.0   \n",
       "...         ...  ..  ...   ...     ...  ..       ...       ...       ...   \n",
       "4801  37.497610  25  송파구   가락동  P02725   1  138000.0  216400.0  -78400.0   \n",
       "111   37.489120  23  강남구   도곡동  P02649   1   96500.0  174700.0  -78200.0   \n",
       "3743  37.526148  49  강남구   청담동  P02577   1  315000.0  237000.0   78000.0   \n",
       "2747  37.520537  25  송파구   신천동  P02701   1  172000.0  250000.0  -78000.0   \n",
       "3744  37.526148  49  강남구   청담동  P02577   1  315000.0  237000.0   78000.0   \n",
       "\n",
       "             error  \n",
       "3420  2.446292e+11  \n",
       "2201  1.468422e+11  \n",
       "3650  8.637721e+10  \n",
       "4534  5.550736e+10  \n",
       "3679  4.734976e+10  \n",
       "...            ...  \n",
       "4801  6.146560e+09  \n",
       "111   6.115240e+09  \n",
       "3743  6.084000e+09  \n",
       "2747  6.084000e+09  \n",
       "3744  6.084000e+09  \n",
       "\n",
       "[100 rows x 17 columns]"
      ],
      "text/html": [
       "<div>\n",
       "<style scoped>\n",
       "    .dataframe tbody tr th:only-of-type {\n",
       "        vertical-align: middle;\n",
       "    }\n",
       "\n",
       "    .dataframe tbody tr th {\n",
       "        vertical-align: top;\n",
       "    }\n",
       "\n",
       "    .dataframe thead th {\n",
       "        text-align: right;\n",
       "    }\n",
       "</style>\n",
       "<table border=\"1\" class=\"dataframe\">\n",
       "  <thead>\n",
       "    <tr style=\"text-align: right;\">\n",
       "      <th></th>\n",
       "      <th>번지</th>\n",
       "      <th>아파트명</th>\n",
       "      <th>계약년월</th>\n",
       "      <th>층</th>\n",
       "      <th>건축년도</th>\n",
       "      <th>도로명</th>\n",
       "      <th>좌표X</th>\n",
       "      <th>좌표Y</th>\n",
       "      <th>평수</th>\n",
       "      <th>구</th>\n",
       "      <th>동</th>\n",
       "      <th>가까운공원ID</th>\n",
       "      <th>학군</th>\n",
       "      <th>target</th>\n",
       "      <th>pred</th>\n",
       "      <th>예측차이</th>\n",
       "      <th>error</th>\n",
       "    </tr>\n",
       "  </thead>\n",
       "  <tbody>\n",
       "    <tr>\n",
       "      <th>3420</th>\n",
       "      <td>501</td>\n",
       "      <td>상봉듀오트리스</td>\n",
       "      <td>202301</td>\n",
       "      <td>37</td>\n",
       "      <td>2016</td>\n",
       "      <td>상봉로 131</td>\n",
       "      <td>127.092204</td>\n",
       "      <td>37.597362</td>\n",
       "      <td>61</td>\n",
       "      <td>중랑구</td>\n",
       "      <td>상봉동</td>\n",
       "      <td>P00566</td>\n",
       "      <td>0</td>\n",
       "      <td>185000.0</td>\n",
       "      <td>679600.0</td>\n",
       "      <td>-494600.0</td>\n",
       "      <td>2.446292e+11</td>\n",
       "    </tr>\n",
       "    <tr>\n",
       "      <th>2201</th>\n",
       "      <td>1496-24</td>\n",
       "      <td>트라움하우스3</td>\n",
       "      <td>202212</td>\n",
       "      <td>4</td>\n",
       "      <td>2002</td>\n",
       "      <td>명달로 97-14</td>\n",
       "      <td>127.002921</td>\n",
       "      <td>37.486202</td>\n",
       "      <td>82</td>\n",
       "      <td>서초구</td>\n",
       "      <td>서초동</td>\n",
       "      <td>P02373</td>\n",
       "      <td>1</td>\n",
       "      <td>640000.0</td>\n",
       "      <td>256800.0</td>\n",
       "      <td>383200.0</td>\n",
       "      <td>1.468422e+11</td>\n",
       "    </tr>\n",
       "    <tr>\n",
       "      <th>3650</th>\n",
       "      <td>510-11</td>\n",
       "      <td>강남상가</td>\n",
       "      <td>202208</td>\n",
       "      <td>5</td>\n",
       "      <td>1974</td>\n",
       "      <td>압구정로2길 46</td>\n",
       "      <td>127.020669</td>\n",
       "      <td>37.518772</td>\n",
       "      <td>43</td>\n",
       "      <td>강남구</td>\n",
       "      <td>신사동</td>\n",
       "      <td>P02521</td>\n",
       "      <td>1</td>\n",
       "      <td>129500.0</td>\n",
       "      <td>423400.0</td>\n",
       "      <td>-293900.0</td>\n",
       "      <td>8.637721e+10</td>\n",
       "    </tr>\n",
       "    <tr>\n",
       "      <th>4534</th>\n",
       "      <td>490</td>\n",
       "      <td>메세나폴리스</td>\n",
       "      <td>202209</td>\n",
       "      <td>39</td>\n",
       "      <td>2012</td>\n",
       "      <td>양화로 45</td>\n",
       "      <td>126.913938</td>\n",
       "      <td>37.551322</td>\n",
       "      <td>67</td>\n",
       "      <td>마포구</td>\n",
       "      <td>서교동</td>\n",
       "      <td>P01499</td>\n",
       "      <td>0</td>\n",
       "      <td>510000.0</td>\n",
       "      <td>745600.0</td>\n",
       "      <td>-235600.0</td>\n",
       "      <td>5.550736e+10</td>\n",
       "    </tr>\n",
       "    <tr>\n",
       "      <th>3679</th>\n",
       "      <td>369-1</td>\n",
       "      <td>현대1차</td>\n",
       "      <td>202207</td>\n",
       "      <td>6</td>\n",
       "      <td>1976</td>\n",
       "      <td>압구정로29길 71</td>\n",
       "      <td>127.027926</td>\n",
       "      <td>37.533027</td>\n",
       "      <td>59</td>\n",
       "      <td>강남구</td>\n",
       "      <td>압구정동</td>\n",
       "      <td>P02575</td>\n",
       "      <td>1</td>\n",
       "      <td>800000.0</td>\n",
       "      <td>582400.0</td>\n",
       "      <td>217600.0</td>\n",
       "      <td>4.734976e+10</td>\n",
       "    </tr>\n",
       "    <tr>\n",
       "      <th>...</th>\n",
       "      <td>...</td>\n",
       "      <td>...</td>\n",
       "      <td>...</td>\n",
       "      <td>...</td>\n",
       "      <td>...</td>\n",
       "      <td>...</td>\n",
       "      <td>...</td>\n",
       "      <td>...</td>\n",
       "      <td>...</td>\n",
       "      <td>...</td>\n",
       "      <td>...</td>\n",
       "      <td>...</td>\n",
       "      <td>...</td>\n",
       "      <td>...</td>\n",
       "      <td>...</td>\n",
       "      <td>...</td>\n",
       "      <td>...</td>\n",
       "    </tr>\n",
       "    <tr>\n",
       "      <th>4801</th>\n",
       "      <td>913</td>\n",
       "      <td>헬리오시티</td>\n",
       "      <td>202209</td>\n",
       "      <td>20</td>\n",
       "      <td>2018</td>\n",
       "      <td>송파대로 345</td>\n",
       "      <td>127.102497</td>\n",
       "      <td>37.497610</td>\n",
       "      <td>25</td>\n",
       "      <td>송파구</td>\n",
       "      <td>가락동</td>\n",
       "      <td>P02725</td>\n",
       "      <td>1</td>\n",
       "      <td>138000.0</td>\n",
       "      <td>216400.0</td>\n",
       "      <td>-78400.0</td>\n",
       "      <td>6.146560e+09</td>\n",
       "    </tr>\n",
       "    <tr>\n",
       "      <th>111</th>\n",
       "      <td>944-6</td>\n",
       "      <td>대명비발디</td>\n",
       "      <td>202212</td>\n",
       "      <td>6</td>\n",
       "      <td>2003</td>\n",
       "      <td>도곡로6길 18</td>\n",
       "      <td>127.034294</td>\n",
       "      <td>37.489120</td>\n",
       "      <td>23</td>\n",
       "      <td>강남구</td>\n",
       "      <td>도곡동</td>\n",
       "      <td>P02649</td>\n",
       "      <td>1</td>\n",
       "      <td>96500.0</td>\n",
       "      <td>174700.0</td>\n",
       "      <td>-78200.0</td>\n",
       "      <td>6.115240e+09</td>\n",
       "    </tr>\n",
       "    <tr>\n",
       "      <th>3743</th>\n",
       "      <td>122-15</td>\n",
       "      <td>청담대우멤버스카운티11차</td>\n",
       "      <td>202207</td>\n",
       "      <td>3</td>\n",
       "      <td>2004</td>\n",
       "      <td>도산대로87길 23</td>\n",
       "      <td>127.049974</td>\n",
       "      <td>37.526148</td>\n",
       "      <td>49</td>\n",
       "      <td>강남구</td>\n",
       "      <td>청담동</td>\n",
       "      <td>P02577</td>\n",
       "      <td>1</td>\n",
       "      <td>315000.0</td>\n",
       "      <td>237000.0</td>\n",
       "      <td>78000.0</td>\n",
       "      <td>6.084000e+09</td>\n",
       "    </tr>\n",
       "    <tr>\n",
       "      <th>2747</th>\n",
       "      <td>17</td>\n",
       "      <td>파크리오</td>\n",
       "      <td>202301</td>\n",
       "      <td>9</td>\n",
       "      <td>2008</td>\n",
       "      <td>올림픽로 435</td>\n",
       "      <td>127.106151</td>\n",
       "      <td>37.520537</td>\n",
       "      <td>25</td>\n",
       "      <td>송파구</td>\n",
       "      <td>신천동</td>\n",
       "      <td>P02701</td>\n",
       "      <td>1</td>\n",
       "      <td>172000.0</td>\n",
       "      <td>250000.0</td>\n",
       "      <td>-78000.0</td>\n",
       "      <td>6.084000e+09</td>\n",
       "    </tr>\n",
       "    <tr>\n",
       "      <th>3744</th>\n",
       "      <td>122-15</td>\n",
       "      <td>청담대우멤버스카운티11차</td>\n",
       "      <td>202207</td>\n",
       "      <td>3</td>\n",
       "      <td>2004</td>\n",
       "      <td>도산대로87길 23</td>\n",
       "      <td>127.049974</td>\n",
       "      <td>37.526148</td>\n",
       "      <td>49</td>\n",
       "      <td>강남구</td>\n",
       "      <td>청담동</td>\n",
       "      <td>P02577</td>\n",
       "      <td>1</td>\n",
       "      <td>315000.0</td>\n",
       "      <td>237000.0</td>\n",
       "      <td>78000.0</td>\n",
       "      <td>6.084000e+09</td>\n",
       "    </tr>\n",
       "  </tbody>\n",
       "</table>\n",
       "<p>100 rows × 17 columns</p>\n",
       "</div>"
      ]
     },
     "execution_count": 147,
     "metadata": {},
     "output_type": "execute_result"
    }
   ],
   "execution_count": 147
  },
  {
   "metadata": {
    "ExecuteTime": {
     "end_time": "2025-01-10T07:07:08.275060Z",
     "start_time": "2025-01-10T07:07:07.889275Z"
    }
   },
   "cell_type": "code",
   "source": [
    "# 2D 히트맵으로 target, 층, 전용면적의 분포 비교\n",
    "plt.figure(figsize=(10, 8))\n",
    "sns.scatterplot(\n",
    "    data=error_top100, \n",
    "    x='평수', \n",
    "    y='층', \n",
    "    size='error', \n",
    "    hue='error', \n",
    "    palette='coolwarm', \n",
    "    alpha=0.7, \n",
    "    sizes=(20, 200)\n",
    ")\n",
    "plt.title('error, 층, 평수 분포 비교', fontsize=16)\n",
    "plt.xlabel('평수', fontsize=14)\n",
    "plt.ylabel('층', fontsize=14)\n",
    "plt.legend(title='error')\n",
    "plt.grid(True)\n",
    "plt.show()"
   ],
   "id": "a6c5b550577f5f1a",
   "outputs": [
    {
     "data": {
      "text/plain": [
       "<Figure size 1000x800 with 1 Axes>"
      ],
      "image/png": "[encoded data removed]"
     },
     "metadata": {},
     "output_type": "display_data"
    }
   ],
   "execution_count": 148
  },
  {
   "metadata": {
    "ExecuteTime": {
     "end_time": "2025-01-10T07:07:08.337562Z",
     "start_time": "2025-01-10T07:07:08.333389Z"
    }
   },
   "cell_type": "code",
   "source": "",
   "id": "ca4703be7402a88",
   "outputs": [],
   "execution_count": null
  },
  {
   "metadata": {
    "ExecuteTime": {
     "end_time": "2025-01-10T07:07:08.861793Z",
     "start_time": "2025-01-10T07:07:08.421685Z"
    }
   },
   "cell_type": "code",
   "source": [
    "\n",
    "# 그래프 생성\n",
    "plt.figure(figsize=(12, 8))\n",
    "\n",
    "# error_top100 산점도\n",
    "scatter1 = plt.scatter(\n",
    "    error_top100['좌표X'], error_top100['좌표Y'], \n",
    "    c='black',  s=100, edgecolor='k', alpha=0.7, label='Error Top 100'\n",
    ")\n",
    "\n",
    "# best_top100 산점도\n",
    "scatter2 = plt.scatter(\n",
    "    best_top100['좌표X'], best_top100['좌표Y'], \n",
    "    c='red', s=100, edgecolor='k', alpha=0.7, label='Best Top 100'\n",
    ")\n",
    "\n",
    "# 컬러바 추가 (error_top100용)\n",
    "plt.colorbar(scatter1, label='Error (Error Top 100)')\n",
    "\n",
    "# 축 및 제목 설정\n",
    "plt.xlabel('좌표X', fontsize=12)\n",
    "plt.ylabel('좌표Y', fontsize=12)\n",
    "plt.title('Error Top 100 vs Best Top 100 분포도', fontsize=14)\n",
    "plt.grid(True)\n",
    "\n",
    "# 범례 추가\n",
    "plt.legend(fontsize=12)\n",
    "\n",
    "# 그래프 표시\n",
    "plt.show()"
   ],
   "id": "ae288a50b821cb7",
   "outputs": [
    {
     "data": {
      "text/plain": [
       "<Figure size 1200x800 with 2 Axes>"
      ],
      "image/png": "[encoded data removed]"
     },
     "metadata": {},
     "output_type": "display_data"
    }
   ],
   "execution_count": 149
  },
  {
   "metadata": {
    "ExecuteTime": {
     "end_time": "2025-01-10T07:07:09.169748Z",
     "start_time": "2025-01-10T07:07:09.165089Z"
    }
   },
   "cell_type": "code",
   "source": "error_top100['구'].value_counts()",
   "id": "d8b689e4bdfe876c",
   "outputs": [
    {
     "data": {
      "text/plain": [
       "구\n",
       "강남구     37\n",
       "서초구     21\n",
       "송파구     19\n",
       "용산구      8\n",
       "영등포구     7\n",
       "광진구      3\n",
       "성동구      2\n",
       "중랑구      1\n",
       "마포구      1\n",
       "강동구      1\n",
       "Name: count, dtype: int64"
      ]
     },
     "execution_count": 150,
     "metadata": {},
     "output_type": "execute_result"
    }
   ],
   "execution_count": 150
  },
  {
   "metadata": {
    "ExecuteTime": {
     "end_time": "2025-01-10T07:07:09.411619Z",
     "start_time": "2025-01-10T07:07:09.402409Z"
    }
   },
   "cell_type": "code",
   "source": "error_top100[error_top100['예측차이'] > 100000].value_counts()",
   "id": "91a4668de716b46b",
   "outputs": [
    {
     "data": {
      "text/plain": [
       "번지       아파트명         계약년월    층   건축년도  도로명            좌표X         좌표Y        평수  구     동      가까운공원ID  학군  target    pred      예측차이      error       \n",
       "1-44     힐탑트레져1동      202207  10  2003  유엔빌리지길 200-16  127.013718  37.538466  62  용산구   한남동    P00198   0   390000.0  267040.0  122960.0  1.511916e+10    1\n",
       "                      202301  3   2003  유엔빌리지길 200-16  127.013718  37.538466  67  용산구   한남동    P00198   0   430000.0  231040.0  198960.0  3.958508e+10    1\n",
       "1496-24  트라움하우스3      202212  4   2002  명달로 97-14      127.002921  37.486202  82  서초구   서초동    P02373   1   640000.0  256800.0  383200.0  1.468422e+11    1\n",
       "189      개포주공4단지      202301  4   1982  삼성로 14         127.069985  37.485699  12  강남구   개포동    P02509   1   370000.0  196400.0  173600.0  3.013696e+10    1\n",
       "193-1    힐데스하임빌라      202207  6   1998  남부순환로377길 26   127.045027  37.488125  73  강남구   도곡동    P02556   1   500000.0  338400.0  161600.0  2.611456e+10    1\n",
       "21-1     서울           202207  8   1976  여의나루로 121      126.931151  37.527059  60  영등포구  여의도동   P03011   0   555000.0  382000.0  173000.0  2.992900e+10    1\n",
       "227-7    더샵스타시티       202301  42  2007  아차산로 262       127.072632  37.537803  73  광진구   자양동    P00428   0   420000.0  250000.0  170000.0  2.890000e+10    1\n",
       "369-1    현대1차         202207  6   1976  압구정로29길 71     127.027926  37.533027  59  강남구   압구정동   P02575   1   800000.0  582400.0  217600.0  4.734976e+10    1\n",
       "419      아스테리움용산      202207  35  2012  한강대로30길 25     126.968860  37.527631  57  용산구   한강로2가  P00190   0   480000.0  317400.0  162600.0  2.643876e+10    1\n",
       "527      도곡렉슬         202207  15  2006  선릉로 221        127.048985  37.493029  25  강남구   도곡동    P02530   1   315000.0  210000.0  105000.0  1.102500e+10    1\n",
       "                      202208  15  2006  선릉로 221        127.048985  37.493029  25  강남구   도곡동    P02530   1   315000.0  210000.0  105000.0  1.102500e+10    1\n",
       "612-28   비버리힐즈        202207  1   1998  사평대로12길 27     126.992966  37.496919  73  서초구   반포동    P02477   1   450000.0  266700.0  183300.0  3.359889e+10    1\n",
       "829      나인원한남        202211  8   2019  한남대로 91        127.003365  37.536254  62  용산구   한남동    P00235   0   945000.0  742000.0  203000.0  4.120900e+10    1\n",
       "847-34   방배대우유로카운티    202301  13  2002  방배로28길 90      126.996942  37.491138  65  서초구   방배동    P02486   1   430000.0  265720.0  164280.0  2.698792e+10    1\n",
       "89       올림픽선수기자촌2단지  202208  3   1988  양재대로 1218      127.136372  37.517562  30  송파구   방이동    P02869   1   230000.0  120500.0  109500.0  1.199025e+10    1\n",
       "Name: count, dtype: int64"
      ]
     },
     "execution_count": 151,
     "metadata": {},
     "output_type": "execute_result"
    }
   ],
   "execution_count": 151
  },
  {
   "metadata": {
    "ExecuteTime": {
     "end_time": "2025-01-10T07:07:09.460059Z",
     "start_time": "2025-01-10T07:07:09.456491Z"
    }
   },
   "cell_type": "code",
   "source": "error_top100.columns",
   "id": "f46fafa515bbc48",
   "outputs": [
    {
     "data": {
      "text/plain": [
       "Index(['번지', '아파트명', '계약년월', '층', '건축년도', '도로명', '좌표X', '좌표Y', '평수', '구', '동',\n",
       "       '가까운공원ID', '학군', 'target', 'pred', '예측차이', 'error'],\n",
       "      dtype='object')"
      ]
     },
     "execution_count": 152,
     "metadata": {},
     "output_type": "execute_result"
    }
   ],
   "execution_count": 152
  }
 ],
 "metadata": {
  "kernelspec": {
   "display_name": "Python 3",
   "language": "python",
   "name": "python3"
  },
  "language_info": {
   "codemirror_mode": {
    "name": "ipython",
    "version": 2
   },
   "file_extension": ".py",
   "mimetype": "text/x-python",
   "name": "python",
   "nbconvert_exporter": "python",
   "pygments_lexer": "ipython2",
   "version": "2.7.6"
  }
 },
 "nbformat": 4,
 "nbformat_minor": 5
}
