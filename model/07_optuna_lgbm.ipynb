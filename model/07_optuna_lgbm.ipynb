{
 "cells": [
  {
   "metadata": {},
   "cell_type": "markdown",
   "source": "",
   "id": "17dde6c81c0d579c"
  },
  {
   "metadata": {},
   "cell_type": "markdown",
   "source": [
    "\n",
    "### 금리_단기1년전차이\n",
    "\n",
    "```\n",
    "'번지', '아파트명', '계약년월', '층', '건축년도', '도로명', '좌표X', '좌표Y', 'target',\n",
    "       '금리_단기1년전차이', '평수', '동', '아파트ID', '아파트ID거리', '가까운공원ID', 'is_test',\n",
    "       '학군'\n",
    "       \n",
    "28513\n",
    "```"
   ],
   "id": "289a10be6f164df3"
  },
  {
   "metadata": {
    "ExecuteTime": {
     "end_time": "2025-01-11T01:25:57.396389Z",
     "start_time": "2025-01-11T01:25:56.736352Z"
    }
   },
   "cell_type": "code",
   "source": [
    "# visualization\n",
    "import matplotlib.pyplot as plt\n",
    "import matplotlib.font_manager as fm\n",
    "\n",
    "\n",
    "fe = fm.FontEntry(\n",
    "    fname=r'/usr/share/fonts/truetype/nanum/NanumGothic.ttf', # ttf 파일이 저장되어 있는 경로\n",
    "    name='NanumBarunGothic')                        # 이 폰트의 원하는 이름 설정\n",
    "fm.fontManager.ttflist.insert(0, fe)              # Matplotlib에 폰트 추가\n",
    "plt.rcParams.update({'font.size': 10, 'font.family': 'AppleGothic'}) # 폰트 설정\n",
    "plt.rc('font', family='AppleGothic')\n",
    "import seaborn as sns\n",
    "\n",
    "# utils\n",
    "import pandas as pd\n",
    "import numpy as np\n",
    "from tqdm import tqdm\n",
    "import pickle\n",
    "import warnings;warnings.filterwarnings('ignore')\n",
    "\n",
    "# Model\n",
    "from sklearn.preprocessing import LabelEncoder\n",
    "from sklearn.model_selection import train_test_split\n",
    "from sklearn.metrics import mean_squared_error\n",
    "from sklearn.ensemble import RandomForestRegressor\n",
    "from sklearn import metrics\n",
    "from lightgbm import LGBMRegressor\n",
    "from sklearn.model_selection import GridSearchCV\n",
    "from dask.distributed import Client\n",
    "from sklearn.model_selection import RandomizedSearchCV\n",
    "import dask.dataframe as dd\n",
    "# import eli5\n",
    "# from eli5.sklearn import PermutationImportance"
   ],
   "id": "c4f07c1ef46945d",
   "outputs": [
    {
     "ename": "ImportError",
     "evalue": "dask.distributed is not installed.\n\nPlease either conda or pip install distributed:\n\n  conda install dask distributed             # either conda install\n  python -m pip install \"dask[distributed]\" --upgrade    # or pip install",
     "output_type": "error",
     "traceback": [
      "\u001B[0;31m---------------------------------------------------------------------------\u001B[0m",
      "\u001B[0;31mModuleNotFoundError\u001B[0m                       Traceback (most recent call last)",
      "File \u001B[0;32m~/miniconda3/envs/house-test3.8/lib/python3.8/site-packages/dask/distributed.py:11\u001B[0m\n\u001B[1;32m     10\u001B[0m \u001B[38;5;28;01mtry\u001B[39;00m:\n\u001B[0;32m---> 11\u001B[0m     \u001B[38;5;28;01mfrom\u001B[39;00m \u001B[38;5;21;01mdistributed\u001B[39;00m \u001B[38;5;28;01mimport\u001B[39;00m \u001B[38;5;241m*\u001B[39m\n\u001B[1;32m     12\u001B[0m \u001B[38;5;28;01mexcept\u001B[39;00m \u001B[38;5;167;01mImportError\u001B[39;00m \u001B[38;5;28;01mas\u001B[39;00m e:\n",
      "\u001B[0;31mModuleNotFoundError\u001B[0m: No module named 'distributed'",
      "\nThe above exception was the direct cause of the following exception:\n",
      "\u001B[0;31mImportError\u001B[0m                               Traceback (most recent call last)",
      "Cell \u001B[0;32mIn[1], line 29\u001B[0m\n\u001B[1;32m     27\u001B[0m \u001B[38;5;28;01mfrom\u001B[39;00m \u001B[38;5;21;01mlightgbm\u001B[39;00m \u001B[38;5;28;01mimport\u001B[39;00m LGBMRegressor\n\u001B[1;32m     28\u001B[0m \u001B[38;5;28;01mfrom\u001B[39;00m \u001B[38;5;21;01msklearn\u001B[39;00m\u001B[38;5;21;01m.\u001B[39;00m\u001B[38;5;21;01mmodel_selection\u001B[39;00m \u001B[38;5;28;01mimport\u001B[39;00m GridSearchCV\n\u001B[0;32m---> 29\u001B[0m \u001B[38;5;28;01mfrom\u001B[39;00m \u001B[38;5;21;01mdask\u001B[39;00m\u001B[38;5;21;01m.\u001B[39;00m\u001B[38;5;21;01mdistributed\u001B[39;00m \u001B[38;5;28;01mimport\u001B[39;00m Client\n\u001B[1;32m     30\u001B[0m \u001B[38;5;28;01mfrom\u001B[39;00m \u001B[38;5;21;01msklearn\u001B[39;00m\u001B[38;5;21;01m.\u001B[39;00m\u001B[38;5;21;01mmodel_selection\u001B[39;00m \u001B[38;5;28;01mimport\u001B[39;00m RandomizedSearchCV\n\u001B[1;32m     31\u001B[0m \u001B[38;5;28;01mimport\u001B[39;00m \u001B[38;5;21;01mdask\u001B[39;00m\u001B[38;5;21;01m.\u001B[39;00m\u001B[38;5;21;01mdataframe\u001B[39;00m \u001B[38;5;28;01mas\u001B[39;00m \u001B[38;5;21;01mdd\u001B[39;00m\n",
      "File \u001B[0;32m~/miniconda3/envs/house-test3.8/lib/python3.8/site-packages/dask/distributed.py:14\u001B[0m\n\u001B[1;32m     12\u001B[0m \u001B[38;5;28;01mexcept\u001B[39;00m \u001B[38;5;167;01mImportError\u001B[39;00m \u001B[38;5;28;01mas\u001B[39;00m e:\n\u001B[1;32m     13\u001B[0m     \u001B[38;5;28;01mif\u001B[39;00m e\u001B[38;5;241m.\u001B[39mmsg \u001B[38;5;241m==\u001B[39m \u001B[38;5;124m\"\u001B[39m\u001B[38;5;124mNo module named \u001B[39m\u001B[38;5;124m'\u001B[39m\u001B[38;5;124mdistributed\u001B[39m\u001B[38;5;124m'\u001B[39m\u001B[38;5;124m\"\u001B[39m:\n\u001B[0;32m---> 14\u001B[0m         \u001B[38;5;28;01mraise\u001B[39;00m \u001B[38;5;167;01mImportError\u001B[39;00m(_import_error_message) \u001B[38;5;28;01mfrom\u001B[39;00m \u001B[38;5;21;01me\u001B[39;00m\n\u001B[1;32m     15\u001B[0m     \u001B[38;5;28;01melse\u001B[39;00m:\n\u001B[1;32m     16\u001B[0m         \u001B[38;5;28;01mraise\u001B[39;00m\n",
      "\u001B[0;31mImportError\u001B[0m: dask.distributed is not installed.\n\nPlease either conda or pip install distributed:\n\n  conda install dask distributed             # either conda install\n  python -m pip install \"dask[distributed]\" --upgrade    # or pip install"
     ]
    }
   ],
   "execution_count": 1
  },
  {
   "metadata": {
    "ExecuteTime": {
     "end_time": "2025-01-11T01:25:57.408768Z",
     "start_time": "2025-01-10T10:16:45.409392Z"
    }
   },
   "cell_type": "code",
   "source": [
    "# sys.path를 수정하여 모듈 경로를 설정\n",
    "import sys\n",
    "import os\n",
    "import pandas as pd\n",
    "\n",
    "# 프로젝트 루트 경로 추가\n",
    "project_root = os.path.abspath(\"..\")\n",
    "sys.path.append(project_root)\n",
    "# 모든 컬럼 출력 설정\n",
    "# pd.set_option('display.max_columns', None)\n",
    "# 모든 행 출력 설정\n",
    "# pd.set_option('display.max_rows', None)\n",
    "\n",
    "import module"
   ],
   "id": "eb3e01a70c3324fa",
   "outputs": [],
   "execution_count": 2
  },
  {
   "metadata": {
    "ExecuteTime": {
     "end_time": "2025-01-11T01:25:57.409086Z",
     "start_time": "2025-01-10T10:16:45.547287Z"
    }
   },
   "cell_type": "code",
   "source": "df, df_test_y = module.file_load.load_current_version()",
   "id": "4f69e96e93e1e0e5",
   "outputs": [],
   "execution_count": 3
  },
  {
   "metadata": {
    "ExecuteTime": {
     "end_time": "2025-01-11T01:25:57.409215Z",
     "start_time": "2025-01-10T10:17:00.898456Z"
    }
   },
   "cell_type": "code",
   "source": "df['is_test'].value_counts()      # train과 test data가 하나로 합쳐진 것을 확인할 수 있습니다.",
   "id": "1cac72146f407cb",
   "outputs": [
    {
     "data": {
      "text/plain": [
       "is_test\n",
       "0    1097155\n",
       "1       5607\n",
       "Name: count, dtype: int64"
      ]
     },
     "execution_count": 4,
     "metadata": {},
     "output_type": "execute_result"
    }
   ],
   "execution_count": 4
  },
  {
   "metadata": {
    "ExecuteTime": {
     "end_time": "2025-01-11T01:25:57.409768Z",
     "start_time": "2025-01-10T10:17:01.135790Z"
    }
   },
   "cell_type": "code",
   "source": [
    "# 결측치가 많거나 필요 없는 컬럼을 정리한다\n",
    "drop_columns = [\n",
    "    'index', '시군구',  '본번', '부번', \n",
    "      '해제사유발생일', '등기신청일자', '거래유형', '중개사소재지',\n",
    "       'k-단지분류(아파트,주상복합등등)', 'k-전화번호', 'k-팩스번호', '단지소개기존clob', 'k-세대타입(분양형태)',\n",
    "       'k-관리방식', 'k-복도유형', 'k-난방방식', 'k-전체동수', 'k-전체세대수', 'k-건설사(시공사)',\n",
    "       'k-시행사', 'k-사용검사일-사용승인일', 'k-연면적', 'k-주거전용면적', 'k-관리비부과면적',\n",
    "       'k-전용면적별세대현황(60㎡이하)', 'k-전용면적별세대현황(60㎡~85㎡이하)', 'k-85㎡~135㎡이하',\n",
    "       'k-135㎡초과', 'k-홈페이지', 'k-등록일자', 'k-수정일자', '고용보험관리번호', '경비비관리형태',\n",
    "       '세대전기계약방법', '청소비관리형태', '건축면적', '주차대수', '기타/의무/임대/임의=1/2/3/4', '단지승인일',\n",
    "       '사용허가여부', '관리비 업로드','단지신청일', \n",
    "       'nearest_subway_distance', 'nearest_bus_distance', '1차역세권', '2차역세권',\n",
    "       '1차버스정류장', '경과연도', '경과구분',  '층_그룹', '평수_그룹', '시',\n",
    "        'nearest_park_distance',\n",
    "    '가까운공원이름', \n",
    "        '공원생활권점수',\n",
    "        '산책로갯수',\n",
    "        '산책로총길이',\n",
    "        '산책생활권점수',\n",
    "        '생태문화길갯수',\n",
    "        '생태문화길총길이',\n",
    "        '생태문화생활권점수',\n",
    "        '한강지천길갯수',\n",
    "        '한강지천길총길이',\n",
    "        '숲세권종합점수',\n",
    "        '숲세권등급',\n",
    "        '한강거리',\n",
    "        '지가지수',\n",
    "        '아파트전세_전기대비증감률',\n",
    "        '실업률',\n",
    "        '민간소비',\n",
    "        '소비자심리지수',\n",
    "        '경제심리지수',\n",
    "        '여수신 금리차',\n",
    "        '계약일',\n",
    "        '전용면적(㎡)',\n",
    "        '공원갯수',\n",
    "        '공원총면적',\n",
    "        '한강지천생활권점수'\n",
    "]"
   ],
   "id": "687643b502b9a749",
   "outputs": [],
   "execution_count": 7
  },
  {
   "metadata": {},
   "cell_type": "markdown",
   "source": "# 전처리",
   "id": "cec4cd9593ec6f4e"
  },
  {
   "metadata": {
    "ExecuteTime": {
     "end_time": "2025-01-11T01:25:57.409880Z",
     "start_time": "2025-01-10T10:17:01.189995Z"
    }
   },
   "cell_type": "code",
   "source": "df_select = module.preprocess.drop_columns(df, drop_columns)",
   "id": "524d33e39dc09754",
   "outputs": [],
   "execution_count": 8
  },
  {
   "metadata": {
    "ExecuteTime": {
     "end_time": "2025-01-11T01:25:57.409990Z",
     "start_time": "2025-01-10T10:17:01.368041Z"
    }
   },
   "cell_type": "code",
   "source": "df_select.columns",
   "id": "172e119c251d955f",
   "outputs": [
    {
     "data": {
      "text/plain": [
       "Index(['번지', '아파트명', '계약년월', '층', '건축년도', '도로명', '좌표X', '좌표Y', 'target',\n",
       "       '금리_단기1년전차이', '평수', '구', '동', '아파트ID', '아파트ID거리', '가까운공원ID', 'is_test'],\n",
       "      dtype='object')"
      ]
     },
     "execution_count": 9,
     "metadata": {},
     "output_type": "execute_result"
    }
   ],
   "execution_count": 9
  },
  {
   "metadata": {
    "ExecuteTime": {
     "end_time": "2025-01-11T01:25:57.426400Z",
     "start_time": "2025-01-10T10:17:01.453121Z"
    }
   },
   "cell_type": "code",
   "source": [
    "# df_select = df_select[df_select['계약년월'] > 201701]\n",
    "module.preprocess.번지_본번_부번_결측채우기(df_select)\n",
    "# module.preprocess.한강거리_add(df_select)"
   ],
   "id": "a10f133aff6ec6fb",
   "outputs": [],
   "execution_count": 10
  },
  {
   "metadata": {},
   "cell_type": "markdown",
   "source": "# 파생변수",
   "id": "ea39a5cbe8ef7f6e"
  },
  {
   "metadata": {
    "ExecuteTime": {
     "end_time": "2025-01-11T01:25:57.426801Z",
     "start_time": "2025-01-10T10:17:01.662575Z"
    }
   },
   "cell_type": "code",
   "source": [
    "# module.preprocess.강남_add(df_select)\n",
    "\n",
    "# module.preprocess.계약_건축년도_차이(df_select)\n",
    "# module.preprocess.계약_건축년도_차이(df_select)\n",
    "# module.preprocess.신축_add(df_select)\n",
    "# # 강남 8학군 지역 설정\n",
    "gangnam_8_schools = ['강남구', '서초구', '송파구']\n",
    "# 학군 변수 추가: 강남 8학군이면 1, 아니면 0\n",
    "df_select['학군'] = df_select['구'].apply(lambda x: 1 if x in gangnam_8_schools else 0)\n",
    "\n",
    "# subway_df = module.file_load.load_지하철()\n",
    "# df_select = module.preprocess.calculate_nearest_subway_distance(df_select, subway_df)"
   ],
   "id": "99b78aee4f5151d2",
   "outputs": [],
   "execution_count": 11
  },
  {
   "metadata": {
    "ExecuteTime": {
     "end_time": "2025-01-11T01:25:57.426962Z",
     "start_time": "2025-01-10T10:17:02.024791Z"
    }
   },
   "cell_type": "code",
   "source": [
    "final_drop_columns = ['구']\n",
    "df_select.drop(final_drop_columns, axis=1, inplace=True)"
   ],
   "id": "3d531f5c7df9fef8",
   "outputs": [],
   "execution_count": 12
  },
  {
   "metadata": {},
   "cell_type": "markdown",
   "source": "# Model Training",
   "id": "1df752cfb07be26"
  },
  {
   "metadata": {},
   "cell_type": "markdown",
   "source": "## 범주형 변수 Encoding",
   "id": "3afbdcde8557e5fa"
  },
  {
   "metadata": {
    "ExecuteTime": {
     "end_time": "2025-01-11T01:25:57.427115Z",
     "start_time": "2025-01-10T10:17:02.132034Z"
    }
   },
   "cell_type": "code",
   "source": [
    "model_data = df_select.copy()\n",
    "# model_data['한강거리'] = np.log1p(model_data['한강거리'])"
   ],
   "id": "a4befac26e6522db",
   "outputs": [],
   "execution_count": 13
  },
  {
   "metadata": {
    "ExecuteTime": {
     "end_time": "2025-01-11T01:25:57.427220Z",
     "start_time": "2025-01-10T10:17:02.379711Z"
    }
   },
   "cell_type": "code",
   "source": "model_data.columns",
   "id": "6e838abae3784377",
   "outputs": [
    {
     "data": {
      "text/plain": [
       "Index(['번지', '아파트명', '계약년월', '층', '건축년도', '도로명', '좌표X', '좌표Y', 'target',\n",
       "       '금리_단기1년전차이', '평수', '동', '아파트ID', '아파트ID거리', '가까운공원ID', 'is_test',\n",
       "       '학군'],\n",
       "      dtype='object')"
      ]
     },
     "execution_count": 14,
     "metadata": {},
     "output_type": "execute_result"
    }
   ],
   "execution_count": 14
  },
  {
   "metadata": {
    "ExecuteTime": {
     "end_time": "2025-01-11T01:25:57.427822Z",
     "start_time": "2025-01-10T10:17:02.429639Z"
    }
   },
   "cell_type": "code",
   "source": [
    "dt_train, dt_test = module.preprocess.split_train_test(model_data)\n",
    "categorical_columns_v2 = module.preprocess.범주형_filter(dt_train)\n",
    "label_encoders = module.preprocess.범주형_encoding(dt_train, dt_test, categorical_columns_v2)\n",
    "print(dt_train.shape, dt_test.shape)"
   ],
   "id": "ae3ef63768ad6c39",
   "outputs": [
    {
     "name": "stderr",
     "output_type": "stream",
     "text": [
      "100%|██████████| 6/6 [00:01<00:00,  3.37it/s]"
     ]
    },
    {
     "name": "stdout",
     "output_type": "stream",
     "text": [
      "(1097155, 16) (5607, 16)\n"
     ]
    },
    {
     "name": "stderr",
     "output_type": "stream",
     "text": [
      "\n"
     ]
    }
   ],
   "execution_count": 15
  },
  {
   "metadata": {},
   "cell_type": "markdown",
   "source": "## Model Training\n",
   "id": "6965824bbc4a624c"
  },
  {
   "metadata": {},
   "cell_type": "markdown",
   "source": "# 훈련데이터 분할",
   "id": "fb9319e479302a9b"
  },
  {
   "metadata": {
    "ExecuteTime": {
     "end_time": "2025-01-11T01:25:57.428013Z",
     "start_time": "2025-01-10T10:17:04.414615Z"
    }
   },
   "cell_type": "code",
   "source": "X_train, X_val, y_train, y_val = module.preprocess.holdout_split_X_y(dt_train)",
   "id": "1f81a7fa9d42bb22",
   "outputs": [],
   "execution_count": 16
  },
  {
   "metadata": {
    "ExecuteTime": {
     "end_time": "2025-01-11T01:25:57.428133Z",
     "start_time": "2025-01-10T10:17:04.762600Z"
    }
   },
   "cell_type": "code",
   "source": "X_train.shape, X_val.shape, y_train.shape, y_val.shape",
   "id": "79b6c1256eb120ac",
   "outputs": [
    {
     "data": {
      "text/plain": [
       "((877724, 15), (219431, 15), (877724,), (219431,))"
      ]
     },
     "execution_count": 17,
     "metadata": {},
     "output_type": "execute_result"
    }
   ],
   "execution_count": 17
  },
  {
   "metadata": {
    "ExecuteTime": {
     "end_time": "2025-01-11T01:25:57.428279Z",
     "start_time": "2025-01-10T10:17:04.814839Z"
    }
   },
   "cell_type": "code",
   "source": "X_train.head(1)",
   "id": "6116e7b8ceb3dc07",
   "outputs": [
    {
     "data": {
      "text/plain": [
       "          번지  아파트명    계약년월   층  건축년도   도로명         좌표X        좌표Y  금리_단기1년전차이  \\\n",
       "586784  1444  3131  201605  11  1988  4922  127.015602  37.498732       -0.25   \n",
       "\n",
       "        평수    동  아파트ID    아파트ID거리  가까운공원ID  학군  \n",
       "586784  24  151   1404  18.501546     1612   1  "
      ],
      "text/html": [
       "<div>\n",
       "<style scoped>\n",
       "    .dataframe tbody tr th:only-of-type {\n",
       "        vertical-align: middle;\n",
       "    }\n",
       "\n",
       "    .dataframe tbody tr th {\n",
       "        vertical-align: top;\n",
       "    }\n",
       "\n",
       "    .dataframe thead th {\n",
       "        text-align: right;\n",
       "    }\n",
       "</style>\n",
       "<table border=\"1\" class=\"dataframe\">\n",
       "  <thead>\n",
       "    <tr style=\"text-align: right;\">\n",
       "      <th></th>\n",
       "      <th>번지</th>\n",
       "      <th>아파트명</th>\n",
       "      <th>계약년월</th>\n",
       "      <th>층</th>\n",
       "      <th>건축년도</th>\n",
       "      <th>도로명</th>\n",
       "      <th>좌표X</th>\n",
       "      <th>좌표Y</th>\n",
       "      <th>금리_단기1년전차이</th>\n",
       "      <th>평수</th>\n",
       "      <th>동</th>\n",
       "      <th>아파트ID</th>\n",
       "      <th>아파트ID거리</th>\n",
       "      <th>가까운공원ID</th>\n",
       "      <th>학군</th>\n",
       "    </tr>\n",
       "  </thead>\n",
       "  <tbody>\n",
       "    <tr>\n",
       "      <th>586784</th>\n",
       "      <td>1444</td>\n",
       "      <td>3131</td>\n",
       "      <td>201605</td>\n",
       "      <td>11</td>\n",
       "      <td>1988</td>\n",
       "      <td>4922</td>\n",
       "      <td>127.015602</td>\n",
       "      <td>37.498732</td>\n",
       "      <td>-0.25</td>\n",
       "      <td>24</td>\n",
       "      <td>151</td>\n",
       "      <td>1404</td>\n",
       "      <td>18.501546</td>\n",
       "      <td>1612</td>\n",
       "      <td>1</td>\n",
       "    </tr>\n",
       "  </tbody>\n",
       "</table>\n",
       "</div>"
      ]
     },
     "execution_count": 18,
     "metadata": {},
     "output_type": "execute_result"
    }
   ],
   "execution_count": 18
  },
  {
   "metadata": {
    "ExecuteTime": {
     "end_time": "2025-01-11T01:25:57.428605Z",
     "start_time": "2025-01-10T10:17:05.018791Z"
    }
   },
   "cell_type": "code",
   "source": "",
   "id": "ed29c6f8120a566f",
   "outputs": [],
   "execution_count": 21
  },
  {
   "metadata": {},
   "cell_type": "code",
   "outputs": [],
   "execution_count": null,
   "source": [
    "dt_test.drop(['target'], axis=1)\n",
    "df_test_y"
   ],
   "id": "8cd5411b3406a556"
  },
  {
   "metadata": {
    "ExecuteTime": {
     "end_time": "2025-01-11T01:25:57.428781Z",
     "start_time": "2025-01-10T11:20:24.699132Z"
    }
   },
   "cell_type": "code",
   "source": [
    "import lightgbm as lgb\n",
    "import optuna\n",
    "from sklearn.metrics import mean_squared_error\n",
    "import module.preprocess  # 사용자 정의 모듈\n",
    "import multiprocessing\n",
    "\n",
    "# 시스템의 총 CPU 개수 확인\n",
    "max_cpu_count = multiprocessing.cpu_count()\n",
    "# 데이터 분리\n",
    "# X_train, X_val, y_train, y_val = module.preprocess.holdout_split_X_y(dt_train)\n",
    "\n",
    "X_val = dt_test.drop(['target'], axis=1)\n",
    "y_val = df_test_y\n",
    "\n",
    "print(max_cpu_count)\n",
    "# Optuna 목적 함수 정의\n",
    "def objective(trial):\n",
    "    param = {\n",
    "        \"objective\": \"regression\",\n",
    "        \"metric\": \"rmse\",\n",
    "        \"boosting_type\": trial.suggest_categorical(\"boosting_type\", [\"gbdt\", \"dart\", \"goss\"]),\n",
    "        \"num_leaves\": trial.suggest_int(\"num_leaves\", 20, 300),\n",
    "        \"max_depth\": trial.suggest_int(\"max_depth\", 3, 15),\n",
    "        \"learning_rate\": trial.suggest_loguniform(\"learning_rate\", 1e-4, 1e-1),\n",
    "        \"n_estimators\": trial.suggest_int(\"n_estimators\", 100, 1000),\n",
    "        \"min_child_samples\": trial.suggest_int(\"min_child_samples\", 5, 100),\n",
    "        \"subsample\": trial.suggest_uniform(\"subsample\", 0.5, 1.0),\n",
    "        \"colsample_bytree\": trial.suggest_uniform(\"colsample_bytree\", 0.5, 1.0),\n",
    "        \"reg_alpha\": trial.suggest_loguniform(\"reg_alpha\", 1e-4, 10),\n",
    "        \"reg_lambda\": trial.suggest_loguniform(\"reg_lambda\", 1e-4, 10),\n",
    "    }\n",
    "\n",
    "    # LightGBM 모델 학습\n",
    "    model = lgb.LGBMRegressor(**param)\n",
    "    model.fit(X_train, y_train, eval_set=[(X_val, y_val)], eval_metric=\"rmse\", early_stopping_rounds=50, verbose=False)\n",
    "\n",
    "    # 검증 데이터 RMSE 계산\n",
    "    y_pred = model.predict(X_val)\n",
    "    rmse = mean_squared_error(y_val, y_pred, squared=False)\n",
    "    return rmse\n",
    "\n",
    "# Optuna 최적화 실행\n",
    "study = optuna.create_study(direction=\"minimize\")\n",
    "study.optimize(objective, n_trials=100, n_jobs=max_cpu_count)\n",
    "\n",
    "# 최적 파라미터 출력\n",
    "print(\"Best trial:\")\n",
    "trial = study.best_trial\n",
    "print(f\"  Value: {trial.value}\")\n",
    "print(\"  Params: \")\n",
    "for key, value in trial.params.items():\n",
    "    print(f\"    {key}: {value}\")\n",
    "\n",
    "# 최적 파라미터로 모델 학습 및 평가\n",
    "best_params = trial.params\n",
    "model = lgb.LGBMRegressor(**best_params)\n",
    "model.fit(X_train, y_train)\n",
    "y_pred = model.predict(X_val)\n",
    "rmse = mean_squared_error(y_val, y_pred, squared=False)\n",
    "print(f\"Validation RMSE: {rmse}\")\n"
   ],
   "id": "54c86a5765db765b",
   "outputs": [
    {
     "name": "stderr",
     "output_type": "stream",
     "text": [
      "[I 2025-01-10 20:20:24,709] A new study created in memory with name: no-name-595dff65-fc82-411d-abe4-1becb79e79fc\n"
     ]
    },
    {
     "name": "stdout",
     "output_type": "stream",
     "text": [
      "4\n"
     ]
    },
    {
     "name": "stderr",
     "output_type": "stream",
     "text": [
      "[I 2025-01-10 20:21:37,078] Trial 3 finished with value: 82246.46991451495 and parameters: {'boosting_type': 'gbdt', 'num_leaves': 271, 'max_depth': 6, 'learning_rate': 0.00044862827336911924, 'n_estimators': 288, 'min_child_samples': 13, 'subsample': 0.6863481162249334, 'colsample_bytree': 0.6119850549399901, 'reg_alpha': 0.12797443866943475, 'reg_lambda': 0.03850172836842458}. Best is trial 3 with value: 82246.46991451495.\n",
      "[I 2025-01-10 20:21:46,789] Trial 1 finished with value: 31144.222469521057 and parameters: {'boosting_type': 'gbdt', 'num_leaves': 197, 'max_depth': 5, 'learning_rate': 0.012472733332828903, 'n_estimators': 379, 'min_child_samples': 91, 'subsample': 0.7348364735082742, 'colsample_bytree': 0.6354264575666797, 'reg_alpha': 0.022812699094801416, 'reg_lambda': 0.2862436575539386}. Best is trial 1 with value: 31144.222469521057.\n",
      "[I 2025-01-10 20:22:00,556] Trial 2 finished with value: 28948.182147384254 and parameters: {'boosting_type': 'gbdt', 'num_leaves': 35, 'max_depth': 11, 'learning_rate': 0.033621106615498636, 'n_estimators': 356, 'min_child_samples': 66, 'subsample': 0.6922864039696212, 'colsample_bytree': 0.5185512366809797, 'reg_alpha': 0.22114793547764355, 'reg_lambda': 0.0005799599675659707}. Best is trial 2 with value: 28948.182147384254.\n",
      "[I 2025-01-10 20:22:42,004] Trial 5 finished with value: 36970.46098297881 and parameters: {'boosting_type': 'goss', 'num_leaves': 171, 'max_depth': 3, 'learning_rate': 0.028370195735793167, 'n_estimators': 302, 'min_child_samples': 45, 'subsample': 0.8608691946250144, 'colsample_bytree': 0.8594324318206985, 'reg_alpha': 1.8390458403659904, 'reg_lambda': 0.00023780163243103172}. Best is trial 2 with value: 28948.182147384254.\n",
      "[I 2025-01-10 20:24:38,406] Trial 7 finished with value: 30059.502820185062 and parameters: {'boosting_type': 'gbdt', 'num_leaves': 138, 'max_depth': 4, 'learning_rate': 0.029994347164238776, 'n_estimators': 999, 'min_child_samples': 38, 'subsample': 0.8442249390240579, 'colsample_bytree': 0.6301443923189758, 'reg_alpha': 0.0016022292571853977, 'reg_lambda': 0.0012277600078334666}. Best is trial 2 with value: 28948.182147384254.\n",
      "[I 2025-01-10 20:25:48,005] Trial 0 finished with value: 38367.15104622728 and parameters: {'boosting_type': 'goss', 'num_leaves': 208, 'max_depth': 13, 'learning_rate': 0.002210874491959411, 'n_estimators': 591, 'min_child_samples': 90, 'subsample': 0.6874092606931627, 'colsample_bytree': 0.8335402607467841, 'reg_alpha': 0.14637659435591766, 'reg_lambda': 0.014968507765822297}. Best is trial 2 with value: 28948.182147384254.\n",
      "[I 2025-01-10 20:27:28,448] Trial 8 finished with value: 27392.773494101246 and parameters: {'boosting_type': 'gbdt', 'num_leaves': 232, 'max_depth': 11, 'learning_rate': 0.006853956508463198, 'n_estimators': 432, 'min_child_samples': 82, 'subsample': 0.9239357634531398, 'colsample_bytree': 0.8423133773303191, 'reg_alpha': 0.0004941232810373487, 'reg_lambda': 0.0005275542771148068}. Best is trial 8 with value: 27392.773494101246.\n",
      "[I 2025-01-10 20:29:37,859] Trial 9 finished with value: 26727.75078943468 and parameters: {'boosting_type': 'goss', 'num_leaves': 260, 'max_depth': 14, 'learning_rate': 0.011931225649500141, 'n_estimators': 433, 'min_child_samples': 64, 'subsample': 0.9461011015502914, 'colsample_bytree': 0.7653772628319551, 'reg_alpha': 0.39207968802318094, 'reg_lambda': 4.786975502026387}. Best is trial 9 with value: 26727.75078943468.\n",
      "[I 2025-01-10 20:30:15,622] Trial 11 finished with value: 83405.7431966468 and parameters: {'boosting_type': 'goss', 'num_leaves': 21, 'max_depth': 14, 'learning_rate': 0.0008624952754201359, 'n_estimators': 138, 'min_child_samples': 45, 'subsample': 0.6665274750364196, 'colsample_bytree': 0.6316414502360331, 'reg_alpha': 0.010959444063074784, 'reg_lambda': 0.1007873866432898}. Best is trial 9 with value: 26727.75078943468.\n",
      "[I 2025-01-10 20:30:52,877] Trial 6 finished with value: 77541.05745478562 and parameters: {'boosting_type': 'gbdt', 'num_leaves': 106, 'max_depth': 9, 'learning_rate': 0.0002035382239895481, 'n_estimators': 970, 'min_child_samples': 26, 'subsample': 0.5186957728948973, 'colsample_bytree': 0.700340033159545, 'reg_alpha': 0.032880429881051734, 'reg_lambda': 1.0731256022492075}. Best is trial 9 with value: 26727.75078943468.\n",
      "[I 2025-01-10 20:31:16,308] Trial 12 finished with value: 27314.741484675793 and parameters: {'boosting_type': 'gbdt', 'num_leaves': 94, 'max_depth': 9, 'learning_rate': 0.04254515873408355, 'n_estimators': 853, 'min_child_samples': 77, 'subsample': 0.5619903912558021, 'colsample_bytree': 0.667548123094938, 'reg_alpha': 4.167289518419165, 'reg_lambda': 0.0026898554694353627}. Best is trial 9 with value: 26727.75078943468.\n",
      "[I 2025-01-10 20:33:46,838] Trial 4 finished with value: 106462.62880029177 and parameters: {'boosting_type': 'dart', 'num_leaves': 109, 'max_depth': 5, 'learning_rate': 0.0006001688363272028, 'n_estimators': 485, 'min_child_samples': 24, 'subsample': 0.7033935361935455, 'colsample_bytree': 0.6305066447314421, 'reg_alpha': 0.4114009682082487, 'reg_lambda': 0.0003675094096345163}. Best is trial 9 with value: 26727.75078943468.\n",
      "[I 2025-01-10 20:37:29,035] Trial 10 finished with value: 29273.351714234508 and parameters: {'boosting_type': 'gbdt', 'num_leaves': 295, 'max_depth': 9, 'learning_rate': 0.003114690296633664, 'n_estimators': 855, 'min_child_samples': 69, 'subsample': 0.6325095387616363, 'colsample_bytree': 0.5901489577588441, 'reg_alpha': 0.4836293723930894, 'reg_lambda': 1.2455203838185476}. Best is trial 9 with value: 26727.75078943468.\n",
      "[I 2025-01-10 21:04:41,758] Trial 16 finished with value: 25313.06014585171 and parameters: {'boosting_type': 'dart', 'num_leaves': 69, 'max_depth': 15, 'learning_rate': 0.06156117651411829, 'n_estimators': 675, 'min_child_samples': 65, 'subsample': 0.9858826818848382, 'colsample_bytree': 0.9517202791351551, 'reg_alpha': 4.812309269008415, 'reg_lambda': 9.544731329363271}. Best is trial 16 with value: 25313.06014585171.\n",
      "[I 2025-01-10 21:09:29,079] Trial 14 finished with value: 25504.98847466024 and parameters: {'boosting_type': 'dart', 'num_leaves': 299, 'max_depth': 8, 'learning_rate': 0.09901206231225945, 'n_estimators': 707, 'min_child_samples': 64, 'subsample': 0.5328579599794929, 'colsample_bytree': 0.972670922742068, 'reg_alpha': 6.6694502307475085, 'reg_lambda': 4.893268826137923}. Best is trial 16 with value: 25313.06014585171.\n",
      "[I 2025-01-10 21:14:31,793] Trial 13 finished with value: 25684.492106844446 and parameters: {'boosting_type': 'dart', 'num_leaves': 299, 'max_depth': 15, 'learning_rate': 0.09646504826931573, 'n_estimators': 665, 'min_child_samples': 71, 'subsample': 0.9607132831265185, 'colsample_bytree': 0.9931958457957214, 'reg_alpha': 9.370120173208967, 'reg_lambda': 9.25682912613458}. Best is trial 16 with value: 25313.06014585171.\n",
      "[I 2025-01-10 21:15:12,991] Trial 15 finished with value: 25378.34580193674 and parameters: {'boosting_type': 'dart', 'num_leaves': 281, 'max_depth': 8, 'learning_rate': 0.07297461268019657, 'n_estimators': 767, 'min_child_samples': 70, 'subsample': 0.9942136735319236, 'colsample_bytree': 0.9446734554174745, 'reg_alpha': 9.3003327365721, 'reg_lambda': 9.075752689031013}. Best is trial 16 with value: 25313.06014585171.\n",
      "[I 2025-01-10 21:23:43,666] Trial 17 finished with value: 25538.074933881137 and parameters: {'boosting_type': 'dart', 'num_leaves': 65, 'max_depth': 15, 'learning_rate': 0.06687606135195918, 'n_estimators': 618, 'min_child_samples': 57, 'subsample': 0.9897445112127473, 'colsample_bytree': 0.9315464326948827, 'reg_alpha': 9.459248055624656, 'reg_lambda': 7.800597170077165}. Best is trial 16 with value: 25313.06014585171.\n",
      "[I 2025-01-10 21:29:29,286] Trial 18 finished with value: 26210.420862492334 and parameters: {'boosting_type': 'dart', 'num_leaves': 64, 'max_depth': 7, 'learning_rate': 0.07449380752051943, 'n_estimators': 680, 'min_child_samples': 58, 'subsample': 0.9955324190274306, 'colsample_bytree': 0.9855875879964653, 'reg_alpha': 8.778817671279844, 'reg_lambda': 9.092348977219991}. Best is trial 16 with value: 25313.06014585171.\n",
      "[I 2025-01-10 21:35:28,929] Trial 19 finished with value: 26183.568057903933 and parameters: {'boosting_type': 'dart', 'num_leaves': 58, 'max_depth': 7, 'learning_rate': 0.08988123507180008, 'n_estimators': 699, 'min_child_samples': 54, 'subsample': 0.8101220601664555, 'colsample_bytree': 0.985957428297262, 'reg_alpha': 1.5014219465348635, 'reg_lambda': 1.3798788874334493}. Best is trial 16 with value: 25313.06014585171.\n",
      "[I 2025-01-10 21:40:00,999] Trial 20 finished with value: 44146.14070247865 and parameters: {'boosting_type': 'dart', 'num_leaves': 54, 'max_depth': 7, 'learning_rate': 0.0076911254415047495, 'n_estimators': 774, 'min_child_samples': 56, 'subsample': 0.8275858556274616, 'colsample_bytree': 0.916235391015765, 'reg_alpha': 1.2570741947229693, 'reg_lambda': 0.9061588605802104}. Best is trial 16 with value: 25313.06014585171.\n",
      "[I 2025-01-10 21:58:30,803] Trial 21 finished with value: 28094.607190735285 and parameters: {'boosting_type': 'dart', 'num_leaves': 163, 'max_depth': 11, 'learning_rate': 0.013848843615553679, 'n_estimators': 768, 'min_child_samples': 99, 'subsample': 0.8163585871101613, 'colsample_bytree': 0.9118375389519591, 'reg_alpha': 1.6208922077956534, 'reg_lambda': 1.013496599689849}. Best is trial 16 with value: 25313.06014585171.\n",
      "[I 2025-01-10 22:01:42,321] Trial 22 finished with value: 29144.689838703223 and parameters: {'boosting_type': 'dart', 'num_leaves': 149, 'max_depth': 11, 'learning_rate': 0.012740937982858566, 'n_estimators': 757, 'min_child_samples': 81, 'subsample': 0.8103128798879973, 'colsample_bytree': 0.9105127825845983, 'reg_alpha': 1.5264150020958542, 'reg_lambda': 0.5276062997443531}. Best is trial 16 with value: 25313.06014585171.\n",
      "[I 2025-01-10 22:12:14,928] Trial 23 finished with value: 27632.978866974518 and parameters: {'boosting_type': 'dart', 'num_leaves': 148, 'max_depth': 11, 'learning_rate': 0.014655423891404937, 'n_estimators': 803, 'min_child_samples': 98, 'subsample': 0.8998149417847487, 'colsample_bytree': 0.9088629403889078, 'reg_alpha': 1.2450789741630406, 'reg_lambda': 0.36065248911879805}. Best is trial 16 with value: 25313.06014585171.\n",
      "[I 2025-01-10 22:16:54,443] Trial 25 finished with value: 24815.034972711677 and parameters: {'boosting_type': 'dart', 'num_leaves': 251, 'max_depth': 8, 'learning_rate': 0.04955233755988994, 'n_estimators': 547, 'min_child_samples': 76, 'subsample': 0.895828193648368, 'colsample_bytree': 0.7830651407171677, 'reg_alpha': 2.9062214140341998, 'reg_lambda': 3.410805219351846}. Best is trial 25 with value: 24815.034972711677.\n",
      "[I 2025-01-10 22:18:49,637] Trial 26 finished with value: 24960.91617665894 and parameters: {'boosting_type': 'dart', 'num_leaves': 255, 'max_depth': 8, 'learning_rate': 0.0411629079865364, 'n_estimators': 526, 'min_child_samples': 74, 'subsample': 0.5818915453673166, 'colsample_bytree': 0.9557220656570833, 'reg_alpha': 5.109767073440744, 'reg_lambda': 3.1870999088011738}. Best is trial 25 with value: 24815.034972711677.\n",
      "[I 2025-01-10 22:23:15,451] Trial 24 finished with value: 25106.38033170388 and parameters: {'boosting_type': 'dart', 'num_leaves': 247, 'max_depth': 11, 'learning_rate': 0.019335339816016185, 'n_estimators': 836, 'min_child_samples': 82, 'subsample': 0.9045374317505325, 'colsample_bytree': 0.9178118947004268, 'reg_alpha': 3.1437351115062575, 'reg_lambda': 2.5175473840295823}. Best is trial 25 with value: 24815.034972711677.\n",
      "[I 2025-01-10 22:31:56,029] Trial 27 finished with value: 26063.14711770339 and parameters: {'boosting_type': 'dart', 'num_leaves': 252, 'max_depth': 8, 'learning_rate': 0.02064900230532937, 'n_estimators': 551, 'min_child_samples': 76, 'subsample': 0.5997047716197815, 'colsample_bytree': 0.9456692128627954, 'reg_alpha': 3.7523518028854714, 'reg_lambda': 3.678069753953143}. Best is trial 25 with value: 24815.034972711677.\n",
      "[I 2025-01-10 22:36:43,685] Trial 28 finished with value: 25269.013587401336 and parameters: {'boosting_type': 'dart', 'num_leaves': 243, 'max_depth': 10, 'learning_rate': 0.04608810367743731, 'n_estimators': 522, 'min_child_samples': 78, 'subsample': 0.8872887716704866, 'colsample_bytree': 0.798577239794719, 'reg_alpha': 4.821952721559992, 'reg_lambda': 3.017701152228559}. Best is trial 25 with value: 24815.034972711677.\n",
      "[I 2025-01-10 22:38:58,897] Trial 29 finished with value: 25275.61502535189 and parameters: {'boosting_type': 'dart', 'num_leaves': 248, 'max_depth': 12, 'learning_rate': 0.04495187434898153, 'n_estimators': 524, 'min_child_samples': 85, 'subsample': 0.6022778744830526, 'colsample_bytree': 0.7499027444717818, 'reg_alpha': 3.7501876190443557, 'reg_lambda': 3.68014861654448}. Best is trial 25 with value: 24815.034972711677.\n",
      "[I 2025-01-10 22:41:00,127] Trial 32 finished with value: 27767.63756046323 and parameters: {'boosting_type': 'goss', 'num_leaves': 228, 'max_depth': 12, 'learning_rate': 0.0058688158565598685, 'n_estimators': 591, 'min_child_samples': 87, 'subsample': 0.7717569780159557, 'colsample_bytree': 0.8748566358071254, 'reg_alpha': 0.1088328370358636, 'reg_lambda': 0.10466110006336876}. Best is trial 25 with value: 24815.034972711677.\n",
      "[I 2025-01-10 22:43:09,208] Trial 30 finished with value: 25126.05584841445 and parameters: {'boosting_type': 'dart', 'num_leaves': 251, 'max_depth': 10, 'learning_rate': 0.026891165920965278, 'n_estimators': 535, 'min_child_samples': 90, 'subsample': 0.7712308864248831, 'colsample_bytree': 0.7722119706585883, 'reg_alpha': 0.061049191432431524, 'reg_lambda': 2.417524242075925}. Best is trial 25 with value: 24815.034972711677.\n",
      "[I 2025-01-10 22:43:49,703] Trial 33 finished with value: 27733.96011476101 and parameters: {'boosting_type': 'goss', 'num_leaves': 214, 'max_depth': 13, 'learning_rate': 0.005842281449957429, 'n_estimators': 615, 'min_child_samples': 87, 'subsample': 0.7794393526051654, 'colsample_bytree': 0.8707175974114386, 'reg_alpha': 0.10176017928293424, 'reg_lambda': 0.15160105726964784}. Best is trial 25 with value: 24815.034972711677.\n",
      "[I 2025-01-10 22:51:08,979] Trial 31 finished with value: 53834.876662404095 and parameters: {'boosting_type': 'dart', 'num_leaves': 234, 'max_depth': 10, 'learning_rate': 0.005892364062716932, 'n_estimators': 528, 'min_child_samples': 91, 'subsample': 0.7590398486582027, 'colsample_bytree': 0.7823769018056428, 'reg_alpha': 0.00010690726245405321, 'reg_lambda': 0.11905859123120169}. Best is trial 25 with value: 24815.034972711677.\n",
      "[I 2025-01-10 22:54:49,431] Trial 34 finished with value: 26680.96226012949 and parameters: {'boosting_type': 'dart', 'num_leaves': 204, 'max_depth': 10, 'learning_rate': 0.022482016342454086, 'n_estimators': 468, 'min_child_samples': 92, 'subsample': 0.8916607001924953, 'colsample_bytree': 0.8031772254369105, 'reg_alpha': 0.6639573311296448, 'reg_lambda': 2.2992689176976158}. Best is trial 25 with value: 24815.034972711677.\n",
      "[I 2025-01-10 22:57:49,439] Trial 35 finished with value: 27834.18091467665 and parameters: {'boosting_type': 'dart', 'num_leaves': 208, 'max_depth': 10, 'learning_rate': 0.019836577515235286, 'n_estimators': 460, 'min_child_samples': 93, 'subsample': 0.7459543491054274, 'colsample_bytree': 0.8070932166806624, 'reg_alpha': 0.05414594024762256, 'reg_lambda': 2.039660950223563}. Best is trial 25 with value: 24815.034972711677.\n",
      "[I 2025-01-10 22:58:18,099] Trial 36 finished with value: 29195.879308390537 and parameters: {'boosting_type': 'dart', 'num_leaves': 199, 'max_depth': 10, 'learning_rate': 0.018371437062228754, 'n_estimators': 447, 'min_child_samples': 94, 'subsample': 0.7278113465829541, 'colsample_bytree': 0.7968699838208678, 'reg_alpha': 0.004501342141350223, 'reg_lambda': 2.258216411057088}. Best is trial 25 with value: 24815.034972711677.\n",
      "[I 2025-01-10 23:01:41,864] Trial 38 finished with value: 95484.8267341845 and parameters: {'boosting_type': 'dart', 'num_leaves': 190, 'max_depth': 6, 'learning_rate': 0.0021337941527219463, 'n_estimators': 366, 'min_child_samples': 93, 'subsample': 0.728072092808936, 'colsample_bytree': 0.7226209315746973, 'reg_alpha': 0.007086221039799916, 'reg_lambda': 0.008272827898046073}. Best is trial 25 with value: 24815.034972711677.\n",
      "[I 2025-01-10 23:02:32,877] Trial 40 finished with value: 98608.36951140141 and parameters: {'boosting_type': 'dart', 'num_leaves': 183, 'max_depth': 6, 'learning_rate': 0.0018224492086492056, 'n_estimators': 273, 'min_child_samples': 74, 'subsample': 0.8646069790741842, 'colsample_bytree': 0.729327561010291, 'reg_alpha': 0.004990250702795001, 'reg_lambda': 0.010545272252373124}. Best is trial 25 with value: 24815.034972711677.\n",
      "[I 2025-01-10 23:04:38,365] Trial 39 finished with value: 100864.43549348049 and parameters: {'boosting_type': 'dart', 'num_leaves': 184, 'max_depth': 6, 'learning_rate': 0.0013398520513306785, 'n_estimators': 372, 'min_child_samples': 76, 'subsample': 0.7124836267069307, 'colsample_bytree': 0.7323397827119262, 'reg_alpha': 0.00732808948235335, 'reg_lambda': 0.017564993351523586}. Best is trial 25 with value: 24815.034972711677.\n",
      "[I 2025-01-10 23:04:54,962] Trial 37 finished with value: 27063.147832524628 and parameters: {'boosting_type': 'dart', 'num_leaves': 192, 'max_depth': 10, 'learning_rate': 0.021487243565098194, 'n_estimators': 445, 'min_child_samples': 90, 'subsample': 0.7240365066003943, 'colsample_bytree': 0.8158042005110747, 'reg_alpha': 0.008297011514624605, 'reg_lambda': 0.009325164045348383}. Best is trial 25 with value: 24815.034972711677.\n",
      "[I 2025-01-10 23:05:28,159] Trial 43 finished with value: 27845.734655697852 and parameters: {'boosting_type': 'goss', 'num_leaves': 270, 'max_depth': 8, 'learning_rate': 0.031629835032465324, 'n_estimators': 587, 'min_child_samples': 82, 'subsample': 0.6677707405835255, 'colsample_bytree': 0.8350762546397459, 'reg_alpha': 0.2821624404539489, 'reg_lambda': 0.47317176869810923}. Best is trial 25 with value: 24815.034972711677.\n",
      "[I 2025-01-10 23:06:15,473] Trial 41 finished with value: 109866.03233395662 and parameters: {'boosting_type': 'dart', 'num_leaves': 268, 'max_depth': 6, 'learning_rate': 0.00010111546179594103, 'n_estimators': 306, 'min_child_samples': 7, 'subsample': 0.8652702057259335, 'colsample_bytree': 0.8383033930737139, 'reg_alpha': 0.3170902081023376, 'reg_lambda': 0.04005432505527197}. Best is trial 25 with value: 24815.034972711677.\n",
      "[I 2025-01-10 23:24:04,434] Trial 45 finished with value: 25133.0915940935 and parameters: {'boosting_type': 'dart', 'num_leaves': 239, 'max_depth': 12, 'learning_rate': 0.04470680027053386, 'n_estimators': 505, 'min_child_samples': 80, 'subsample': 0.8873350475963306, 'colsample_bytree': 0.6916858399989799, 'reg_alpha': 0.7479669686602378, 'reg_lambda': 0.6386477698592992}. Best is trial 25 with value: 24815.034972711677.\n",
      "[I 2025-01-10 23:24:28,400] Trial 46 finished with value: 25463.252408223565 and parameters: {'boosting_type': 'dart', 'num_leaves': 244, 'max_depth': 12, 'learning_rate': 0.04969088166031055, 'n_estimators': 503, 'min_child_samples': 79, 'subsample': 0.8958716037260939, 'colsample_bytree': 0.686829609469484, 'reg_alpha': 0.8141518886406267, 'reg_lambda': 0.7074268322598743}. Best is trial 25 with value: 24815.034972711677.\n",
      "[I 2025-01-10 23:25:13,884] Trial 47 finished with value: 26555.27265653047 and parameters: {'boosting_type': 'gbdt', 'num_leaves': 282, 'max_depth': 12, 'learning_rate': 0.03564950039174545, 'n_estimators': 567, 'min_child_samples': 80, 'subsample': 0.9202393737207156, 'colsample_bytree': 0.6791311707504393, 'reg_alpha': 0.8492235866475455, 'reg_lambda': 0.6914333111190756}. Best is trial 25 with value: 24815.034972711677.\n",
      "[I 2025-01-10 23:25:33,932] Trial 48 finished with value: 26822.095108166854 and parameters: {'boosting_type': 'gbdt', 'num_leaves': 284, 'max_depth': 13, 'learning_rate': 0.030492657262226663, 'n_estimators': 412, 'min_child_samples': 85, 'subsample': 0.9244164526949165, 'colsample_bytree': 0.651306077602446, 'reg_alpha': 0.1659854080153082, 'reg_lambda': 0.2333641942246765}. Best is trial 25 with value: 24815.034972711677.\n",
      "[I 2025-01-10 23:27:23,455] Trial 42 finished with value: 22026.707519546108 and parameters: {'boosting_type': 'dart', 'num_leaves': 273, 'max_depth': 12, 'learning_rate': 0.032721631979874335, 'n_estimators': 592, 'min_child_samples': 8, 'subsample': 0.9305621321721992, 'colsample_bytree': 0.5444126165015274, 'reg_alpha': 0.294939317914707, 'reg_lambda': 0.00010294535442951804}. Best is trial 42 with value: 22026.707519546108.\n",
      "[I 2025-01-10 23:28:31,145] Trial 44 finished with value: 25126.010688853017 and parameters: {'boosting_type': 'dart', 'num_leaves': 274, 'max_depth': 12, 'learning_rate': 0.0445040645455049, 'n_estimators': 567, 'min_child_samples': 82, 'subsample': 0.9046802777229582, 'colsample_bytree': 0.8324880830164232, 'reg_alpha': 0.209783945806585, 'reg_lambda': 0.63375214695207}. Best is trial 42 with value: 22026.707519546108.\n",
      "[I 2025-01-10 23:34:44,454] Trial 52 finished with value: 25402.928614918175 and parameters: {'boosting_type': 'goss', 'num_leaves': 222, 'max_depth': 14, 'learning_rate': 0.003768690268656538, 'n_estimators': 928, 'min_child_samples': 25, 'subsample': 0.9538115349378766, 'colsample_bytree': 0.5235032616952371, 'reg_alpha': 2.15980551622079, 'reg_lambda': 0.0002099461659768284}. Best is trial 42 with value: 22026.707519546108.\n",
      "[I 2025-01-10 23:52:52,816] Trial 49 finished with value: 33607.43456969556 and parameters: {'boosting_type': 'dart', 'num_leaves': 261, 'max_depth': 13, 'learning_rate': 0.01021325328010688, 'n_estimators': 638, 'min_child_samples': 49, 'subsample': 0.9429645620602453, 'colsample_bytree': 0.765157106447742, 'reg_alpha': 2.259460951742755, 'reg_lambda': 0.21379084834668344}. Best is trial 42 with value: 22026.707519546108.\n",
      "[I 2025-01-11 00:01:19,010] Trial 53 finished with value: 45518.37903462346 and parameters: {'boosting_type': 'dart', 'num_leaves': 262, 'max_depth': 9, 'learning_rate': 0.008475269134027656, 'n_estimators': 626, 'min_child_samples': 48, 'subsample': 0.93463664447978, 'colsample_bytree': 0.5489035398441732, 'reg_alpha': 2.921361283775356, 'reg_lambda': 0.002604598443695296}. Best is trial 42 with value: 22026.707519546108.\n",
      "[I 2025-01-11 00:08:56,356] Trial 51 finished with value: 35781.3486046997 and parameters: {'boosting_type': 'dart', 'num_leaves': 222, 'max_depth': 9, 'learning_rate': 0.008793118369230947, 'n_estimators': 872, 'min_child_samples': 21, 'subsample': 0.9589897772294849, 'colsample_bytree': 0.5325376860541298, 'reg_alpha': 2.5171339629097926, 'reg_lambda': 0.06005075645036112}. Best is trial 42 with value: 22026.707519546108.\n",
      "[I 2025-01-11 00:13:07,699] Trial 50 finished with value: 34389.15170762369 and parameters: {'boosting_type': 'dart', 'num_leaves': 224, 'max_depth': 9, 'learning_rate': 0.009175220596969248, 'n_estimators': 934, 'min_child_samples': 61, 'subsample': 0.949379441797251, 'colsample_bytree': 0.6092051544814928, 'reg_alpha': 2.7417151324808207, 'reg_lambda': 1.5494150828013034}. Best is trial 42 with value: 22026.707519546108.\n",
      "[I 2025-01-11 00:21:43,286] Trial 56 finished with value: 24396.24706799925 and parameters: {'boosting_type': 'dart', 'num_leaves': 285, 'max_depth': 9, 'learning_rate': 0.06083046483679014, 'n_estimators': 403, 'min_child_samples': 39, 'subsample': 0.8449159828280419, 'colsample_bytree': 0.8864389273520138, 'reg_alpha': 0.02242044667215442, 'reg_lambda': 1.5843472143273705}. Best is trial 42 with value: 22026.707519546108.\n",
      "[I 2025-01-11 00:26:18,835] Trial 58 finished with value: 23912.16207651771 and parameters: {'boosting_type': 'dart', 'num_leaves': 283, 'max_depth': 8, 'learning_rate': 0.05928076016551234, 'n_estimators': 228, 'min_child_samples': 35, 'subsample': 0.8444621869227413, 'colsample_bytree': 0.8868391277878785, 'reg_alpha': 0.029246870280965648, 'reg_lambda': 0.00013563433717853215}. Best is trial 42 with value: 22026.707519546108.\n",
      "[I 2025-01-11 00:26:49,603] Trial 59 finished with value: 27094.775442714814 and parameters: {'boosting_type': 'gbdt', 'num_leaves': 290, 'max_depth': 7, 'learning_rate': 0.06194383146085667, 'n_estimators': 243, 'min_child_samples': 37, 'subsample': 0.8411324251773961, 'colsample_bytree': 0.9674270645468975, 'reg_alpha': 0.02264301900184117, 'reg_lambda': 0.00011266543836345253}. Best is trial 42 with value: 22026.707519546108.\n",
      "[I 2025-01-11 00:27:32,522] Trial 57 finished with value: 24453.71601239024 and parameters: {'boosting_type': 'dart', 'num_leaves': 284, 'max_depth': 13, 'learning_rate': 0.05600521965094527, 'n_estimators': 401, 'min_child_samples': 35, 'subsample': 0.5016615697002624, 'colsample_bytree': 0.8621104595269742, 'reg_alpha': 0.0317596016976024, 'reg_lambda': 0.0001267885054568785}. Best is trial 42 with value: 22026.707519546108.\n",
      "[I 2025-01-11 00:28:35,218] Trial 61 finished with value: 34348.48997435032 and parameters: {'boosting_type': 'dart', 'num_leaves': 300, 'max_depth': 5, 'learning_rate': 0.0743142884240404, 'n_estimators': 134, 'min_child_samples': 42, 'subsample': 0.5218752195265202, 'colsample_bytree': 0.8868643841327423, 'reg_alpha': 0.023599153381463994, 'reg_lambda': 0.0007589989648200188}. Best is trial 42 with value: 22026.707519546108.\n",
      "[I 2025-01-11 00:28:44,764] Trial 60 finished with value: 24339.65551348911 and parameters: {'boosting_type': 'dart', 'num_leaves': 300, 'max_depth': 8, 'learning_rate': 0.07829983408458252, 'n_estimators': 133, 'min_child_samples': 36, 'subsample': 0.8517016467686077, 'colsample_bytree': 0.8845413004896955, 'reg_alpha': 0.01768615337794288, 'reg_lambda': 0.0004597018460918824}. Best is trial 42 with value: 22026.707519546108.\n",
      "[I 2025-01-11 00:31:41,153] Trial 62 finished with value: 25508.023623821176 and parameters: {'boosting_type': 'dart', 'num_leaves': 289, 'max_depth': 8, 'learning_rate': 0.06193227368600154, 'n_estimators': 167, 'min_child_samples': 32, 'subsample': 0.5049023732881452, 'colsample_bytree': 0.8920501322732506, 'reg_alpha': 0.013901943726108304, 'reg_lambda': 0.00011878180058336378}. Best is trial 42 with value: 22026.707519546108.\n",
      "[I 2025-01-11 00:33:30,098] Trial 63 finished with value: 23306.201454345282 and parameters: {'boosting_type': 'dart', 'num_leaves': 286, 'max_depth': 8, 'learning_rate': 0.0881509796709138, 'n_estimators': 222, 'min_child_samples': 31, 'subsample': 0.8519535292533612, 'colsample_bytree': 0.8922237183422558, 'reg_alpha': 0.014784627303008564, 'reg_lambda': 0.0002692665841821921}. Best is trial 42 with value: 22026.707519546108.\n",
      "[I 2025-01-11 00:35:17,610] Trial 64 finished with value: 23600.06309824907 and parameters: {'boosting_type': 'dart', 'num_leaves': 276, 'max_depth': 8, 'learning_rate': 0.09549689730582642, 'n_estimators': 192, 'min_child_samples': 30, 'subsample': 0.854587867956221, 'colsample_bytree': 0.8576146561423537, 'reg_alpha': 0.04096593706958615, 'reg_lambda': 0.0002616960584870132}. Best is trial 42 with value: 22026.707519546108.\n",
      "[I 2025-01-11 00:36:21,845] Trial 65 finished with value: 24299.299355001833 and parameters: {'boosting_type': 'dart', 'num_leaves': 279, 'max_depth': 7, 'learning_rate': 0.09431329460676081, 'n_estimators': 187, 'min_child_samples': 30, 'subsample': 0.7975034467264083, 'colsample_bytree': 0.8642615286476469, 'reg_alpha': 0.0023721335147042586, 'reg_lambda': 0.0002798892107043355}. Best is trial 42 with value: 22026.707519546108.\n",
      "[I 2025-01-11 00:39:48,622] Trial 67 finished with value: 24282.01717577406 and parameters: {'boosting_type': 'dart', 'num_leaves': 276, 'max_depth': 7, 'learning_rate': 0.09492601634449103, 'n_estimators': 193, 'min_child_samples': 29, 'subsample': 0.7981783604807272, 'colsample_bytree': 0.8948441495458568, 'reg_alpha': 0.001710475849983239, 'reg_lambda': 0.00035558094026786057}. Best is trial 42 with value: 22026.707519546108.\n",
      "[I 2025-01-11 00:40:04,565] Trial 66 finished with value: 22986.17275499911 and parameters: {'boosting_type': 'dart', 'num_leaves': 281, 'max_depth': 8, 'learning_rate': 0.09606581987955351, 'n_estimators': 221, 'min_child_samples': 30, 'subsample': 0.7925476723372864, 'colsample_bytree': 0.8604602055199959, 'reg_alpha': 0.04244851298385612, 'reg_lambda': 0.0003116134183071341}. Best is trial 42 with value: 22026.707519546108.\n",
      "[I 2025-01-11 00:40:18,580] Trial 54 finished with value: 23607.990338003157 and parameters: {'boosting_type': 'dart', 'num_leaves': 258, 'max_depth': 9, 'learning_rate': 0.059349748948865196, 'n_estimators': 928, 'min_child_samples': 33, 'subsample': 0.8430068728744522, 'colsample_bytree': 0.8898748900410882, 'reg_alpha': 0.05274456167247174, 'reg_lambda': 0.0011646568231537021}. Best is trial 42 with value: 22026.707519546108.\n",
      "[I 2025-01-11 00:42:26,002] Trial 68 finished with value: 24126.277643103665 and parameters: {'boosting_type': 'dart', 'num_leaves': 276, 'max_depth': 7, 'learning_rate': 0.09414220320948474, 'n_estimators': 189, 'min_child_samples': 20, 'subsample': 0.825587666952986, 'colsample_bytree': 0.8521786559132695, 'reg_alpha': 0.002019014509225307, 'reg_lambda': 0.00034444806521194947}. Best is trial 42 with value: 22026.707519546108.\n",
      "[I 2025-01-11 00:42:46,096] Trial 71 finished with value: 34258.87585282978 and parameters: {'boosting_type': 'gbdt', 'num_leaves': 265, 'max_depth': 3, 'learning_rate': 0.07849543549516282, 'n_estimators': 247, 'min_child_samples': 20, 'subsample': 0.827799701004447, 'colsample_bytree': 0.9296063817469342, 'reg_alpha': 0.05325875257861887, 'reg_lambda': 0.0007607402151650661}. Best is trial 42 with value: 22026.707519546108.\n",
      "[I 2025-01-11 00:43:05,820] Trial 69 finished with value: 24053.24345728727 and parameters: {'boosting_type': 'dart', 'num_leaves': 275, 'max_depth': 7, 'learning_rate': 0.09154395735792288, 'n_estimators': 200, 'min_child_samples': 20, 'subsample': 0.7935303284317938, 'colsample_bytree': 0.8529058700323168, 'reg_alpha': 0.0006229844158823415, 'reg_lambda': 0.0002108778999064334}. Best is trial 42 with value: 22026.707519546108.\n",
      "[I 2025-01-11 00:43:43,378] Trial 73 finished with value: 24687.90196173913 and parameters: {'boosting_type': 'goss', 'num_leaves': 292, 'max_depth': 9, 'learning_rate': 0.0381218530552958, 'n_estimators': 110, 'min_child_samples': 15, 'subsample': 0.8732536848676463, 'colsample_bytree': 0.8247756596203469, 'reg_alpha': 0.0003223968093928912, 'reg_lambda': 0.00018408127930847365}. Best is trial 42 with value: 22026.707519546108.\n",
      "[I 2025-01-11 00:43:48,604] Trial 72 finished with value: 45304.74233976095 and parameters: {'boosting_type': 'dart', 'num_leaves': 291, 'max_depth': 7, 'learning_rate': 0.036768227909474996, 'n_estimators': 102, 'min_child_samples': 15, 'subsample': 0.7873316664645792, 'colsample_bytree': 0.9295217121222955, 'reg_alpha': 0.0006191566933763211, 'reg_lambda': 0.0012455197451759924}. Best is trial 42 with value: 22026.707519546108.\n",
      "[I 2025-01-11 00:44:00,103] Trial 70 finished with value: 23910.55583982911 and parameters: {'boosting_type': 'dart', 'num_leaves': 269, 'max_depth': 7, 'learning_rate': 0.08633975852367341, 'n_estimators': 222, 'min_child_samples': 19, 'subsample': 0.7940454956389268, 'colsample_bytree': 0.9397554338422068, 'reg_alpha': 0.05072785784115145, 'reg_lambda': 0.0008816388249097648}. Best is trial 42 with value: 22026.707519546108.\n",
      "[I 2025-01-11 00:46:07,360] Trial 75 finished with value: 27166.68569852889 and parameters: {'boosting_type': 'dart', 'num_leaves': 121, 'max_depth': 5, 'learning_rate': 0.09804117726096297, 'n_estimators': 228, 'min_child_samples': 8, 'subsample': 0.819978982313938, 'colsample_bytree': 0.8600682775811904, 'reg_alpha': 0.07964727308702582, 'reg_lambda': 0.00017361318759235783}. Best is trial 42 with value: 22026.707519546108.\n",
      "[I 2025-01-11 00:48:33,000] Trial 55 finished with value: 23809.178406161474 and parameters: {'boosting_type': 'dart', 'num_leaves': 282, 'max_depth': 9, 'learning_rate': 0.060169040662091486, 'n_estimators': 920, 'min_child_samples': 35, 'subsample': 0.9703076692428263, 'colsample_bytree': 0.8861464310120097, 'reg_alpha': 0.02901743218416207, 'reg_lambda': 5.49211920751508}. Best is trial 42 with value: 22026.707519546108.\n",
      "[I 2025-01-11 00:51:02,695] Trial 74 finished with value: 22840.368847767222 and parameters: {'boosting_type': 'dart', 'num_leaves': 272, 'max_depth': 7, 'learning_rate': 0.0991676297211055, 'n_estimators': 336, 'min_child_samples': 5, 'subsample': 0.8327693845094103, 'colsample_bytree': 0.8533027209163844, 'reg_alpha': 0.000484437797695165, 'reg_lambda': 0.0017989632136959813}. Best is trial 42 with value: 22026.707519546108.\n",
      "[I 2025-01-11 00:52:01,292] Trial 76 finished with value: 22879.02774832289 and parameters: {'boosting_type': 'dart', 'num_leaves': 258, 'max_depth': 8, 'learning_rate': 0.07450438162513913, 'n_estimators': 323, 'min_child_samples': 10, 'subsample': 0.7548947363787409, 'colsample_bytree': 0.8544044181602, 'reg_alpha': 0.09187114262230861, 'reg_lambda': 0.001479579837507896}. Best is trial 42 with value: 22026.707519546108.\n",
      "[I 2025-01-11 00:52:35,325] Trial 77 finished with value: 22759.466008997064 and parameters: {'boosting_type': 'dart', 'num_leaves': 258, 'max_depth': 8, 'learning_rate': 0.07391705640277606, 'n_estimators': 284, 'min_child_samples': 11, 'subsample': 0.7975163128007354, 'colsample_bytree': 0.9028332841885964, 'reg_alpha': 0.050402864566349195, 'reg_lambda': 0.001660416626596283}. Best is trial 42 with value: 22026.707519546108.\n",
      "[I 2025-01-11 00:56:35,860] Trial 78 finished with value: 22224.385582210944 and parameters: {'boosting_type': 'dart', 'num_leaves': 255, 'max_depth': 8, 'learning_rate': 0.053846854107062615, 'n_estimators': 337, 'min_child_samples': 10, 'subsample': 0.9693521379945607, 'colsample_bytree': 0.9085316310071618, 'reg_alpha': 0.03931086059184375, 'reg_lambda': 0.0014103619565366025}. Best is trial 42 with value: 22026.707519546108.\n",
      "[I 2025-01-11 00:57:36,191] Trial 80 finished with value: 23265.181307871953 and parameters: {'boosting_type': 'dart', 'num_leaves': 260, 'max_depth': 8, 'learning_rate': 0.07200472323060858, 'n_estimators': 291, 'min_child_samples': 11, 'subsample': 0.9779248499766826, 'colsample_bytree': 0.9053850442874726, 'reg_alpha': 0.03935463541406129, 'reg_lambda': 0.002586492338001533}. Best is trial 42 with value: 22026.707519546108.\n",
      "[I 2025-01-11 00:58:20,645] Trial 79 finished with value: 22012.752039532104 and parameters: {'boosting_type': 'dart', 'num_leaves': 258, 'max_depth': 8, 'learning_rate': 0.07224290084064122, 'n_estimators': 301, 'min_child_samples': 5, 'subsample': 0.9773487107075421, 'colsample_bytree': 0.9011817947068029, 'reg_alpha': 0.04063525938772354, 'reg_lambda': 0.0014482851327836004}. Best is trial 79 with value: 22012.752039532104.\n",
      "[I 2025-01-11 01:00:19,555] Trial 81 finished with value: 22416.29299219675 and parameters: {'boosting_type': 'dart', 'num_leaves': 256, 'max_depth': 8, 'learning_rate': 0.07306994492724603, 'n_estimators': 332, 'min_child_samples': 11, 'subsample': 0.7685157499495255, 'colsample_bytree': 0.9082869778221878, 'reg_alpha': 0.08052278623568357, 'reg_lambda': 0.0019181444430028166}. Best is trial 79 with value: 22012.752039532104.\n",
      "[I 2025-01-11 01:04:27,626] Trial 82 finished with value: 106464.99159847027 and parameters: {'boosting_type': 'dart', 'num_leaves': 253, 'max_depth': 8, 'learning_rate': 0.00047064205560294874, 'n_estimators': 330, 'min_child_samples': 10, 'subsample': 0.6936010375534964, 'colsample_bytree': 0.9141709072196095, 'reg_alpha': 0.16492442236592014, 'reg_lambda': 0.0022367316203321616}. Best is trial 79 with value: 22012.752039532104.\n",
      "[I 2025-01-11 01:05:47,880] Trial 83 finished with value: 26759.828248293594 and parameters: {'boosting_type': 'dart', 'num_leaves': 255, 'max_depth': 8, 'learning_rate': 0.026829592770663054, 'n_estimators': 324, 'min_child_samples': 10, 'subsample': 0.9748936557020564, 'colsample_bytree': 0.9047195152179334, 'reg_alpha': 0.0988806618253887, 'reg_lambda': 0.0024294131620206227}. Best is trial 79 with value: 22012.752039532104.\n",
      "[I 2025-01-11 01:06:11,967] Trial 84 finished with value: 22502.943625778924 and parameters: {'boosting_type': 'dart', 'num_leaves': 235, 'max_depth': 8, 'learning_rate': 0.07320734427750802, 'n_estimators': 315, 'min_child_samples': 10, 'subsample': 0.7543593836111528, 'colsample_bytree': 0.9181400320709872, 'reg_alpha': 0.0795669726621898, 'reg_lambda': 0.0028249109325360535}. Best is trial 79 with value: 22012.752039532104.\n",
      "[I 2025-01-11 01:08:32,389] Trial 85 finished with value: 22804.627119714594 and parameters: {'boosting_type': 'dart', 'num_leaves': 238, 'max_depth': 8, 'learning_rate': 0.07280921870767783, 'n_estimators': 320, 'min_child_samples': 10, 'subsample': 0.9824434433678669, 'colsample_bytree': 0.9023689298609973, 'reg_alpha': 0.07658716977492239, 'reg_lambda': 0.00255225751497592}. Best is trial 79 with value: 22012.752039532104.\n",
      "[I 2025-01-11 01:10:08,190] Trial 86 finished with value: 38490.52917160538 and parameters: {'boosting_type': 'dart', 'num_leaves': 237, 'max_depth': 6, 'learning_rate': 0.026958101430048603, 'n_estimators': 338, 'min_child_samples': 5, 'subsample': 0.9709364910037696, 'colsample_bytree': 0.5008392046227699, 'reg_alpha': 0.08295420522443817, 'reg_lambda': 0.0040367163097412275}. Best is trial 79 with value: 22012.752039532104.\n",
      "[I 2025-01-11 01:10:24,530] Trial 90 finished with value: 26122.87060968278 and parameters: {'boosting_type': 'goss', 'num_leaves': 239, 'max_depth': 7, 'learning_rate': 0.07264098028329523, 'n_estimators': 266, 'min_child_samples': 14, 'subsample': 0.7483269639963577, 'colsample_bytree': 0.9235698070997981, 'reg_alpha': 0.139718080751284, 'reg_lambda': 0.004382978195984818}. Best is trial 79 with value: 22012.752039532104.\n",
      "[I 2025-01-11 01:11:55,484] Trial 87 finished with value: 22763.43129868415 and parameters: {'boosting_type': 'dart', 'num_leaves': 239, 'max_depth': 8, 'learning_rate': 0.06652638603589436, 'n_estimators': 273, 'min_child_samples': 6, 'subsample': 0.998667668816628, 'colsample_bytree': 0.9660547393744321, 'reg_alpha': 0.07445972255809487, 'reg_lambda': 0.00463579185305988}. Best is trial 79 with value: 22012.752039532104.\n",
      "[I 2025-01-11 01:12:28,700] Trial 88 finished with value: 25059.351391696466 and parameters: {'boosting_type': 'dart', 'num_leaves': 237, 'max_depth': 6, 'learning_rate': 0.05398283864196481, 'n_estimators': 345, 'min_child_samples': 5, 'subsample': 0.7557509167212513, 'colsample_bytree': 0.9992442819467775, 'reg_alpha': 0.13106814231650712, 'reg_lambda': 0.005990078259217612}. Best is trial 79 with value: 22012.752039532104.\n",
      "[I 2025-01-11 01:13:15,626] Trial 93 finished with value: 25337.431226738096 and parameters: {'boosting_type': 'gbdt', 'num_leaves': 216, 'max_depth': 9, 'learning_rate': 0.049576891994478074, 'n_estimators': 306, 'min_child_samples': 17, 'subsample': 0.9978065740545093, 'colsample_bytree': 0.9605662153187874, 'reg_alpha': 0.2240503017007814, 'reg_lambda': 0.0015564523087256458}. Best is trial 79 with value: 22012.752039532104.\n",
      "[I 2025-01-11 01:14:25,180] Trial 89 finished with value: 25438.032967706313 and parameters: {'boosting_type': 'dart', 'num_leaves': 234, 'max_depth': 6, 'learning_rate': 0.050033853604043214, 'n_estimators': 347, 'min_child_samples': 5, 'subsample': 0.9987040655315996, 'colsample_bytree': 0.9627176995026779, 'reg_alpha': 0.12554013987375076, 'reg_lambda': 0.004385776908148674}. Best is trial 79 with value: 22012.752039532104.\n",
      "[I 2025-01-11 01:18:08,095] Trial 91 finished with value: 22666.846425737018 and parameters: {'boosting_type': 'dart', 'num_leaves': 216, 'max_depth': 9, 'learning_rate': 0.05117367778382305, 'n_estimators': 311, 'min_child_samples': 17, 'subsample': 0.7619827380029877, 'colsample_bytree': 0.9592712172652098, 'reg_alpha': 0.07197620286315803, 'reg_lambda': 0.001706039977251012}. Best is trial 79 with value: 22012.752039532104.\n",
      "[I 2025-01-11 01:20:42,102] Trial 95 finished with value: 23153.604335998058 and parameters: {'boosting_type': 'dart', 'num_leaves': 247, 'max_depth': 8, 'learning_rate': 0.07055665829695372, 'n_estimators': 272, 'min_child_samples': 11, 'subsample': 0.9846612239476146, 'colsample_bytree': 0.9764693527669843, 'reg_alpha': 0.07038091240573764, 'reg_lambda': 0.0018712076778937795}. Best is trial 79 with value: 22012.752039532104.\n",
      "[I 2025-01-11 01:20:46,538] Trial 94 finished with value: 24134.956924538394 and parameters: {'boosting_type': 'dart', 'num_leaves': 246, 'max_depth': 7, 'learning_rate': 0.0419857729608696, 'n_estimators': 366, 'min_child_samples': 12, 'subsample': 0.9847234698365964, 'colsample_bytree': 0.9744439017420741, 'reg_alpha': 0.0700677956244731, 'reg_lambda': 0.0018720183079479862}. Best is trial 79 with value: 22012.752039532104.\n",
      "[I 2025-01-11 01:21:15,495] Trial 92 finished with value: 22630.064625488023 and parameters: {'boosting_type': 'dart', 'num_leaves': 231, 'max_depth': 9, 'learning_rate': 0.049341040878257136, 'n_estimators': 352, 'min_child_samples': 5, 'subsample': 0.9864790083945661, 'colsample_bytree': 0.9682067836347709, 'reg_alpha': 0.4554290626004553, 'reg_lambda': 0.005954448148185718}. Best is trial 79 with value: 22012.752039532104.\n",
      "[I 2025-01-11 01:24:49,291] Trial 96 finished with value: 23567.149911988246 and parameters: {'boosting_type': 'dart', 'num_leaves': 245, 'max_depth': 9, 'learning_rate': 0.037648898585458085, 'n_estimators': 270, 'min_child_samples': 12, 'subsample': 0.7378821113200923, 'colsample_bytree': 0.9715202505637963, 'reg_alpha': 0.07303034521031337, 'reg_lambda': 0.0016742007964265868}. Best is trial 79 with value: 22012.752039532104.\n",
      "[I 2025-01-11 01:27:17,240] Trial 98 finished with value: 22606.550047266115 and parameters: {'boosting_type': 'dart', 'num_leaves': 226, 'max_depth': 9, 'learning_rate': 0.040064288765999566, 'n_estimators': 303, 'min_child_samples': 8, 'subsample': 0.7711947940077859, 'colsample_bytree': 0.9487420907622403, 'reg_alpha': 0.528138555862727, 'reg_lambda': 0.003349877507567461}. Best is trial 79 with value: 22012.752039532104.\n",
      "[I 2025-01-11 01:29:01,724] Trial 97 finished with value: 22280.5001030654 and parameters: {'boosting_type': 'dart', 'num_leaves': 232, 'max_depth': 9, 'learning_rate': 0.04111656863401517, 'n_estimators': 386, 'min_child_samples': 8, 'subsample': 0.7678084295755264, 'colsample_bytree': 0.9492126814906242, 'reg_alpha': 0.06717211499203986, 'reg_lambda': 0.0035722797191316473}. Best is trial 79 with value: 22012.752039532104.\n",
      "[I 2025-01-11 01:29:23,686] Trial 99 finished with value: 22655.899042481127 and parameters: {'boosting_type': 'dart', 'num_leaves': 226, 'max_depth': 9, 'learning_rate': 0.03323710004966643, 'n_estimators': 381, 'min_child_samples': 8, 'subsample': 0.9612398914872649, 'colsample_bytree': 0.9419761649004849, 'reg_alpha': 0.5327131925023004, 'reg_lambda': 0.01546706304751726}. Best is trial 79 with value: 22012.752039532104.\n"
     ]
    },
    {
     "name": "stdout",
     "output_type": "stream",
     "text": [
      "Best trial:\n",
      "  Value: 22012.752039532104\n",
      "  Params: \n",
      "    boosting_type: dart\n",
      "    num_leaves: 258\n",
      "    max_depth: 8\n",
      "    learning_rate: 0.07224290084064122\n",
      "    n_estimators: 301\n",
      "    min_child_samples: 5\n",
      "    subsample: 0.9773487107075421\n",
      "    colsample_bytree: 0.9011817947068029\n",
      "    reg_alpha: 0.04063525938772354\n",
      "    reg_lambda: 0.0014482851327836004\n",
      "Validation RMSE: 22012.752039531995\n"
     ]
    }
   ],
   "execution_count": 25
  },
  {
   "metadata": {
    "ExecuteTime": {
     "end_time": "2025-01-11T01:25:57.428898Z",
     "start_time": "2025-01-10T08:44:37.989341Z"
    }
   },
   "cell_type": "code",
   "source": [
    "X_test = dt_test.drop(['target'], axis=1)\n",
    "\n",
    "real_test_pred = model.predict(X_test)\n",
    "print(f'RMSE test: {np.sqrt(metrics.mean_squared_error(df_test_y, real_test_pred))}')"
   ],
   "id": "c058038429b80b58",
   "outputs": [
    {
     "name": "stdout",
     "output_type": "stream",
     "text": [
      "RMSE test: 27833.624689672277\n"
     ]
    }
   ],
   "execution_count": 379
  },
  {
   "metadata": {
    "ExecuteTime": {
     "end_time": "2025-01-11T01:25:57.428992Z",
     "start_time": "2025-01-10T08:45:46.106412Z"
    }
   },
   "cell_type": "code",
   "outputs": [
    {
     "name": "stdout",
     "output_type": "stream",
     "text": [
      "번지: 0.0103\n",
      "아파트명: 0.0077\n",
      "계약년월: 0.1972\n",
      "층: 0.0069\n",
      "건축년도: 0.0726\n",
      "도로명: 0.0113\n",
      "좌표X: 0.0429\n",
      "좌표Y: 0.0528\n",
      "금리_단기1년전차이: 0.0034\n",
      "평수: 0.3802\n",
      "동: 0.0062\n",
      "아파트ID: 0.0244\n",
      "아파트ID거리: 0.0171\n",
      "가까운공원ID: 0.0342\n",
      "학군: 0.1328\n"
     ]
    }
   ],
   "execution_count": 383,
   "source": [
    "# Feature importance 계산 및 정렬\n",
    "feature_importances = model.feature_importances_\n",
    "features = X_train.columns\n",
    "\n",
    "# Feature와 importance를 묶고, 중요도 기준으로 내림차순 정렬\n",
    "sorted_features = sorted(zip(features, feature_importances), key=lambda x: x[1], reverse=True)\n",
    "\n",
    "# 정렬된 결과 출력\n",
    "for feature, importance in sorted_features:\n",
    "    print(f'{feature}: {importance:.4f}')"
   ],
   "id": "2a55c64ee0e25446"
  },
  {
   "metadata": {
    "ExecuteTime": {
     "end_time": "2025-01-11T01:25:57.429124Z",
     "start_time": "2025-01-10T08:30:06.569691Z"
    }
   },
   "cell_type": "code",
   "source": "X_test.shape, real_test_pred.shape, df_test_y.shape",
   "id": "7f3be5c6ff0f0f6e",
   "outputs": [
    {
     "data": {
      "text/plain": [
       "((5607, 15), (5607,), (5607, 1))"
      ]
     },
     "execution_count": 362,
     "metadata": {},
     "output_type": "execute_result"
    }
   ],
   "execution_count": 362
  },
  {
   "metadata": {
    "ExecuteTime": {
     "end_time": "2025-01-11T01:25:57.429380Z",
     "start_time": "2025-01-10T08:30:09.025255Z"
    }
   },
   "cell_type": "code",
   "source": [
    "# Squared_error를 계산하는 함수를 정의하겠습니다.\n",
    "def calculate_se(target, pred):\n",
    "    squared_errors = (target - pred) ** 2\n",
    "    return squared_errors"
   ],
   "id": "cba55395adae6179",
   "outputs": [],
   "execution_count": 363
  },
  {
   "metadata": {
    "ExecuteTime": {
     "end_time": "2025-01-11T01:25:57.429481Z",
     "start_time": "2025-01-10T08:30:09.236486Z"
    }
   },
   "cell_type": "code",
   "source": [
    "X_val = X_test.reset_index(drop=True)\n",
    "# real_test_pred.reset_index(drop=True)\n",
    "X_val"
   ],
   "id": "645d130018057a8",
   "outputs": [
    {
     "data": {
      "text/plain": [
       "        번지  아파트명    계약년월   층  건축년도   도로명         좌표X        좌표Y  금리_단기1년전차이  \\\n",
       "0     1678   327  202301  10  1983  4465  127.068028  37.487802        2.25   \n",
       "1     1665   328  202212   3  1983   471  127.072682  37.489122        2.25   \n",
       "2     1665   328  202301  10  1983   471  127.072682  37.489122        2.50   \n",
       "3      728  1933  202210   7  2019  4978  127.064151  37.480049        1.75   \n",
       "4      728  1933  202212   8  2019  4978  127.064151  37.480049        2.25   \n",
       "...    ...   ...     ...  ..   ...   ...         ...        ...         ...   \n",
       "5602  3322    36  202207   4  2021  5352  126.891951  37.584794        1.25   \n",
       "5603  3322    36  202207   6  2021  5352  126.891951  37.584794        1.25   \n",
       "5604  3322    36  202207   7  2021  5352  126.891951  37.584794        1.25   \n",
       "5605  3322    36  202209   4  2021  5352  126.891951  37.584794        1.75   \n",
       "5606  5760  3895  202209  14  2014  5536  127.106720  37.618870        1.75   \n",
       "\n",
       "      평수    동  아파트ID     아파트ID거리  가까운공원ID  학군  \n",
       "0     22    8   1200    0.000000     1661   1  \n",
       "1     25    8   1199   45.380282     1731   1  \n",
       "2     25    8   1199   45.380282     1731   1  \n",
       "3     18    8    250  117.916314     1691   1  \n",
       "4     25    8    250  117.916314     1691   1  \n",
       "...   ..  ...    ...         ...      ...  ..  \n",
       "5602  25  163    181    0.000000      747   0  \n",
       "5603  25  163    181    0.000000      747   0  \n",
       "5604  25  163    181    0.000000      747   0  \n",
       "5605  25  163    181    0.000000      747   0  \n",
       "5606  25  174    735  170.088431      307   0  \n",
       "\n",
       "[5607 rows x 15 columns]"
      ],
      "text/html": [
       "<div>\n",
       "<style scoped>\n",
       "    .dataframe tbody tr th:only-of-type {\n",
       "        vertical-align: middle;\n",
       "    }\n",
       "\n",
       "    .dataframe tbody tr th {\n",
       "        vertical-align: top;\n",
       "    }\n",
       "\n",
       "    .dataframe thead th {\n",
       "        text-align: right;\n",
       "    }\n",
       "</style>\n",
       "<table border=\"1\" class=\"dataframe\">\n",
       "  <thead>\n",
       "    <tr style=\"text-align: right;\">\n",
       "      <th></th>\n",
       "      <th>번지</th>\n",
       "      <th>아파트명</th>\n",
       "      <th>계약년월</th>\n",
       "      <th>층</th>\n",
       "      <th>건축년도</th>\n",
       "      <th>도로명</th>\n",
       "      <th>좌표X</th>\n",
       "      <th>좌표Y</th>\n",
       "      <th>금리_단기1년전차이</th>\n",
       "      <th>평수</th>\n",
       "      <th>동</th>\n",
       "      <th>아파트ID</th>\n",
       "      <th>아파트ID거리</th>\n",
       "      <th>가까운공원ID</th>\n",
       "      <th>학군</th>\n",
       "    </tr>\n",
       "  </thead>\n",
       "  <tbody>\n",
       "    <tr>\n",
       "      <th>0</th>\n",
       "      <td>1678</td>\n",
       "      <td>327</td>\n",
       "      <td>202301</td>\n",
       "      <td>10</td>\n",
       "      <td>1983</td>\n",
       "      <td>4465</td>\n",
       "      <td>127.068028</td>\n",
       "      <td>37.487802</td>\n",
       "      <td>2.25</td>\n",
       "      <td>22</td>\n",
       "      <td>8</td>\n",
       "      <td>1200</td>\n",
       "      <td>0.000000</td>\n",
       "      <td>1661</td>\n",
       "      <td>1</td>\n",
       "    </tr>\n",
       "    <tr>\n",
       "      <th>1</th>\n",
       "      <td>1665</td>\n",
       "      <td>328</td>\n",
       "      <td>202212</td>\n",
       "      <td>3</td>\n",
       "      <td>1983</td>\n",
       "      <td>471</td>\n",
       "      <td>127.072682</td>\n",
       "      <td>37.489122</td>\n",
       "      <td>2.25</td>\n",
       "      <td>25</td>\n",
       "      <td>8</td>\n",
       "      <td>1199</td>\n",
       "      <td>45.380282</td>\n",
       "      <td>1731</td>\n",
       "      <td>1</td>\n",
       "    </tr>\n",
       "    <tr>\n",
       "      <th>2</th>\n",
       "      <td>1665</td>\n",
       "      <td>328</td>\n",
       "      <td>202301</td>\n",
       "      <td>10</td>\n",
       "      <td>1983</td>\n",
       "      <td>471</td>\n",
       "      <td>127.072682</td>\n",
       "      <td>37.489122</td>\n",
       "      <td>2.50</td>\n",
       "      <td>25</td>\n",
       "      <td>8</td>\n",
       "      <td>1199</td>\n",
       "      <td>45.380282</td>\n",
       "      <td>1731</td>\n",
       "      <td>1</td>\n",
       "    </tr>\n",
       "    <tr>\n",
       "      <th>3</th>\n",
       "      <td>728</td>\n",
       "      <td>1933</td>\n",
       "      <td>202210</td>\n",
       "      <td>7</td>\n",
       "      <td>2019</td>\n",
       "      <td>4978</td>\n",
       "      <td>127.064151</td>\n",
       "      <td>37.480049</td>\n",
       "      <td>1.75</td>\n",
       "      <td>18</td>\n",
       "      <td>8</td>\n",
       "      <td>250</td>\n",
       "      <td>117.916314</td>\n",
       "      <td>1691</td>\n",
       "      <td>1</td>\n",
       "    </tr>\n",
       "    <tr>\n",
       "      <th>4</th>\n",
       "      <td>728</td>\n",
       "      <td>1933</td>\n",
       "      <td>202212</td>\n",
       "      <td>8</td>\n",
       "      <td>2019</td>\n",
       "      <td>4978</td>\n",
       "      <td>127.064151</td>\n",
       "      <td>37.480049</td>\n",
       "      <td>2.25</td>\n",
       "      <td>25</td>\n",
       "      <td>8</td>\n",
       "      <td>250</td>\n",
       "      <td>117.916314</td>\n",
       "      <td>1691</td>\n",
       "      <td>1</td>\n",
       "    </tr>\n",
       "    <tr>\n",
       "      <th>...</th>\n",
       "      <td>...</td>\n",
       "      <td>...</td>\n",
       "      <td>...</td>\n",
       "      <td>...</td>\n",
       "      <td>...</td>\n",
       "      <td>...</td>\n",
       "      <td>...</td>\n",
       "      <td>...</td>\n",
       "      <td>...</td>\n",
       "      <td>...</td>\n",
       "      <td>...</td>\n",
       "      <td>...</td>\n",
       "      <td>...</td>\n",
       "      <td>...</td>\n",
       "      <td>...</td>\n",
       "    </tr>\n",
       "    <tr>\n",
       "      <th>5602</th>\n",
       "      <td>3322</td>\n",
       "      <td>36</td>\n",
       "      <td>202207</td>\n",
       "      <td>4</td>\n",
       "      <td>2021</td>\n",
       "      <td>5352</td>\n",
       "      <td>126.891951</td>\n",
       "      <td>37.584794</td>\n",
       "      <td>1.25</td>\n",
       "      <td>25</td>\n",
       "      <td>163</td>\n",
       "      <td>181</td>\n",
       "      <td>0.000000</td>\n",
       "      <td>747</td>\n",
       "      <td>0</td>\n",
       "    </tr>\n",
       "    <tr>\n",
       "      <th>5603</th>\n",
       "      <td>3322</td>\n",
       "      <td>36</td>\n",
       "      <td>202207</td>\n",
       "      <td>6</td>\n",
       "      <td>2021</td>\n",
       "      <td>5352</td>\n",
       "      <td>126.891951</td>\n",
       "      <td>37.584794</td>\n",
       "      <td>1.25</td>\n",
       "      <td>25</td>\n",
       "      <td>163</td>\n",
       "      <td>181</td>\n",
       "      <td>0.000000</td>\n",
       "      <td>747</td>\n",
       "      <td>0</td>\n",
       "    </tr>\n",
       "    <tr>\n",
       "      <th>5604</th>\n",
       "      <td>3322</td>\n",
       "      <td>36</td>\n",
       "      <td>202207</td>\n",
       "      <td>7</td>\n",
       "      <td>2021</td>\n",
       "      <td>5352</td>\n",
       "      <td>126.891951</td>\n",
       "      <td>37.584794</td>\n",
       "      <td>1.25</td>\n",
       "      <td>25</td>\n",
       "      <td>163</td>\n",
       "      <td>181</td>\n",
       "      <td>0.000000</td>\n",
       "      <td>747</td>\n",
       "      <td>0</td>\n",
       "    </tr>\n",
       "    <tr>\n",
       "      <th>5605</th>\n",
       "      <td>3322</td>\n",
       "      <td>36</td>\n",
       "      <td>202209</td>\n",
       "      <td>4</td>\n",
       "      <td>2021</td>\n",
       "      <td>5352</td>\n",
       "      <td>126.891951</td>\n",
       "      <td>37.584794</td>\n",
       "      <td>1.75</td>\n",
       "      <td>25</td>\n",
       "      <td>163</td>\n",
       "      <td>181</td>\n",
       "      <td>0.000000</td>\n",
       "      <td>747</td>\n",
       "      <td>0</td>\n",
       "    </tr>\n",
       "    <tr>\n",
       "      <th>5606</th>\n",
       "      <td>5760</td>\n",
       "      <td>3895</td>\n",
       "      <td>202209</td>\n",
       "      <td>14</td>\n",
       "      <td>2014</td>\n",
       "      <td>5536</td>\n",
       "      <td>127.106720</td>\n",
       "      <td>37.618870</td>\n",
       "      <td>1.75</td>\n",
       "      <td>25</td>\n",
       "      <td>174</td>\n",
       "      <td>735</td>\n",
       "      <td>170.088431</td>\n",
       "      <td>307</td>\n",
       "      <td>0</td>\n",
       "    </tr>\n",
       "  </tbody>\n",
       "</table>\n",
       "<p>5607 rows × 15 columns</p>\n",
       "</div>"
      ]
     },
     "execution_count": 364,
     "metadata": {},
     "output_type": "execute_result"
    }
   ],
   "execution_count": 364
  },
  {
   "metadata": {
    "ExecuteTime": {
     "end_time": "2025-01-11T01:25:57.429917Z",
     "start_time": "2025-01-10T08:30:09.533542Z"
    }
   },
   "cell_type": "code",
   "source": [
    "X_val['target'] = df_test_y\n",
    "X_val['pred'] = real_test_pred\n",
    "X_val['예측차이'] = X_val['target'] - X_val['pred']\n",
    "# RMSE 계산\n",
    "squared_errors = calculate_se(X_val['target'], X_val['pred'])\n",
    "X_val['error'] = squared_errors\n",
    "# Error가 큰 순서대로 sorting 해 보겠습니다.\n",
    "X_val_sort = X_val.sort_values(by='error', ascending=False)       # 내림차순 sorting"
   ],
   "id": "efccbc2a620ab136",
   "outputs": [],
   "execution_count": 365
  },
  {
   "metadata": {
    "ExecuteTime": {
     "end_time": "2025-01-11T01:25:57.430013Z",
     "start_time": "2025-01-10T08:30:09.708529Z"
    }
   },
   "cell_type": "code",
   "source": [
    "X_val_sort_top100 = X_val.sort_values(by='error', ascending=False).head(100)        # 예측을 잘 하지못한 top 100개의 data\n",
    "X_val_sort_tail100 = X_val.sort_values(by='error', ascending=False).tail(100)       # 예측을 잘한 top 100개의 data"
   ],
   "id": "2cc078c44d187234",
   "outputs": [],
   "execution_count": 366
  },
  {
   "metadata": {
    "ExecuteTime": {
     "end_time": "2025-01-11T01:25:57.430105Z",
     "start_time": "2025-01-10T08:30:09.871508Z"
    }
   },
   "cell_type": "code",
   "source": [
    "# 해석을 위해 레이블인코딩 된 변수를 복원해줍니다.\n",
    "error_top100 = X_val_sort_top100.copy()\n",
    "for column in categorical_columns_v2 :     # 앞서 레이블 인코딩에서 정의했던 categorical_columns_v2 범주형 변수 리스트를 사용합니다.\n",
    "    error_top100[column] = label_encoders[column].inverse_transform(X_val_sort_top100[column])\n",
    "\n",
    "best_top100 = X_val_sort_tail100.copy()\n",
    "for column in categorical_columns_v2 :     # 앞서 레이블 인코딩에서 정의했던 categorical_columns_v2 범주형 변수 리스트를 사용합니다.\n",
    "    best_top100[column] = label_encoders[column].inverse_transform(X_val_sort_tail100[column])"
   ],
   "id": "b9490c2ca426939",
   "outputs": [],
   "execution_count": 367
  },
  {
   "metadata": {
    "ExecuteTime": {
     "end_time": "2025-01-11T01:25:57.430249Z",
     "start_time": "2025-01-10T08:30:10.093846Z"
    }
   },
   "cell_type": "code",
   "source": [
    "error_top100.to_csv('optuna_lgbm_error_v7.csv', index=False)\n",
    "best_top100.to_csv('optuna_lgbm_top_v7.csv', index=False)"
   ],
   "id": "b4885d95b0c347d3",
   "outputs": [],
   "execution_count": 368
  },
  {
   "metadata": {
    "ExecuteTime": {
     "end_time": "2025-01-11T01:25:57.430345Z",
     "start_time": "2025-01-10T08:30:10.314802Z"
    }
   },
   "cell_type": "code",
   "source": [
    "# 위 feature importance를 시각화해봅니다.\n",
    "importances = pd.Series(model.feature_importances_, index=list(X_train.columns))\n",
    "importances = importances.sort_values(ascending=False)\n",
    "\n",
    "plt.figure(figsize=(10,8))\n",
    "plt.title(\"Feature Importances\")\n",
    "sns.barplot(x=importances, y=importances.index)\n",
    "plt.show()"
   ],
   "id": "fb730abec283f2de",
   "outputs": [
    {
     "data": {
      "text/plain": [
       "<Figure size 1000x800 with 1 Axes>"
      ],
      "image/png": "[encoded data removed]"
     },
     "metadata": {},
     "output_type": "display_data"
    }
   ],
   "execution_count": 369
  },
  {
   "metadata": {
    "ExecuteTime": {
     "end_time": "2025-01-11T01:25:57.430451Z",
     "start_time": "2025-01-10T08:30:11.852944Z"
    }
   },
   "cell_type": "code",
   "source": [
    "# 2D 히트맵으로 target, 층, 전용면적의 분포 비교\n",
    "plt.figure(figsize=(10, 8))\n",
    "sns.scatterplot(\n",
    "    data=error_top100, \n",
    "    x='평수', \n",
    "    y='층', \n",
    "    size='error', \n",
    "    hue='error', \n",
    "    palette='coolwarm', \n",
    "    alpha=0.7, \n",
    "    sizes=(20, 200)\n",
    ")\n",
    "plt.title('error, 층, 평수 분포 비교', fontsize=16)\n",
    "plt.xlabel('평수', fontsize=14)\n",
    "plt.ylabel('층', fontsize=14)\n",
    "plt.legend(title='error')\n",
    "plt.grid(True)\n",
    "plt.show()"
   ],
   "id": "27810597086e6ece",
   "outputs": [
    {
     "data": {
      "text/plain": [
       "<Figure size 1000x800 with 1 Axes>"
      ],
      "image/png": "[encoded data removed]"
     },
     "metadata": {},
     "output_type": "display_data"
    }
   ],
   "execution_count": 370
  },
  {
   "metadata": {
    "ExecuteTime": {
     "end_time": "2025-01-11T01:25:57.430546Z",
     "start_time": "2025-01-10T08:30:12.473205Z"
    }
   },
   "cell_type": "code",
   "source": [
    "print(error_top100['층'].value_counts().sort_values(ascending=False))\n",
    "print(error_top100['평수'].value_counts())"
   ],
   "id": "7c2264fffef6d3ad",
   "outputs": [
    {
     "name": "stdout",
     "output_type": "stream",
     "text": [
      "층\n",
      "1     9\n",
      "3     9\n",
      "5     6\n",
      "12    6\n",
      "4     5\n",
      "14    5\n",
      "8     5\n",
      "21    5\n",
      "10    5\n",
      "11    4\n",
      "13    4\n",
      "9     4\n",
      "6     4\n",
      "2     3\n",
      "15    3\n",
      "7     3\n",
      "28    3\n",
      "23    2\n",
      "17    2\n",
      "22    2\n",
      "35    2\n",
      "24    1\n",
      "20    1\n",
      "27    1\n",
      "37    1\n",
      "19    1\n",
      "25    1\n",
      "39    1\n",
      "18    1\n",
      "16    1\n",
      "Name: count, dtype: int64\n",
      "평수\n",
      "25    26\n",
      "24    10\n",
      "23     7\n",
      "67     5\n",
      "30     4\n",
      "27     3\n",
      "32     3\n",
      "61     2\n",
      "45     2\n",
      "39     2\n",
      "50     2\n",
      "44     2\n",
      "28     2\n",
      "47     2\n",
      "36     2\n",
      "42     2\n",
      "43     2\n",
      "73     2\n",
      "54     1\n",
      "82     1\n",
      "21     1\n",
      "68     1\n",
      "38     1\n",
      "81     1\n",
      "34     1\n",
      "40     1\n",
      "15     1\n",
      "31     1\n",
      "64     1\n",
      "62     1\n",
      "12     1\n",
      "57     1\n",
      "37     1\n",
      "60     1\n",
      "59     1\n",
      "49     1\n",
      "58     1\n",
      "52     1\n",
      "Name: count, dtype: int64\n"
     ]
    }
   ],
   "execution_count": 371
  },
  {
   "metadata": {
    "ExecuteTime": {
     "end_time": "2025-01-11T01:25:57.430640Z",
     "start_time": "2025-01-10T08:30:12.779810Z"
    }
   },
   "cell_type": "code",
   "source": [
    "sns.histplot(data = error_top100, x='층', alpha=0.5)\n",
    "sns.histplot(data = best_top100, x='층', color='orange', alpha=0.5)\n",
    "plt.title('층 분포 비교')\n",
    "plt.show()"
   ],
   "id": "e4430a77242caa24",
   "outputs": [
    {
     "data": {
      "text/plain": [
       "<Figure size 640x480 with 1 Axes>"
      ],
      "image/png": "[encoded data removed]"
     },
     "metadata": {},
     "output_type": "display_data"
    }
   ],
   "execution_count": 372
  },
  {
   "metadata": {
    "ExecuteTime": {
     "end_time": "2025-01-11T01:25:57.430732Z",
     "start_time": "2025-01-10T08:30:13.295677Z"
    }
   },
   "cell_type": "code",
   "source": [
    "sns.histplot(data = error_top100, x='평수', alpha=0.5)\n",
    "sns.histplot(data = best_top100, x='평수', color='orange', alpha=0.5)\n",
    "plt.title('평수 분포 비교')\n",
    "plt.show()"
   ],
   "id": "9cc8c5e8e0c5b5cd",
   "outputs": [
    {
     "data": {
      "text/plain": [
       "<Figure size 640x480 with 1 Axes>"
      ],
      "image/png": "[encoded data removed]"
     },
     "metadata": {},
     "output_type": "display_data"
    }
   ],
   "execution_count": 373
  },
  {
   "metadata": {
    "ExecuteTime": {
     "end_time": "2025-01-11T01:25:57.430867Z",
     "start_time": "2025-01-10T08:30:13.591130Z"
    }
   },
   "cell_type": "code",
   "source": "error_top100",
   "id": "e8772937a4799363",
   "outputs": [
    {
     "data": {
      "text/plain": [
       "           번지     아파트명    계약년월   층  건축년도            도로명         좌표X  \\\n",
       "3420      501  상봉듀오트리스  202301  37  2016        상봉로 131  127.092204   \n",
       "4534      490   메세나폴리스  202209  39  2012         양화로 45  126.913938   \n",
       "3650   510-11     강남상가  202208   5  1974      압구정로2길 46  127.020669   \n",
       "2201  1496-24  트라움하우스3  202212   4  2002      명달로 97-14  127.002921   \n",
       "5035     43-4  롯데캐슬아이비  202207  35  2005       국제금융로 86  126.931761   \n",
       "...       ...      ...     ...  ..   ...            ...         ...   \n",
       "2718       17     파크리오  202210  23  2008       올림픽로 435  127.106151   \n",
       "2153     1682    서초래미안  202212  12  2003  서초대로65길 13-10  127.018897   \n",
       "30        888   대치아이파크  202301   3  2008        선릉로 222  127.054583   \n",
       "4667    458-6     에덴지우  202208   7  2011      동교로17길 45  126.914821   \n",
       "3623      467   타워팰리스1  202207  28  2002      언주로30길 56  127.054439   \n",
       "\n",
       "            좌표Y  금리_단기1년전차이  평수     동      아파트ID     아파트ID거리 가까운공원ID  학군  \\\n",
       "3420  37.597362        2.25  61   상봉동  A10027670    0.003000  P00566   0   \n",
       "4534  37.551322        1.75  67   서교동  A12174601    0.000000  P01499   0   \n",
       "3650  37.518772        1.75  43   신사동  A10024029  170.244626  P02521   1   \n",
       "2201  37.486202        2.25  82   서초동  A13784102  391.153802  P02373   1   \n",
       "5035  37.520210        1.25  67  여의도동  A15088915    0.000000  P02024   0   \n",
       "...         ...         ...  ..   ...        ...         ...     ...  ..   \n",
       "2718  37.520537        1.75  43   신천동  A13824006  325.014421  P02701   1   \n",
       "2153  37.498558        2.25  25   서초동  A13788208    0.000000  P02428   1   \n",
       "30    37.494984        2.25  45   대치동  A13528102    0.000000  P02534   1   \n",
       "4667  37.556848        1.75  21   서교동  A12184201  202.061776  P01489   0   \n",
       "3623  37.488223        1.75  52   도곡동  A13527017    0.627425  P02514   1   \n",
       "\n",
       "        target      pred      예측차이         error  \n",
       "3420  185000.0  666000.0 -481000.0  2.313610e+11  \n",
       "4534  510000.0  745600.0 -235600.0  5.550736e+10  \n",
       "3650  129500.0  334800.0 -205300.0  4.214809e+10  \n",
       "2201  640000.0  441000.0  199000.0  3.960100e+10  \n",
       "5035  420000.0  232800.0  187200.0  3.504384e+10  \n",
       "...        ...       ...       ...           ...  \n",
       "2718  250000.0  324800.0  -74800.0  5.595040e+09  \n",
       "2153  186000.0  260600.0  -74600.0  5.565160e+09  \n",
       "30    370000.0  443800.0  -73800.0  5.446440e+09  \n",
       "4667   64500.0  138060.0  -73560.0  5.411074e+09  \n",
       "3623  480000.0  407000.0   73000.0  5.329000e+09  \n",
       "\n",
       "[100 rows x 19 columns]"
      ],
      "text/html": [
       "<div>\n",
       "<style scoped>\n",
       "    .dataframe tbody tr th:only-of-type {\n",
       "        vertical-align: middle;\n",
       "    }\n",
       "\n",
       "    .dataframe tbody tr th {\n",
       "        vertical-align: top;\n",
       "    }\n",
       "\n",
       "    .dataframe thead th {\n",
       "        text-align: right;\n",
       "    }\n",
       "</style>\n",
       "<table border=\"1\" class=\"dataframe\">\n",
       "  <thead>\n",
       "    <tr style=\"text-align: right;\">\n",
       "      <th></th>\n",
       "      <th>번지</th>\n",
       "      <th>아파트명</th>\n",
       "      <th>계약년월</th>\n",
       "      <th>층</th>\n",
       "      <th>건축년도</th>\n",
       "      <th>도로명</th>\n",
       "      <th>좌표X</th>\n",
       "      <th>좌표Y</th>\n",
       "      <th>금리_단기1년전차이</th>\n",
       "      <th>평수</th>\n",
       "      <th>동</th>\n",
       "      <th>아파트ID</th>\n",
       "      <th>아파트ID거리</th>\n",
       "      <th>가까운공원ID</th>\n",
       "      <th>학군</th>\n",
       "      <th>target</th>\n",
       "      <th>pred</th>\n",
       "      <th>예측차이</th>\n",
       "      <th>error</th>\n",
       "    </tr>\n",
       "  </thead>\n",
       "  <tbody>\n",
       "    <tr>\n",
       "      <th>3420</th>\n",
       "      <td>501</td>\n",
       "      <td>상봉듀오트리스</td>\n",
       "      <td>202301</td>\n",
       "      <td>37</td>\n",
       "      <td>2016</td>\n",
       "      <td>상봉로 131</td>\n",
       "      <td>127.092204</td>\n",
       "      <td>37.597362</td>\n",
       "      <td>2.25</td>\n",
       "      <td>61</td>\n",
       "      <td>상봉동</td>\n",
       "      <td>A10027670</td>\n",
       "      <td>0.003000</td>\n",
       "      <td>P00566</td>\n",
       "      <td>0</td>\n",
       "      <td>185000.0</td>\n",
       "      <td>666000.0</td>\n",
       "      <td>-481000.0</td>\n",
       "      <td>2.313610e+11</td>\n",
       "    </tr>\n",
       "    <tr>\n",
       "      <th>4534</th>\n",
       "      <td>490</td>\n",
       "      <td>메세나폴리스</td>\n",
       "      <td>202209</td>\n",
       "      <td>39</td>\n",
       "      <td>2012</td>\n",
       "      <td>양화로 45</td>\n",
       "      <td>126.913938</td>\n",
       "      <td>37.551322</td>\n",
       "      <td>1.75</td>\n",
       "      <td>67</td>\n",
       "      <td>서교동</td>\n",
       "      <td>A12174601</td>\n",
       "      <td>0.000000</td>\n",
       "      <td>P01499</td>\n",
       "      <td>0</td>\n",
       "      <td>510000.0</td>\n",
       "      <td>745600.0</td>\n",
       "      <td>-235600.0</td>\n",
       "      <td>5.550736e+10</td>\n",
       "    </tr>\n",
       "    <tr>\n",
       "      <th>3650</th>\n",
       "      <td>510-11</td>\n",
       "      <td>강남상가</td>\n",
       "      <td>202208</td>\n",
       "      <td>5</td>\n",
       "      <td>1974</td>\n",
       "      <td>압구정로2길 46</td>\n",
       "      <td>127.020669</td>\n",
       "      <td>37.518772</td>\n",
       "      <td>1.75</td>\n",
       "      <td>43</td>\n",
       "      <td>신사동</td>\n",
       "      <td>A10024029</td>\n",
       "      <td>170.244626</td>\n",
       "      <td>P02521</td>\n",
       "      <td>1</td>\n",
       "      <td>129500.0</td>\n",
       "      <td>334800.0</td>\n",
       "      <td>-205300.0</td>\n",
       "      <td>4.214809e+10</td>\n",
       "    </tr>\n",
       "    <tr>\n",
       "      <th>2201</th>\n",
       "      <td>1496-24</td>\n",
       "      <td>트라움하우스3</td>\n",
       "      <td>202212</td>\n",
       "      <td>4</td>\n",
       "      <td>2002</td>\n",
       "      <td>명달로 97-14</td>\n",
       "      <td>127.002921</td>\n",
       "      <td>37.486202</td>\n",
       "      <td>2.25</td>\n",
       "      <td>82</td>\n",
       "      <td>서초동</td>\n",
       "      <td>A13784102</td>\n",
       "      <td>391.153802</td>\n",
       "      <td>P02373</td>\n",
       "      <td>1</td>\n",
       "      <td>640000.0</td>\n",
       "      <td>441000.0</td>\n",
       "      <td>199000.0</td>\n",
       "      <td>3.960100e+10</td>\n",
       "    </tr>\n",
       "    <tr>\n",
       "      <th>5035</th>\n",
       "      <td>43-4</td>\n",
       "      <td>롯데캐슬아이비</td>\n",
       "      <td>202207</td>\n",
       "      <td>35</td>\n",
       "      <td>2005</td>\n",
       "      <td>국제금융로 86</td>\n",
       "      <td>126.931761</td>\n",
       "      <td>37.520210</td>\n",
       "      <td>1.25</td>\n",
       "      <td>67</td>\n",
       "      <td>여의도동</td>\n",
       "      <td>A15088915</td>\n",
       "      <td>0.000000</td>\n",
       "      <td>P02024</td>\n",
       "      <td>0</td>\n",
       "      <td>420000.0</td>\n",
       "      <td>232800.0</td>\n",
       "      <td>187200.0</td>\n",
       "      <td>3.504384e+10</td>\n",
       "    </tr>\n",
       "    <tr>\n",
       "      <th>...</th>\n",
       "      <td>...</td>\n",
       "      <td>...</td>\n",
       "      <td>...</td>\n",
       "      <td>...</td>\n",
       "      <td>...</td>\n",
       "      <td>...</td>\n",
       "      <td>...</td>\n",
       "      <td>...</td>\n",
       "      <td>...</td>\n",
       "      <td>...</td>\n",
       "      <td>...</td>\n",
       "      <td>...</td>\n",
       "      <td>...</td>\n",
       "      <td>...</td>\n",
       "      <td>...</td>\n",
       "      <td>...</td>\n",
       "      <td>...</td>\n",
       "      <td>...</td>\n",
       "      <td>...</td>\n",
       "    </tr>\n",
       "    <tr>\n",
       "      <th>2718</th>\n",
       "      <td>17</td>\n",
       "      <td>파크리오</td>\n",
       "      <td>202210</td>\n",
       "      <td>23</td>\n",
       "      <td>2008</td>\n",
       "      <td>올림픽로 435</td>\n",
       "      <td>127.106151</td>\n",
       "      <td>37.520537</td>\n",
       "      <td>1.75</td>\n",
       "      <td>43</td>\n",
       "      <td>신천동</td>\n",
       "      <td>A13824006</td>\n",
       "      <td>325.014421</td>\n",
       "      <td>P02701</td>\n",
       "      <td>1</td>\n",
       "      <td>250000.0</td>\n",
       "      <td>324800.0</td>\n",
       "      <td>-74800.0</td>\n",
       "      <td>5.595040e+09</td>\n",
       "    </tr>\n",
       "    <tr>\n",
       "      <th>2153</th>\n",
       "      <td>1682</td>\n",
       "      <td>서초래미안</td>\n",
       "      <td>202212</td>\n",
       "      <td>12</td>\n",
       "      <td>2003</td>\n",
       "      <td>서초대로65길 13-10</td>\n",
       "      <td>127.018897</td>\n",
       "      <td>37.498558</td>\n",
       "      <td>2.25</td>\n",
       "      <td>25</td>\n",
       "      <td>서초동</td>\n",
       "      <td>A13788208</td>\n",
       "      <td>0.000000</td>\n",
       "      <td>P02428</td>\n",
       "      <td>1</td>\n",
       "      <td>186000.0</td>\n",
       "      <td>260600.0</td>\n",
       "      <td>-74600.0</td>\n",
       "      <td>5.565160e+09</td>\n",
       "    </tr>\n",
       "    <tr>\n",
       "      <th>30</th>\n",
       "      <td>888</td>\n",
       "      <td>대치아이파크</td>\n",
       "      <td>202301</td>\n",
       "      <td>3</td>\n",
       "      <td>2008</td>\n",
       "      <td>선릉로 222</td>\n",
       "      <td>127.054583</td>\n",
       "      <td>37.494984</td>\n",
       "      <td>2.25</td>\n",
       "      <td>45</td>\n",
       "      <td>대치동</td>\n",
       "      <td>A13528102</td>\n",
       "      <td>0.000000</td>\n",
       "      <td>P02534</td>\n",
       "      <td>1</td>\n",
       "      <td>370000.0</td>\n",
       "      <td>443800.0</td>\n",
       "      <td>-73800.0</td>\n",
       "      <td>5.446440e+09</td>\n",
       "    </tr>\n",
       "    <tr>\n",
       "      <th>4667</th>\n",
       "      <td>458-6</td>\n",
       "      <td>에덴지우</td>\n",
       "      <td>202208</td>\n",
       "      <td>7</td>\n",
       "      <td>2011</td>\n",
       "      <td>동교로17길 45</td>\n",
       "      <td>126.914821</td>\n",
       "      <td>37.556848</td>\n",
       "      <td>1.75</td>\n",
       "      <td>21</td>\n",
       "      <td>서교동</td>\n",
       "      <td>A12184201</td>\n",
       "      <td>202.061776</td>\n",
       "      <td>P01489</td>\n",
       "      <td>0</td>\n",
       "      <td>64500.0</td>\n",
       "      <td>138060.0</td>\n",
       "      <td>-73560.0</td>\n",
       "      <td>5.411074e+09</td>\n",
       "    </tr>\n",
       "    <tr>\n",
       "      <th>3623</th>\n",
       "      <td>467</td>\n",
       "      <td>타워팰리스1</td>\n",
       "      <td>202207</td>\n",
       "      <td>28</td>\n",
       "      <td>2002</td>\n",
       "      <td>언주로30길 56</td>\n",
       "      <td>127.054439</td>\n",
       "      <td>37.488223</td>\n",
       "      <td>1.75</td>\n",
       "      <td>52</td>\n",
       "      <td>도곡동</td>\n",
       "      <td>A13527017</td>\n",
       "      <td>0.627425</td>\n",
       "      <td>P02514</td>\n",
       "      <td>1</td>\n",
       "      <td>480000.0</td>\n",
       "      <td>407000.0</td>\n",
       "      <td>73000.0</td>\n",
       "      <td>5.329000e+09</td>\n",
       "    </tr>\n",
       "  </tbody>\n",
       "</table>\n",
       "<p>100 rows × 19 columns</p>\n",
       "</div>"
      ]
     },
     "execution_count": 374,
     "metadata": {},
     "output_type": "execute_result"
    }
   ],
   "execution_count": 374
  },
  {
   "metadata": {
    "ExecuteTime": {
     "end_time": "2025-01-11T01:25:57.431377Z",
     "start_time": "2025-01-10T08:30:14.100337Z"
    }
   },
   "cell_type": "code",
   "source": [
    "# 2D 히트맵으로 target, 층, 전용면적의 분포 비교\n",
    "plt.figure(figsize=(10, 8))\n",
    "sns.scatterplot(\n",
    "    data=error_top100, \n",
    "    x='평수', \n",
    "    y='층', \n",
    "    size='error', \n",
    "    hue='error', \n",
    "    palette='coolwarm', \n",
    "    alpha=0.7, \n",
    "    sizes=(20, 200)\n",
    ")\n",
    "plt.title('error, 층, 평수 분포 비교', fontsize=16)\n",
    "plt.xlabel('평수', fontsize=14)\n",
    "plt.ylabel('층', fontsize=14)\n",
    "plt.legend(title='error')\n",
    "plt.grid(True)\n",
    "plt.show()"
   ],
   "id": "a6c5b550577f5f1a",
   "outputs": [
    {
     "data": {
      "text/plain": [
       "<Figure size 1000x800 with 1 Axes>"
      ],
      "image/png": "[encoded data removed]"
     },
     "metadata": {},
     "output_type": "display_data"
    }
   ],
   "execution_count": 375
  },
  {
   "metadata": {
    "ExecuteTime": {
     "end_time": "2025-01-11T01:25:57.431493Z",
     "start_time": "2025-01-10T08:30:14.380463Z"
    }
   },
   "cell_type": "code",
   "source": [
    "\n",
    "# 그래프 생성\n",
    "plt.figure(figsize=(12, 8))\n",
    "\n",
    "# error_top100 산점도\n",
    "scatter1 = plt.scatter(\n",
    "    error_top100['좌표X'], error_top100['좌표Y'], \n",
    "    c='black',  s=100, edgecolor='k', alpha=0.7, label='Error Top 100'\n",
    ")\n",
    "\n",
    "# best_top100 산점도\n",
    "scatter2 = plt.scatter(\n",
    "    best_top100['좌표X'], best_top100['좌표Y'], \n",
    "    c='red', s=100, edgecolor='k', alpha=0.7, label='Best Top 100'\n",
    ")\n",
    "\n",
    "# 컬러바 추가 (error_top100용)\n",
    "plt.colorbar(scatter1, label='Error (Error Top 100)')\n",
    "\n",
    "# 축 및 제목 설정\n",
    "plt.xlabel('좌표X', fontsize=12)\n",
    "plt.ylabel('좌표Y', fontsize=12)\n",
    "plt.title('Error Top 100 vs Best Top 100 분포도', fontsize=14)\n",
    "plt.grid(True)\n",
    "\n",
    "# 범례 추가\n",
    "plt.legend(fontsize=12)\n",
    "\n",
    "# 그래프 표시\n",
    "plt.show()"
   ],
   "id": "ae288a50b821cb7",
   "outputs": [
    {
     "data": {
      "text/plain": [
       "<Figure size 1200x800 with 2 Axes>"
      ],
      "image/png": "[encoded data removed]"
     },
     "metadata": {},
     "output_type": "display_data"
    }
   ],
   "execution_count": 376
  },
  {
   "metadata": {
    "ExecuteTime": {
     "end_time": "2025-01-11T01:25:57.431605Z",
     "start_time": "2025-01-10T08:30:14.820574Z"
    }
   },
   "cell_type": "code",
   "source": "error_top100['구'].value_counts()",
   "id": "d8b689e4bdfe876c",
   "outputs": [
    {
     "ename": "KeyError",
     "evalue": "'구'",
     "output_type": "error",
     "traceback": [
      "\u001B[0;31m---------------------------------------------------------------------------\u001B[0m",
      "\u001B[0;31mKeyError\u001B[0m                                  Traceback (most recent call last)",
      "File \u001B[0;32m~/miniconda3/envs/house-test3.8/lib/python3.8/site-packages/pandas/core/indexes/base.py:3653\u001B[0m, in \u001B[0;36mIndex.get_loc\u001B[0;34m(self, key)\u001B[0m\n\u001B[1;32m   3652\u001B[0m \u001B[38;5;28;01mtry\u001B[39;00m:\n\u001B[0;32m-> 3653\u001B[0m     \u001B[38;5;28;01mreturn\u001B[39;00m \u001B[38;5;28;43mself\u001B[39;49m\u001B[38;5;241;43m.\u001B[39;49m\u001B[43m_engine\u001B[49m\u001B[38;5;241;43m.\u001B[39;49m\u001B[43mget_loc\u001B[49m\u001B[43m(\u001B[49m\u001B[43mcasted_key\u001B[49m\u001B[43m)\u001B[49m\n\u001B[1;32m   3654\u001B[0m \u001B[38;5;28;01mexcept\u001B[39;00m \u001B[38;5;167;01mKeyError\u001B[39;00m \u001B[38;5;28;01mas\u001B[39;00m err:\n",
      "File \u001B[0;32m~/miniconda3/envs/house-test3.8/lib/python3.8/site-packages/pandas/_libs/index.pyx:147\u001B[0m, in \u001B[0;36mpandas._libs.index.IndexEngine.get_loc\u001B[0;34m()\u001B[0m\n",
      "File \u001B[0;32m~/miniconda3/envs/house-test3.8/lib/python3.8/site-packages/pandas/_libs/index.pyx:176\u001B[0m, in \u001B[0;36mpandas._libs.index.IndexEngine.get_loc\u001B[0;34m()\u001B[0m\n",
      "File \u001B[0;32mpandas/_libs/hashtable_class_helper.pxi:7080\u001B[0m, in \u001B[0;36mpandas._libs.hashtable.PyObjectHashTable.get_item\u001B[0;34m()\u001B[0m\n",
      "File \u001B[0;32mpandas/_libs/hashtable_class_helper.pxi:7088\u001B[0m, in \u001B[0;36mpandas._libs.hashtable.PyObjectHashTable.get_item\u001B[0;34m()\u001B[0m\n",
      "\u001B[0;31mKeyError\u001B[0m: '구'",
      "\nThe above exception was the direct cause of the following exception:\n",
      "\u001B[0;31mKeyError\u001B[0m                                  Traceback (most recent call last)",
      "Cell \u001B[0;32mIn[377], line 1\u001B[0m\n\u001B[0;32m----> 1\u001B[0m \u001B[43merror_top100\u001B[49m\u001B[43m[\u001B[49m\u001B[38;5;124;43m'\u001B[39;49m\u001B[38;5;124;43m구\u001B[39;49m\u001B[38;5;124;43m'\u001B[39;49m\u001B[43m]\u001B[49m\u001B[38;5;241m.\u001B[39mvalue_counts()\n",
      "File \u001B[0;32m~/miniconda3/envs/house-test3.8/lib/python3.8/site-packages/pandas/core/frame.py:3761\u001B[0m, in \u001B[0;36mDataFrame.__getitem__\u001B[0;34m(self, key)\u001B[0m\n\u001B[1;32m   3759\u001B[0m \u001B[38;5;28;01mif\u001B[39;00m \u001B[38;5;28mself\u001B[39m\u001B[38;5;241m.\u001B[39mcolumns\u001B[38;5;241m.\u001B[39mnlevels \u001B[38;5;241m>\u001B[39m \u001B[38;5;241m1\u001B[39m:\n\u001B[1;32m   3760\u001B[0m     \u001B[38;5;28;01mreturn\u001B[39;00m \u001B[38;5;28mself\u001B[39m\u001B[38;5;241m.\u001B[39m_getitem_multilevel(key)\n\u001B[0;32m-> 3761\u001B[0m indexer \u001B[38;5;241m=\u001B[39m \u001B[38;5;28;43mself\u001B[39;49m\u001B[38;5;241;43m.\u001B[39;49m\u001B[43mcolumns\u001B[49m\u001B[38;5;241;43m.\u001B[39;49m\u001B[43mget_loc\u001B[49m\u001B[43m(\u001B[49m\u001B[43mkey\u001B[49m\u001B[43m)\u001B[49m\n\u001B[1;32m   3762\u001B[0m \u001B[38;5;28;01mif\u001B[39;00m is_integer(indexer):\n\u001B[1;32m   3763\u001B[0m     indexer \u001B[38;5;241m=\u001B[39m [indexer]\n",
      "File \u001B[0;32m~/miniconda3/envs/house-test3.8/lib/python3.8/site-packages/pandas/core/indexes/base.py:3655\u001B[0m, in \u001B[0;36mIndex.get_loc\u001B[0;34m(self, key)\u001B[0m\n\u001B[1;32m   3653\u001B[0m     \u001B[38;5;28;01mreturn\u001B[39;00m \u001B[38;5;28mself\u001B[39m\u001B[38;5;241m.\u001B[39m_engine\u001B[38;5;241m.\u001B[39mget_loc(casted_key)\n\u001B[1;32m   3654\u001B[0m \u001B[38;5;28;01mexcept\u001B[39;00m \u001B[38;5;167;01mKeyError\u001B[39;00m \u001B[38;5;28;01mas\u001B[39;00m err:\n\u001B[0;32m-> 3655\u001B[0m     \u001B[38;5;28;01mraise\u001B[39;00m \u001B[38;5;167;01mKeyError\u001B[39;00m(key) \u001B[38;5;28;01mfrom\u001B[39;00m \u001B[38;5;21;01merr\u001B[39;00m\n\u001B[1;32m   3656\u001B[0m \u001B[38;5;28;01mexcept\u001B[39;00m \u001B[38;5;167;01mTypeError\u001B[39;00m:\n\u001B[1;32m   3657\u001B[0m     \u001B[38;5;66;03m# If we have a listlike key, _check_indexing_error will raise\u001B[39;00m\n\u001B[1;32m   3658\u001B[0m     \u001B[38;5;66;03m#  InvalidIndexError. Otherwise we fall through and re-raise\u001B[39;00m\n\u001B[1;32m   3659\u001B[0m     \u001B[38;5;66;03m#  the TypeError.\u001B[39;00m\n\u001B[1;32m   3660\u001B[0m     \u001B[38;5;28mself\u001B[39m\u001B[38;5;241m.\u001B[39m_check_indexing_error(key)\n",
      "\u001B[0;31mKeyError\u001B[0m: '구'"
     ]
    }
   ],
   "execution_count": 377
  },
  {
   "metadata": {
    "ExecuteTime": {
     "end_time": "2025-01-11T01:25:57.431748Z",
     "start_time": "2025-01-10T06:54:36.267435Z"
    }
   },
   "cell_type": "code",
   "source": "error_top100[error_top100['예측차이'] > 100000].value_counts()",
   "id": "91a4668de716b46b",
   "outputs": [
    {
     "data": {
      "text/plain": [
       "번지       아파트명         계약년월    층   건축년도  도로명            좌표X         좌표Y        평수  구     동      가까운공원ID  아파트_unique_key                 클러스터  학군  target    pred      예측차이      error       \n",
       "1-44     힐탑트레져1동      202301  3   2003  유엔빌리지길 200-16  127.013718  37.538466  67  용산구   한남동    P00198   용산구_한남동_1-44_힐탑트레져1동_2003      9     0   430000.0  278200.0  151800.0  2.304324e+10    1\n",
       "1496-24  트라움하우스3      202212  4   2002  명달로 97-14      127.002921  37.486202  82  서초구   서초동    P02373   서초구_서초동_1496-24_트라움하우스3_2002   15    1   640000.0  256800.0  383200.0  1.468422e+11    1\n",
       "189      개포주공4단지      202301  4   1982  삼성로 14         127.069985  37.485699  12  강남구   개포동    P02509   강남구_개포동_189_개포주공4단지_1982       17    1   370000.0  196400.0  173600.0  3.013696e+10    1\n",
       "193-1    힐데스하임빌라      202207  6   1998  남부순환로377길 26   127.045027  37.488125  73  강남구   도곡동    P02556   강남구_도곡동_193-1_힐데스하임빌라_1998     6     1   500000.0  346400.0  153600.0  2.359296e+10    1\n",
       "21-1     서울           202207  8   1976  여의나루로 121      126.931151  37.527059  60  영등포구  여의도동   P03011   영등포구_여의도동_21-1_서울_1976         27    0   555000.0  392000.0  163000.0  2.656900e+10    1\n",
       "227-7    더샵스타시티       202301  42  2007  아차산로 262       127.072632  37.537803  73  광진구   자양동    P00428   광진구_자양동_227-7_더샵스타시티_2007      29    0   420000.0  207600.0  212400.0  4.511376e+10    1\n",
       "369-1    현대1차         202207  6   1976  압구정로29길 71     127.027926  37.533027  59  강남구   압구정동   P02575   강남구_압구정동_369-1_현대1차_1976       13    1   800000.0  537400.0  262600.0  6.895876e+10    1\n",
       "419      아스테리움용산      202207  35  2012  한강대로30길 25     126.968860  37.527631  57  용산구   한강로2가  P00190   용산구_한강로2가_419_아스테리움용산_2012     13    0   480000.0  371200.0  108800.0  1.183744e+10    1\n",
       "467      타워팰리스1       202207  28  2002  언주로30길 56      127.054439  37.488223  52  강남구   도곡동    P02514   강남구_도곡동_467_타워팰리스1_2002        13    1   480000.0  359800.0  120200.0  1.444804e+10    1\n",
       "527      도곡렉슬         202207  15  2006  선릉로 221        127.048985  37.493029  25  강남구   도곡동    P02530   강남구_도곡동_527_도곡렉슬_2006          12    1   315000.0  210000.0  105000.0  1.102500e+10    1\n",
       "                      202208  15  2006  선릉로 221        127.048985  37.493029  25  강남구   도곡동    P02530   강남구_도곡동_527_도곡렉슬_2006          12    1   315000.0  210000.0  105000.0  1.102500e+10    1\n",
       "53-2     진흥           202209  6   1984  학동로88길 5       127.052121  37.518714  51  강남구   삼성동    P02578   강남구_삼성동_53-2_진흥_1984           21    1   380000.0  262000.0  118000.0  1.392400e+10    1\n",
       "612-28   비버리힐즈        202207  1   1998  사평대로12길 27     126.992966  37.496919  73  서초구   반포동    P02477   서초구_반포동_612-28_비버리힐즈_1998      6     1   450000.0  266300.0  183700.0  3.374569e+10    1\n",
       "829      나인원한남        202211  8   2019  한남대로 91        127.003365  37.536254  62  용산구   한남동    P00235   용산구_한남동_829_나인원한남_2019         21    0   945000.0  769000.0  176000.0  3.097600e+10    1\n",
       "847-34   방배대우유로카운티    202301  13  2002  방배로28길 90      126.996942  37.491138  65  서초구   방배동    P02486   서초구_방배동_847-34_방배대우유로카운티_2002  3     1   430000.0  280120.0  149880.0  2.246401e+10    1\n",
       "89       올림픽선수기자촌2단지  202208  3   1988  양재대로 1218      127.136372  37.517562  30  송파구   방이동    P02869   송파구_방이동_89_올림픽선수기자촌2단지_1988    24    1   230000.0  120500.0  109500.0  1.199025e+10    1\n",
       "Name: count, dtype: int64"
      ]
     },
     "execution_count": 95,
     "metadata": {},
     "output_type": "execute_result"
    }
   ],
   "execution_count": 95
  },
  {
   "metadata": {
    "ExecuteTime": {
     "end_time": "2025-01-11T01:25:57.431941Z",
     "start_time": "2025-01-10T06:54:36.331113Z"
    }
   },
   "cell_type": "code",
   "source": "error_top100.columns",
   "id": "f46fafa515bbc48",
   "outputs": [
    {
     "data": {
      "text/plain": [
       "Index(['번지', '아파트명', '계약년월', '층', '건축년도', '도로명', '좌표X', '좌표Y', '평수', '구', '동',\n",
       "       '가까운공원ID', '아파트_unique_key', '클러스터', '학군', 'target', 'pred', '예측차이',\n",
       "       'error'],\n",
       "      dtype='object')"
      ]
     },
     "execution_count": 96,
     "metadata": {},
     "output_type": "execute_result"
    }
   ],
   "execution_count": 96
  },
  {
   "metadata": {
    "ExecuteTime": {
     "end_time": "2025-01-11T01:25:57.444673Z",
     "start_time": "2025-01-10T06:54:36.425767Z"
    }
   },
   "cell_type": "code",
   "source": "",
   "id": "372e50e70fa5d9aa",
   "outputs": [],
   "execution_count": null
  },
  {
   "metadata": {
    "ExecuteTime": {
     "end_time": "2025-01-11T01:25:57.445082Z",
     "start_time": "2025-01-10T06:54:36.490337Z"
    }
   },
   "cell_type": "code",
   "source": "",
   "id": "9bcc80a7fafdc56e",
   "outputs": [],
   "execution_count": null
  },
  {
   "metadata": {
    "ExecuteTime": {
     "end_time": "2025-01-11T01:25:57.445226Z",
     "start_time": "2025-01-10T06:54:36.766919Z"
    }
   },
   "cell_type": "code",
   "source": "",
   "id": "a8e5cad396331a15",
   "outputs": [],
   "execution_count": null
  },
  {
   "metadata": {
    "ExecuteTime": {
     "end_time": "2025-01-11T01:25:57.445334Z",
     "start_time": "2025-01-10T06:54:36.988788Z"
    }
   },
   "cell_type": "code",
   "source": "",
   "id": "b8499fde3b94226e",
   "outputs": [],
   "execution_count": null
  },
  {
   "metadata": {
    "ExecuteTime": {
     "end_time": "2025-01-11T01:25:57.445571Z",
     "start_time": "2025-01-10T06:54:37.193911Z"
    }
   },
   "cell_type": "code",
   "source": "",
   "id": "406947739f2404b7",
   "outputs": [],
   "execution_count": null
  },
  {
   "metadata": {
    "ExecuteTime": {
     "end_time": "2025-01-11T01:25:57.445696Z",
     "start_time": "2025-01-10T06:54:37.374596Z"
    }
   },
   "cell_type": "code",
   "source": "",
   "id": "5dc36d05c8878717",
   "outputs": [],
   "execution_count": null
  }
 ],
 "metadata": {
  "kernelspec": {
   "display_name": "Python 3",
   "language": "python",
   "name": "python3"
  },
  "language_info": {
   "codemirror_mode": {
    "name": "ipython",
    "version": 2
   },
   "file_extension": ".py",
   "mimetype": "text/x-python",
   "name": "python",
   "nbconvert_exporter": "python",
   "pygments_lexer": "ipython2",
   "version": "2.7.6"
  }
 },
 "nbformat": 4,
 "nbformat_minor": 5
}
