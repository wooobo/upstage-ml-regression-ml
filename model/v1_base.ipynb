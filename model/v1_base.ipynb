{
 "cells": [
  {
   "cell_type": "markdown",
   "metadata": {},
   "source": [
    "# 기본코드\n",
    "\n",
    "개선을 진행하기전 베이스 코드입니다."
   ]
  },
  {
   "cell_type": "code",
   "execution_count": 1,
   "metadata": {},
   "outputs": [],
   "source": [
    "# visualization\n",
    "import matplotlib.pyplot as plt\n",
    "import matplotlib.font_manager as fm\n",
    "\n",
    "from matplotlib import rc  ### 이 줄과\n",
    "rc('font', family='AppleGothic') \t\t\t## 이 두 줄을 \n",
    "plt.rcParams['axes.unicode_minus'] = False  ## 추가해줍니다. \n",
    "\n",
    "\n",
    "import seaborn as sns\n",
    "\n",
    "# utils\n",
    "import pandas as pd\n",
    "import numpy as np\n",
    "from tqdm import tqdm\n",
    "import pickle\n",
    "import warnings;warnings.filterwarnings('ignore')\n",
    "\n",
    "# Model\n",
    "from sklearn.preprocessing import LabelEncoder\n",
    "from sklearn.model_selection import train_test_split\n",
    "from sklearn.metrics import mean_squared_error\n",
    "from sklearn.ensemble import RandomForestRegressor\n",
    "from sklearn import metrics\n",
    "\n",
    "import eli5\n",
    "from eli5.sklearn import PermutationImportance"
   ]
  },
  {
   "cell_type": "code",
   "execution_count": 2,
   "metadata": {},
   "outputs": [],
   "source": [
    "# sys.path를 수정하여 모듈 경로를 설정\n",
    "import sys\n",
    "import os\n",
    "import pandas as pd\n",
    "\n",
    "# 프로젝트 루트 경로 추가\n",
    "project_root = os.path.abspath(\"..\")\n",
    "sys.path.append(project_root)\n",
    "\n",
    "\n",
    "# 모든 컬럼 출력 설정\n",
    "pd.set_option('display.max_columns', None)\n",
    "# 모든 행 출력 설정\n",
    "pd.set_option('display.max_rows', None)\n",
    "\n",
    "import module\n"
   ]
  },
  {
   "cell_type": "code",
   "execution_count": 3,
   "metadata": {},
   "outputs": [
    {
     "name": "stdout",
     "output_type": "stream",
     "text": [
      "Train data shape :  (1118822, 94) Test data shape :  (9272, 94)\n"
     ]
    }
   ],
   "source": [
    "subway_df = module.file_load.load_지하철()\n",
    "bus_df = module.file_load.load_버스()\n",
    "subway_df = subway_df.rename(columns={'위도': 'y', '경도': 'x'})\n",
    "bus_df = bus_df.rename(columns={'Y좌표': 'y', 'X좌표': 'x'})\n",
    "\n",
    "# 필요한 데이터를 load 하겠습니다. 경로는 환경에 맞게 지정해주면 됩니다.\n",
    "dt = module.file_load.loadVersionOfData('train_v30')\n",
    "dt_test = module.file_load.loadVersionOfData('test_v30')\n",
    "print('Train data shape : ', dt.shape, 'Test data shape : ', dt_test.shape)"
   ]
  },
  {
   "cell_type": "code",
   "execution_count": 4,
   "metadata": {},
   "outputs": [],
   "source": [
    "dt['is_test'] = 0\n",
    "dt_test['is_test'] = 1\n",
    "concat = pd.concat([dt, dt_test]) "
   ]
  },
  {
   "cell_type": "code",
   "execution_count": 5,
   "metadata": {},
   "outputs": [],
   "source": [
    "drop_columns1 = ['k-단지분류(아파트,주상복합등등)', 'k-전화번호', 'k-팩스번호', '단지소개기존clob', 'k-세대타입(분양형태)',\n",
    "       'k-관리방식', 'k-복도유형', 'k-난방방식', 'k-전체동수', 'k-전체세대수', 'k-건설사(시공사)',\n",
    "       'k-시행사', 'k-사용검사일-사용승인일', 'k-연면적', 'k-주거전용면적', 'k-관리비부과면적',\n",
    "       'k-전용면적별세대현황(60㎡이하)', 'k-전용면적별세대현황(60㎡~85㎡이하)', 'k-85㎡~135㎡이하',\n",
    "       'k-135㎡초과', 'k-홈페이지', 'k-등록일자', 'k-수정일자', '고용보험관리번호', '경비비관리형태',\n",
    "       '세대전기계약방법', '청소비관리형태', '건축면적', '주차대수', '기타/의무/임대/임의=1/2/3/4', '단지승인일',\n",
    "       '사용허가여부', '관리비 업로드','해제사유발생일', '등기신청일자', '거래유형', '중개사소재지','단지신청일' ]"
   ]
  },
  {
   "cell_type": "code",
   "execution_count": 6,
   "metadata": {},
   "outputs": [
    {
     "name": "stdout",
     "output_type": "stream",
     "text": [
      "21.68500000000001\n",
      "122.92499999999998\n"
     ]
    }
   ],
   "source": [
    "concat = module.preprocess.rename(concat) # 컬럼명을 변경해줍니다.\n",
    "concat = module.preprocess.remove_outliers_iqr(concat, '전용면적')\n",
    "\n",
    "module.preprocess.아파트_unique_key_add(concat) # 아파트 고유 키를 만들어줍니다.\n",
    "module.preprocess.해제사유발생유무_add(concat) # 해제사유 발생 유무 컬럼을 추가합니다.\n",
    "module.preprocess.번지_본번_부번_결측채우기(concat) # 번지, 본번, 부번을 결측치를 채워줍니다.\n",
    "module.preprocess.계약년월일(concat) #\n",
    "module.preprocess.강남_add(concat)\n",
    "module.preprocess.신축_add(concat)\n",
    "module.preprocess.탑층_add(concat)\n",
    "module.preprocess.층그룹_add(concat)\n",
    "module.preprocess.평수그룹_add(concat)\n",
    "module.preprocess.생활지수파생변수(concat)\n",
    "\n",
    "concat = module.preprocess.테스트_최대평수이상제거(concat)\n",
    "concat = module.preprocess.테스트_최대층이상제거(concat)\n",
    "concat = module.preprocess.건축년도_계약년도_앞서면제거(concat)\n",
    "concat = module.preprocess.target이상치제거(concat) \n",
    "module.preprocess.공원밀도_add(concat)\n",
    "# 호선 정보 추가\n",
    "unique_apt = concat.drop_duplicates(subset='아파트_unique_key', keep='first')\n",
    "unique_apt2 = module.preprocess.nearest_subway_name(unique_apt, subway_df, '호선')[['아파트_unique_key','호선']]\n",
    "concat = concat.merge(unique_apt2[['아파트_unique_key', '호선']], on='아파트_unique_key', how='left')\n",
    "\n",
    "module.preprocess.한강거리_add(concat)\n",
    "concat['한강근접'] = concat['한강거리'].apply(lambda x: 1 if x < 800 else 0)\n",
    "\n",
    "module.preprocess.고급아파트_추가(concat)\n",
    "concat = module.preprocess.비싼아파트_add(concat)\n",
    "\n",
    "concat['재건축30'] = concat['경과연도'] >= 30\n",
    "\n",
    "concat = module.preprocess.아파트주변정보(concat)\n"
   ]
  },
  {
   "cell_type": "code",
   "execution_count": 7,
   "metadata": {},
   "outputs": [],
   "source": [
    "concat_temp = concat.copy()"
   ]
  },
  {
   "cell_type": "code",
   "execution_count": 89,
   "metadata": {},
   "outputs": [],
   "source": [
    "concat = concat_temp.copy()"
   ]
  },
  {
   "cell_type": "code",
   "execution_count": 90,
   "metadata": {},
   "outputs": [],
   "source": [
    "module.preprocess.log처리(concat)"
   ]
  },
  {
   "cell_type": "code",
   "execution_count": 91,
   "metadata": {},
   "outputs": [],
   "source": [
    "# # '번지', '아파트명', '계약년월', '계약일', '층', '건축년도', '도로명', '좌표X', '좌표Y', 'target',\n",
    "#        '금리_단기1년전차이', 'nearest_subway_distance', 'nearest_bus_distance',\n",
    "#        '1차역세권', '2차역세권', '1차버스정류장', '경과연도', '평수', '구', '동', '아파트ID', '아파트ID거리',\n",
    "#        'nearest_park_distance', '가까운공원ID', '산책생활권점수', '한강지천길갯수', '한강지천길총길이',\n",
    "#        '한강지천생활권점수', '숲세권등급', '한강거리', '실업률', 'is_test', '해제사유발생유무', '강남여부',\n",
    "#        '건물연령구분', 'is_top', '산책로밀도', '생태문화길밀도', '공원밀도', '호선', '한강근접', '비싼아파트',\n",
    "#        '재건축30', '학원', '학교', '공공기관', '병원', '어린이집, 유치원', '계약년'"
   ]
  },
  {
   "cell_type": "code",
   "execution_count": 100,
   "metadata": {},
   "outputs": [],
   "source": [
    "final_drop = [\n",
    "'index', '시군구','본번', '부번','전용면적', '경과구분','층_그룹', '평수_그룹','시',\n",
    "'가까운공원이름','아파트_unique_key',\n",
    "'계약년월일','지가지수', \n",
    "'아파트전세_전기대비증감률',  '민간소비', '소비자심리지수', '경제심리지수', '여수신 금리차','음식점','편의점', '생태문화생활권점수'\n",
    ", '고급아파트','숲세권종합점수', '공원생활권점수', '공원갯수', '공원총면적'\n",
    "]"
   ]
  },
  {
   "cell_type": "code",
   "execution_count": 101,
   "metadata": {},
   "outputs": [],
   "source": [
    "concat_select = concat.drop(columns=drop_columns1)"
   ]
  },
  {
   "cell_type": "code",
   "execution_count": 102,
   "metadata": {},
   "outputs": [],
   "source": [
    "model_data = concat_select.drop(columns=final_drop)"
   ]
  },
  {
   "cell_type": "code",
   "execution_count": 103,
   "metadata": {},
   "outputs": [],
   "source": [
    "# 필터링을 위해 넣음\n",
    "model_data['계약년'] = model_data[\"계약년월\"].astype(str).str[:4]\n",
    "model_data['계약년'] = model_data['계약년'].astype(int)"
   ]
  },
  {
   "cell_type": "code",
   "execution_count": 104,
   "metadata": {},
   "outputs": [
    {
     "data": {
      "text/plain": [
       "Index(['번지', '아파트명', '계약년월', '계약일', '층', '건축년도', '도로명', '좌표X', '좌표Y', 'target',\n",
       "       '금리_단기1년전차이', 'nearest_subway_distance', 'nearest_bus_distance',\n",
       "       '1차역세권', '2차역세권', '1차버스정류장', '경과연도', '평수', '구', '동', '아파트ID', '아파트ID거리',\n",
       "       'nearest_park_distance', '가까운공원ID', '산책생활권점수', '한강지천길갯수', '한강지천길총길이',\n",
       "       '한강지천생활권점수', '숲세권등급', '한강거리', '실업률', 'is_test', '해제사유발생유무', '강남여부',\n",
       "       '건물연령구분', 'is_top', '산책로밀도', '생태문화길밀도', '공원밀도', '호선', '한강근접', '비싼아파트',\n",
       "       '재건축30', '학원', '학교', '공공기관', '병원', '어린이집, 유치원', '계약년'],\n",
       "      dtype='object')"
      ]
     },
     "execution_count": 104,
     "metadata": {},
     "output_type": "execute_result"
    }
   ],
   "source": [
    "model_data.columns"
   ]
  },
  {
   "cell_type": "code",
   "execution_count": 105,
   "metadata": {},
   "outputs": [
    {
     "name": "stdout",
     "output_type": "stream",
     "text": [
      "<class 'pandas.core.frame.DataFrame'>\n",
      "RangeIndex: 1036984 entries, 0 to 1036983\n",
      "Data columns (total 49 columns):\n",
      " #   Column                   Non-Null Count    Dtype  \n",
      "---  ------                   --------------    -----  \n",
      " 0   번지                       1036984 non-null  object \n",
      " 1   아파트명                     1036984 non-null  object \n",
      " 2   계약년월                     1036984 non-null  int64  \n",
      " 3   계약일                      1036984 non-null  int64  \n",
      " 4   층                        1036984 non-null  int64  \n",
      " 5   건축년도                     1036984 non-null  int64  \n",
      " 6   도로명                      1036984 non-null  object \n",
      " 7   좌표X                      1036984 non-null  float64\n",
      " 8   좌표Y                      1036984 non-null  float64\n",
      " 9   target                   1027712 non-null  float64\n",
      " 10  금리_단기1년전차이               1036984 non-null  float64\n",
      " 11  nearest_subway_distance  1036984 non-null  float64\n",
      " 12  nearest_bus_distance     1036984 non-null  float64\n",
      " 13  1차역세권                    1036984 non-null  int64  \n",
      " 14  2차역세권                    1036984 non-null  int64  \n",
      " 15  1차버스정류장                  1036984 non-null  int64  \n",
      " 16  경과연도                     1036984 non-null  float64\n",
      " 17  평수                       1036984 non-null  int64  \n",
      " 18  구                        1036984 non-null  object \n",
      " 19  동                        1036984 non-null  object \n",
      " 20  아파트ID                    1036984 non-null  object \n",
      " 21  아파트ID거리                  1036984 non-null  float64\n",
      " 22  nearest_park_distance    1036984 non-null  float64\n",
      " 23  가까운공원ID                  1036984 non-null  object \n",
      " 24  산책생활권점수                  1036984 non-null  int64  \n",
      " 25  한강지천길갯수                  1036984 non-null  int64  \n",
      " 26  한강지천길총길이                 1036984 non-null  float64\n",
      " 27  한강지천생활권점수                1036984 non-null  int64  \n",
      " 28  숲세권등급                    1036984 non-null  int64  \n",
      " 29  한강거리                     1036984 non-null  float64\n",
      " 30  실업률                      1036984 non-null  float64\n",
      " 31  is_test                  1036984 non-null  int64  \n",
      " 32  해제사유발생유무                 1036984 non-null  int64  \n",
      " 33  강남여부                     1036984 non-null  int64  \n",
      " 34  건물연령구분                   1036984 non-null  object \n",
      " 35  is_top                   1036984 non-null  int64  \n",
      " 36  산책로밀도                    1036984 non-null  float64\n",
      " 37  생태문화길밀도                  1036984 non-null  float64\n",
      " 38  공원밀도                     1036984 non-null  float64\n",
      " 39  호선                       1036984 non-null  object \n",
      " 40  한강근접                     1036984 non-null  int64  \n",
      " 41  비싼아파트                    1036984 non-null  int64  \n",
      " 42  재건축30                    1036984 non-null  bool   \n",
      " 43  학원                       1036984 non-null  float64\n",
      " 44  학교                       1036984 non-null  float64\n",
      " 45  공공기관                     1036984 non-null  float64\n",
      " 46  병원                       1036984 non-null  float64\n",
      " 47  어린이집, 유치원                1036984 non-null  int64  \n",
      " 48  계약년                      1036984 non-null  int64  \n",
      "dtypes: bool(1), float64(19), int64(20), object(9)\n",
      "memory usage: 380.7+ MB\n"
     ]
    }
   ],
   "source": [
    "model_data.info()"
   ]
  },
  {
   "cell_type": "markdown",
   "metadata": {},
   "source": [
    "# 모델\n"
   ]
  },
  {
   "cell_type": "code",
   "execution_count": 106,
   "metadata": {},
   "outputs": [
    {
     "data": {
      "text/plain": [
       "((1027712, 48), (9272, 48))"
      ]
     },
     "execution_count": 106,
     "metadata": {},
     "output_type": "execute_result"
    }
   ],
   "source": [
    "from sklearn.model_selection import TimeSeriesSplit\n",
    "\n",
    "dt_train = model_data.query('is_test==0')\n",
    "dt_test = model_data.query('is_test==1')\n",
    "dt_train.drop(['is_test'], axis = 1, inplace=True)\n",
    "dt_test.drop(['is_test'], axis = 1, inplace=True)\n",
    "dt_train.shape, dt_test.shape\n"
   ]
  },
  {
   "cell_type": "code",
   "execution_count": 107,
   "metadata": {},
   "outputs": [
    {
     "name": "stdout",
     "output_type": "stream",
     "text": [
      "연속형 변수: ['계약년월', '계약일', '층', '건축년도', '좌표X', '좌표Y', 'target', '금리_단기1년전차이', 'nearest_subway_distance', 'nearest_bus_distance', '1차역세권', '2차역세권', '1차버스정류장', '경과연도', '평수', '아파트ID거리', 'nearest_park_distance', '산책생활권점수', '한강지천길갯수', '한강지천길총길이', '한강지천생활권점수', '숲세권등급', '한강거리', '실업률', '해제사유발생유무', '강남여부', 'is_top', '산책로밀도', '생태문화길밀도', '공원밀도', '한강근접', '비싼아파트', '재건축30', '학원', '학교', '공공기관', '병원', '어린이집, 유치원', '계약년']\n",
      "범주형 변수: ['번지', '아파트명', '도로명', '구', '동', '아파트ID', '가까운공원ID', '건물연령구분', '호선']\n"
     ]
    },
    {
     "name": "stderr",
     "output_type": "stream",
     "text": [
      "100%|██████████| 9/9 [00:01<00:00,  5.28it/s]\n"
     ]
    }
   ],
   "source": [
    "module.preprocess.label_encoding(dt_train, dt_test)"
   ]
  },
  {
   "cell_type": "code",
   "execution_count": 113,
   "metadata": {},
   "outputs": [
    {
     "name": "stdout",
     "output_type": "stream",
     "text": [
      "2023년 이상 데이터 개수: 15873\n",
      "이상치 데이터 개수: 794\n",
      "일반 데이터 개수: 15079\n",
      "최종 샘플 데이터 크기: (5000, 48)\n",
      "재구성된 dt_train 크기: (1022712, 48)\n",
      "이상치 샘플 개수: 500\n",
      "일반 샘플 개수: 4500\n"
     ]
    }
   ],
   "source": [
    "from sklearn.ensemble import IsolationForest\n",
    "\n",
    "# 1. 2023년 이상 데이터 필터링\n",
    "dt_train_2023 = dt_train[dt_train['계약년'] >= 2023]\n",
    "print(f\"2023년 이상 데이터 개수: {dt_train_2023.shape[0]}\")\n",
    "\n",
    "# 2. IsolationForest로 이상치 탐지\n",
    "isolation_forest = IsolationForest(n_estimators=100, contamination=0.05, random_state=2023)\n",
    "dt_train_2023['anomaly_score'] = isolation_forest.fit_predict(dt_train_2023)\n",
    "\n",
    "# 3. 이상치와 일반 데이터 분리\n",
    "dt_anomalies = dt_train_2023[dt_train_2023['anomaly_score'] == -1]  # 이상치\n",
    "dt_normal = dt_train_2023[dt_train_2023['anomaly_score'] != -1]    # 일반 데이터\n",
    "\n",
    "print(f\"이상치 데이터 개수: {dt_anomalies.shape[0]}\")\n",
    "print(f\"일반 데이터 개수: {dt_normal.shape[0]}\")\n",
    "\n",
    "# 4. 500개 이상치 샘플링\n",
    "num_anomalies = min(500, len(dt_anomalies))\n",
    "dt_sample_anomalies = dt_anomalies.sample(n=num_anomalies, random_state=2023)\n",
    "\n",
    "# 5. 4500개 일반 데이터 샘플링\n",
    "num_normal = 5000 - num_anomalies\n",
    "dt_sample_normal = dt_normal.sample(n=num_normal, random_state=2023)\n",
    "\n",
    "# 6. 최종 샘플 결합\n",
    "dt_sample = pd.concat([dt_sample_anomalies, dt_sample_normal])\n",
    "\n",
    "# 7. dt_train 재구성 (dt_sample에 포함되지 않은 데이터)\n",
    "dt_train = dt_train[~dt_train.index.isin(dt_sample.index)]\n",
    "\n",
    "dt_sample.drop(columns=['anomaly_score'], inplace=True)\n",
    "\n",
    "# 결과 확인\n",
    "print(\"최종 샘플 데이터 크기:\", dt_sample.shape)\n",
    "print(\"재구성된 dt_train 크기:\", dt_train.shape)\n",
    "print(\"이상치 샘플 개수:\", dt_sample_anomalies.shape[0])\n",
    "print(\"일반 샘플 개수:\", dt_sample_normal.shape[0])\n"
   ]
  },
  {
   "cell_type": "code",
   "execution_count": 114,
   "metadata": {},
   "outputs": [
    {
     "name": "stdout",
     "output_type": "stream",
     "text": [
      "특이한 데이터 샘플 수: (5000, 48)\n",
      "재구성된 dt_train 크기: (1022712, 48)\n"
     ]
    }
   ],
   "source": [
    "print(\"특이한 데이터 샘플 수:\", dt_sample.shape)\n",
    "print(\"재구성된 dt_train 크기:\", dt_train.shape)"
   ]
  },
  {
   "cell_type": "code",
   "execution_count": 115,
   "metadata": {},
   "outputs": [
    {
     "data": {
      "text/plain": [
       "(Index(['번지', '아파트명', '계약년월', '계약일', '층', '건축년도', '도로명', '좌표X', '좌표Y', 'target',\n",
       "        '금리_단기1년전차이', 'nearest_subway_distance', 'nearest_bus_distance',\n",
       "        '1차역세권', '2차역세권', '1차버스정류장', '경과연도', '평수', '구', '동', '아파트ID', '아파트ID거리',\n",
       "        'nearest_park_distance', '가까운공원ID', '산책생활권점수', '한강지천길갯수', '한강지천길총길이',\n",
       "        '한강지천생활권점수', '숲세권등급', '한강거리', '실업률', '해제사유발생유무', '강남여부', '건물연령구분',\n",
       "        'is_top', '산책로밀도', '생태문화길밀도', '공원밀도', '호선', '한강근접', '비싼아파트', '재건축30',\n",
       "        '학원', '학교', '공공기관', '병원', '어린이집, 유치원', '계약년'],\n",
       "       dtype='object'),\n",
       " Index(['번지', '아파트명', '계약년월', '계약일', '층', '건축년도', '도로명', '좌표X', '좌표Y', 'target',\n",
       "        '금리_단기1년전차이', 'nearest_subway_distance', 'nearest_bus_distance',\n",
       "        '1차역세권', '2차역세권', '1차버스정류장', '경과연도', '평수', '구', '동', '아파트ID', '아파트ID거리',\n",
       "        'nearest_park_distance', '가까운공원ID', '산책생활권점수', '한강지천길갯수', '한강지천길총길이',\n",
       "        '한강지천생활권점수', '숲세권등급', '한강거리', '실업률', '해제사유발생유무', '강남여부', '건물연령구분',\n",
       "        'is_top', '산책로밀도', '생태문화길밀도', '공원밀도', '호선', '한강근접', '비싼아파트', '재건축30',\n",
       "        '학원', '학교', '공공기관', '병원', '어린이집, 유치원', '계약년'],\n",
       "       dtype='object'))"
      ]
     },
     "execution_count": 115,
     "metadata": {},
     "output_type": "execute_result"
    }
   ],
   "source": [
    "dt_sample.columns, dt_train.columns"
   ]
  },
  {
   "cell_type": "code",
   "execution_count": 116,
   "metadata": {},
   "outputs": [
    {
     "data": {
      "text/plain": [
       "((944042, 47), (78670, 47), (944042,), (78670,))"
      ]
     },
     "execution_count": 116,
     "metadata": {},
     "output_type": "execute_result"
    }
   ],
   "source": [
    "# Target과 독립변수 분리\n",
    "y = dt_train['target']\n",
    "X = dt_train.drop(['target'], axis=1)\n",
    "# Time Series Split 설정 (5개 분할)\n",
    "tscv = TimeSeriesSplit(n_splits=12)\n",
    "# 마지막 분할을 사용하여 train/val 분리\n",
    "for train_idx, val_idx in tscv.split(X):\n",
    "    X_train, X_val = X.iloc[train_idx], X.iloc[val_idx]\n",
    "    y_train, y_val = y.iloc[train_idx], y.iloc[val_idx]\n",
    "\n",
    "X_train.shape, X_val.shape, y_train.shape, y_val.shape"
   ]
  },
  {
   "cell_type": "code",
   "execution_count": 117,
   "metadata": {},
   "outputs": [
    {
     "data": {
      "text/plain": [
       "번지                         0\n",
       "아파트명                       0\n",
       "계약년월                       0\n",
       "계약일                        0\n",
       "층                          0\n",
       "건축년도                       0\n",
       "도로명                        0\n",
       "좌표X                        0\n",
       "좌표Y                        0\n",
       "금리_단기1년전차이                 0\n",
       "nearest_subway_distance    0\n",
       "nearest_bus_distance       0\n",
       "1차역세권                      0\n",
       "2차역세권                      0\n",
       "1차버스정류장                    0\n",
       "경과연도                       0\n",
       "평수                         0\n",
       "구                          0\n",
       "동                          0\n",
       "아파트ID                      0\n",
       "아파트ID거리                    0\n",
       "nearest_park_distance      0\n",
       "가까운공원ID                    0\n",
       "산책생활권점수                    0\n",
       "한강지천길갯수                    0\n",
       "한강지천길총길이                   0\n",
       "한강지천생활권점수                  0\n",
       "숲세권등급                      0\n",
       "한강거리                       0\n",
       "실업률                        0\n",
       "해제사유발생유무                   0\n",
       "강남여부                       0\n",
       "건물연령구분                     0\n",
       "is_top                     0\n",
       "산책로밀도                      0\n",
       "생태문화길밀도                    0\n",
       "공원밀도                       0\n",
       "호선                         0\n",
       "한강근접                       0\n",
       "비싼아파트                      0\n",
       "재건축30                      0\n",
       "학원                         0\n",
       "학교                         0\n",
       "공공기관                       0\n",
       "병원                         0\n",
       "어린이집, 유치원                  0\n",
       "계약년                        0\n",
       "dtype: int64"
      ]
     },
     "execution_count": 117,
     "metadata": {},
     "output_type": "execute_result"
    }
   ],
   "source": [
    "X_train.isnull().sum()"
   ]
  },
  {
   "cell_type": "code",
   "execution_count": 118,
   "metadata": {},
   "outputs": [
    {
     "name": "stdout",
     "output_type": "stream",
     "text": [
      "RMSE test: 13750.323952543033\n"
     ]
    }
   ],
   "source": [
    "model = RandomForestRegressor(n_estimators=5, criterion='squared_error', random_state=1, n_jobs=-1)\n",
    "model.fit(X_train, y_train)\n",
    "pred = model.predict(X_val)\n",
    "print(f'RMSE test: {np.sqrt(metrics.mean_squared_error(y_val, pred))}')\n",
    "# RMSE test: 13750.323952543033"
   ]
  },
  {
   "cell_type": "code",
   "execution_count": 119,
   "metadata": {},
   "outputs": [],
   "source": [
    "# Target과 독립변수들을 분리해줍니다.\n",
    "y_test_sample = dt_sample['target'] # 맞추어야 할 대상, 주택 가격\n",
    "X_test_sample = dt_sample.drop(['target'], axis=1) # 독립변수들, 번지, 면적,층,년도 등등.."
   ]
  },
  {
   "cell_type": "code",
   "execution_count": 120,
   "metadata": {},
   "outputs": [
    {
     "data": {
      "text/plain": [
       "((5000, 47), (5000,))"
      ]
     },
     "execution_count": 120,
     "metadata": {},
     "output_type": "execute_result"
    }
   ],
   "source": [
    "X_test_sample.shape, y_test_sample.shape"
   ]
  },
  {
   "cell_type": "code",
   "execution_count": 121,
   "metadata": {},
   "outputs": [
    {
     "name": "stdout",
     "output_type": "stream",
     "text": [
      "RMSE test: 11844.032735556266\n"
     ]
    }
   ],
   "source": [
    "pred_sample = model.predict(X_test_sample)\n",
    "print(f'RMSE test: {np.sqrt(metrics.mean_squared_error(y_test_sample, pred_sample))}')\n",
    "# RMSE test: 11844.032735556266"
   ]
  },
  {
   "cell_type": "code",
   "execution_count": 122,
   "metadata": {},
   "outputs": [
    {
     "data": {
      "image/png": "[encoded data removed]",
      "text/plain": [
       "<Figure size 1000x800 with 1 Axes>"
      ]
     },
     "metadata": {},
     "output_type": "display_data"
    }
   ],
   "source": [
    "# 위 feature importance를 시각화해봅니다.\n",
    "importances = pd.Series(model.feature_importances_, index=list(X_train.columns))\n",
    "importances = importances.sort_values(ascending=False)\n",
    "\n",
    "plt.figure(figsize=(10,8))\n",
    "plt.title(\"Feature Importances\")\n",
    "sns.barplot(x=importances, y=importances.index)\n",
    "plt.show()"
   ]
  },
  {
   "cell_type": "code",
   "execution_count": null,
   "metadata": {},
   "outputs": [],
   "source": []
  },
  {
   "cell_type": "code",
   "execution_count": null,
   "metadata": {},
   "outputs": [],
   "source": []
  }
 ],
 "metadata": {
  "kernelspec": {
   "display_name": "house-test3.8",
   "language": "python",
   "name": "python3"
  },
  "language_info": {
   "codemirror_mode": {
    "name": "ipython",
    "version": 3
   },
   "file_extension": ".py",
   "mimetype": "text/x-python",
   "name": "python",
   "nbconvert_exporter": "python",
   "pygments_lexer": "ipython3",
   "version": "3.8.20"
  }
 },
 "nbformat": 4,
 "nbformat_minor": 2
}
