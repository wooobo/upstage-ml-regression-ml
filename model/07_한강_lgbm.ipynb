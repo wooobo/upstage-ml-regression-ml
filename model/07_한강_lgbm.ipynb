{
 "cells": [
  {
   "metadata": {},
   "cell_type": "markdown",
   "source": "",
   "id": "17dde6c81c0d579c"
  },
  {
   "metadata": {},
   "cell_type": "markdown",
   "source": [
    "\n",
    "### 금리_단기1년전차이\n",
    "\n",
    "```\n",
    "'번지', '아파트명', '계약년월', '층', '건축년도', '도로명', '좌표X', '좌표Y', 'target',\n",
    "       '금리_단기1년전차이', '평수', '동', '아파트ID', '아파트ID거리', '가까운공원ID', 'is_test',\n",
    "       '학군'\n",
    "       \n",
    "28513\n",
    "```"
   ],
   "id": "289a10be6f164df3"
  },
  {
   "metadata": {
    "ExecuteTime": {
     "end_time": "2025-01-12T07:04:23.254637Z",
     "start_time": "2025-01-12T07:04:23.247314Z"
    }
   },
   "cell_type": "code",
   "source": [
    "# visualization\n",
    "import matplotlib.pyplot as plt\n",
    "import matplotlib.font_manager as fm\n",
    "\n",
    "from backup.module.preprocess import drop_columns\n",
    "\n",
    "fe = fm.FontEntry(\n",
    "    fname=r'/usr/share/fonts/truetype/nanum/NanumGothic.ttf', # ttf 파일이 저장되어 있는 경로\n",
    "    name='NanumBarunGothic')                        # 이 폰트의 원하는 이름 설정\n",
    "fm.fontManager.ttflist.insert(0, fe)              # Matplotlib에 폰트 추가\n",
    "plt.rcParams.update({'font.size': 10, 'font.family': 'AppleGothic'}) # 폰트 설정\n",
    "plt.rc('font', family='AppleGothic')\n",
    "import seaborn as sns\n",
    "\n",
    "# utils\n",
    "import pandas as pd\n",
    "import numpy as np\n",
    "from tqdm import tqdm\n",
    "import pickle\n",
    "import warnings;warnings.filterwarnings('ignore')\n",
    "\n",
    "# Model\n",
    "from sklearn.preprocessing import LabelEncoder\n",
    "from sklearn.model_selection import train_test_split\n",
    "from sklearn.metrics import mean_squared_error\n",
    "from sklearn.ensemble import RandomForestRegressor\n",
    "from sklearn import metrics\n",
    "import lightgbm as lgb\n",
    "import eli5\n",
    "from eli5.sklearn import PermutationImportance"
   ],
   "id": "c4f07c1ef46945d",
   "outputs": [],
   "execution_count": 33
  },
  {
   "metadata": {
    "ExecuteTime": {
     "end_time": "2025-01-12T07:04:23.508048Z",
     "start_time": "2025-01-12T07:04:23.506045Z"
    }
   },
   "cell_type": "code",
   "source": [
    "# sys.path를 수정하여 모듈 경로를 설정\n",
    "import sys\n",
    "import os\n",
    "import pandas as pd\n",
    "\n",
    "# 프로젝트 루트 경로 추가\n",
    "project_root = os.path.abspath(\"..\")\n",
    "sys.path.append(project_root)\n",
    "# 모든 컬럼 출력 설정\n",
    "# pd.set_option('display.max_columns', None)\n",
    "# 모든 행 출력 설정\n",
    "# pd.set_option('display.max_rows', None)\n",
    "\n",
    "import module"
   ],
   "id": "eb3e01a70c3324fa",
   "outputs": [],
   "execution_count": 34
  },
  {
   "metadata": {
    "ExecuteTime": {
     "end_time": "2025-01-12T07:04:36.861791Z",
     "start_time": "2025-01-12T07:04:23.530059Z"
    }
   },
   "cell_type": "code",
   "source": "df, df_test_y = module.file_load.load_current_version()",
   "id": "4f69e96e93e1e0e5",
   "outputs": [],
   "execution_count": 35
  },
  {
   "metadata": {
    "ExecuteTime": {
     "end_time": "2025-01-12T07:04:36.988464Z",
     "start_time": "2025-01-12T07:04:36.979799Z"
    }
   },
   "cell_type": "code",
   "source": "df['is_test'].value_counts()      # train과 test data가 하나로 합쳐진 것을 확인할 수 있습니다.",
   "id": "1cac72146f407cb",
   "outputs": [
    {
     "data": {
      "text/plain": [
       "is_test\n",
       "0    1097155\n",
       "1       5607\n",
       "Name: count, dtype: int64"
      ]
     },
     "execution_count": 36,
     "metadata": {},
     "output_type": "execute_result"
    }
   ],
   "execution_count": 36
  },
  {
   "metadata": {
    "ExecuteTime": {
     "end_time": "2025-01-12T07:04:37.173264Z",
     "start_time": "2025-01-12T07:04:37.169954Z"
    }
   },
   "cell_type": "code",
   "source": "df.columns",
   "id": "8813429510037398",
   "outputs": [
    {
     "data": {
      "text/plain": [
       "Index(['index', '시군구', '번지', '본번', '부번', '아파트명', '전용면적(㎡)', '계약년월', '계약일', '층',\n",
       "       '건축년도', '도로명', '해제사유발생일', '등기신청일자', '거래유형', '중개사소재지',\n",
       "       'k-단지분류(아파트,주상복합등등)', 'k-전화번호', 'k-팩스번호', '단지소개기존clob', 'k-세대타입(분양형태)',\n",
       "       'k-관리방식', 'k-복도유형', 'k-난방방식', 'k-전체동수', 'k-전체세대수', 'k-건설사(시공사)',\n",
       "       'k-시행사', 'k-사용검사일-사용승인일', 'k-연면적', 'k-주거전용면적', 'k-관리비부과면적',\n",
       "       'k-전용면적별세대현황(60㎡이하)', 'k-전용면적별세대현황(60㎡~85㎡이하)', 'k-85㎡~135㎡이하',\n",
       "       'k-135㎡초과', 'k-홈페이지', 'k-등록일자', 'k-수정일자', '고용보험관리번호', '경비비관리형태',\n",
       "       '세대전기계약방법', '청소비관리형태', '건축면적', '주차대수', '기타/의무/임대/임의=1/2/3/4', '단지승인일',\n",
       "       '사용허가여부', '관리비 업로드', '좌표X', '좌표Y', '단지신청일', 'target', '금리_단기1년전차이',\n",
       "       'nearest_subway_distance', 'nearest_bus_distance', '1차역세권', '2차역세권',\n",
       "       '1차버스정류장', '경과연도', '경과구분', '평수', '층_그룹', '평수_그룹', '시', '구', '동',\n",
       "       '아파트ID', '아파트ID거리', 'nearest_park_distance', '가까운공원이름', '가까운공원ID',\n",
       "       '공원갯수', '공원총면적', '공원생활권점수', '산책로갯수', '산책로총길이', '산책생활권점수', '생태문화길갯수',\n",
       "       '생태문화길총길이', '생태문화생활권점수', '한강지천길갯수', '한강지천길총길이', '한강지천생활권점수', '숲세권종합점수',\n",
       "       '숲세권등급', '한강거리', '지가지수', '아파트전세_전기대비증감률', '실업률', '민간소비', '소비자심리지수',\n",
       "       '경제심리지수', '여수신 금리차', 'is_test'],\n",
       "      dtype='object')"
      ]
     },
     "execution_count": 37,
     "metadata": {},
     "output_type": "execute_result"
    }
   ],
   "execution_count": 37
  },
  {
   "metadata": {
    "ExecuteTime": {
     "end_time": "2025-01-12T07:04:37.179940Z",
     "start_time": "2025-01-12T07:04:37.176610Z"
    }
   },
   "cell_type": "code",
   "source": [
    "# 결측치가 많거나 필요 없는 컬럼을 정리한다\n",
    "drop_columns = [\n",
    "    'index', '시군구',  '본번', '부번', \n",
    "      '해제사유발생일', '등기신청일자', '거래유형', '중개사소재지',\n",
    "       'k-단지분류(아파트,주상복합등등)', 'k-전화번호', 'k-팩스번호', '단지소개기존clob', 'k-세대타입(분양형태)',\n",
    "       'k-관리방식', 'k-복도유형', 'k-난방방식', 'k-전체동수', 'k-전체세대수', 'k-건설사(시공사)',\n",
    "       'k-시행사', 'k-사용검사일-사용승인일', 'k-연면적', 'k-주거전용면적', 'k-관리비부과면적',\n",
    "       'k-전용면적별세대현황(60㎡이하)', 'k-전용면적별세대현황(60㎡~85㎡이하)', 'k-85㎡~135㎡이하',\n",
    "       'k-135㎡초과', 'k-홈페이지', 'k-등록일자', 'k-수정일자', '고용보험관리번호', '경비비관리형태',\n",
    "       '세대전기계약방법', '청소비관리형태', '건축면적', '주차대수', '기타/의무/임대/임의=1/2/3/4', '단지승인일',\n",
    "    \n",
    "       '사용허가여부', '관리비 업로드','단지신청일', \n",
    "       'nearest_subway_distance', 'nearest_bus_distance', '1차역세권', '2차역세권',\n",
    "       '1차버스정류장', '경과연도', '경과구분',  '층_그룹', '평수_그룹', '시',\n",
    "        'nearest_park_distance',\n",
    "    '가까운공원이름', \n",
    "        '공원생활권점수',\n",
    "        '산책로갯수',\n",
    "        '산책로총길이',\n",
    "        '산책생활권점수',\n",
    "        '생태문화길갯수',\n",
    "        '생태문화길총길이',\n",
    "        '생태문화생활권점수',\n",
    "        '한강지천길갯수',\n",
    "        '한강지천길총길이',\n",
    "        '숲세권종합점수',\n",
    "        '숲세권등급',\n",
    "        '한강거리',\n",
    "        '지가지수',\n",
    "        '아파트전세_전기대비증감률',\n",
    "        '실업률',\n",
    "        '민간소비',\n",
    "        '소비자심리지수',\n",
    "        '경제심리지수',\n",
    "        '여수신 금리차',\n",
    "        '계약일',\n",
    "        '전용면적(㎡)',\n",
    "        '공원갯수',\n",
    "        '공원총면적',\n",
    "        '한강지천생활권점수'\n",
    "]"
   ],
   "id": "687643b502b9a749",
   "outputs": [],
   "execution_count": 38
  },
  {
   "metadata": {},
   "cell_type": "markdown",
   "source": "# 전처리",
   "id": "cec4cd9593ec6f4e"
  },
  {
   "metadata": {
    "ExecuteTime": {
     "end_time": "2025-01-12T07:04:37.242164Z",
     "start_time": "2025-01-12T07:04:37.182367Z"
    }
   },
   "cell_type": "code",
   "source": "df_select = module.preprocess.drop_columns(df, drop_columns)",
   "id": "524d33e39dc09754",
   "outputs": [],
   "execution_count": 39
  },
  {
   "metadata": {
    "ExecuteTime": {
     "end_time": "2025-01-12T07:04:37.829784Z",
     "start_time": "2025-01-12T07:04:37.342007Z"
    }
   },
   "cell_type": "code",
   "source": [
    "module.preprocess.번지_본번_부번_결측채우기(df_select)\n",
    "module.preprocess.한강거리_add(df_select)"
   ],
   "id": "a10f133aff6ec6fb",
   "outputs": [],
   "execution_count": 40
  },
  {
   "metadata": {
    "ExecuteTime": {
     "end_time": "2025-01-12T07:04:37.928471Z",
     "start_time": "2025-01-12T07:04:37.926035Z"
    }
   },
   "cell_type": "code",
   "source": "df_select.columns",
   "id": "d66d3aace57cf8e6",
   "outputs": [
    {
     "data": {
      "text/plain": [
       "Index(['번지', '아파트명', '계약년월', '층', '건축년도', '도로명', '좌표X', '좌표Y', 'target',\n",
       "       '금리_단기1년전차이', '평수', '구', '동', '아파트ID', '아파트ID거리', '가까운공원ID', 'is_test',\n",
       "       '한강거리'],\n",
       "      dtype='object')"
      ]
     },
     "execution_count": 41,
     "metadata": {},
     "output_type": "execute_result"
    }
   ],
   "execution_count": 41
  },
  {
   "metadata": {},
   "cell_type": "markdown",
   "source": "# 파생변수",
   "id": "ea39a5cbe8ef7f6e"
  },
  {
   "metadata": {
    "ExecuteTime": {
     "end_time": "2025-01-12T07:04:38.199947Z",
     "start_time": "2025-01-12T07:04:38.021758Z"
    }
   },
   "cell_type": "code",
   "source": [
    "gangnam_8_schools = ['강남구', '서초구', '송파구']\n",
    "df_select['학군'] = df_select['구'].apply(lambda x: 1 if x in gangnam_8_schools else 0)"
   ],
   "id": "99b78aee4f5151d2",
   "outputs": [],
   "execution_count": 42
  },
  {
   "metadata": {
    "ExecuteTime": {
     "end_time": "2025-01-12T07:04:38.366331Z",
     "start_time": "2025-01-12T07:04:38.293189Z"
    }
   },
   "cell_type": "code",
   "source": [
    "final_drop_columns = ['구']\n",
    "df_select.drop(final_drop_columns, axis=1, inplace=True)"
   ],
   "id": "3d531f5c7df9fef8",
   "outputs": [],
   "execution_count": 43
  },
  {
   "metadata": {},
   "cell_type": "markdown",
   "source": "# Model Training",
   "id": "1df752cfb07be26"
  },
  {
   "metadata": {},
   "cell_type": "markdown",
   "source": "## 범주형 변수 Encoding",
   "id": "3afbdcde8557e5fa"
  },
  {
   "metadata": {
    "ExecuteTime": {
     "end_time": "2025-01-12T07:04:38.627819Z",
     "start_time": "2025-01-12T07:04:38.462386Z"
    }
   },
   "cell_type": "code",
   "source": "model_data = df_select.copy()",
   "id": "a4befac26e6522db",
   "outputs": [],
   "execution_count": 44
  },
  {
   "metadata": {
    "ExecuteTime": {
     "end_time": "2025-01-12T07:04:38.739674Z",
     "start_time": "2025-01-12T07:04:38.737072Z"
    }
   },
   "cell_type": "code",
   "source": "model_data.columns",
   "id": "6e838abae3784377",
   "outputs": [
    {
     "data": {
      "text/plain": [
       "Index(['번지', '아파트명', '계약년월', '층', '건축년도', '도로명', '좌표X', '좌표Y', 'target',\n",
       "       '금리_단기1년전차이', '평수', '동', '아파트ID', '아파트ID거리', '가까운공원ID', 'is_test',\n",
       "       '한강거리', '학군'],\n",
       "      dtype='object')"
      ]
     },
     "execution_count": 45,
     "metadata": {},
     "output_type": "execute_result"
    }
   ],
   "execution_count": 45
  },
  {
   "metadata": {
    "ExecuteTime": {
     "end_time": "2025-01-12T07:04:40.295089Z",
     "start_time": "2025-01-12T07:04:38.831675Z"
    }
   },
   "cell_type": "code",
   "source": [
    "dt_train, dt_test = module.preprocess.split_train_test(model_data)\n",
    "categorical_columns_v2 = module.preprocess.범주형_filter(dt_train)\n",
    "label_encoders = module.preprocess.범주형_encoding(dt_train, dt_test, categorical_columns_v2)\n",
    "print(dt_train.shape, dt_test.shape)"
   ],
   "id": "ae3ef63768ad6c39",
   "outputs": [
    {
     "name": "stderr",
     "output_type": "stream",
     "text": [
      "100%|██████████| 6/6 [00:01<00:00,  4.76it/s]"
     ]
    },
    {
     "name": "stdout",
     "output_type": "stream",
     "text": [
      "(1097155, 17) (5607, 17)\n"
     ]
    },
    {
     "name": "stderr",
     "output_type": "stream",
     "text": [
      "\n"
     ]
    }
   ],
   "execution_count": 46
  },
  {
   "metadata": {},
   "cell_type": "markdown",
   "source": "## Model Training\n",
   "id": "6965824bbc4a624c"
  },
  {
   "metadata": {},
   "cell_type": "markdown",
   "source": "# 훈련데이터 분할",
   "id": "fb9319e479302a9b"
  },
  {
   "metadata": {
    "ExecuteTime": {
     "end_time": "2025-01-12T07:04:40.628761Z",
     "start_time": "2025-01-12T07:04:40.443020Z"
    }
   },
   "cell_type": "code",
   "source": "X_train, X_val, y_train, y_val = module.preprocess.holdout_split_X_y(dt_train)",
   "id": "bbea2a6e74c3dc30",
   "outputs": [],
   "execution_count": 47
  },
  {
   "metadata": {
    "ExecuteTime": {
     "end_time": "2025-01-12T07:04:40.769133Z",
     "start_time": "2025-01-12T07:04:40.765703Z"
    }
   },
   "cell_type": "code",
   "source": "X_train.shape, X_val.shape, y_train.shape, y_val.shape",
   "id": "3e73d02e1a8bf9ab",
   "outputs": [
    {
     "data": {
      "text/plain": [
       "((877724, 16), (219431, 16), (877724,), (219431,))"
      ]
     },
     "execution_count": 48,
     "metadata": {},
     "output_type": "execute_result"
    }
   ],
   "execution_count": 48
  },
  {
   "metadata": {
    "ExecuteTime": {
     "end_time": "2025-01-12T07:04:40.893964Z",
     "start_time": "2025-01-12T07:04:40.888456Z"
    }
   },
   "cell_type": "code",
   "source": "X_train.head(1)",
   "id": "938b871f80c10866",
   "outputs": [
    {
     "data": {
      "text/plain": [
       "          번지  아파트명    계약년월   층  건축년도   도로명         좌표X        좌표Y  금리_단기1년전차이  \\\n",
       "586784  1444  3131  201605  11  1988  4922  127.015602  37.498732       -0.25   \n",
       "\n",
       "        평수    동  아파트ID    아파트ID거리  가까운공원ID         한강거리  학군  \n",
       "586784  24  151   1404  18.501546     1612  1900.611918   1  "
      ],
      "text/html": [
       "<div>\n",
       "<style scoped>\n",
       "    .dataframe tbody tr th:only-of-type {\n",
       "        vertical-align: middle;\n",
       "    }\n",
       "\n",
       "    .dataframe tbody tr th {\n",
       "        vertical-align: top;\n",
       "    }\n",
       "\n",
       "    .dataframe thead th {\n",
       "        text-align: right;\n",
       "    }\n",
       "</style>\n",
       "<table border=\"1\" class=\"dataframe\">\n",
       "  <thead>\n",
       "    <tr style=\"text-align: right;\">\n",
       "      <th></th>\n",
       "      <th>번지</th>\n",
       "      <th>아파트명</th>\n",
       "      <th>계약년월</th>\n",
       "      <th>층</th>\n",
       "      <th>건축년도</th>\n",
       "      <th>도로명</th>\n",
       "      <th>좌표X</th>\n",
       "      <th>좌표Y</th>\n",
       "      <th>금리_단기1년전차이</th>\n",
       "      <th>평수</th>\n",
       "      <th>동</th>\n",
       "      <th>아파트ID</th>\n",
       "      <th>아파트ID거리</th>\n",
       "      <th>가까운공원ID</th>\n",
       "      <th>한강거리</th>\n",
       "      <th>학군</th>\n",
       "    </tr>\n",
       "  </thead>\n",
       "  <tbody>\n",
       "    <tr>\n",
       "      <th>586784</th>\n",
       "      <td>1444</td>\n",
       "      <td>3131</td>\n",
       "      <td>201605</td>\n",
       "      <td>11</td>\n",
       "      <td>1988</td>\n",
       "      <td>4922</td>\n",
       "      <td>127.015602</td>\n",
       "      <td>37.498732</td>\n",
       "      <td>-0.25</td>\n",
       "      <td>24</td>\n",
       "      <td>151</td>\n",
       "      <td>1404</td>\n",
       "      <td>18.501546</td>\n",
       "      <td>1612</td>\n",
       "      <td>1900.611918</td>\n",
       "      <td>1</td>\n",
       "    </tr>\n",
       "  </tbody>\n",
       "</table>\n",
       "</div>"
      ]
     },
     "execution_count": 49,
     "metadata": {},
     "output_type": "execute_result"
    }
   ],
   "execution_count": 49
  },
  {
   "metadata": {
    "ExecuteTime": {
     "end_time": "2025-01-12T07:05:41.959525Z",
     "start_time": "2025-01-12T07:04:41.061166Z"
    }
   },
   "cell_type": "code",
   "source": [
    "X_test = dt_test.drop(['target'], axis=1)\n",
    "\n",
    "# LGBMRegressor 모델 선언 시 파라미터 추가\n",
    "lgbr = lgb.LGBMRegressor(\n",
    "    boosting_type='dart',  # 부스팅 타입 (기본값: 'gbdt')\n",
    "    num_leaves=258,         # 리프 노드의 최대 개수 (기본값: 31)\n",
    "    max_depth=8,          # 트리의 최대 깊이 (-1은 제한 없음)\n",
    "    learning_rate=0.07224290084064122,     # 학습률 (기본값: 0.1)\n",
    "    n_estimators=301,      # 부스팅 반복 횟수 (기본값: 100)\n",
    "    min_child_samples=5,  # 자식 노드를 분할하기 위한 최소 데이터 수 (기본값: 20)\n",
    "    subsample=0.9773487107075421,         # 데이터 샘플링 비율 (기본값: 1.0)\n",
    "    colsample_bytree=0.9011817947068029,  # 트리 생성 시 feature 샘플링 비율 (기본값: 1.0)\n",
    "    reg_alpha=0.04063525938772354,\n",
    "    reg_lambda=0.0014482851327836004,\n",
    "    random_state=42        # 랜덤 시드\n",
    ")\n",
    "\n",
    "# 모델 학습\n",
    "lgbr.fit(X_train, y_train)\n"
   ],
   "id": "acf8a45d1f98d3a0",
   "outputs": [
    {
     "name": "stdout",
     "output_type": "stream",
     "text": [
      "[LightGBM] [Info] Auto-choosing row-wise multi-threading, the overhead of testing was 0.005861 seconds.\n",
      "You can set `force_row_wise=true` to remove the overhead.\n",
      "And if memory is not enough, you can set `force_col_wise=true`.\n",
      "[LightGBM] [Info] Total Bins 2914\n",
      "[LightGBM] [Info] Number of data points in the train set: 877724, number of used features: 16\n",
      "[LightGBM] [Info] Start training from score 57146.085207\n",
      "[LightGBM] [Warning] No further splits with positive gain, best gain: -inf\n",
      "[LightGBM] [Warning] No further splits with positive gain, best gain: -inf\n",
      "[LightGBM] [Warning] No further splits with positive gain, best gain: -inf\n",
      "[LightGBM] [Warning] No further splits with positive gain, best gain: -inf\n",
      "[LightGBM] [Warning] No further splits with positive gain, best gain: -inf\n",
      "[LightGBM] [Warning] No further splits with positive gain, best gain: -inf\n",
      "[LightGBM] [Warning] No further splits with positive gain, best gain: -inf\n",
      "[LightGBM] [Warning] No further splits with positive gain, best gain: -inf\n",
      "[LightGBM] [Warning] No further splits with positive gain, best gain: -inf\n",
      "[LightGBM] [Warning] No further splits with positive gain, best gain: -inf\n",
      "[LightGBM] [Warning] No further splits with positive gain, best gain: -inf\n",
      "[LightGBM] [Warning] No further splits with positive gain, best gain: -inf\n",
      "[LightGBM] [Warning] No further splits with positive gain, best gain: -inf\n",
      "[LightGBM] [Warning] No further splits with positive gain, best gain: -inf\n",
      "[LightGBM] [Warning] No further splits with positive gain, best gain: -inf\n",
      "[LightGBM] [Warning] No further splits with positive gain, best gain: -inf\n",
      "[LightGBM] [Warning] No further splits with positive gain, best gain: -inf\n",
      "[LightGBM] [Warning] No further splits with positive gain, best gain: -inf\n",
      "[LightGBM] [Warning] No further splits with positive gain, best gain: -inf\n",
      "[LightGBM] [Warning] No further splits with positive gain, best gain: -inf\n",
      "[LightGBM] [Warning] No further splits with positive gain, best gain: -inf\n",
      "[LightGBM] [Warning] No further splits with positive gain, best gain: -inf\n",
      "[LightGBM] [Warning] No further splits with positive gain, best gain: -inf\n",
      "[LightGBM] [Warning] No further splits with positive gain, best gain: -inf\n",
      "[LightGBM] [Warning] No further splits with positive gain, best gain: -inf\n",
      "[LightGBM] [Warning] No further splits with positive gain, best gain: -inf\n",
      "[LightGBM] [Warning] No further splits with positive gain, best gain: -inf\n",
      "[LightGBM] [Warning] No further splits with positive gain, best gain: -inf\n",
      "[LightGBM] [Warning] No further splits with positive gain, best gain: -inf\n",
      "[LightGBM] [Warning] No further splits with positive gain, best gain: -inf\n",
      "[LightGBM] [Warning] No further splits with positive gain, best gain: -inf\n",
      "[LightGBM] [Warning] No further splits with positive gain, best gain: -inf\n",
      "[LightGBM] [Warning] No further splits with positive gain, best gain: -inf\n",
      "[LightGBM] [Warning] No further splits with positive gain, best gain: -inf\n",
      "[LightGBM] [Warning] No further splits with positive gain, best gain: -inf\n",
      "[LightGBM] [Warning] No further splits with positive gain, best gain: -inf\n",
      "[LightGBM] [Warning] No further splits with positive gain, best gain: -inf\n",
      "[LightGBM] [Warning] No further splits with positive gain, best gain: -inf\n",
      "[LightGBM] [Warning] No further splits with positive gain, best gain: -inf\n",
      "[LightGBM] [Warning] No further splits with positive gain, best gain: -inf\n",
      "[LightGBM] [Warning] No further splits with positive gain, best gain: -inf\n",
      "[LightGBM] [Warning] No further splits with positive gain, best gain: -inf\n",
      "[LightGBM] [Warning] No further splits with positive gain, best gain: -inf\n",
      "[LightGBM] [Warning] No further splits with positive gain, best gain: -inf\n",
      "[LightGBM] [Warning] No further splits with positive gain, best gain: -inf\n",
      "[LightGBM] [Warning] No further splits with positive gain, best gain: -inf\n",
      "[LightGBM] [Warning] No further splits with positive gain, best gain: -inf\n",
      "[LightGBM] [Warning] No further splits with positive gain, best gain: -inf\n",
      "[LightGBM] [Warning] No further splits with positive gain, best gain: -inf\n",
      "[LightGBM] [Warning] No further splits with positive gain, best gain: -inf\n",
      "[LightGBM] [Warning] No further splits with positive gain, best gain: -inf\n",
      "[LightGBM] [Warning] No further splits with positive gain, best gain: -inf\n",
      "[LightGBM] [Warning] No further splits with positive gain, best gain: -inf\n",
      "[LightGBM] [Warning] No further splits with positive gain, best gain: -inf\n",
      "[LightGBM] [Warning] No further splits with positive gain, best gain: -inf\n",
      "[LightGBM] [Warning] No further splits with positive gain, best gain: -inf\n",
      "[LightGBM] [Warning] No further splits with positive gain, best gain: -inf\n",
      "[LightGBM] [Warning] No further splits with positive gain, best gain: -inf\n",
      "[LightGBM] [Warning] No further splits with positive gain, best gain: -inf\n",
      "[LightGBM] [Warning] No further splits with positive gain, best gain: -inf\n",
      "[LightGBM] [Warning] No further splits with positive gain, best gain: -inf\n",
      "[LightGBM] [Warning] No further splits with positive gain, best gain: -inf\n",
      "[LightGBM] [Warning] No further splits with positive gain, best gain: -inf\n",
      "[LightGBM] [Warning] No further splits with positive gain, best gain: -inf\n",
      "[LightGBM] [Warning] No further splits with positive gain, best gain: -inf\n",
      "[LightGBM] [Warning] No further splits with positive gain, best gain: -inf\n",
      "[LightGBM] [Warning] No further splits with positive gain, best gain: -inf\n",
      "[LightGBM] [Warning] No further splits with positive gain, best gain: -inf\n",
      "[LightGBM] [Warning] No further splits with positive gain, best gain: -inf\n",
      "[LightGBM] [Warning] No further splits with positive gain, best gain: -inf\n",
      "[LightGBM] [Warning] No further splits with positive gain, best gain: -inf\n",
      "[LightGBM] [Warning] No further splits with positive gain, best gain: -inf\n",
      "[LightGBM] [Warning] No further splits with positive gain, best gain: -inf\n",
      "[LightGBM] [Warning] No further splits with positive gain, best gain: -inf\n",
      "[LightGBM] [Warning] No further splits with positive gain, best gain: -inf\n",
      "[LightGBM] [Warning] No further splits with positive gain, best gain: -inf\n",
      "[LightGBM] [Warning] No further splits with positive gain, best gain: -inf\n",
      "[LightGBM] [Warning] No further splits with positive gain, best gain: -inf\n",
      "[LightGBM] [Warning] No further splits with positive gain, best gain: -inf\n",
      "[LightGBM] [Warning] No further splits with positive gain, best gain: -inf\n",
      "[LightGBM] [Warning] No further splits with positive gain, best gain: -inf\n",
      "[LightGBM] [Warning] No further splits with positive gain, best gain: -inf\n",
      "[LightGBM] [Warning] No further splits with positive gain, best gain: -inf\n",
      "[LightGBM] [Warning] No further splits with positive gain, best gain: -inf\n",
      "[LightGBM] [Warning] No further splits with positive gain, best gain: -inf\n",
      "[LightGBM] [Warning] No further splits with positive gain, best gain: -inf\n",
      "[LightGBM] [Warning] No further splits with positive gain, best gain: -inf\n",
      "[LightGBM] [Warning] No further splits with positive gain, best gain: -inf\n",
      "[LightGBM] [Warning] No further splits with positive gain, best gain: -inf\n",
      "[LightGBM] [Warning] No further splits with positive gain, best gain: -inf\n",
      "[LightGBM] [Warning] No further splits with positive gain, best gain: -inf\n",
      "[LightGBM] [Warning] No further splits with positive gain, best gain: -inf\n",
      "[LightGBM] [Warning] No further splits with positive gain, best gain: -inf\n",
      "[LightGBM] [Warning] No further splits with positive gain, best gain: -inf\n",
      "[LightGBM] [Warning] No further splits with positive gain, best gain: -inf\n",
      "[LightGBM] [Warning] No further splits with positive gain, best gain: -inf\n",
      "[LightGBM] [Warning] No further splits with positive gain, best gain: -inf\n",
      "[LightGBM] [Warning] No further splits with positive gain, best gain: -inf\n",
      "[LightGBM] [Warning] No further splits with positive gain, best gain: -inf\n",
      "[LightGBM] [Warning] No further splits with positive gain, best gain: -inf\n",
      "[LightGBM] [Warning] No further splits with positive gain, best gain: -inf\n",
      "[LightGBM] [Warning] No further splits with positive gain, best gain: -inf\n",
      "[LightGBM] [Warning] No further splits with positive gain, best gain: -inf\n",
      "[LightGBM] [Warning] No further splits with positive gain, best gain: -inf\n",
      "[LightGBM] [Warning] No further splits with positive gain, best gain: -inf\n",
      "[LightGBM] [Warning] No further splits with positive gain, best gain: -inf\n",
      "[LightGBM] [Warning] No further splits with positive gain, best gain: -inf\n",
      "[LightGBM] [Warning] No further splits with positive gain, best gain: -inf\n",
      "[LightGBM] [Warning] No further splits with positive gain, best gain: -inf\n",
      "[LightGBM] [Warning] No further splits with positive gain, best gain: -inf\n",
      "[LightGBM] [Warning] No further splits with positive gain, best gain: -inf\n",
      "[LightGBM] [Warning] No further splits with positive gain, best gain: -inf\n",
      "[LightGBM] [Warning] No further splits with positive gain, best gain: -inf\n",
      "[LightGBM] [Warning] No further splits with positive gain, best gain: -inf\n",
      "[LightGBM] [Warning] No further splits with positive gain, best gain: -inf\n",
      "[LightGBM] [Warning] No further splits with positive gain, best gain: -inf\n",
      "[LightGBM] [Warning] No further splits with positive gain, best gain: -inf\n",
      "[LightGBM] [Warning] No further splits with positive gain, best gain: -inf\n",
      "[LightGBM] [Warning] No further splits with positive gain, best gain: -inf\n",
      "[LightGBM] [Warning] No further splits with positive gain, best gain: -inf\n",
      "[LightGBM] [Warning] No further splits with positive gain, best gain: -inf\n",
      "[LightGBM] [Warning] No further splits with positive gain, best gain: -inf\n",
      "[LightGBM] [Warning] No further splits with positive gain, best gain: -inf\n",
      "[LightGBM] [Warning] No further splits with positive gain, best gain: -inf\n",
      "[LightGBM] [Warning] No further splits with positive gain, best gain: -inf\n",
      "[LightGBM] [Warning] No further splits with positive gain, best gain: -inf\n",
      "[LightGBM] [Warning] No further splits with positive gain, best gain: -inf\n",
      "[LightGBM] [Warning] No further splits with positive gain, best gain: -inf\n",
      "[LightGBM] [Warning] No further splits with positive gain, best gain: -inf\n",
      "[LightGBM] [Warning] No further splits with positive gain, best gain: -inf\n",
      "[LightGBM] [Warning] No further splits with positive gain, best gain: -inf\n",
      "[LightGBM] [Warning] No further splits with positive gain, best gain: -inf\n",
      "[LightGBM] [Warning] No further splits with positive gain, best gain: -inf\n",
      "[LightGBM] [Warning] No further splits with positive gain, best gain: -inf\n",
      "[LightGBM] [Warning] No further splits with positive gain, best gain: -inf\n",
      "[LightGBM] [Warning] No further splits with positive gain, best gain: -inf\n",
      "[LightGBM] [Warning] No further splits with positive gain, best gain: -inf\n",
      "[LightGBM] [Warning] No further splits with positive gain, best gain: -inf\n",
      "[LightGBM] [Warning] No further splits with positive gain, best gain: -inf\n",
      "[LightGBM] [Warning] No further splits with positive gain, best gain: -inf\n",
      "[LightGBM] [Warning] No further splits with positive gain, best gain: -inf\n",
      "[LightGBM] [Warning] No further splits with positive gain, best gain: -inf\n",
      "[LightGBM] [Warning] No further splits with positive gain, best gain: -inf\n",
      "[LightGBM] [Warning] No further splits with positive gain, best gain: -inf\n",
      "[LightGBM] [Warning] No further splits with positive gain, best gain: -inf\n",
      "[LightGBM] [Warning] No further splits with positive gain, best gain: -inf\n",
      "[LightGBM] [Warning] No further splits with positive gain, best gain: -inf\n",
      "[LightGBM] [Warning] No further splits with positive gain, best gain: -inf\n",
      "[LightGBM] [Warning] No further splits with positive gain, best gain: -inf\n",
      "[LightGBM] [Warning] No further splits with positive gain, best gain: -inf\n",
      "[LightGBM] [Warning] No further splits with positive gain, best gain: -inf\n",
      "[LightGBM] [Warning] No further splits with positive gain, best gain: -inf\n",
      "[LightGBM] [Warning] No further splits with positive gain, best gain: -inf\n",
      "[LightGBM] [Warning] No further splits with positive gain, best gain: -inf\n",
      "[LightGBM] [Warning] No further splits with positive gain, best gain: -inf\n",
      "[LightGBM] [Warning] No further splits with positive gain, best gain: -inf\n",
      "[LightGBM] [Warning] No further splits with positive gain, best gain: -inf\n",
      "[LightGBM] [Warning] No further splits with positive gain, best gain: -inf\n",
      "[LightGBM] [Warning] No further splits with positive gain, best gain: -inf\n",
      "[LightGBM] [Warning] No further splits with positive gain, best gain: -inf\n",
      "[LightGBM] [Warning] No further splits with positive gain, best gain: -inf\n",
      "[LightGBM] [Warning] No further splits with positive gain, best gain: -inf\n",
      "[LightGBM] [Warning] No further splits with positive gain, best gain: -inf\n",
      "[LightGBM] [Warning] No further splits with positive gain, best gain: -inf\n",
      "[LightGBM] [Warning] No further splits with positive gain, best gain: -inf\n",
      "[LightGBM] [Warning] No further splits with positive gain, best gain: -inf\n",
      "[LightGBM] [Warning] No further splits with positive gain, best gain: -inf\n",
      "[LightGBM] [Warning] No further splits with positive gain, best gain: -inf\n",
      "[LightGBM] [Warning] No further splits with positive gain, best gain: -inf\n",
      "[LightGBM] [Warning] No further splits with positive gain, best gain: -inf\n",
      "[LightGBM] [Warning] No further splits with positive gain, best gain: -inf\n",
      "[LightGBM] [Warning] No further splits with positive gain, best gain: -inf\n",
      "[LightGBM] [Warning] No further splits with positive gain, best gain: -inf\n",
      "[LightGBM] [Warning] No further splits with positive gain, best gain: -inf\n",
      "[LightGBM] [Warning] No further splits with positive gain, best gain: -inf\n",
      "[LightGBM] [Warning] No further splits with positive gain, best gain: -inf\n",
      "[LightGBM] [Warning] No further splits with positive gain, best gain: -inf\n",
      "[LightGBM] [Warning] No further splits with positive gain, best gain: -inf\n",
      "[LightGBM] [Warning] No further splits with positive gain, best gain: -inf\n",
      "[LightGBM] [Warning] No further splits with positive gain, best gain: -inf\n",
      "[LightGBM] [Warning] No further splits with positive gain, best gain: -inf\n",
      "[LightGBM] [Warning] No further splits with positive gain, best gain: -inf\n",
      "[LightGBM] [Warning] No further splits with positive gain, best gain: -inf\n",
      "[LightGBM] [Warning] No further splits with positive gain, best gain: -inf\n",
      "[LightGBM] [Warning] No further splits with positive gain, best gain: -inf\n",
      "[LightGBM] [Warning] No further splits with positive gain, best gain: -inf\n",
      "[LightGBM] [Warning] No further splits with positive gain, best gain: -inf\n",
      "[LightGBM] [Warning] No further splits with positive gain, best gain: -inf\n",
      "[LightGBM] [Warning] No further splits with positive gain, best gain: -inf\n",
      "[LightGBM] [Warning] No further splits with positive gain, best gain: -inf\n",
      "[LightGBM] [Warning] No further splits with positive gain, best gain: -inf\n",
      "[LightGBM] [Warning] No further splits with positive gain, best gain: -inf\n",
      "[LightGBM] [Warning] No further splits with positive gain, best gain: -inf\n",
      "[LightGBM] [Warning] No further splits with positive gain, best gain: -inf\n",
      "[LightGBM] [Warning] No further splits with positive gain, best gain: -inf\n",
      "[LightGBM] [Warning] No further splits with positive gain, best gain: -inf\n",
      "[LightGBM] [Warning] No further splits with positive gain, best gain: -inf\n",
      "[LightGBM] [Warning] No further splits with positive gain, best gain: -inf\n",
      "[LightGBM] [Warning] No further splits with positive gain, best gain: -inf\n",
      "[LightGBM] [Warning] No further splits with positive gain, best gain: -inf\n",
      "[LightGBM] [Warning] No further splits with positive gain, best gain: -inf\n",
      "[LightGBM] [Warning] No further splits with positive gain, best gain: -inf\n",
      "[LightGBM] [Warning] No further splits with positive gain, best gain: -inf\n",
      "[LightGBM] [Warning] No further splits with positive gain, best gain: -inf\n",
      "[LightGBM] [Warning] No further splits with positive gain, best gain: -inf\n",
      "[LightGBM] [Warning] No further splits with positive gain, best gain: -inf\n",
      "[LightGBM] [Warning] No further splits with positive gain, best gain: -inf\n",
      "[LightGBM] [Warning] No further splits with positive gain, best gain: -inf\n",
      "[LightGBM] [Warning] No further splits with positive gain, best gain: -inf\n",
      "[LightGBM] [Warning] No further splits with positive gain, best gain: -inf\n",
      "[LightGBM] [Warning] No further splits with positive gain, best gain: -inf\n",
      "[LightGBM] [Warning] No further splits with positive gain, best gain: -inf\n",
      "[LightGBM] [Warning] No further splits with positive gain, best gain: -inf\n",
      "[LightGBM] [Warning] No further splits with positive gain, best gain: -inf\n",
      "[LightGBM] [Warning] No further splits with positive gain, best gain: -inf\n",
      "[LightGBM] [Warning] No further splits with positive gain, best gain: -inf\n",
      "[LightGBM] [Warning] No further splits with positive gain, best gain: -inf\n",
      "[LightGBM] [Warning] No further splits with positive gain, best gain: -inf\n",
      "[LightGBM] [Warning] No further splits with positive gain, best gain: -inf\n",
      "[LightGBM] [Warning] No further splits with positive gain, best gain: -inf\n",
      "[LightGBM] [Warning] No further splits with positive gain, best gain: -inf\n",
      "[LightGBM] [Warning] No further splits with positive gain, best gain: -inf\n",
      "[LightGBM] [Warning] No further splits with positive gain, best gain: -inf\n",
      "[LightGBM] [Warning] No further splits with positive gain, best gain: -inf\n",
      "[LightGBM] [Warning] No further splits with positive gain, best gain: -inf\n",
      "[LightGBM] [Warning] No further splits with positive gain, best gain: -inf\n",
      "[LightGBM] [Warning] No further splits with positive gain, best gain: -inf\n",
      "[LightGBM] [Warning] No further splits with positive gain, best gain: -inf\n",
      "[LightGBM] [Warning] No further splits with positive gain, best gain: -inf\n",
      "[LightGBM] [Warning] No further splits with positive gain, best gain: -inf\n",
      "[LightGBM] [Warning] No further splits with positive gain, best gain: -inf\n",
      "[LightGBM] [Warning] No further splits with positive gain, best gain: -inf\n",
      "[LightGBM] [Warning] No further splits with positive gain, best gain: -inf\n",
      "[LightGBM] [Warning] No further splits with positive gain, best gain: -inf\n",
      "[LightGBM] [Warning] No further splits with positive gain, best gain: -inf\n",
      "[LightGBM] [Warning] No further splits with positive gain, best gain: -inf\n",
      "[LightGBM] [Warning] No further splits with positive gain, best gain: -inf\n",
      "[LightGBM] [Warning] No further splits with positive gain, best gain: -inf\n",
      "[LightGBM] [Warning] No further splits with positive gain, best gain: -inf\n",
      "[LightGBM] [Warning] No further splits with positive gain, best gain: -inf\n",
      "[LightGBM] [Warning] No further splits with positive gain, best gain: -inf\n",
      "[LightGBM] [Warning] No further splits with positive gain, best gain: -inf\n",
      "[LightGBM] [Warning] No further splits with positive gain, best gain: -inf\n",
      "[LightGBM] [Warning] No further splits with positive gain, best gain: -inf\n",
      "[LightGBM] [Warning] No further splits with positive gain, best gain: -inf\n",
      "[LightGBM] [Warning] No further splits with positive gain, best gain: -inf\n",
      "[LightGBM] [Warning] No further splits with positive gain, best gain: -inf\n",
      "[LightGBM] [Warning] No further splits with positive gain, best gain: -inf\n",
      "[LightGBM] [Warning] No further splits with positive gain, best gain: -inf\n",
      "[LightGBM] [Warning] No further splits with positive gain, best gain: -inf\n",
      "[LightGBM] [Warning] No further splits with positive gain, best gain: -inf\n",
      "[LightGBM] [Warning] No further splits with positive gain, best gain: -inf\n",
      "[LightGBM] [Warning] No further splits with positive gain, best gain: -inf\n",
      "[LightGBM] [Warning] No further splits with positive gain, best gain: -inf\n",
      "[LightGBM] [Warning] No further splits with positive gain, best gain: -inf\n",
      "[LightGBM] [Warning] No further splits with positive gain, best gain: -inf\n",
      "[LightGBM] [Warning] No further splits with positive gain, best gain: -inf\n",
      "[LightGBM] [Warning] No further splits with positive gain, best gain: -inf\n",
      "[LightGBM] [Warning] No further splits with positive gain, best gain: -inf\n",
      "[LightGBM] [Warning] No further splits with positive gain, best gain: -inf\n",
      "[LightGBM] [Warning] No further splits with positive gain, best gain: -inf\n",
      "[LightGBM] [Warning] No further splits with positive gain, best gain: -inf\n",
      "[LightGBM] [Warning] No further splits with positive gain, best gain: -inf\n",
      "[LightGBM] [Warning] No further splits with positive gain, best gain: -inf\n",
      "[LightGBM] [Warning] No further splits with positive gain, best gain: -inf\n",
      "[LightGBM] [Warning] No further splits with positive gain, best gain: -inf\n",
      "[LightGBM] [Warning] No further splits with positive gain, best gain: -inf\n",
      "[LightGBM] [Warning] No further splits with positive gain, best gain: -inf\n",
      "[LightGBM] [Warning] No further splits with positive gain, best gain: -inf\n",
      "[LightGBM] [Warning] No further splits with positive gain, best gain: -inf\n",
      "[LightGBM] [Warning] No further splits with positive gain, best gain: -inf\n",
      "[LightGBM] [Warning] No further splits with positive gain, best gain: -inf\n",
      "[LightGBM] [Warning] No further splits with positive gain, best gain: -inf\n",
      "[LightGBM] [Warning] No further splits with positive gain, best gain: -inf\n",
      "[LightGBM] [Warning] No further splits with positive gain, best gain: -inf\n",
      "[LightGBM] [Warning] No further splits with positive gain, best gain: -inf\n",
      "[LightGBM] [Warning] No further splits with positive gain, best gain: -inf\n",
      "[LightGBM] [Warning] No further splits with positive gain, best gain: -inf\n",
      "[LightGBM] [Warning] No further splits with positive gain, best gain: -inf\n",
      "[LightGBM] [Warning] No further splits with positive gain, best gain: -inf\n",
      "[LightGBM] [Warning] No further splits with positive gain, best gain: -inf\n",
      "[LightGBM] [Warning] No further splits with positive gain, best gain: -inf\n",
      "[LightGBM] [Warning] No further splits with positive gain, best gain: -inf\n",
      "[LightGBM] [Warning] No further splits with positive gain, best gain: -inf\n",
      "[LightGBM] [Warning] No further splits with positive gain, best gain: -inf\n",
      "[LightGBM] [Warning] No further splits with positive gain, best gain: -inf\n",
      "[LightGBM] [Warning] No further splits with positive gain, best gain: -inf\n",
      "[LightGBM] [Warning] No further splits with positive gain, best gain: -inf\n",
      "[LightGBM] [Warning] No further splits with positive gain, best gain: -inf\n",
      "[LightGBM] [Warning] No further splits with positive gain, best gain: -inf\n",
      "[LightGBM] [Warning] No further splits with positive gain, best gain: -inf\n",
      "[LightGBM] [Warning] No further splits with positive gain, best gain: -inf\n",
      "[LightGBM] [Warning] No further splits with positive gain, best gain: -inf\n",
      "[LightGBM] [Warning] No further splits with positive gain, best gain: -inf\n",
      "[LightGBM] [Warning] No further splits with positive gain, best gain: -inf\n",
      "[LightGBM] [Warning] No further splits with positive gain, best gain: -inf\n",
      "[LightGBM] [Warning] No further splits with positive gain, best gain: -inf\n",
      "[LightGBM] [Warning] No further splits with positive gain, best gain: -inf\n",
      "[LightGBM] [Warning] No further splits with positive gain, best gain: -inf\n",
      "[LightGBM] [Warning] No further splits with positive gain, best gain: -inf\n",
      "[LightGBM] [Warning] No further splits with positive gain, best gain: -inf\n"
     ]
    },
    {
     "data": {
      "text/plain": [
       "LGBMRegressor(boosting_type='dart', colsample_bytree=0.9011817947068029,\n",
       "              learning_rate=0.07224290084064122, max_depth=8,\n",
       "              min_child_samples=5, n_estimators=301, num_leaves=258,\n",
       "              random_state=42, reg_alpha=0.04063525938772354,\n",
       "              reg_lambda=0.0014482851327836004, subsample=0.9773487107075421)"
      ],
      "text/html": [
       "<style>#sk-container-id-2 {color: black;}#sk-container-id-2 pre{padding: 0;}#sk-container-id-2 div.sk-toggleable {background-color: white;}#sk-container-id-2 label.sk-toggleable__label {cursor: pointer;display: block;width: 100%;margin-bottom: 0;padding: 0.3em;box-sizing: border-box;text-align: center;}#sk-container-id-2 label.sk-toggleable__label-arrow:before {content: \"▸\";float: left;margin-right: 0.25em;color: #696969;}#sk-container-id-2 label.sk-toggleable__label-arrow:hover:before {color: black;}#sk-container-id-2 div.sk-estimator:hover label.sk-toggleable__label-arrow:before {color: black;}#sk-container-id-2 div.sk-toggleable__content {max-height: 0;max-width: 0;overflow: hidden;text-align: left;background-color: #f0f8ff;}#sk-container-id-2 div.sk-toggleable__content pre {margin: 0.2em;color: black;border-radius: 0.25em;background-color: #f0f8ff;}#sk-container-id-2 input.sk-toggleable__control:checked~div.sk-toggleable__content {max-height: 200px;max-width: 100%;overflow: auto;}#sk-container-id-2 input.sk-toggleable__control:checked~label.sk-toggleable__label-arrow:before {content: \"▾\";}#sk-container-id-2 div.sk-estimator input.sk-toggleable__control:checked~label.sk-toggleable__label {background-color: #d4ebff;}#sk-container-id-2 div.sk-label input.sk-toggleable__control:checked~label.sk-toggleable__label {background-color: #d4ebff;}#sk-container-id-2 input.sk-hidden--visually {border: 0;clip: rect(1px 1px 1px 1px);clip: rect(1px, 1px, 1px, 1px);height: 1px;margin: -1px;overflow: hidden;padding: 0;position: absolute;width: 1px;}#sk-container-id-2 div.sk-estimator {font-family: monospace;background-color: #f0f8ff;border: 1px dotted black;border-radius: 0.25em;box-sizing: border-box;margin-bottom: 0.5em;}#sk-container-id-2 div.sk-estimator:hover {background-color: #d4ebff;}#sk-container-id-2 div.sk-parallel-item::after {content: \"\";width: 100%;border-bottom: 1px solid gray;flex-grow: 1;}#sk-container-id-2 div.sk-label:hover label.sk-toggleable__label {background-color: #d4ebff;}#sk-container-id-2 div.sk-serial::before {content: \"\";position: absolute;border-left: 1px solid gray;box-sizing: border-box;top: 0;bottom: 0;left: 50%;z-index: 0;}#sk-container-id-2 div.sk-serial {display: flex;flex-direction: column;align-items: center;background-color: white;padding-right: 0.2em;padding-left: 0.2em;position: relative;}#sk-container-id-2 div.sk-item {position: relative;z-index: 1;}#sk-container-id-2 div.sk-parallel {display: flex;align-items: stretch;justify-content: center;background-color: white;position: relative;}#sk-container-id-2 div.sk-item::before, #sk-container-id-2 div.sk-parallel-item::before {content: \"\";position: absolute;border-left: 1px solid gray;box-sizing: border-box;top: 0;bottom: 0;left: 50%;z-index: -1;}#sk-container-id-2 div.sk-parallel-item {display: flex;flex-direction: column;z-index: 1;position: relative;background-color: white;}#sk-container-id-2 div.sk-parallel-item:first-child::after {align-self: flex-end;width: 50%;}#sk-container-id-2 div.sk-parallel-item:last-child::after {align-self: flex-start;width: 50%;}#sk-container-id-2 div.sk-parallel-item:only-child::after {width: 0;}#sk-container-id-2 div.sk-dashed-wrapped {border: 1px dashed gray;margin: 0 0.4em 0.5em 0.4em;box-sizing: border-box;padding-bottom: 0.4em;background-color: white;}#sk-container-id-2 div.sk-label label {font-family: monospace;font-weight: bold;display: inline-block;line-height: 1.2em;}#sk-container-id-2 div.sk-label-container {text-align: center;}#sk-container-id-2 div.sk-container {/* jupyter's `normalize.less` sets `[hidden] { display: none; }` but bootstrap.min.css set `[hidden] { display: none !important; }` so we also need the `!important` here to be able to override the default hidden behavior on the sphinx rendered scikit-learn.org. See: https://github.com/scikit-learn/scikit-learn/issues/21755 */display: inline-block !important;position: relative;}#sk-container-id-2 div.sk-text-repr-fallback {display: none;}</style><div id=\"sk-container-id-2\" class=\"sk-top-container\"><div class=\"sk-text-repr-fallback\"><pre>LGBMRegressor(boosting_type=&#x27;dart&#x27;, colsample_bytree=0.9011817947068029,\n",
       "              learning_rate=0.07224290084064122, max_depth=8,\n",
       "              min_child_samples=5, n_estimators=301, num_leaves=258,\n",
       "              random_state=42, reg_alpha=0.04063525938772354,\n",
       "              reg_lambda=0.0014482851327836004, subsample=0.9773487107075421)</pre><b>In a Jupyter environment, please rerun this cell to show the HTML representation or trust the notebook. <br />On GitHub, the HTML representation is unable to render, please try loading this page with nbviewer.org.</b></div><div class=\"sk-container\" hidden><div class=\"sk-item\"><div class=\"sk-estimator sk-toggleable\"><input class=\"sk-toggleable__control sk-hidden--visually\" id=\"sk-estimator-id-2\" type=\"checkbox\" checked><label for=\"sk-estimator-id-2\" class=\"sk-toggleable__label sk-toggleable__label-arrow\">LGBMRegressor</label><div class=\"sk-toggleable__content\"><pre>LGBMRegressor(boosting_type=&#x27;dart&#x27;, colsample_bytree=0.9011817947068029,\n",
       "              learning_rate=0.07224290084064122, max_depth=8,\n",
       "              min_child_samples=5, n_estimators=301, num_leaves=258,\n",
       "              random_state=42, reg_alpha=0.04063525938772354,\n",
       "              reg_lambda=0.0014482851327836004, subsample=0.9773487107075421)</pre></div></div></div></div></div>"
      ]
     },
     "execution_count": 50,
     "metadata": {},
     "output_type": "execute_result"
    }
   ],
   "execution_count": 50
  },
  {
   "metadata": {
    "ExecuteTime": {
     "end_time": "2025-01-12T07:05:41.965862Z",
     "start_time": "2025-01-12T07:05:41.963918Z"
    }
   },
   "cell_type": "code",
   "source": "model = lgbr",
   "id": "624234f5bf3e0381",
   "outputs": [],
   "execution_count": 51
  },
  {
   "metadata": {
    "ExecuteTime": {
     "end_time": "2025-01-12T07:05:42.228861Z",
     "start_time": "2025-01-12T07:05:42.202756Z"
    }
   },
   "cell_type": "code",
   "source": [
    "# 검증 데이터로 예측\n",
    "real_test_pred = lgbr.predict(X_test)\n",
    "print(f'RMSE test: {np.sqrt(metrics.mean_squared_error(df_test_y, real_test_pred))}')\n",
    "# s : RMSE test: 22522.447464776706\n",
    "# 기존 한강거리 : 22000 , 22055"
   ],
   "id": "8ca167064a517277",
   "outputs": [
    {
     "name": "stdout",
     "output_type": "stream",
     "text": [
      "RMSE test: 22055.819746578665\n"
     ]
    }
   ],
   "execution_count": 52
  },
  {
   "metadata": {
    "ExecuteTime": {
     "end_time": "2025-01-12T07:05:42.339632Z",
     "start_time": "2025-01-12T07:05:42.336929Z"
    }
   },
   "cell_type": "code",
   "source": "X_test.shape, real_test_pred.shape, df_test_y.shape",
   "id": "77248f570ebffedf",
   "outputs": [
    {
     "data": {
      "text/plain": [
       "((5607, 16), (5607,), (5607, 1))"
      ]
     },
     "execution_count": 53,
     "metadata": {},
     "output_type": "execute_result"
    }
   ],
   "execution_count": 53
  },
  {
   "metadata": {
    "ExecuteTime": {
     "end_time": "2025-01-12T07:05:42.443975Z",
     "start_time": "2025-01-12T07:05:42.441705Z"
    }
   },
   "cell_type": "code",
   "source": [
    "# Squared_error를 계산하는 함수를 정의하겠습니다.\n",
    "def calculate_se(target, pred):\n",
    "    squared_errors = (target - pred) ** 2\n",
    "    return squared_errors"
   ],
   "id": "2cee8dcd88a8ddb1",
   "outputs": [],
   "execution_count": 54
  },
  {
   "metadata": {
    "ExecuteTime": {
     "end_time": "2025-01-12T07:05:42.575922Z",
     "start_time": "2025-01-12T07:05:42.566435Z"
    }
   },
   "cell_type": "code",
   "source": [
    "X_val = X_test.reset_index(drop=True)\n",
    "X_val"
   ],
   "id": "486189ec9f6e955b",
   "outputs": [
    {
     "data": {
      "text/plain": [
       "        번지  아파트명    계약년월   층  건축년도   도로명         좌표X        좌표Y  금리_단기1년전차이  \\\n",
       "0     1678   327  202301  10  1983  4465  127.068028  37.487802        2.25   \n",
       "1     1665   328  202212   3  1983   471  127.072682  37.489122        2.25   \n",
       "2     1665   328  202301  10  1983   471  127.072682  37.489122        2.50   \n",
       "3      728  1933  202210   7  2019  4978  127.064151  37.480049        1.75   \n",
       "4      728  1933  202212   8  2019  4978  127.064151  37.480049        2.25   \n",
       "...    ...   ...     ...  ..   ...   ...         ...        ...         ...   \n",
       "5602  3322    36  202207   4  2021  5352  126.891951  37.584794        1.25   \n",
       "5603  3322    36  202207   6  2021  5352  126.891951  37.584794        1.25   \n",
       "5604  3322    36  202207   7  2021  5352  126.891951  37.584794        1.25   \n",
       "5605  3322    36  202209   4  2021  5352  126.891951  37.584794        1.75   \n",
       "5606  5760  3895  202209  14  2014  5536  127.106720  37.618870        1.75   \n",
       "\n",
       "      평수    동  아파트ID     아파트ID거리  가까운공원ID         한강거리  학군  \n",
       "0     22    8   1200    0.000000     1661  3113.804133   1  \n",
       "1     25    8   1199   45.380282     1731  2867.571730   1  \n",
       "2     25    8   1199   45.380282     1731  2867.571730   1  \n",
       "3     18    8    250  117.916314     1691  3968.559871   1  \n",
       "4     25    8    250  117.916314     1691  3968.559871   1  \n",
       "...   ..  ...    ...         ...      ...          ...  ..  \n",
       "5602  25  163    181    0.000000      747  2881.698680   0  \n",
       "5603  25  163    181    0.000000      747  2881.698680   0  \n",
       "5604  25  163    181    0.000000      747  2881.698680   0  \n",
       "5605  25  163    181    0.000000      747  2881.698680   0  \n",
       "5606  25  174    735  170.088431      307  5586.498112   0  \n",
       "\n",
       "[5607 rows x 16 columns]"
      ],
      "text/html": [
       "<div>\n",
       "<style scoped>\n",
       "    .dataframe tbody tr th:only-of-type {\n",
       "        vertical-align: middle;\n",
       "    }\n",
       "\n",
       "    .dataframe tbody tr th {\n",
       "        vertical-align: top;\n",
       "    }\n",
       "\n",
       "    .dataframe thead th {\n",
       "        text-align: right;\n",
       "    }\n",
       "</style>\n",
       "<table border=\"1\" class=\"dataframe\">\n",
       "  <thead>\n",
       "    <tr style=\"text-align: right;\">\n",
       "      <th></th>\n",
       "      <th>번지</th>\n",
       "      <th>아파트명</th>\n",
       "      <th>계약년월</th>\n",
       "      <th>층</th>\n",
       "      <th>건축년도</th>\n",
       "      <th>도로명</th>\n",
       "      <th>좌표X</th>\n",
       "      <th>좌표Y</th>\n",
       "      <th>금리_단기1년전차이</th>\n",
       "      <th>평수</th>\n",
       "      <th>동</th>\n",
       "      <th>아파트ID</th>\n",
       "      <th>아파트ID거리</th>\n",
       "      <th>가까운공원ID</th>\n",
       "      <th>한강거리</th>\n",
       "      <th>학군</th>\n",
       "    </tr>\n",
       "  </thead>\n",
       "  <tbody>\n",
       "    <tr>\n",
       "      <th>0</th>\n",
       "      <td>1678</td>\n",
       "      <td>327</td>\n",
       "      <td>202301</td>\n",
       "      <td>10</td>\n",
       "      <td>1983</td>\n",
       "      <td>4465</td>\n",
       "      <td>127.068028</td>\n",
       "      <td>37.487802</td>\n",
       "      <td>2.25</td>\n",
       "      <td>22</td>\n",
       "      <td>8</td>\n",
       "      <td>1200</td>\n",
       "      <td>0.000000</td>\n",
       "      <td>1661</td>\n",
       "      <td>3113.804133</td>\n",
       "      <td>1</td>\n",
       "    </tr>\n",
       "    <tr>\n",
       "      <th>1</th>\n",
       "      <td>1665</td>\n",
       "      <td>328</td>\n",
       "      <td>202212</td>\n",
       "      <td>3</td>\n",
       "      <td>1983</td>\n",
       "      <td>471</td>\n",
       "      <td>127.072682</td>\n",
       "      <td>37.489122</td>\n",
       "      <td>2.25</td>\n",
       "      <td>25</td>\n",
       "      <td>8</td>\n",
       "      <td>1199</td>\n",
       "      <td>45.380282</td>\n",
       "      <td>1731</td>\n",
       "      <td>2867.571730</td>\n",
       "      <td>1</td>\n",
       "    </tr>\n",
       "    <tr>\n",
       "      <th>2</th>\n",
       "      <td>1665</td>\n",
       "      <td>328</td>\n",
       "      <td>202301</td>\n",
       "      <td>10</td>\n",
       "      <td>1983</td>\n",
       "      <td>471</td>\n",
       "      <td>127.072682</td>\n",
       "      <td>37.489122</td>\n",
       "      <td>2.50</td>\n",
       "      <td>25</td>\n",
       "      <td>8</td>\n",
       "      <td>1199</td>\n",
       "      <td>45.380282</td>\n",
       "      <td>1731</td>\n",
       "      <td>2867.571730</td>\n",
       "      <td>1</td>\n",
       "    </tr>\n",
       "    <tr>\n",
       "      <th>3</th>\n",
       "      <td>728</td>\n",
       "      <td>1933</td>\n",
       "      <td>202210</td>\n",
       "      <td>7</td>\n",
       "      <td>2019</td>\n",
       "      <td>4978</td>\n",
       "      <td>127.064151</td>\n",
       "      <td>37.480049</td>\n",
       "      <td>1.75</td>\n",
       "      <td>18</td>\n",
       "      <td>8</td>\n",
       "      <td>250</td>\n",
       "      <td>117.916314</td>\n",
       "      <td>1691</td>\n",
       "      <td>3968.559871</td>\n",
       "      <td>1</td>\n",
       "    </tr>\n",
       "    <tr>\n",
       "      <th>4</th>\n",
       "      <td>728</td>\n",
       "      <td>1933</td>\n",
       "      <td>202212</td>\n",
       "      <td>8</td>\n",
       "      <td>2019</td>\n",
       "      <td>4978</td>\n",
       "      <td>127.064151</td>\n",
       "      <td>37.480049</td>\n",
       "      <td>2.25</td>\n",
       "      <td>25</td>\n",
       "      <td>8</td>\n",
       "      <td>250</td>\n",
       "      <td>117.916314</td>\n",
       "      <td>1691</td>\n",
       "      <td>3968.559871</td>\n",
       "      <td>1</td>\n",
       "    </tr>\n",
       "    <tr>\n",
       "      <th>...</th>\n",
       "      <td>...</td>\n",
       "      <td>...</td>\n",
       "      <td>...</td>\n",
       "      <td>...</td>\n",
       "      <td>...</td>\n",
       "      <td>...</td>\n",
       "      <td>...</td>\n",
       "      <td>...</td>\n",
       "      <td>...</td>\n",
       "      <td>...</td>\n",
       "      <td>...</td>\n",
       "      <td>...</td>\n",
       "      <td>...</td>\n",
       "      <td>...</td>\n",
       "      <td>...</td>\n",
       "      <td>...</td>\n",
       "    </tr>\n",
       "    <tr>\n",
       "      <th>5602</th>\n",
       "      <td>3322</td>\n",
       "      <td>36</td>\n",
       "      <td>202207</td>\n",
       "      <td>4</td>\n",
       "      <td>2021</td>\n",
       "      <td>5352</td>\n",
       "      <td>126.891951</td>\n",
       "      <td>37.584794</td>\n",
       "      <td>1.25</td>\n",
       "      <td>25</td>\n",
       "      <td>163</td>\n",
       "      <td>181</td>\n",
       "      <td>0.000000</td>\n",
       "      <td>747</td>\n",
       "      <td>2881.698680</td>\n",
       "      <td>0</td>\n",
       "    </tr>\n",
       "    <tr>\n",
       "      <th>5603</th>\n",
       "      <td>3322</td>\n",
       "      <td>36</td>\n",
       "      <td>202207</td>\n",
       "      <td>6</td>\n",
       "      <td>2021</td>\n",
       "      <td>5352</td>\n",
       "      <td>126.891951</td>\n",
       "      <td>37.584794</td>\n",
       "      <td>1.25</td>\n",
       "      <td>25</td>\n",
       "      <td>163</td>\n",
       "      <td>181</td>\n",
       "      <td>0.000000</td>\n",
       "      <td>747</td>\n",
       "      <td>2881.698680</td>\n",
       "      <td>0</td>\n",
       "    </tr>\n",
       "    <tr>\n",
       "      <th>5604</th>\n",
       "      <td>3322</td>\n",
       "      <td>36</td>\n",
       "      <td>202207</td>\n",
       "      <td>7</td>\n",
       "      <td>2021</td>\n",
       "      <td>5352</td>\n",
       "      <td>126.891951</td>\n",
       "      <td>37.584794</td>\n",
       "      <td>1.25</td>\n",
       "      <td>25</td>\n",
       "      <td>163</td>\n",
       "      <td>181</td>\n",
       "      <td>0.000000</td>\n",
       "      <td>747</td>\n",
       "      <td>2881.698680</td>\n",
       "      <td>0</td>\n",
       "    </tr>\n",
       "    <tr>\n",
       "      <th>5605</th>\n",
       "      <td>3322</td>\n",
       "      <td>36</td>\n",
       "      <td>202209</td>\n",
       "      <td>4</td>\n",
       "      <td>2021</td>\n",
       "      <td>5352</td>\n",
       "      <td>126.891951</td>\n",
       "      <td>37.584794</td>\n",
       "      <td>1.75</td>\n",
       "      <td>25</td>\n",
       "      <td>163</td>\n",
       "      <td>181</td>\n",
       "      <td>0.000000</td>\n",
       "      <td>747</td>\n",
       "      <td>2881.698680</td>\n",
       "      <td>0</td>\n",
       "    </tr>\n",
       "    <tr>\n",
       "      <th>5606</th>\n",
       "      <td>5760</td>\n",
       "      <td>3895</td>\n",
       "      <td>202209</td>\n",
       "      <td>14</td>\n",
       "      <td>2014</td>\n",
       "      <td>5536</td>\n",
       "      <td>127.106720</td>\n",
       "      <td>37.618870</td>\n",
       "      <td>1.75</td>\n",
       "      <td>25</td>\n",
       "      <td>174</td>\n",
       "      <td>735</td>\n",
       "      <td>170.088431</td>\n",
       "      <td>307</td>\n",
       "      <td>5586.498112</td>\n",
       "      <td>0</td>\n",
       "    </tr>\n",
       "  </tbody>\n",
       "</table>\n",
       "<p>5607 rows × 16 columns</p>\n",
       "</div>"
      ]
     },
     "execution_count": 55,
     "metadata": {},
     "output_type": "execute_result"
    }
   ],
   "execution_count": 55
  },
  {
   "metadata": {
    "ExecuteTime": {
     "end_time": "2025-01-12T07:05:42.753586Z",
     "start_time": "2025-01-12T07:05:42.749027Z"
    }
   },
   "cell_type": "code",
   "source": [
    "X_val['target'] = df_test_y\n",
    "X_val['pred'] = real_test_pred\n",
    "X_val['예측차이'] = X_val['target'] - X_val['pred']\n",
    "# RMSE 계산\n",
    "squared_errors = calculate_se(X_val['target'], X_val['pred'])\n",
    "X_val['error'] = squared_errors\n",
    "# Error가 큰 순서대로 sorting 해 보겠습니다.\n",
    "X_val_sort = X_val.sort_values(by='error', ascending=False)       # 내림차순 sorting"
   ],
   "id": "e8e3959c4d335413",
   "outputs": [],
   "execution_count": 56
  },
  {
   "metadata": {
    "ExecuteTime": {
     "end_time": "2025-01-12T07:05:42.759961Z",
     "start_time": "2025-01-12T07:05:42.756318Z"
    }
   },
   "cell_type": "code",
   "source": [
    "X_val_sort_top100 = X_val.sort_values(by='error', ascending=False).head(100)        # 예측을 잘 하지못한 top 100개의 data\n",
    "X_val_sort_tail100 = X_val.sort_values(by='error', ascending=False).tail(100)       # 예측을 잘한 top 100개의 data"
   ],
   "id": "e3cfb66727bcfaeb",
   "outputs": [],
   "execution_count": 57
  },
  {
   "metadata": {
    "ExecuteTime": {
     "end_time": "2025-01-12T07:05:42.892614Z",
     "start_time": "2025-01-12T07:05:42.885415Z"
    }
   },
   "cell_type": "code",
   "source": [
    "# 해석을 위해 레이블인코딩 된 변수를 복원해줍니다.\n",
    "error_top100 = X_val_sort_top100.copy()\n",
    "for column in categorical_columns_v2 :     # 앞서 레이블 인코딩에서 정의했던 categorical_columns_v2 범주형 변수 리스트를 사용합니다.\n",
    "    error_top100[column] = label_encoders[column].inverse_transform(X_val_sort_top100[column])\n",
    "\n",
    "best_top100 = X_val_sort_tail100.copy()\n",
    "for column in categorical_columns_v2 :     # 앞서 레이블 인코딩에서 정의했던 categorical_columns_v2 범주형 변수 리스트를 사용합니다.\n",
    "    best_top100[column] = label_encoders[column].inverse_transform(X_val_sort_tail100[column])"
   ],
   "id": "b9490c2ca426939",
   "outputs": [],
   "execution_count": 58
  },
  {
   "metadata": {
    "ExecuteTime": {
     "end_time": "2025-01-12T07:05:43.001274Z",
     "start_time": "2025-01-12T07:05:42.999793Z"
    }
   },
   "cell_type": "code",
   "source": [
    "error_top100.to_csv('7_한강_lgbm_error.csv', index=False)\n",
    "best_top100.to_csv('7_한강_lgbm_top.csv', index=False)"
   ],
   "id": "b4885d95b0c347d3",
   "outputs": [],
   "execution_count": 59
  },
  {
   "metadata": {
    "ExecuteTime": {
     "end_time": "2025-01-12T07:05:43.529150Z",
     "start_time": "2025-01-12T07:05:43.216818Z"
    }
   },
   "cell_type": "code",
   "source": [
    "# Feature Importances 추출 및 정렬\n",
    "importances = pd.Series(model.feature_importances_, index=list(X_train.columns))\n",
    "importances = importances.sort_values(ascending=False)\n",
    "\n",
    "# Feature Importance 시각화\n",
    "plt.figure(figsize=(10, 8))\n",
    "plt.title(\"Feature Importances\")\n",
    "sns.barplot(x=importances, y=importances.index)\n",
    "plt.xlabel(\"Importance Score\")\n",
    "plt.ylabel(\"Features\")\n",
    "plt.show()"
   ],
   "id": "fb730abec283f2de",
   "outputs": [
    {
     "data": {
      "text/plain": [
       "<Figure size 1000x800 with 1 Axes>"
      ],
      "image/png": "[encoded data removed]"
     },
     "metadata": {},
     "output_type": "display_data"
    }
   ],
   "execution_count": 60
  },
  {
   "metadata": {
    "ExecuteTime": {
     "end_time": "2025-01-12T07:05:44.326246Z",
     "start_time": "2025-01-12T07:05:43.536296Z"
    }
   },
   "cell_type": "code",
   "source": [
    "# 2D 히트맵으로 target, 층, 전용면적의 분포 비교\n",
    "plt.figure(figsize=(10, 8))\n",
    "sns.scatterplot(\n",
    "    data=error_top100, \n",
    "    x='평수', \n",
    "    y='층', \n",
    "    size='error', \n",
    "    hue='error', \n",
    "    palette='coolwarm', \n",
    "    alpha=0.7, \n",
    "    sizes=(20, 200)\n",
    ")\n",
    "plt.title('error, 층, 평수 분포 비교', fontsize=16)\n",
    "plt.xlabel('평수', fontsize=14)\n",
    "plt.ylabel('층', fontsize=14)\n",
    "plt.legend(title='error')\n",
    "plt.grid(True)\n",
    "plt.show()"
   ],
   "id": "27810597086e6ece",
   "outputs": [
    {
     "data": {
      "text/plain": [
       "<Figure size 1000x800 with 1 Axes>"
      ],
      "image/png": "[encoded data removed]"
     },
     "metadata": {},
     "output_type": "display_data"
    }
   ],
   "execution_count": 61
  },
  {
   "metadata": {
    "ExecuteTime": {
     "end_time": "2025-01-12T07:05:44.449816Z",
     "start_time": "2025-01-12T07:05:44.446874Z"
    }
   },
   "cell_type": "code",
   "source": [
    "print(error_top100['층'].value_counts().sort_values(ascending=False))\n",
    "print(error_top100['평수'].value_counts())"
   ],
   "id": "7c2264fffef6d3ad",
   "outputs": [
    {
     "name": "stdout",
     "output_type": "stream",
     "text": [
      "층\n",
      "3     11\n",
      "8      8\n",
      "1      7\n",
      "5      7\n",
      "4      7\n",
      "6      6\n",
      "22     5\n",
      "7      5\n",
      "2      5\n",
      "12     4\n",
      "24     3\n",
      "18     2\n",
      "13     2\n",
      "10     2\n",
      "23     2\n",
      "17     2\n",
      "15     2\n",
      "28     2\n",
      "27     2\n",
      "11     2\n",
      "31     2\n",
      "35     2\n",
      "19     1\n",
      "16     1\n",
      "20     1\n",
      "47     1\n",
      "9      1\n",
      "37     1\n",
      "38     1\n",
      "36     1\n",
      "42     1\n",
      "14     1\n",
      "Name: count, dtype: int64\n",
      "평수\n",
      "25    12\n",
      "23     6\n",
      "67     6\n",
      "34     6\n",
      "52     5\n",
      "61     4\n",
      "42     4\n",
      "50     3\n",
      "18     3\n",
      "39     3\n",
      "27     3\n",
      "65     3\n",
      "43     2\n",
      "22     2\n",
      "20     2\n",
      "46     2\n",
      "32     2\n",
      "36     2\n",
      "44     2\n",
      "49     2\n",
      "35     2\n",
      "73     2\n",
      "53     2\n",
      "19     1\n",
      "54     1\n",
      "55     1\n",
      "70     1\n",
      "78     1\n",
      "40     1\n",
      "33     1\n",
      "47     1\n",
      "80     1\n",
      "21     1\n",
      "37     1\n",
      "57     1\n",
      "82     1\n",
      "71     1\n",
      "24     1\n",
      "60     1\n",
      "12     1\n",
      "62     1\n",
      "59     1\n",
      "30     1\n",
      "Name: count, dtype: int64\n"
     ]
    }
   ],
   "execution_count": 62
  },
  {
   "metadata": {
    "ExecuteTime": {
     "end_time": "2025-01-12T07:05:44.639622Z",
     "start_time": "2025-01-12T07:05:44.556750Z"
    }
   },
   "cell_type": "code",
   "source": [
    "sns.histplot(data = error_top100, x='층', alpha=0.5)\n",
    "sns.histplot(data = best_top100, x='층', color='orange', alpha=0.5)\n",
    "plt.title('층 분포 비교')\n",
    "plt.show()"
   ],
   "id": "e4430a77242caa24",
   "outputs": [
    {
     "data": {
      "text/plain": [
       "<Figure size 640x480 with 1 Axes>"
      ],
      "image/png": "[encoded data removed]"
     },
     "metadata": {},
     "output_type": "display_data"
    }
   ],
   "execution_count": 63
  },
  {
   "metadata": {
    "ExecuteTime": {
     "end_time": "2025-01-12T07:05:44.848381Z",
     "start_time": "2025-01-12T07:05:44.753171Z"
    }
   },
   "cell_type": "code",
   "source": [
    "sns.histplot(data = error_top100, x='평수', alpha=0.5)\n",
    "sns.histplot(data = best_top100, x='평수', color='orange', alpha=0.5)\n",
    "plt.title('평수 분포 비교')\n",
    "plt.show()"
   ],
   "id": "9cc8c5e8e0c5b5cd",
   "outputs": [
    {
     "data": {
      "text/plain": [
       "<Figure size 640x480 with 1 Axes>"
      ],
      "image/png": "[encoded data removed]"
     },
     "metadata": {},
     "output_type": "display_data"
    }
   ],
   "execution_count": 64
  },
  {
   "metadata": {
    "ExecuteTime": {
     "end_time": "2025-01-12T07:05:44.968664Z",
     "start_time": "2025-01-12T07:05:44.960594Z"
    }
   },
   "cell_type": "code",
   "source": "error_top100",
   "id": "e8772937a4799363",
   "outputs": [
    {
     "data": {
      "text/plain": [
       "           번지        아파트명    계약년월   층  건축년도         도로명         좌표X  \\\n",
       "4881  685-700   아크로서울포레스트  202209  47  2020  왕십리로 83-21  127.043847   \n",
       "2201  1496-24     트라움하우스3  202212   4  2002   명달로 97-14  127.002921   \n",
       "3679    369-1        현대1차  202207   6  1976  압구정로29길 71  127.027926   \n",
       "3272      829       나인원한남  202211   8  2019     한남대로 91  127.003365   \n",
       "54        189     개포주공4단지  202301   4  1982      삼성로 14  127.069985   \n",
       "...       ...         ...     ...  ..   ...         ...         ...   \n",
       "109     467-6      대림아크로빌  202301   3  1999   언주로30길 13  127.051078   \n",
       "219       902   강남센트럴아이파크  202210   8  2022  테헤란로44길 26  127.045688   \n",
       "313       688  래미안힐스테이트고덕  202301   2  2016  아리수로50길 50  127.147083   \n",
       "108     467-6      대림아크로빌  202212  31  1999   언주로30길 13  127.051078   \n",
       "5465      827     남산트라팰리스  202208  27  2010    소월로2길 30  126.975790   \n",
       "\n",
       "            좌표Y  금리_단기1년전차이  평수       동      아파트ID     아파트ID거리 가까운공원ID  \\\n",
       "4881  37.544464        1.75  80   성수동1가  A10024503   33.425547  P00357   \n",
       "2201  37.486202        2.25  82     서초동  A13784102  391.153802  P02373   \n",
       "3679  37.533027        1.25  59    압구정동  A13589802   23.804947  P02575   \n",
       "3272  37.536254        2.25  62     한남동  A10025192   21.526349  P00235   \n",
       "54    37.485699        2.25  12     개포동  A10023348  172.878586  P02509   \n",
       "...         ...         ...  ..     ...        ...         ...     ...   \n",
       "109   37.488121        2.50  52     도곡동  A13527014    0.836438  P02530   \n",
       "219   37.500491        1.75  25     역삼동  A10023825   14.209567  P02640   \n",
       "313   37.558949        2.25  25     고덕동  A13480403  152.200983  P02913   \n",
       "108   37.488121        2.25  52     도곡동  A13527014    0.836438  P02530   \n",
       "5465  37.553833        1.75  35  남대문로5가  A14019001  198.343834  P00116   \n",
       "\n",
       "             한강거리  학군     target           pred           예측차이         error  \n",
       "4881  1034.605382   0  1300000.0  995620.908586  304379.091414  9.264663e+10  \n",
       "2201  2477.029577   1   640000.0  350684.592215  289315.407785  8.370341e+10  \n",
       "3679   215.420231   1   800000.0  601897.181858  198102.818142  3.924473e+10  \n",
       "3272  1300.651674   0   945000.0  756692.730859  188307.269141  3.545963e+10  \n",
       "54    3260.120802   1   370000.0  190243.582123  179756.417877  3.231237e+10  \n",
       "...           ...  ..        ...            ...            ...           ...  \n",
       "109   3444.041702   1   250000.0  311439.059899  -61439.059899  3.774758e+09  \n",
       "219   2670.553133   1   300000.0  238682.757423   61317.242577  3.759804e+09  \n",
       "313   1246.123873   0    86000.0  147013.546807  -61013.546807  3.722653e+09  \n",
       "108   3444.041702   1   260000.0  320893.219176  -60893.219176  3.707984e+09  \n",
       "5465  4025.311087   0   205000.0  144970.513013   60029.486987  3.603539e+09  \n",
       "\n",
       "[100 rows x 20 columns]"
      ],
      "text/html": [
       "<div>\n",
       "<style scoped>\n",
       "    .dataframe tbody tr th:only-of-type {\n",
       "        vertical-align: middle;\n",
       "    }\n",
       "\n",
       "    .dataframe tbody tr th {\n",
       "        vertical-align: top;\n",
       "    }\n",
       "\n",
       "    .dataframe thead th {\n",
       "        text-align: right;\n",
       "    }\n",
       "</style>\n",
       "<table border=\"1\" class=\"dataframe\">\n",
       "  <thead>\n",
       "    <tr style=\"text-align: right;\">\n",
       "      <th></th>\n",
       "      <th>번지</th>\n",
       "      <th>아파트명</th>\n",
       "      <th>계약년월</th>\n",
       "      <th>층</th>\n",
       "      <th>건축년도</th>\n",
       "      <th>도로명</th>\n",
       "      <th>좌표X</th>\n",
       "      <th>좌표Y</th>\n",
       "      <th>금리_단기1년전차이</th>\n",
       "      <th>평수</th>\n",
       "      <th>동</th>\n",
       "      <th>아파트ID</th>\n",
       "      <th>아파트ID거리</th>\n",
       "      <th>가까운공원ID</th>\n",
       "      <th>한강거리</th>\n",
       "      <th>학군</th>\n",
       "      <th>target</th>\n",
       "      <th>pred</th>\n",
       "      <th>예측차이</th>\n",
       "      <th>error</th>\n",
       "    </tr>\n",
       "  </thead>\n",
       "  <tbody>\n",
       "    <tr>\n",
       "      <th>4881</th>\n",
       "      <td>685-700</td>\n",
       "      <td>아크로서울포레스트</td>\n",
       "      <td>202209</td>\n",
       "      <td>47</td>\n",
       "      <td>2020</td>\n",
       "      <td>왕십리로 83-21</td>\n",
       "      <td>127.043847</td>\n",
       "      <td>37.544464</td>\n",
       "      <td>1.75</td>\n",
       "      <td>80</td>\n",
       "      <td>성수동1가</td>\n",
       "      <td>A10024503</td>\n",
       "      <td>33.425547</td>\n",
       "      <td>P00357</td>\n",
       "      <td>1034.605382</td>\n",
       "      <td>0</td>\n",
       "      <td>1300000.0</td>\n",
       "      <td>995620.908586</td>\n",
       "      <td>304379.091414</td>\n",
       "      <td>9.264663e+10</td>\n",
       "    </tr>\n",
       "    <tr>\n",
       "      <th>2201</th>\n",
       "      <td>1496-24</td>\n",
       "      <td>트라움하우스3</td>\n",
       "      <td>202212</td>\n",
       "      <td>4</td>\n",
       "      <td>2002</td>\n",
       "      <td>명달로 97-14</td>\n",
       "      <td>127.002921</td>\n",
       "      <td>37.486202</td>\n",
       "      <td>2.25</td>\n",
       "      <td>82</td>\n",
       "      <td>서초동</td>\n",
       "      <td>A13784102</td>\n",
       "      <td>391.153802</td>\n",
       "      <td>P02373</td>\n",
       "      <td>2477.029577</td>\n",
       "      <td>1</td>\n",
       "      <td>640000.0</td>\n",
       "      <td>350684.592215</td>\n",
       "      <td>289315.407785</td>\n",
       "      <td>8.370341e+10</td>\n",
       "    </tr>\n",
       "    <tr>\n",
       "      <th>3679</th>\n",
       "      <td>369-1</td>\n",
       "      <td>현대1차</td>\n",
       "      <td>202207</td>\n",
       "      <td>6</td>\n",
       "      <td>1976</td>\n",
       "      <td>압구정로29길 71</td>\n",
       "      <td>127.027926</td>\n",
       "      <td>37.533027</td>\n",
       "      <td>1.25</td>\n",
       "      <td>59</td>\n",
       "      <td>압구정동</td>\n",
       "      <td>A13589802</td>\n",
       "      <td>23.804947</td>\n",
       "      <td>P02575</td>\n",
       "      <td>215.420231</td>\n",
       "      <td>1</td>\n",
       "      <td>800000.0</td>\n",
       "      <td>601897.181858</td>\n",
       "      <td>198102.818142</td>\n",
       "      <td>3.924473e+10</td>\n",
       "    </tr>\n",
       "    <tr>\n",
       "      <th>3272</th>\n",
       "      <td>829</td>\n",
       "      <td>나인원한남</td>\n",
       "      <td>202211</td>\n",
       "      <td>8</td>\n",
       "      <td>2019</td>\n",
       "      <td>한남대로 91</td>\n",
       "      <td>127.003365</td>\n",
       "      <td>37.536254</td>\n",
       "      <td>2.25</td>\n",
       "      <td>62</td>\n",
       "      <td>한남동</td>\n",
       "      <td>A10025192</td>\n",
       "      <td>21.526349</td>\n",
       "      <td>P00235</td>\n",
       "      <td>1300.651674</td>\n",
       "      <td>0</td>\n",
       "      <td>945000.0</td>\n",
       "      <td>756692.730859</td>\n",
       "      <td>188307.269141</td>\n",
       "      <td>3.545963e+10</td>\n",
       "    </tr>\n",
       "    <tr>\n",
       "      <th>54</th>\n",
       "      <td>189</td>\n",
       "      <td>개포주공4단지</td>\n",
       "      <td>202301</td>\n",
       "      <td>4</td>\n",
       "      <td>1982</td>\n",
       "      <td>삼성로 14</td>\n",
       "      <td>127.069985</td>\n",
       "      <td>37.485699</td>\n",
       "      <td>2.25</td>\n",
       "      <td>12</td>\n",
       "      <td>개포동</td>\n",
       "      <td>A10023348</td>\n",
       "      <td>172.878586</td>\n",
       "      <td>P02509</td>\n",
       "      <td>3260.120802</td>\n",
       "      <td>1</td>\n",
       "      <td>370000.0</td>\n",
       "      <td>190243.582123</td>\n",
       "      <td>179756.417877</td>\n",
       "      <td>3.231237e+10</td>\n",
       "    </tr>\n",
       "    <tr>\n",
       "      <th>...</th>\n",
       "      <td>...</td>\n",
       "      <td>...</td>\n",
       "      <td>...</td>\n",
       "      <td>...</td>\n",
       "      <td>...</td>\n",
       "      <td>...</td>\n",
       "      <td>...</td>\n",
       "      <td>...</td>\n",
       "      <td>...</td>\n",
       "      <td>...</td>\n",
       "      <td>...</td>\n",
       "      <td>...</td>\n",
       "      <td>...</td>\n",
       "      <td>...</td>\n",
       "      <td>...</td>\n",
       "      <td>...</td>\n",
       "      <td>...</td>\n",
       "      <td>...</td>\n",
       "      <td>...</td>\n",
       "      <td>...</td>\n",
       "    </tr>\n",
       "    <tr>\n",
       "      <th>109</th>\n",
       "      <td>467-6</td>\n",
       "      <td>대림아크로빌</td>\n",
       "      <td>202301</td>\n",
       "      <td>3</td>\n",
       "      <td>1999</td>\n",
       "      <td>언주로30길 13</td>\n",
       "      <td>127.051078</td>\n",
       "      <td>37.488121</td>\n",
       "      <td>2.50</td>\n",
       "      <td>52</td>\n",
       "      <td>도곡동</td>\n",
       "      <td>A13527014</td>\n",
       "      <td>0.836438</td>\n",
       "      <td>P02530</td>\n",
       "      <td>3444.041702</td>\n",
       "      <td>1</td>\n",
       "      <td>250000.0</td>\n",
       "      <td>311439.059899</td>\n",
       "      <td>-61439.059899</td>\n",
       "      <td>3.774758e+09</td>\n",
       "    </tr>\n",
       "    <tr>\n",
       "      <th>219</th>\n",
       "      <td>902</td>\n",
       "      <td>강남센트럴아이파크</td>\n",
       "      <td>202210</td>\n",
       "      <td>8</td>\n",
       "      <td>2022</td>\n",
       "      <td>테헤란로44길 26</td>\n",
       "      <td>127.045688</td>\n",
       "      <td>37.500491</td>\n",
       "      <td>1.75</td>\n",
       "      <td>25</td>\n",
       "      <td>역삼동</td>\n",
       "      <td>A10023825</td>\n",
       "      <td>14.209567</td>\n",
       "      <td>P02640</td>\n",
       "      <td>2670.553133</td>\n",
       "      <td>1</td>\n",
       "      <td>300000.0</td>\n",
       "      <td>238682.757423</td>\n",
       "      <td>61317.242577</td>\n",
       "      <td>3.759804e+09</td>\n",
       "    </tr>\n",
       "    <tr>\n",
       "      <th>313</th>\n",
       "      <td>688</td>\n",
       "      <td>래미안힐스테이트고덕</td>\n",
       "      <td>202301</td>\n",
       "      <td>2</td>\n",
       "      <td>2016</td>\n",
       "      <td>아리수로50길 50</td>\n",
       "      <td>127.147083</td>\n",
       "      <td>37.558949</td>\n",
       "      <td>2.25</td>\n",
       "      <td>25</td>\n",
       "      <td>고덕동</td>\n",
       "      <td>A13480403</td>\n",
       "      <td>152.200983</td>\n",
       "      <td>P02913</td>\n",
       "      <td>1246.123873</td>\n",
       "      <td>0</td>\n",
       "      <td>86000.0</td>\n",
       "      <td>147013.546807</td>\n",
       "      <td>-61013.546807</td>\n",
       "      <td>3.722653e+09</td>\n",
       "    </tr>\n",
       "    <tr>\n",
       "      <th>108</th>\n",
       "      <td>467-6</td>\n",
       "      <td>대림아크로빌</td>\n",
       "      <td>202212</td>\n",
       "      <td>31</td>\n",
       "      <td>1999</td>\n",
       "      <td>언주로30길 13</td>\n",
       "      <td>127.051078</td>\n",
       "      <td>37.488121</td>\n",
       "      <td>2.25</td>\n",
       "      <td>52</td>\n",
       "      <td>도곡동</td>\n",
       "      <td>A13527014</td>\n",
       "      <td>0.836438</td>\n",
       "      <td>P02530</td>\n",
       "      <td>3444.041702</td>\n",
       "      <td>1</td>\n",
       "      <td>260000.0</td>\n",
       "      <td>320893.219176</td>\n",
       "      <td>-60893.219176</td>\n",
       "      <td>3.707984e+09</td>\n",
       "    </tr>\n",
       "    <tr>\n",
       "      <th>5465</th>\n",
       "      <td>827</td>\n",
       "      <td>남산트라팰리스</td>\n",
       "      <td>202208</td>\n",
       "      <td>27</td>\n",
       "      <td>2010</td>\n",
       "      <td>소월로2길 30</td>\n",
       "      <td>126.975790</td>\n",
       "      <td>37.553833</td>\n",
       "      <td>1.75</td>\n",
       "      <td>35</td>\n",
       "      <td>남대문로5가</td>\n",
       "      <td>A14019001</td>\n",
       "      <td>198.343834</td>\n",
       "      <td>P00116</td>\n",
       "      <td>4025.311087</td>\n",
       "      <td>0</td>\n",
       "      <td>205000.0</td>\n",
       "      <td>144970.513013</td>\n",
       "      <td>60029.486987</td>\n",
       "      <td>3.603539e+09</td>\n",
       "    </tr>\n",
       "  </tbody>\n",
       "</table>\n",
       "<p>100 rows × 20 columns</p>\n",
       "</div>"
      ]
     },
     "execution_count": 65,
     "metadata": {},
     "output_type": "execute_result"
    }
   ],
   "execution_count": 65
  },
  {
   "metadata": {
    "ExecuteTime": {
     "end_time": "2025-01-12T07:05:45.298358Z",
     "start_time": "2025-01-12T07:05:45.144392Z"
    }
   },
   "cell_type": "code",
   "source": [
    "\n",
    "# 그래프 생성\n",
    "plt.figure(figsize=(12, 8))\n",
    "\n",
    "# error_top100 산점도\n",
    "scatter1 = plt.scatter(\n",
    "    error_top100['좌표X'], error_top100['좌표Y'], \n",
    "    c='black',  s=100, edgecolor='k', alpha=0.7, label='Error Top 100'\n",
    ")\n",
    "\n",
    "# best_top100 산점도\n",
    "scatter2 = plt.scatter(\n",
    "    best_top100['좌표X'], best_top100['좌표Y'], \n",
    "    c='red', s=100, edgecolor='k', alpha=0.7, label='Best Top 100'\n",
    ")\n",
    "\n",
    "# 컬러바 추가 (error_top100용)\n",
    "plt.colorbar(scatter1, label='Error (Error Top 100)')\n",
    "\n",
    "# 축 및 제목 설정\n",
    "plt.xlabel('좌표X', fontsize=12)\n",
    "plt.ylabel('좌표Y', fontsize=12)\n",
    "plt.title('Error Top 100 vs Best Top 100 분포도', fontsize=14)\n",
    "plt.grid(True)\n",
    "\n",
    "# 범례 추가\n",
    "plt.legend(fontsize=12)\n",
    "\n",
    "# 그래프 표시\n",
    "plt.show()"
   ],
   "id": "ae288a50b821cb7",
   "outputs": [
    {
     "data": {
      "text/plain": [
       "<Figure size 1200x800 with 2 Axes>"
      ],
      "image/png": "[encoded data removed]"
     },
     "metadata": {},
     "output_type": "display_data"
    }
   ],
   "execution_count": 66
  },
  {
   "metadata": {
    "ExecuteTime": {
     "end_time": "2025-01-12T07:05:45.304151Z",
     "start_time": "2025-01-12T07:05:45.302939Z"
    }
   },
   "cell_type": "code",
   "source": "",
   "id": "373d39f63d8b291e",
   "outputs": [],
   "execution_count": null
  },
  {
   "metadata": {
    "ExecuteTime": {
     "end_time": "2025-01-12T07:05:45.433510Z",
     "start_time": "2025-01-12T07:05:45.431282Z"
    }
   },
   "cell_type": "code",
   "source": "",
   "id": "1495239f9649f651",
   "outputs": [],
   "execution_count": null
  }
 ],
 "metadata": {
  "kernelspec": {
   "display_name": "Python 3",
   "language": "python",
   "name": "python3"
  },
  "language_info": {
   "codemirror_mode": {
    "name": "ipython",
    "version": 2
   },
   "file_extension": ".py",
   "mimetype": "text/x-python",
   "name": "python",
   "nbconvert_exporter": "python",
   "pygments_lexer": "ipython2",
   "version": "2.7.6"
  }
 },
 "nbformat": 4,
 "nbformat_minor": 5
}
