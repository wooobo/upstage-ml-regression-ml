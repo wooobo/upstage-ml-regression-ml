{
 "cells": [
  {
   "metadata": {},
   "cell_type": "markdown",
   "source": "",
   "id": "17dde6c81c0d579c"
  },
  {
   "metadata": {},
   "cell_type": "markdown",
   "source": [
    "강남 넣기\n",
    "```\n",
    "'번지', '아파트명', '계약년월', '층', '건축년도', '도로명', '좌표X', '좌표Y', '평수', '동',\n",
    "       '가까운공원ID', '강남여부', '학군', 'target',\n",
    "RMSE test: 29394.383945172183\n",
    "```\n",
    "\n",
    "### 계약_건축년도_차이 추가\n",
    "```\n",
    "'번지', '아파트명', '계약년월', '층', '건축년도', '도로명', '좌표X', '좌표Y', 'target', '평수',\n",
    "       '동', '가까운공원ID', 'is_test', '계약_건축년도_차이', '학군'\n",
    "\n",
    "29565\n",
    "```\n",
    "\n",
    "### 학군제거\n",
    "```\n",
    "'번지', '아파트명', '계약년월', '층', '건축년도', '도로명', '좌표X', '좌표Y', 'target', '평수',\n",
    "       '동', '가까운공원ID', 'is_test', '계약_건축년도_차이'\n",
    "29725\n",
    "```\n",
    "\n",
    "### 학군추가\n",
    "\n",
    "```\n",
    "'번지', '아파트명', '계약년월', '층', '건축년도', '도로명', '좌표X', '좌표Y', 'target', '평수',\n",
    "       '동', '가까운공원ID', 'is_test', '학군'\n",
    "       \n",
    "29167\n",
    "```\n",
    "\n",
    "### 지하철 거리 추가 기각\n",
    "\n",
    "```\n",
    "'번지', '아파트명', '계약년월', '층', '건축년도', '도로명', '좌표X', '좌표Y', 'target', '평수',\n",
    "       '동', '가까운공원ID', 'is_test', '학군', 'nearest_subway_distance'\n",
    "\n",
    "29368\n",
    "```\n",
    "\n",
    "### '아파트ID', 추가\n",
    "\n",
    "```\n",
    "'번지', '아파트명', '계약년월', '층', '건축년도', '도로명', '좌표X', '좌표Y', 'target', '평수',\n",
    "       '동', '아파트ID', '가까운공원ID', 'is_test', '학군'\n",
    "\n",
    "29004\n",
    "```\n",
    "\n",
    "### '아파트ID거리' 추가\n",
    "```\n",
    "'번지', '아파트명', '계약년월', '층', '건축년도', '도로명', '좌표X', '좌표Y', 'target', '평수',\n",
    "       '동', '아파트ID', '아파트ID거리', '가까운공원ID', 'is_test', '학군'\n",
    "       \n",
    "28703\n",
    "```\n",
    "\n",
    "### '공원갯수',\n",
    "```\n",
    "'번지', '아파트명', '계약년월', '층', '건축년도', '도로명', '좌표X', '좌표Y', 'target', '평수',\n",
    "       '동', '아파트ID', '아파트ID거리', '가까운공원ID', '공원갯수', 'is_test', '학군'\n",
    "\n",
    "28896\n",
    "```\n",
    "\n",
    "###  '공원총면적',\n",
    "```\n",
    "'번지', '아파트명', '계약년월', '층', '건축년도', '도로명', '좌표X', '좌표Y', 'target', '평수',\n",
    "       '동', '아파트ID', '아파트ID거리', '가까운공원ID', '공원총면적', 'is_test', '학군'\n",
    "       \n",
    "29137\n",
    "```\n",
    "\n",
    "### 한강지천생활권점수\n",
    "\n",
    "```\n",
    "'번지', '아파트명', '계약년월', '층', '건축년도', '도로명', '좌표X', '좌표Y', 'target', '평수',\n",
    "       '동', '아파트ID', '아파트ID거리', '가까운공원ID', '한강지천생활권점수', 'is_test', '학군'\n",
    "29157\n",
    "\n",
    "```\n",
    "\n"
   ],
   "id": "289a10be6f164df3"
  },
  {
   "metadata": {
    "ExecuteTime": {
     "end_time": "2025-01-10T07:49:04.384432Z",
     "start_time": "2025-01-10T07:49:04.375369Z"
    }
   },
   "cell_type": "code",
   "source": [
    "# visualization\n",
    "import matplotlib.pyplot as plt\n",
    "import matplotlib.font_manager as fm\n",
    "\n",
    "from backup.module.preprocess import drop_columns\n",
    "\n",
    "fe = fm.FontEntry(\n",
    "    fname=r'/usr/share/fonts/truetype/nanum/NanumGothic.ttf', # ttf 파일이 저장되어 있는 경로\n",
    "    name='NanumBarunGothic')                        # 이 폰트의 원하는 이름 설정\n",
    "fm.fontManager.ttflist.insert(0, fe)              # Matplotlib에 폰트 추가\n",
    "plt.rcParams.update({'font.size': 10, 'font.family': 'AppleGothic'}) # 폰트 설정\n",
    "plt.rc('font', family='AppleGothic')\n",
    "import seaborn as sns\n",
    "\n",
    "# utils\n",
    "import pandas as pd\n",
    "import numpy as np\n",
    "from tqdm import tqdm\n",
    "import pickle\n",
    "import warnings;warnings.filterwarnings('ignore')\n",
    "\n",
    "# Model\n",
    "from sklearn.preprocessing import LabelEncoder\n",
    "from sklearn.model_selection import train_test_split\n",
    "from sklearn.metrics import mean_squared_error\n",
    "from sklearn.ensemble import RandomForestRegressor\n",
    "from sklearn import metrics\n",
    "\n",
    "import eli5\n",
    "from eli5.sklearn import PermutationImportance"
   ],
   "id": "c4f07c1ef46945d",
   "outputs": [],
   "execution_count": 80
  },
  {
   "metadata": {
    "ExecuteTime": {
     "end_time": "2025-01-10T07:49:04.465187Z",
     "start_time": "2025-01-10T07:49:04.460851Z"
    }
   },
   "cell_type": "code",
   "source": [
    "# sys.path를 수정하여 모듈 경로를 설정\n",
    "import sys\n",
    "import os\n",
    "import pandas as pd\n",
    "\n",
    "# 프로젝트 루트 경로 추가\n",
    "project_root = os.path.abspath(\"..\")\n",
    "sys.path.append(project_root)\n",
    "# 모든 컬럼 출력 설정\n",
    "# pd.set_option('display.max_columns', None)\n",
    "# 모든 행 출력 설정\n",
    "# pd.set_option('display.max_rows', None)\n",
    "\n",
    "import module"
   ],
   "id": "eb3e01a70c3324fa",
   "outputs": [],
   "execution_count": 81
  },
  {
   "metadata": {
    "ExecuteTime": {
     "end_time": "2025-01-10T07:49:22.318614Z",
     "start_time": "2025-01-10T07:49:04.736359Z"
    }
   },
   "cell_type": "code",
   "source": "df, df_test_y = module.file_load.load_current_version()",
   "id": "4f69e96e93e1e0e5",
   "outputs": [],
   "execution_count": 82
  },
  {
   "metadata": {
    "ExecuteTime": {
     "end_time": "2025-01-10T07:49:22.639684Z",
     "start_time": "2025-01-10T07:49:22.625828Z"
    }
   },
   "cell_type": "code",
   "source": "df['is_test'].value_counts()      # train과 test data가 하나로 합쳐진 것을 확인할 수 있습니다.",
   "id": "1cac72146f407cb",
   "outputs": [
    {
     "data": {
      "text/plain": [
       "is_test\n",
       "0    1097155\n",
       "1       5607\n",
       "Name: count, dtype: int64"
      ]
     },
     "execution_count": 83,
     "metadata": {},
     "output_type": "execute_result"
    }
   ],
   "execution_count": 83
  },
  {
   "metadata": {
    "ExecuteTime": {
     "end_time": "2025-01-10T07:49:22.820275Z",
     "start_time": "2025-01-10T07:49:22.814718Z"
    }
   },
   "cell_type": "code",
   "source": "df.columns",
   "id": "8813429510037398",
   "outputs": [
    {
     "data": {
      "text/plain": [
       "Index(['index', '시군구', '번지', '본번', '부번', '아파트명', '전용면적(㎡)', '계약년월', '계약일', '층',\n",
       "       '건축년도', '도로명', '해제사유발생일', '등기신청일자', '거래유형', '중개사소재지',\n",
       "       'k-단지분류(아파트,주상복합등등)', 'k-전화번호', 'k-팩스번호', '단지소개기존clob', 'k-세대타입(분양형태)',\n",
       "       'k-관리방식', 'k-복도유형', 'k-난방방식', 'k-전체동수', 'k-전체세대수', 'k-건설사(시공사)',\n",
       "       'k-시행사', 'k-사용검사일-사용승인일', 'k-연면적', 'k-주거전용면적', 'k-관리비부과면적',\n",
       "       'k-전용면적별세대현황(60㎡이하)', 'k-전용면적별세대현황(60㎡~85㎡이하)', 'k-85㎡~135㎡이하',\n",
       "       'k-135㎡초과', 'k-홈페이지', 'k-등록일자', 'k-수정일자', '고용보험관리번호', '경비비관리형태',\n",
       "       '세대전기계약방법', '청소비관리형태', '건축면적', '주차대수', '기타/의무/임대/임의=1/2/3/4', '단지승인일',\n",
       "       '사용허가여부', '관리비 업로드', '좌표X', '좌표Y', '단지신청일', 'target', '금리_단기1년전차이',\n",
       "       'nearest_subway_distance', 'nearest_bus_distance', '1차역세권', '2차역세권',\n",
       "       '1차버스정류장', '경과연도', '경과구분', '평수', '층_그룹', '평수_그룹', '시', '구', '동',\n",
       "       '아파트ID', '아파트ID거리', 'nearest_park_distance', '가까운공원이름', '가까운공원ID',\n",
       "       '공원갯수', '공원총면적', '공원생활권점수', '산책로갯수', '산책로총길이', '산책생활권점수', '생태문화길갯수',\n",
       "       '생태문화길총길이', '생태문화생활권점수', '한강지천길갯수', '한강지천길총길이', '한강지천생활권점수', '숲세권종합점수',\n",
       "       '숲세권등급', '한강거리', '지가지수', '아파트전세_전기대비증감률', '실업률', '민간소비', '소비자심리지수',\n",
       "       '경제심리지수', '여수신 금리차', 'is_test'],\n",
       "      dtype='object')"
      ]
     },
     "execution_count": 84,
     "metadata": {},
     "output_type": "execute_result"
    }
   ],
   "execution_count": 84
  },
  {
   "metadata": {
    "ExecuteTime": {
     "end_time": "2025-01-10T07:49:23.027863Z",
     "start_time": "2025-01-10T07:49:22.864333Z"
    }
   },
   "cell_type": "code",
   "source": "df[df['아파트명'] == '상봉듀오트리스'][['target','구', '동','아파트명','계약년월', '계약일', '층','건축년도', '좌표X', '좌표Y',  'nearest_subway_distance']]",
   "id": "2fc224facf282ba5",
   "outputs": [
    {
     "data": {
      "text/plain": [
       "         target    구    동     아파트명    계약년월  계약일   층  건축년도         좌표X  \\\n",
       "93693   70000.0  중랑구  상봉동  상봉듀오트리스  201801   18  20  2016  127.092204   \n",
       "93694   75000.0  중랑구  상봉동  상봉듀오트리스  201802    9  24  2016  127.092204   \n",
       "93695   68000.0  중랑구  상봉동  상봉듀오트리스  201802   28  19  2016  127.092204   \n",
       "93696   69500.0  중랑구  상봉동  상봉듀오트리스  201803    2   8  2016  127.092204   \n",
       "93697   68000.0  중랑구  상봉동  상봉듀오트리스  201803    4   7  2016  127.092204   \n",
       "...         ...  ...  ...      ...     ...  ...  ..   ...         ...   \n",
       "622133  66500.0  중랑구  상봉동  상봉듀오트리스  201605   31  20  2016  127.092204   \n",
       "622134  68080.0  중랑구  상봉동  상봉듀오트리스  201606    3  31  2016  127.092204   \n",
       "622135  94908.0  중랑구  상봉동  상봉듀오트리스  201606   14  31  2016  127.092204   \n",
       "3419        NaN  중랑구  상봉동  상봉듀오트리스  202212   25  27  2016  127.092204   \n",
       "3420        NaN  중랑구  상봉동  상봉듀오트리스  202301    7  37  2016  127.092204   \n",
       "\n",
       "              좌표Y  nearest_subway_distance  \n",
       "93693   37.597362                      220  \n",
       "93694   37.597362                      220  \n",
       "93695   37.597362                      220  \n",
       "93696   37.597362                      220  \n",
       "93697   37.597362                      220  \n",
       "...           ...                      ...  \n",
       "622133  37.597362                      220  \n",
       "622134  37.597362                      220  \n",
       "622135  37.597362                      220  \n",
       "3419    37.597362                      220  \n",
       "3420    37.597362                      220  \n",
       "\n",
       "[69 rows x 11 columns]"
      ],
      "text/html": [
       "<div>\n",
       "<style scoped>\n",
       "    .dataframe tbody tr th:only-of-type {\n",
       "        vertical-align: middle;\n",
       "    }\n",
       "\n",
       "    .dataframe tbody tr th {\n",
       "        vertical-align: top;\n",
       "    }\n",
       "\n",
       "    .dataframe thead th {\n",
       "        text-align: right;\n",
       "    }\n",
       "</style>\n",
       "<table border=\"1\" class=\"dataframe\">\n",
       "  <thead>\n",
       "    <tr style=\"text-align: right;\">\n",
       "      <th></th>\n",
       "      <th>target</th>\n",
       "      <th>구</th>\n",
       "      <th>동</th>\n",
       "      <th>아파트명</th>\n",
       "      <th>계약년월</th>\n",
       "      <th>계약일</th>\n",
       "      <th>층</th>\n",
       "      <th>건축년도</th>\n",
       "      <th>좌표X</th>\n",
       "      <th>좌표Y</th>\n",
       "      <th>nearest_subway_distance</th>\n",
       "    </tr>\n",
       "  </thead>\n",
       "  <tbody>\n",
       "    <tr>\n",
       "      <th>93693</th>\n",
       "      <td>70000.0</td>\n",
       "      <td>중랑구</td>\n",
       "      <td>상봉동</td>\n",
       "      <td>상봉듀오트리스</td>\n",
       "      <td>201801</td>\n",
       "      <td>18</td>\n",
       "      <td>20</td>\n",
       "      <td>2016</td>\n",
       "      <td>127.092204</td>\n",
       "      <td>37.597362</td>\n",
       "      <td>220</td>\n",
       "    </tr>\n",
       "    <tr>\n",
       "      <th>93694</th>\n",
       "      <td>75000.0</td>\n",
       "      <td>중랑구</td>\n",
       "      <td>상봉동</td>\n",
       "      <td>상봉듀오트리스</td>\n",
       "      <td>201802</td>\n",
       "      <td>9</td>\n",
       "      <td>24</td>\n",
       "      <td>2016</td>\n",
       "      <td>127.092204</td>\n",
       "      <td>37.597362</td>\n",
       "      <td>220</td>\n",
       "    </tr>\n",
       "    <tr>\n",
       "      <th>93695</th>\n",
       "      <td>68000.0</td>\n",
       "      <td>중랑구</td>\n",
       "      <td>상봉동</td>\n",
       "      <td>상봉듀오트리스</td>\n",
       "      <td>201802</td>\n",
       "      <td>28</td>\n",
       "      <td>19</td>\n",
       "      <td>2016</td>\n",
       "      <td>127.092204</td>\n",
       "      <td>37.597362</td>\n",
       "      <td>220</td>\n",
       "    </tr>\n",
       "    <tr>\n",
       "      <th>93696</th>\n",
       "      <td>69500.0</td>\n",
       "      <td>중랑구</td>\n",
       "      <td>상봉동</td>\n",
       "      <td>상봉듀오트리스</td>\n",
       "      <td>201803</td>\n",
       "      <td>2</td>\n",
       "      <td>8</td>\n",
       "      <td>2016</td>\n",
       "      <td>127.092204</td>\n",
       "      <td>37.597362</td>\n",
       "      <td>220</td>\n",
       "    </tr>\n",
       "    <tr>\n",
       "      <th>93697</th>\n",
       "      <td>68000.0</td>\n",
       "      <td>중랑구</td>\n",
       "      <td>상봉동</td>\n",
       "      <td>상봉듀오트리스</td>\n",
       "      <td>201803</td>\n",
       "      <td>4</td>\n",
       "      <td>7</td>\n",
       "      <td>2016</td>\n",
       "      <td>127.092204</td>\n",
       "      <td>37.597362</td>\n",
       "      <td>220</td>\n",
       "    </tr>\n",
       "    <tr>\n",
       "      <th>...</th>\n",
       "      <td>...</td>\n",
       "      <td>...</td>\n",
       "      <td>...</td>\n",
       "      <td>...</td>\n",
       "      <td>...</td>\n",
       "      <td>...</td>\n",
       "      <td>...</td>\n",
       "      <td>...</td>\n",
       "      <td>...</td>\n",
       "      <td>...</td>\n",
       "      <td>...</td>\n",
       "    </tr>\n",
       "    <tr>\n",
       "      <th>622133</th>\n",
       "      <td>66500.0</td>\n",
       "      <td>중랑구</td>\n",
       "      <td>상봉동</td>\n",
       "      <td>상봉듀오트리스</td>\n",
       "      <td>201605</td>\n",
       "      <td>31</td>\n",
       "      <td>20</td>\n",
       "      <td>2016</td>\n",
       "      <td>127.092204</td>\n",
       "      <td>37.597362</td>\n",
       "      <td>220</td>\n",
       "    </tr>\n",
       "    <tr>\n",
       "      <th>622134</th>\n",
       "      <td>68080.0</td>\n",
       "      <td>중랑구</td>\n",
       "      <td>상봉동</td>\n",
       "      <td>상봉듀오트리스</td>\n",
       "      <td>201606</td>\n",
       "      <td>3</td>\n",
       "      <td>31</td>\n",
       "      <td>2016</td>\n",
       "      <td>127.092204</td>\n",
       "      <td>37.597362</td>\n",
       "      <td>220</td>\n",
       "    </tr>\n",
       "    <tr>\n",
       "      <th>622135</th>\n",
       "      <td>94908.0</td>\n",
       "      <td>중랑구</td>\n",
       "      <td>상봉동</td>\n",
       "      <td>상봉듀오트리스</td>\n",
       "      <td>201606</td>\n",
       "      <td>14</td>\n",
       "      <td>31</td>\n",
       "      <td>2016</td>\n",
       "      <td>127.092204</td>\n",
       "      <td>37.597362</td>\n",
       "      <td>220</td>\n",
       "    </tr>\n",
       "    <tr>\n",
       "      <th>3419</th>\n",
       "      <td>NaN</td>\n",
       "      <td>중랑구</td>\n",
       "      <td>상봉동</td>\n",
       "      <td>상봉듀오트리스</td>\n",
       "      <td>202212</td>\n",
       "      <td>25</td>\n",
       "      <td>27</td>\n",
       "      <td>2016</td>\n",
       "      <td>127.092204</td>\n",
       "      <td>37.597362</td>\n",
       "      <td>220</td>\n",
       "    </tr>\n",
       "    <tr>\n",
       "      <th>3420</th>\n",
       "      <td>NaN</td>\n",
       "      <td>중랑구</td>\n",
       "      <td>상봉동</td>\n",
       "      <td>상봉듀오트리스</td>\n",
       "      <td>202301</td>\n",
       "      <td>7</td>\n",
       "      <td>37</td>\n",
       "      <td>2016</td>\n",
       "      <td>127.092204</td>\n",
       "      <td>37.597362</td>\n",
       "      <td>220</td>\n",
       "    </tr>\n",
       "  </tbody>\n",
       "</table>\n",
       "<p>69 rows × 11 columns</p>\n",
       "</div>"
      ]
     },
     "execution_count": 85,
     "metadata": {},
     "output_type": "execute_result"
    }
   ],
   "execution_count": 85
  },
  {
   "metadata": {
    "ExecuteTime": {
     "end_time": "2025-01-10T07:52:44.881441Z",
     "start_time": "2025-01-10T07:52:44.873178Z"
    }
   },
   "cell_type": "code",
   "source": [
    "# 결측치가 많거나 필요 없는 컬럼을 정리한다\n",
    "drop_columns = [\n",
    "    'index', '시군구',  '본번', '부번', \n",
    "      '해제사유발생일', '등기신청일자', '거래유형', '중개사소재지',\n",
    "       'k-단지분류(아파트,주상복합등등)', 'k-전화번호', 'k-팩스번호', '단지소개기존clob', 'k-세대타입(분양형태)',\n",
    "       'k-관리방식', 'k-복도유형', 'k-난방방식', 'k-전체동수', 'k-전체세대수', 'k-건설사(시공사)',\n",
    "       'k-시행사', 'k-사용검사일-사용승인일', 'k-연면적', 'k-주거전용면적', 'k-관리비부과면적',\n",
    "       'k-전용면적별세대현황(60㎡이하)', 'k-전용면적별세대현황(60㎡~85㎡이하)', 'k-85㎡~135㎡이하',\n",
    "       'k-135㎡초과', 'k-홈페이지', 'k-등록일자', 'k-수정일자', '고용보험관리번호', '경비비관리형태',\n",
    "       '세대전기계약방법', '청소비관리형태', '건축면적', '주차대수', '기타/의무/임대/임의=1/2/3/4', '단지승인일',\n",
    "       '사용허가여부', '관리비 업로드','단지신청일', \n",
    "       'nearest_subway_distance', 'nearest_bus_distance', '1차역세권', '2차역세권',\n",
    "       '1차버스정류장', '경과연도', '경과구분',  '층_그룹', '평수_그룹', '시',\n",
    "        'nearest_park_distance', '가까운공원이름', \n",
    "        '공원생활권점수', '산책로갯수', '산책로총길이', '산책생활권점수', '생태문화길갯수',\n",
    "       '생태문화길총길이', '생태문화생활권점수', '한강지천길갯수', '한강지천길총길이', '숲세권종합점수',\n",
    "       '숲세권등급', '한강거리', '지가지수', '아파트전세_전기대비증감률', '실업률', '민간소비', '소비자심리지수',\n",
    "       '경제심리지수', '여수신 금리차','계약일','전용면적(㎡)', '공원갯수', '공원총면적', '한강지천생활권점수','금리_단기1년전차이'\n",
    "]"
   ],
   "id": "687643b502b9a749",
   "outputs": [],
   "execution_count": 130
  },
  {
   "metadata": {},
   "cell_type": "markdown",
   "source": "# 전처리",
   "id": "cec4cd9593ec6f4e"
  },
  {
   "metadata": {
    "ExecuteTime": {
     "end_time": "2025-01-10T07:52:46.055093Z",
     "start_time": "2025-01-10T07:52:45.875955Z"
    }
   },
   "cell_type": "code",
   "source": [
    "# module.preprocess.컬럼_정리(df)\n",
    "df_select = module.preprocess.drop_columns(df, drop_columns)"
   ],
   "id": "524d33e39dc09754",
   "outputs": [],
   "execution_count": 131
  },
  {
   "metadata": {
    "ExecuteTime": {
     "end_time": "2025-01-10T07:52:46.368217Z",
     "start_time": "2025-01-10T07:52:46.363873Z"
    }
   },
   "cell_type": "code",
   "source": "df_select.columns",
   "id": "172e119c251d955f",
   "outputs": [
    {
     "data": {
      "text/plain": [
       "Index(['번지', '아파트명', '계약년월', '층', '건축년도', '도로명', '좌표X', '좌표Y', 'target',\n",
       "       '금리_단기1년전차이', '평수', '구', '동', '아파트ID', '아파트ID거리', '가까운공원ID', 'is_test'],\n",
       "      dtype='object')"
      ]
     },
     "execution_count": 132,
     "metadata": {},
     "output_type": "execute_result"
    }
   ],
   "execution_count": 132
  },
  {
   "metadata": {
    "ExecuteTime": {
     "end_time": "2025-01-10T07:52:46.930429Z",
     "start_time": "2025-01-10T07:52:46.668602Z"
    }
   },
   "cell_type": "code",
   "source": [
    "# df_select = df_select[df_select['계약년월'] > 201701]\n",
    "module.preprocess.번지_본번_부번_결측채우기(df_select)\n",
    "# module.preprocess.한강거리_add(df_select)"
   ],
   "id": "a10f133aff6ec6fb",
   "outputs": [],
   "execution_count": 133
  },
  {
   "metadata": {},
   "cell_type": "markdown",
   "source": "# 파생변수",
   "id": "ea39a5cbe8ef7f6e"
  },
  {
   "metadata": {
    "ExecuteTime": {
     "end_time": "2025-01-10T07:52:49.090394Z",
     "start_time": "2025-01-10T07:52:48.910335Z"
    }
   },
   "cell_type": "code",
   "source": [
    "# module.preprocess.강남_add(df_select)\n",
    "\n",
    "# module.preprocess.계약_건축년도_차이(df_select)\n",
    "# module.preprocess.계약_건축년도_차이(df_select)\n",
    "# module.preprocess.신축_add(df_select)\n",
    "# # 강남 8학군 지역 설정\n",
    "gangnam_8_schools = ['강남구', '서초구', '송파구']\n",
    "# 학군 변수 추가: 강남 8학군이면 1, 아니면 0\n",
    "df_select['학군'] = df_select['구'].apply(lambda x: 1 if x in gangnam_8_schools else 0)\n",
    "\n",
    "# subway_df = module.file_load.load_지하철()\n",
    "# df_select = module.preprocess.calculate_nearest_subway_distance(df_select, subway_df)"
   ],
   "id": "99b78aee4f5151d2",
   "outputs": [],
   "execution_count": 134
  },
  {
   "metadata": {
    "ExecuteTime": {
     "end_time": "2025-01-10T07:52:49.419334Z",
     "start_time": "2025-01-10T07:52:49.273244Z"
    }
   },
   "cell_type": "code",
   "source": [
    "final_drop_columns = ['구']\n",
    "df_select.drop(final_drop_columns, axis=1, inplace=True)"
   ],
   "id": "3d531f5c7df9fef8",
   "outputs": [],
   "execution_count": 135
  },
  {
   "metadata": {},
   "cell_type": "markdown",
   "source": "# Model Training",
   "id": "1df752cfb07be26"
  },
  {
   "metadata": {},
   "cell_type": "markdown",
   "source": "## 범주형 변수 Encoding",
   "id": "3afbdcde8557e5fa"
  },
  {
   "metadata": {
    "ExecuteTime": {
     "end_time": "2025-01-10T07:52:50.635456Z",
     "start_time": "2025-01-10T07:52:50.473243Z"
    }
   },
   "cell_type": "code",
   "source": [
    "model_data = df_select.copy()\n",
    "# model_data['한강거리'] = np.log1p(model_data['한강거리'])"
   ],
   "id": "a4befac26e6522db",
   "outputs": [],
   "execution_count": 136
  },
  {
   "metadata": {
    "ExecuteTime": {
     "end_time": "2025-01-10T07:52:50.845074Z",
     "start_time": "2025-01-10T07:52:50.842509Z"
    }
   },
   "cell_type": "code",
   "source": "model_data.columns\n",
   "id": "6e838abae3784377",
   "outputs": [
    {
     "data": {
      "text/plain": [
       "Index(['번지', '아파트명', '계약년월', '층', '건축년도', '도로명', '좌표X', '좌표Y', 'target',\n",
       "       '금리_단기1년전차이', '평수', '동', '아파트ID', '아파트ID거리', '가까운공원ID', 'is_test',\n",
       "       '학군'],\n",
       "      dtype='object')"
      ]
     },
     "execution_count": 137,
     "metadata": {},
     "output_type": "execute_result"
    }
   ],
   "execution_count": 137
  },
  {
   "metadata": {
    "ExecuteTime": {
     "end_time": "2025-01-10T07:52:52.854369Z",
     "start_time": "2025-01-10T07:52:51.269745Z"
    }
   },
   "cell_type": "code",
   "source": [
    "dt_train, dt_test = module.preprocess.split_train_test(model_data)\n",
    "categorical_columns_v2 = module.preprocess.범주형_filter(dt_train)\n",
    "label_encoders = module.preprocess.범주형_encoding(dt_train, dt_test, categorical_columns_v2)\n",
    "print(dt_train.shape, dt_test.shape)"
   ],
   "id": "ae3ef63768ad6c39",
   "outputs": [
    {
     "name": "stderr",
     "output_type": "stream",
     "text": [
      "100%|██████████| 6/6 [00:01<00:00,  4.52it/s]"
     ]
    },
    {
     "name": "stdout",
     "output_type": "stream",
     "text": [
      "(1097155, 16) (5607, 16)\n"
     ]
    },
    {
     "name": "stderr",
     "output_type": "stream",
     "text": [
      "\n"
     ]
    }
   ],
   "execution_count": 138
  },
  {
   "metadata": {},
   "cell_type": "markdown",
   "source": "## Model Training\n",
   "id": "6965824bbc4a624c"
  },
  {
   "metadata": {},
   "cell_type": "markdown",
   "source": "# 훈련데이터 분할",
   "id": "fb9319e479302a9b"
  },
  {
   "metadata": {
    "ExecuteTime": {
     "end_time": "2025-01-10T07:52:55.051233Z",
     "start_time": "2025-01-10T07:52:54.695072Z"
    }
   },
   "cell_type": "code",
   "source": "X_train, X_val, y_train, y_val = module.preprocess.holdout_split_X_y(dt_train)",
   "id": "1f81a7fa9d42bb22",
   "outputs": [],
   "execution_count": 139
  },
  {
   "metadata": {
    "ExecuteTime": {
     "end_time": "2025-01-10T07:52:55.287475Z",
     "start_time": "2025-01-10T07:52:55.277734Z"
    }
   },
   "cell_type": "code",
   "source": "X_train.shape, X_val.shape, y_train.shape, y_val.shape",
   "id": "79b6c1256eb120ac",
   "outputs": [
    {
     "data": {
      "text/plain": [
       "((877724, 15), (219431, 15), (877724,), (219431,))"
      ]
     },
     "execution_count": 140,
     "metadata": {},
     "output_type": "execute_result"
    }
   ],
   "execution_count": 140
  },
  {
   "metadata": {
    "ExecuteTime": {
     "end_time": "2025-01-10T07:52:55.947496Z",
     "start_time": "2025-01-10T07:52:55.930187Z"
    }
   },
   "cell_type": "code",
   "source": "X_train.head(1)",
   "id": "6116e7b8ceb3dc07",
   "outputs": [
    {
     "data": {
      "text/plain": [
       "          번지  아파트명    계약년월   층  건축년도   도로명         좌표X        좌표Y  금리_단기1년전차이  \\\n",
       "586784  1444  3131  201605  11  1988  4922  127.015602  37.498732       -0.25   \n",
       "\n",
       "        평수    동  아파트ID    아파트ID거리  가까운공원ID  학군  \n",
       "586784  24  151   1404  18.501546     1612   1  "
      ],
      "text/html": [
       "<div>\n",
       "<style scoped>\n",
       "    .dataframe tbody tr th:only-of-type {\n",
       "        vertical-align: middle;\n",
       "    }\n",
       "\n",
       "    .dataframe tbody tr th {\n",
       "        vertical-align: top;\n",
       "    }\n",
       "\n",
       "    .dataframe thead th {\n",
       "        text-align: right;\n",
       "    }\n",
       "</style>\n",
       "<table border=\"1\" class=\"dataframe\">\n",
       "  <thead>\n",
       "    <tr style=\"text-align: right;\">\n",
       "      <th></th>\n",
       "      <th>번지</th>\n",
       "      <th>아파트명</th>\n",
       "      <th>계약년월</th>\n",
       "      <th>층</th>\n",
       "      <th>건축년도</th>\n",
       "      <th>도로명</th>\n",
       "      <th>좌표X</th>\n",
       "      <th>좌표Y</th>\n",
       "      <th>금리_단기1년전차이</th>\n",
       "      <th>평수</th>\n",
       "      <th>동</th>\n",
       "      <th>아파트ID</th>\n",
       "      <th>아파트ID거리</th>\n",
       "      <th>가까운공원ID</th>\n",
       "      <th>학군</th>\n",
       "    </tr>\n",
       "  </thead>\n",
       "  <tbody>\n",
       "    <tr>\n",
       "      <th>586784</th>\n",
       "      <td>1444</td>\n",
       "      <td>3131</td>\n",
       "      <td>201605</td>\n",
       "      <td>11</td>\n",
       "      <td>1988</td>\n",
       "      <td>4922</td>\n",
       "      <td>127.015602</td>\n",
       "      <td>37.498732</td>\n",
       "      <td>-0.25</td>\n",
       "      <td>24</td>\n",
       "      <td>151</td>\n",
       "      <td>1404</td>\n",
       "      <td>18.501546</td>\n",
       "      <td>1612</td>\n",
       "      <td>1</td>\n",
       "    </tr>\n",
       "  </tbody>\n",
       "</table>\n",
       "</div>"
      ]
     },
     "execution_count": 141,
     "metadata": {},
     "output_type": "execute_result"
    }
   ],
   "execution_count": 141
  },
  {
   "metadata": {
    "ExecuteTime": {
     "end_time": "2025-01-10T07:53:10.172882Z",
     "start_time": "2025-01-10T07:52:56.358797Z"
    }
   },
   "cell_type": "code",
   "source": [
    "# RandomForestRegressor 를 이용해 회귀 모델을 적합시키겠습니다.\n",
    "model = RandomForestRegressor(n_estimators=5, criterion='squared_error', random_state=1, n_jobs=-1)\n",
    "model.fit(X_train, y_train)\n",
    "# pred = model.predict(X_val)\n",
    "# print(f'RMSE test: {np.sqrt(metrics.mean_squared_error(y_val, pred))}')"
   ],
   "id": "62b2872ffe93c4f3",
   "outputs": [
    {
     "data": {
      "text/plain": [
       "RandomForestRegressor(n_estimators=5, n_jobs=-1, random_state=1)"
      ],
      "text/html": [
       "<style>#sk-container-id-5 {color: black;}#sk-container-id-5 pre{padding: 0;}#sk-container-id-5 div.sk-toggleable {background-color: white;}#sk-container-id-5 label.sk-toggleable__label {cursor: pointer;display: block;width: 100%;margin-bottom: 0;padding: 0.3em;box-sizing: border-box;text-align: center;}#sk-container-id-5 label.sk-toggleable__label-arrow:before {content: \"▸\";float: left;margin-right: 0.25em;color: #696969;}#sk-container-id-5 label.sk-toggleable__label-arrow:hover:before {color: black;}#sk-container-id-5 div.sk-estimator:hover label.sk-toggleable__label-arrow:before {color: black;}#sk-container-id-5 div.sk-toggleable__content {max-height: 0;max-width: 0;overflow: hidden;text-align: left;background-color: #f0f8ff;}#sk-container-id-5 div.sk-toggleable__content pre {margin: 0.2em;color: black;border-radius: 0.25em;background-color: #f0f8ff;}#sk-container-id-5 input.sk-toggleable__control:checked~div.sk-toggleable__content {max-height: 200px;max-width: 100%;overflow: auto;}#sk-container-id-5 input.sk-toggleable__control:checked~label.sk-toggleable__label-arrow:before {content: \"▾\";}#sk-container-id-5 div.sk-estimator input.sk-toggleable__control:checked~label.sk-toggleable__label {background-color: #d4ebff;}#sk-container-id-5 div.sk-label input.sk-toggleable__control:checked~label.sk-toggleable__label {background-color: #d4ebff;}#sk-container-id-5 input.sk-hidden--visually {border: 0;clip: rect(1px 1px 1px 1px);clip: rect(1px, 1px, 1px, 1px);height: 1px;margin: -1px;overflow: hidden;padding: 0;position: absolute;width: 1px;}#sk-container-id-5 div.sk-estimator {font-family: monospace;background-color: #f0f8ff;border: 1px dotted black;border-radius: 0.25em;box-sizing: border-box;margin-bottom: 0.5em;}#sk-container-id-5 div.sk-estimator:hover {background-color: #d4ebff;}#sk-container-id-5 div.sk-parallel-item::after {content: \"\";width: 100%;border-bottom: 1px solid gray;flex-grow: 1;}#sk-container-id-5 div.sk-label:hover label.sk-toggleable__label {background-color: #d4ebff;}#sk-container-id-5 div.sk-serial::before {content: \"\";position: absolute;border-left: 1px solid gray;box-sizing: border-box;top: 0;bottom: 0;left: 50%;z-index: 0;}#sk-container-id-5 div.sk-serial {display: flex;flex-direction: column;align-items: center;background-color: white;padding-right: 0.2em;padding-left: 0.2em;position: relative;}#sk-container-id-5 div.sk-item {position: relative;z-index: 1;}#sk-container-id-5 div.sk-parallel {display: flex;align-items: stretch;justify-content: center;background-color: white;position: relative;}#sk-container-id-5 div.sk-item::before, #sk-container-id-5 div.sk-parallel-item::before {content: \"\";position: absolute;border-left: 1px solid gray;box-sizing: border-box;top: 0;bottom: 0;left: 50%;z-index: -1;}#sk-container-id-5 div.sk-parallel-item {display: flex;flex-direction: column;z-index: 1;position: relative;background-color: white;}#sk-container-id-5 div.sk-parallel-item:first-child::after {align-self: flex-end;width: 50%;}#sk-container-id-5 div.sk-parallel-item:last-child::after {align-self: flex-start;width: 50%;}#sk-container-id-5 div.sk-parallel-item:only-child::after {width: 0;}#sk-container-id-5 div.sk-dashed-wrapped {border: 1px dashed gray;margin: 0 0.4em 0.5em 0.4em;box-sizing: border-box;padding-bottom: 0.4em;background-color: white;}#sk-container-id-5 div.sk-label label {font-family: monospace;font-weight: bold;display: inline-block;line-height: 1.2em;}#sk-container-id-5 div.sk-label-container {text-align: center;}#sk-container-id-5 div.sk-container {/* jupyter's `normalize.less` sets `[hidden] { display: none; }` but bootstrap.min.css set `[hidden] { display: none !important; }` so we also need the `!important` here to be able to override the default hidden behavior on the sphinx rendered scikit-learn.org. See: https://github.com/scikit-learn/scikit-learn/issues/21755 */display: inline-block !important;position: relative;}#sk-container-id-5 div.sk-text-repr-fallback {display: none;}</style><div id=\"sk-container-id-5\" class=\"sk-top-container\"><div class=\"sk-text-repr-fallback\"><pre>RandomForestRegressor(n_estimators=5, n_jobs=-1, random_state=1)</pre><b>In a Jupyter environment, please rerun this cell to show the HTML representation or trust the notebook. <br />On GitHub, the HTML representation is unable to render, please try loading this page with nbviewer.org.</b></div><div class=\"sk-container\" hidden><div class=\"sk-item\"><div class=\"sk-estimator sk-toggleable\"><input class=\"sk-toggleable__control sk-hidden--visually\" id=\"sk-estimator-id-5\" type=\"checkbox\" checked><label for=\"sk-estimator-id-5\" class=\"sk-toggleable__label sk-toggleable__label-arrow\">RandomForestRegressor</label><div class=\"sk-toggleable__content\"><pre>RandomForestRegressor(n_estimators=5, n_jobs=-1, random_state=1)</pre></div></div></div></div></div>"
      ]
     },
     "execution_count": 142,
     "metadata": {},
     "output_type": "execute_result"
    }
   ],
   "execution_count": 142
  },
  {
   "metadata": {
    "ExecuteTime": {
     "end_time": "2025-01-10T07:53:10.242785Z",
     "start_time": "2025-01-10T07:53:10.218030Z"
    }
   },
   "cell_type": "code",
   "source": [
    "X_test = dt_test.drop(['target'], axis=1)\n",
    "\n",
    "real_test_pred = model.predict(X_test)\n",
    "print(f'RMSE test: {np.sqrt(metrics.mean_squared_error(df_test_y, real_test_pred))}')\n"
   ],
   "id": "c058038429b80b58",
   "outputs": [
    {
     "name": "stdout",
     "output_type": "stream",
     "text": [
      "RMSE test: 28513.875458671933\n"
     ]
    }
   ],
   "execution_count": 143
  },
  {
   "metadata": {
    "ExecuteTime": {
     "end_time": "2025-01-10T07:49:43.193305Z",
     "start_time": "2025-01-10T07:49:43.184563Z"
    }
   },
   "cell_type": "code",
   "source": "X_test.shape, real_test_pred.shape, df_test_y.shape",
   "id": "7f3be5c6ff0f0f6e",
   "outputs": [
    {
     "data": {
      "text/plain": [
       "((5607, 15), (5607,), (5607, 1))"
      ]
     },
     "execution_count": 100,
     "metadata": {},
     "output_type": "execute_result"
    }
   ],
   "execution_count": 100
  },
  {
   "metadata": {
    "ExecuteTime": {
     "end_time": "2025-01-10T07:49:43.685874Z",
     "start_time": "2025-01-10T07:49:43.678787Z"
    }
   },
   "cell_type": "code",
   "source": [
    "# Squared_error를 계산하는 함수를 정의하겠습니다.\n",
    "def calculate_se(target, pred):\n",
    "    squared_errors = (target - pred) ** 2\n",
    "    return squared_errors"
   ],
   "id": "cba55395adae6179",
   "outputs": [],
   "execution_count": 101
  },
  {
   "metadata": {
    "ExecuteTime": {
     "end_time": "2025-01-10T07:49:43.986780Z",
     "start_time": "2025-01-10T07:49:43.963347Z"
    }
   },
   "cell_type": "code",
   "source": [
    "X_val = X_test.reset_index(drop=True)\n",
    "# real_test_pred.reset_index(drop=True)\n",
    "X_val"
   ],
   "id": "645d130018057a8",
   "outputs": [
    {
     "data": {
      "text/plain": [
       "        번지  아파트명    계약년월   층  건축년도   도로명         좌표X        좌표Y  평수    동  \\\n",
       "0     1678   327  202301  10  1983  4465  127.068028  37.487802  22    8   \n",
       "1     1665   328  202212   3  1983   471  127.072682  37.489122  25    8   \n",
       "2     1665   328  202301  10  1983   471  127.072682  37.489122  25    8   \n",
       "3      728  1933  202210   7  2019  4978  127.064151  37.480049  18    8   \n",
       "4      728  1933  202212   8  2019  4978  127.064151  37.480049  25    8   \n",
       "...    ...   ...     ...  ..   ...   ...         ...        ...  ..  ...   \n",
       "5602  3322    36  202207   4  2021  5352  126.891951  37.584794  25  163   \n",
       "5603  3322    36  202207   6  2021  5352  126.891951  37.584794  25  163   \n",
       "5604  3322    36  202207   7  2021  5352  126.891951  37.584794  25  163   \n",
       "5605  3322    36  202209   4  2021  5352  126.891951  37.584794  25  163   \n",
       "5606  5760  3895  202209  14  2014  5536  127.106720  37.618870  25  174   \n",
       "\n",
       "      아파트ID     아파트ID거리  가까운공원ID      공원총면적  학군  \n",
       "0      1200    0.000000     1661   391651.3   1  \n",
       "1      1199   45.380282     1731    62022.3   1  \n",
       "2      1199   45.380282     1731    62022.3   1  \n",
       "3       250  117.916314     1691   362707.5   1  \n",
       "4       250  117.916314     1691   362707.5   1  \n",
       "...     ...         ...      ...        ...  ..  \n",
       "5602    181    0.000000      747  1365963.0   0  \n",
       "5603    181    0.000000      747  1365963.0   0  \n",
       "5604    181    0.000000      747  1365963.0   0  \n",
       "5605    181    0.000000      747  1365963.0   0  \n",
       "5606    735  170.088431      307   247376.8   0  \n",
       "\n",
       "[5607 rows x 15 columns]"
      ],
      "text/html": [
       "<div>\n",
       "<style scoped>\n",
       "    .dataframe tbody tr th:only-of-type {\n",
       "        vertical-align: middle;\n",
       "    }\n",
       "\n",
       "    .dataframe tbody tr th {\n",
       "        vertical-align: top;\n",
       "    }\n",
       "\n",
       "    .dataframe thead th {\n",
       "        text-align: right;\n",
       "    }\n",
       "</style>\n",
       "<table border=\"1\" class=\"dataframe\">\n",
       "  <thead>\n",
       "    <tr style=\"text-align: right;\">\n",
       "      <th></th>\n",
       "      <th>번지</th>\n",
       "      <th>아파트명</th>\n",
       "      <th>계약년월</th>\n",
       "      <th>층</th>\n",
       "      <th>건축년도</th>\n",
       "      <th>도로명</th>\n",
       "      <th>좌표X</th>\n",
       "      <th>좌표Y</th>\n",
       "      <th>평수</th>\n",
       "      <th>동</th>\n",
       "      <th>아파트ID</th>\n",
       "      <th>아파트ID거리</th>\n",
       "      <th>가까운공원ID</th>\n",
       "      <th>공원총면적</th>\n",
       "      <th>학군</th>\n",
       "    </tr>\n",
       "  </thead>\n",
       "  <tbody>\n",
       "    <tr>\n",
       "      <th>0</th>\n",
       "      <td>1678</td>\n",
       "      <td>327</td>\n",
       "      <td>202301</td>\n",
       "      <td>10</td>\n",
       "      <td>1983</td>\n",
       "      <td>4465</td>\n",
       "      <td>127.068028</td>\n",
       "      <td>37.487802</td>\n",
       "      <td>22</td>\n",
       "      <td>8</td>\n",
       "      <td>1200</td>\n",
       "      <td>0.000000</td>\n",
       "      <td>1661</td>\n",
       "      <td>391651.3</td>\n",
       "      <td>1</td>\n",
       "    </tr>\n",
       "    <tr>\n",
       "      <th>1</th>\n",
       "      <td>1665</td>\n",
       "      <td>328</td>\n",
       "      <td>202212</td>\n",
       "      <td>3</td>\n",
       "      <td>1983</td>\n",
       "      <td>471</td>\n",
       "      <td>127.072682</td>\n",
       "      <td>37.489122</td>\n",
       "      <td>25</td>\n",
       "      <td>8</td>\n",
       "      <td>1199</td>\n",
       "      <td>45.380282</td>\n",
       "      <td>1731</td>\n",
       "      <td>62022.3</td>\n",
       "      <td>1</td>\n",
       "    </tr>\n",
       "    <tr>\n",
       "      <th>2</th>\n",
       "      <td>1665</td>\n",
       "      <td>328</td>\n",
       "      <td>202301</td>\n",
       "      <td>10</td>\n",
       "      <td>1983</td>\n",
       "      <td>471</td>\n",
       "      <td>127.072682</td>\n",
       "      <td>37.489122</td>\n",
       "      <td>25</td>\n",
       "      <td>8</td>\n",
       "      <td>1199</td>\n",
       "      <td>45.380282</td>\n",
       "      <td>1731</td>\n",
       "      <td>62022.3</td>\n",
       "      <td>1</td>\n",
       "    </tr>\n",
       "    <tr>\n",
       "      <th>3</th>\n",
       "      <td>728</td>\n",
       "      <td>1933</td>\n",
       "      <td>202210</td>\n",
       "      <td>7</td>\n",
       "      <td>2019</td>\n",
       "      <td>4978</td>\n",
       "      <td>127.064151</td>\n",
       "      <td>37.480049</td>\n",
       "      <td>18</td>\n",
       "      <td>8</td>\n",
       "      <td>250</td>\n",
       "      <td>117.916314</td>\n",
       "      <td>1691</td>\n",
       "      <td>362707.5</td>\n",
       "      <td>1</td>\n",
       "    </tr>\n",
       "    <tr>\n",
       "      <th>4</th>\n",
       "      <td>728</td>\n",
       "      <td>1933</td>\n",
       "      <td>202212</td>\n",
       "      <td>8</td>\n",
       "      <td>2019</td>\n",
       "      <td>4978</td>\n",
       "      <td>127.064151</td>\n",
       "      <td>37.480049</td>\n",
       "      <td>25</td>\n",
       "      <td>8</td>\n",
       "      <td>250</td>\n",
       "      <td>117.916314</td>\n",
       "      <td>1691</td>\n",
       "      <td>362707.5</td>\n",
       "      <td>1</td>\n",
       "    </tr>\n",
       "    <tr>\n",
       "      <th>...</th>\n",
       "      <td>...</td>\n",
       "      <td>...</td>\n",
       "      <td>...</td>\n",
       "      <td>...</td>\n",
       "      <td>...</td>\n",
       "      <td>...</td>\n",
       "      <td>...</td>\n",
       "      <td>...</td>\n",
       "      <td>...</td>\n",
       "      <td>...</td>\n",
       "      <td>...</td>\n",
       "      <td>...</td>\n",
       "      <td>...</td>\n",
       "      <td>...</td>\n",
       "      <td>...</td>\n",
       "    </tr>\n",
       "    <tr>\n",
       "      <th>5602</th>\n",
       "      <td>3322</td>\n",
       "      <td>36</td>\n",
       "      <td>202207</td>\n",
       "      <td>4</td>\n",
       "      <td>2021</td>\n",
       "      <td>5352</td>\n",
       "      <td>126.891951</td>\n",
       "      <td>37.584794</td>\n",
       "      <td>25</td>\n",
       "      <td>163</td>\n",
       "      <td>181</td>\n",
       "      <td>0.000000</td>\n",
       "      <td>747</td>\n",
       "      <td>1365963.0</td>\n",
       "      <td>0</td>\n",
       "    </tr>\n",
       "    <tr>\n",
       "      <th>5603</th>\n",
       "      <td>3322</td>\n",
       "      <td>36</td>\n",
       "      <td>202207</td>\n",
       "      <td>6</td>\n",
       "      <td>2021</td>\n",
       "      <td>5352</td>\n",
       "      <td>126.891951</td>\n",
       "      <td>37.584794</td>\n",
       "      <td>25</td>\n",
       "      <td>163</td>\n",
       "      <td>181</td>\n",
       "      <td>0.000000</td>\n",
       "      <td>747</td>\n",
       "      <td>1365963.0</td>\n",
       "      <td>0</td>\n",
       "    </tr>\n",
       "    <tr>\n",
       "      <th>5604</th>\n",
       "      <td>3322</td>\n",
       "      <td>36</td>\n",
       "      <td>202207</td>\n",
       "      <td>7</td>\n",
       "      <td>2021</td>\n",
       "      <td>5352</td>\n",
       "      <td>126.891951</td>\n",
       "      <td>37.584794</td>\n",
       "      <td>25</td>\n",
       "      <td>163</td>\n",
       "      <td>181</td>\n",
       "      <td>0.000000</td>\n",
       "      <td>747</td>\n",
       "      <td>1365963.0</td>\n",
       "      <td>0</td>\n",
       "    </tr>\n",
       "    <tr>\n",
       "      <th>5605</th>\n",
       "      <td>3322</td>\n",
       "      <td>36</td>\n",
       "      <td>202209</td>\n",
       "      <td>4</td>\n",
       "      <td>2021</td>\n",
       "      <td>5352</td>\n",
       "      <td>126.891951</td>\n",
       "      <td>37.584794</td>\n",
       "      <td>25</td>\n",
       "      <td>163</td>\n",
       "      <td>181</td>\n",
       "      <td>0.000000</td>\n",
       "      <td>747</td>\n",
       "      <td>1365963.0</td>\n",
       "      <td>0</td>\n",
       "    </tr>\n",
       "    <tr>\n",
       "      <th>5606</th>\n",
       "      <td>5760</td>\n",
       "      <td>3895</td>\n",
       "      <td>202209</td>\n",
       "      <td>14</td>\n",
       "      <td>2014</td>\n",
       "      <td>5536</td>\n",
       "      <td>127.106720</td>\n",
       "      <td>37.618870</td>\n",
       "      <td>25</td>\n",
       "      <td>174</td>\n",
       "      <td>735</td>\n",
       "      <td>170.088431</td>\n",
       "      <td>307</td>\n",
       "      <td>247376.8</td>\n",
       "      <td>0</td>\n",
       "    </tr>\n",
       "  </tbody>\n",
       "</table>\n",
       "<p>5607 rows × 15 columns</p>\n",
       "</div>"
      ]
     },
     "execution_count": 102,
     "metadata": {},
     "output_type": "execute_result"
    }
   ],
   "execution_count": 102
  },
  {
   "metadata": {
    "ExecuteTime": {
     "end_time": "2025-01-10T07:49:44.305831Z",
     "start_time": "2025-01-10T07:49:44.291591Z"
    }
   },
   "cell_type": "code",
   "source": [
    "X_val['target'] = df_test_y\n",
    "X_val['pred'] = real_test_pred\n",
    "X_val['예측차이'] = X_val['target'] - X_val['pred']\n",
    "# RMSE 계산\n",
    "squared_errors = calculate_se(X_val['target'], X_val['pred'])\n",
    "X_val['error'] = squared_errors\n",
    "# Error가 큰 순서대로 sorting 해 보겠습니다.\n",
    "X_val_sort = X_val.sort_values(by='error', ascending=False)       # 내림차순 sorting"
   ],
   "id": "efccbc2a620ab136",
   "outputs": [],
   "execution_count": 103
  },
  {
   "metadata": {
    "ExecuteTime": {
     "end_time": "2025-01-10T07:49:44.447416Z",
     "start_time": "2025-01-10T07:49:44.439564Z"
    }
   },
   "cell_type": "code",
   "source": [
    "X_val_sort_top100 = X_val.sort_values(by='error', ascending=False).head(100)        # 예측을 잘 하지못한 top 100개의 data\n",
    "X_val_sort_tail100 = X_val.sort_values(by='error', ascending=False).tail(100)       # 예측을 잘한 top 100개의 data"
   ],
   "id": "2cc078c44d187234",
   "outputs": [],
   "execution_count": 104
  },
  {
   "metadata": {
    "ExecuteTime": {
     "end_time": "2025-01-10T07:49:44.609757Z",
     "start_time": "2025-01-10T07:49:44.594196Z"
    }
   },
   "cell_type": "code",
   "source": [
    "# 해석을 위해 레이블인코딩 된 변수를 복원해줍니다.\n",
    "error_top100 = X_val_sort_top100.copy()\n",
    "for column in categorical_columns_v2 :     # 앞서 레이블 인코딩에서 정의했던 categorical_columns_v2 범주형 변수 리스트를 사용합니다.\n",
    "    error_top100[column] = label_encoders[column].inverse_transform(X_val_sort_top100[column])\n",
    "\n",
    "best_top100 = X_val_sort_tail100.copy()\n",
    "for column in categorical_columns_v2 :     # 앞서 레이블 인코딩에서 정의했던 categorical_columns_v2 범주형 변수 리스트를 사용합니다.\n",
    "    best_top100[column] = label_encoders[column].inverse_transform(X_val_sort_tail100[column])"
   ],
   "id": "b9490c2ca426939",
   "outputs": [],
   "execution_count": 105
  },
  {
   "metadata": {
    "ExecuteTime": {
     "end_time": "2025-01-10T07:49:45.661188Z",
     "start_time": "2025-01-10T07:49:45.644681Z"
    }
   },
   "cell_type": "code",
   "source": [
    "error_top100.to_csv('top50_error_v6.csv', index=False)\n",
    "best_top100.to_csv('tail50_top_v6.csv', index=False)"
   ],
   "id": "b4885d95b0c347d3",
   "outputs": [],
   "execution_count": 106
  },
  {
   "metadata": {
    "ExecuteTime": {
     "end_time": "2025-01-10T07:57:09.344795Z",
     "start_time": "2025-01-10T07:57:08.885578Z"
    }
   },
   "cell_type": "code",
   "source": [
    "# 위 feature importance를 시각화해봅니다.\n",
    "importances = pd.Series(model.feature_importances_, index=list(X_train.columns))\n",
    "importances = importances.sort_values(ascending=False)\n",
    "\n",
    "plt.figure(figsize=(10,8))\n",
    "plt.title(\"Feature Importances\")\n",
    "sns.barplot(x=importances, y=importances.index)\n",
    "plt.show()"
   ],
   "id": "fb730abec283f2de",
   "outputs": [
    {
     "data": {
      "text/plain": [
       "<Figure size 1000x800 with 1 Axes>"
      ],
      "image/png": "[encoded data removed]"
     },
     "metadata": {},
     "output_type": "display_data"
    }
   ],
   "execution_count": 144
  },
  {
   "metadata": {
    "ExecuteTime": {
     "end_time": "2025-01-10T07:57:11.752717Z",
     "start_time": "2025-01-10T07:57:10.935363Z"
    }
   },
   "cell_type": "code",
   "source": [
    "# 2D 히트맵으로 target, 층, 전용면적의 분포 비교\n",
    "plt.figure(figsize=(10, 8))\n",
    "sns.scatterplot(\n",
    "    data=error_top100, \n",
    "    x='평수', \n",
    "    y='층', \n",
    "    size='error', \n",
    "    hue='error', \n",
    "    palette='coolwarm', \n",
    "    alpha=0.7, \n",
    "    sizes=(20, 200)\n",
    ")\n",
    "plt.title('error, 층, 평수 분포 비교', fontsize=16)\n",
    "plt.xlabel('평수', fontsize=14)\n",
    "plt.ylabel('층', fontsize=14)\n",
    "plt.legend(title='error')\n",
    "plt.grid(True)\n",
    "plt.show()"
   ],
   "id": "27810597086e6ece",
   "outputs": [
    {
     "data": {
      "text/plain": [
       "<Figure size 1000x800 with 1 Axes>"
      ],
      "image/png": "[encoded data removed]"
     },
     "metadata": {},
     "output_type": "display_data"
    }
   ],
   "execution_count": 145
  },
  {
   "metadata": {
    "ExecuteTime": {
     "end_time": "2025-01-10T07:57:11.884111Z",
     "start_time": "2025-01-10T07:57:11.880110Z"
    }
   },
   "cell_type": "code",
   "source": [
    "print(error_top100['층'].value_counts().sort_values(ascending=False))\n",
    "print(error_top100['평수'].value_counts())"
   ],
   "id": "7c2264fffef6d3ad",
   "outputs": [
    {
     "name": "stdout",
     "output_type": "stream",
     "text": [
      "층\n",
      "1     7\n",
      "3     7\n",
      "11    6\n",
      "5     6\n",
      "4     5\n",
      "6     5\n",
      "8     5\n",
      "12    5\n",
      "14    5\n",
      "21    5\n",
      "13    4\n",
      "10    4\n",
      "9     4\n",
      "22    3\n",
      "17    3\n",
      "2     3\n",
      "7     3\n",
      "15    3\n",
      "28    3\n",
      "35    2\n",
      "19    2\n",
      "24    1\n",
      "27    1\n",
      "20    1\n",
      "37    1\n",
      "25    1\n",
      "23    1\n",
      "47    1\n",
      "18    1\n",
      "39    1\n",
      "16    1\n",
      "Name: count, dtype: int64\n",
      "평수\n",
      "25    23\n",
      "23     8\n",
      "24     8\n",
      "67     5\n",
      "30     4\n",
      "32     3\n",
      "42     3\n",
      "39     3\n",
      "62     3\n",
      "50     2\n",
      "28     2\n",
      "44     2\n",
      "47     2\n",
      "73     2\n",
      "43     2\n",
      "38     2\n",
      "21     2\n",
      "34     2\n",
      "54     1\n",
      "29     1\n",
      "65     1\n",
      "15     1\n",
      "40     1\n",
      "64     1\n",
      "17     1\n",
      "18     1\n",
      "61     1\n",
      "68     1\n",
      "36     1\n",
      "59     1\n",
      "57     1\n",
      "49     1\n",
      "60     1\n",
      "80     1\n",
      "58     1\n",
      "27     1\n",
      "12     1\n",
      "37     1\n",
      "82     1\n",
      "52     1\n",
      "Name: count, dtype: int64\n"
     ]
    }
   ],
   "execution_count": 146
  },
  {
   "metadata": {
    "ExecuteTime": {
     "end_time": "2025-01-10T07:57:12.771772Z",
     "start_time": "2025-01-10T07:57:12.586457Z"
    }
   },
   "cell_type": "code",
   "source": [
    "sns.histplot(data = error_top100, x='층', alpha=0.5)\n",
    "sns.histplot(data = best_top100, x='층', color='orange', alpha=0.5)\n",
    "plt.title('층 분포 비교')\n",
    "plt.show()"
   ],
   "id": "e4430a77242caa24",
   "outputs": [
    {
     "data": {
      "text/plain": [
       "<Figure size 640x480 with 1 Axes>"
      ],
      "image/png": "[encoded data removed]"
     },
     "metadata": {},
     "output_type": "display_data"
    }
   ],
   "execution_count": 147
  },
  {
   "metadata": {
    "ExecuteTime": {
     "end_time": "2025-01-10T07:57:13.289152Z",
     "start_time": "2025-01-10T07:57:12.865089Z"
    }
   },
   "cell_type": "code",
   "source": [
    "sns.histplot(data = error_top100, x='평수', alpha=0.5)\n",
    "sns.histplot(data = best_top100, x='평수', color='orange', alpha=0.5)\n",
    "plt.title('평수 분포 비교')\n",
    "plt.show()"
   ],
   "id": "9cc8c5e8e0c5b5cd",
   "outputs": [
    {
     "data": {
      "text/plain": [
       "<Figure size 640x480 with 1 Axes>"
      ],
      "image/png": "[encoded data removed]"
     },
     "metadata": {},
     "output_type": "display_data"
    }
   ],
   "execution_count": 148
  },
  {
   "metadata": {
    "ExecuteTime": {
     "end_time": "2025-01-10T07:57:13.519495Z",
     "start_time": "2025-01-10T07:57:13.508534Z"
    }
   },
   "cell_type": "code",
   "source": "error_top100",
   "id": "e8772937a4799363",
   "outputs": [
    {
     "data": {
      "text/plain": [
       "           번지       아파트명    계약년월   층  건축년도            도로명         좌표X  \\\n",
       "3420      501    상봉듀오트리스  202301  37  2016        상봉로 131  127.092204   \n",
       "3679    369-1       현대1차  202207   6  1976     압구정로29길 71  127.027926   \n",
       "2201  1496-24    트라움하우스3  202212   4  2002      명달로 97-14  127.002921   \n",
       "3650   510-11       강남상가  202208   5  1974      압구정로2길 46  127.020669   \n",
       "4534      490     메세나폴리스  202209  39  2012         양화로 45  126.913938   \n",
       "...       ...        ...     ...  ..   ...            ...         ...   \n",
       "2824       27         주공  202301   1  1978       송파대로 567  127.092982   \n",
       "221       902  강남센트럴아이파크  202212  19  2022     테헤란로44길 26  127.045688   \n",
       "3623      467     타워팰리스1  202207  28  2002      언주로30길 56  127.054439   \n",
       "2733       17       파크리오  202212  17  2008       올림픽로 435  127.106151   \n",
       "2154     1682      서초래미안  202301  13  2003  서초대로65길 13-10  127.018897   \n",
       "\n",
       "            좌표Y  평수     동      아파트ID     아파트ID거리 가까운공원ID      공원총면적  학군  \\\n",
       "3420  37.597362  61   상봉동  A10027670    0.003000  P00566    10742.0   0   \n",
       "3679  37.533027  59  압구정동  A13589802   23.804947  P02575    20097.9   1   \n",
       "2201  37.486202  82   서초동  A13784102  391.153802  P02373   675685.0   1   \n",
       "3650  37.518772  43   신사동  A10024029  170.244626  P02521    49165.1   1   \n",
       "4534  37.551322  67   서교동  A12174601    0.000000  P01499    38516.5   0   \n",
       "...         ...  ..   ...        ...         ...     ...        ...  ..   \n",
       "2824  37.514368  24   잠실동  A13879102    2.189487  P02668   903435.1   1   \n",
       "221   37.500491  25   역삼동  A10023825   14.209567  P02640    17249.3   1   \n",
       "3623  37.488223  52   도곡동  A13527017    0.627425  P02514   284920.1   1   \n",
       "2733  37.520537  25   신천동  A13824006  325.014421  P02701  1280674.1   1   \n",
       "2154  37.498558  38   서초동  A13788208    0.000000  P02428    60746.3   1   \n",
       "\n",
       "        target      pred      예측차이         error  \n",
       "3420  185000.0  777000.0 -592000.0  3.504640e+11  \n",
       "3679  800000.0  564400.0  235600.0  5.550736e+10  \n",
       "2201  640000.0  417000.0  223000.0  4.972900e+10  \n",
       "3650  129500.0  351700.0 -222200.0  4.937284e+10  \n",
       "4534  510000.0  725600.0 -215600.0  4.648336e+10  \n",
       "...        ...       ...       ...           ...  \n",
       "2824  229500.0  305776.0  -76276.0  5.818028e+09  \n",
       "221   290000.0  213800.0   76200.0  5.806440e+09  \n",
       "3623  480000.0  404000.0   76000.0  5.776000e+09  \n",
       "2733  174000.0  250000.0  -76000.0  5.776000e+09  \n",
       "2154  238000.0  314000.0  -76000.0  5.776000e+09  \n",
       "\n",
       "[100 rows x 19 columns]"
      ],
      "text/html": [
       "<div>\n",
       "<style scoped>\n",
       "    .dataframe tbody tr th:only-of-type {\n",
       "        vertical-align: middle;\n",
       "    }\n",
       "\n",
       "    .dataframe tbody tr th {\n",
       "        vertical-align: top;\n",
       "    }\n",
       "\n",
       "    .dataframe thead th {\n",
       "        text-align: right;\n",
       "    }\n",
       "</style>\n",
       "<table border=\"1\" class=\"dataframe\">\n",
       "  <thead>\n",
       "    <tr style=\"text-align: right;\">\n",
       "      <th></th>\n",
       "      <th>번지</th>\n",
       "      <th>아파트명</th>\n",
       "      <th>계약년월</th>\n",
       "      <th>층</th>\n",
       "      <th>건축년도</th>\n",
       "      <th>도로명</th>\n",
       "      <th>좌표X</th>\n",
       "      <th>좌표Y</th>\n",
       "      <th>평수</th>\n",
       "      <th>동</th>\n",
       "      <th>아파트ID</th>\n",
       "      <th>아파트ID거리</th>\n",
       "      <th>가까운공원ID</th>\n",
       "      <th>공원총면적</th>\n",
       "      <th>학군</th>\n",
       "      <th>target</th>\n",
       "      <th>pred</th>\n",
       "      <th>예측차이</th>\n",
       "      <th>error</th>\n",
       "    </tr>\n",
       "  </thead>\n",
       "  <tbody>\n",
       "    <tr>\n",
       "      <th>3420</th>\n",
       "      <td>501</td>\n",
       "      <td>상봉듀오트리스</td>\n",
       "      <td>202301</td>\n",
       "      <td>37</td>\n",
       "      <td>2016</td>\n",
       "      <td>상봉로 131</td>\n",
       "      <td>127.092204</td>\n",
       "      <td>37.597362</td>\n",
       "      <td>61</td>\n",
       "      <td>상봉동</td>\n",
       "      <td>A10027670</td>\n",
       "      <td>0.003000</td>\n",
       "      <td>P00566</td>\n",
       "      <td>10742.0</td>\n",
       "      <td>0</td>\n",
       "      <td>185000.0</td>\n",
       "      <td>777000.0</td>\n",
       "      <td>-592000.0</td>\n",
       "      <td>3.504640e+11</td>\n",
       "    </tr>\n",
       "    <tr>\n",
       "      <th>3679</th>\n",
       "      <td>369-1</td>\n",
       "      <td>현대1차</td>\n",
       "      <td>202207</td>\n",
       "      <td>6</td>\n",
       "      <td>1976</td>\n",
       "      <td>압구정로29길 71</td>\n",
       "      <td>127.027926</td>\n",
       "      <td>37.533027</td>\n",
       "      <td>59</td>\n",
       "      <td>압구정동</td>\n",
       "      <td>A13589802</td>\n",
       "      <td>23.804947</td>\n",
       "      <td>P02575</td>\n",
       "      <td>20097.9</td>\n",
       "      <td>1</td>\n",
       "      <td>800000.0</td>\n",
       "      <td>564400.0</td>\n",
       "      <td>235600.0</td>\n",
       "      <td>5.550736e+10</td>\n",
       "    </tr>\n",
       "    <tr>\n",
       "      <th>2201</th>\n",
       "      <td>1496-24</td>\n",
       "      <td>트라움하우스3</td>\n",
       "      <td>202212</td>\n",
       "      <td>4</td>\n",
       "      <td>2002</td>\n",
       "      <td>명달로 97-14</td>\n",
       "      <td>127.002921</td>\n",
       "      <td>37.486202</td>\n",
       "      <td>82</td>\n",
       "      <td>서초동</td>\n",
       "      <td>A13784102</td>\n",
       "      <td>391.153802</td>\n",
       "      <td>P02373</td>\n",
       "      <td>675685.0</td>\n",
       "      <td>1</td>\n",
       "      <td>640000.0</td>\n",
       "      <td>417000.0</td>\n",
       "      <td>223000.0</td>\n",
       "      <td>4.972900e+10</td>\n",
       "    </tr>\n",
       "    <tr>\n",
       "      <th>3650</th>\n",
       "      <td>510-11</td>\n",
       "      <td>강남상가</td>\n",
       "      <td>202208</td>\n",
       "      <td>5</td>\n",
       "      <td>1974</td>\n",
       "      <td>압구정로2길 46</td>\n",
       "      <td>127.020669</td>\n",
       "      <td>37.518772</td>\n",
       "      <td>43</td>\n",
       "      <td>신사동</td>\n",
       "      <td>A10024029</td>\n",
       "      <td>170.244626</td>\n",
       "      <td>P02521</td>\n",
       "      <td>49165.1</td>\n",
       "      <td>1</td>\n",
       "      <td>129500.0</td>\n",
       "      <td>351700.0</td>\n",
       "      <td>-222200.0</td>\n",
       "      <td>4.937284e+10</td>\n",
       "    </tr>\n",
       "    <tr>\n",
       "      <th>4534</th>\n",
       "      <td>490</td>\n",
       "      <td>메세나폴리스</td>\n",
       "      <td>202209</td>\n",
       "      <td>39</td>\n",
       "      <td>2012</td>\n",
       "      <td>양화로 45</td>\n",
       "      <td>126.913938</td>\n",
       "      <td>37.551322</td>\n",
       "      <td>67</td>\n",
       "      <td>서교동</td>\n",
       "      <td>A12174601</td>\n",
       "      <td>0.000000</td>\n",
       "      <td>P01499</td>\n",
       "      <td>38516.5</td>\n",
       "      <td>0</td>\n",
       "      <td>510000.0</td>\n",
       "      <td>725600.0</td>\n",
       "      <td>-215600.0</td>\n",
       "      <td>4.648336e+10</td>\n",
       "    </tr>\n",
       "    <tr>\n",
       "      <th>...</th>\n",
       "      <td>...</td>\n",
       "      <td>...</td>\n",
       "      <td>...</td>\n",
       "      <td>...</td>\n",
       "      <td>...</td>\n",
       "      <td>...</td>\n",
       "      <td>...</td>\n",
       "      <td>...</td>\n",
       "      <td>...</td>\n",
       "      <td>...</td>\n",
       "      <td>...</td>\n",
       "      <td>...</td>\n",
       "      <td>...</td>\n",
       "      <td>...</td>\n",
       "      <td>...</td>\n",
       "      <td>...</td>\n",
       "      <td>...</td>\n",
       "      <td>...</td>\n",
       "      <td>...</td>\n",
       "    </tr>\n",
       "    <tr>\n",
       "      <th>2824</th>\n",
       "      <td>27</td>\n",
       "      <td>주공</td>\n",
       "      <td>202301</td>\n",
       "      <td>1</td>\n",
       "      <td>1978</td>\n",
       "      <td>송파대로 567</td>\n",
       "      <td>127.092982</td>\n",
       "      <td>37.514368</td>\n",
       "      <td>24</td>\n",
       "      <td>잠실동</td>\n",
       "      <td>A13879102</td>\n",
       "      <td>2.189487</td>\n",
       "      <td>P02668</td>\n",
       "      <td>903435.1</td>\n",
       "      <td>1</td>\n",
       "      <td>229500.0</td>\n",
       "      <td>305776.0</td>\n",
       "      <td>-76276.0</td>\n",
       "      <td>5.818028e+09</td>\n",
       "    </tr>\n",
       "    <tr>\n",
       "      <th>221</th>\n",
       "      <td>902</td>\n",
       "      <td>강남센트럴아이파크</td>\n",
       "      <td>202212</td>\n",
       "      <td>19</td>\n",
       "      <td>2022</td>\n",
       "      <td>테헤란로44길 26</td>\n",
       "      <td>127.045688</td>\n",
       "      <td>37.500491</td>\n",
       "      <td>25</td>\n",
       "      <td>역삼동</td>\n",
       "      <td>A10023825</td>\n",
       "      <td>14.209567</td>\n",
       "      <td>P02640</td>\n",
       "      <td>17249.3</td>\n",
       "      <td>1</td>\n",
       "      <td>290000.0</td>\n",
       "      <td>213800.0</td>\n",
       "      <td>76200.0</td>\n",
       "      <td>5.806440e+09</td>\n",
       "    </tr>\n",
       "    <tr>\n",
       "      <th>3623</th>\n",
       "      <td>467</td>\n",
       "      <td>타워팰리스1</td>\n",
       "      <td>202207</td>\n",
       "      <td>28</td>\n",
       "      <td>2002</td>\n",
       "      <td>언주로30길 56</td>\n",
       "      <td>127.054439</td>\n",
       "      <td>37.488223</td>\n",
       "      <td>52</td>\n",
       "      <td>도곡동</td>\n",
       "      <td>A13527017</td>\n",
       "      <td>0.627425</td>\n",
       "      <td>P02514</td>\n",
       "      <td>284920.1</td>\n",
       "      <td>1</td>\n",
       "      <td>480000.0</td>\n",
       "      <td>404000.0</td>\n",
       "      <td>76000.0</td>\n",
       "      <td>5.776000e+09</td>\n",
       "    </tr>\n",
       "    <tr>\n",
       "      <th>2733</th>\n",
       "      <td>17</td>\n",
       "      <td>파크리오</td>\n",
       "      <td>202212</td>\n",
       "      <td>17</td>\n",
       "      <td>2008</td>\n",
       "      <td>올림픽로 435</td>\n",
       "      <td>127.106151</td>\n",
       "      <td>37.520537</td>\n",
       "      <td>25</td>\n",
       "      <td>신천동</td>\n",
       "      <td>A13824006</td>\n",
       "      <td>325.014421</td>\n",
       "      <td>P02701</td>\n",
       "      <td>1280674.1</td>\n",
       "      <td>1</td>\n",
       "      <td>174000.0</td>\n",
       "      <td>250000.0</td>\n",
       "      <td>-76000.0</td>\n",
       "      <td>5.776000e+09</td>\n",
       "    </tr>\n",
       "    <tr>\n",
       "      <th>2154</th>\n",
       "      <td>1682</td>\n",
       "      <td>서초래미안</td>\n",
       "      <td>202301</td>\n",
       "      <td>13</td>\n",
       "      <td>2003</td>\n",
       "      <td>서초대로65길 13-10</td>\n",
       "      <td>127.018897</td>\n",
       "      <td>37.498558</td>\n",
       "      <td>38</td>\n",
       "      <td>서초동</td>\n",
       "      <td>A13788208</td>\n",
       "      <td>0.000000</td>\n",
       "      <td>P02428</td>\n",
       "      <td>60746.3</td>\n",
       "      <td>1</td>\n",
       "      <td>238000.0</td>\n",
       "      <td>314000.0</td>\n",
       "      <td>-76000.0</td>\n",
       "      <td>5.776000e+09</td>\n",
       "    </tr>\n",
       "  </tbody>\n",
       "</table>\n",
       "<p>100 rows × 19 columns</p>\n",
       "</div>"
      ]
     },
     "execution_count": 149,
     "metadata": {},
     "output_type": "execute_result"
    }
   ],
   "execution_count": 149
  },
  {
   "metadata": {
    "ExecuteTime": {
     "end_time": "2025-01-10T07:57:14.209243Z",
     "start_time": "2025-01-10T07:57:13.671917Z"
    }
   },
   "cell_type": "code",
   "source": [
    "# 2D 히트맵으로 target, 층, 전용면적의 분포 비교\n",
    "plt.figure(figsize=(10, 8))\n",
    "sns.scatterplot(\n",
    "    data=error_top100, \n",
    "    x='평수', \n",
    "    y='층', \n",
    "    size='error', \n",
    "    hue='error', \n",
    "    palette='coolwarm', \n",
    "    alpha=0.7, \n",
    "    sizes=(20, 200)\n",
    ")\n",
    "plt.title('error, 층, 평수 분포 비교', fontsize=16)\n",
    "plt.xlabel('평수', fontsize=14)\n",
    "plt.ylabel('층', fontsize=14)\n",
    "plt.legend(title='error')\n",
    "plt.grid(True)\n",
    "plt.show()"
   ],
   "id": "a6c5b550577f5f1a",
   "outputs": [
    {
     "data": {
      "text/plain": [
       "<Figure size 1000x800 with 1 Axes>"
      ],
      "image/png": "[encoded data removed]"
     },
     "metadata": {},
     "output_type": "display_data"
    }
   ],
   "execution_count": 150
  },
  {
   "metadata": {
    "ExecuteTime": {
     "end_time": "2025-01-10T07:57:14.554933Z",
     "start_time": "2025-01-10T07:57:14.314969Z"
    }
   },
   "cell_type": "code",
   "source": [
    "# 그래프 생성\n",
    "plt.figure(figsize=(12, 8))\n",
    "\n",
    "# error_top100 산점도\n",
    "scatter1 = plt.scatter(\n",
    "    error_top100['좌표X'], error_top100['좌표Y'], \n",
    "    c='black',  s=100, edgecolor='k', alpha=0.7, label='Error Top 100'\n",
    ")\n",
    "\n",
    "# best_top100 산점도\n",
    "scatter2 = plt.scatter(\n",
    "    best_top100['좌표X'], best_top100['좌표Y'], \n",
    "    c='red', s=100, edgecolor='k', alpha=0.7, label='Best Top 100'\n",
    ")\n",
    "\n",
    "# 컬러바 추가 (error_top100용)\n",
    "plt.colorbar(scatter1, label='Error (Error Top 100)')\n",
    "\n",
    "# 축 및 제목 설정\n",
    "plt.xlabel('좌표X', fontsize=12)\n",
    "plt.ylabel('좌표Y', fontsize=12)\n",
    "plt.title('Error Top 100 vs Best Top 100 분포도', fontsize=14)\n",
    "plt.grid(True)\n",
    "\n",
    "# 범례 추가\n",
    "plt.legend(fontsize=12)\n",
    "\n",
    "# 그래프 표시\n",
    "plt.show()"
   ],
   "id": "ae288a50b821cb7",
   "outputs": [
    {
     "data": {
      "text/plain": [
       "<Figure size 1200x800 with 2 Axes>"
      ],
      "image/png": "[encoded data removed]"
     },
     "metadata": {},
     "output_type": "display_data"
    }
   ],
   "execution_count": 151
  },
  {
   "metadata": {
    "ExecuteTime": {
     "end_time": "2025-01-10T07:57:14.884711Z",
     "start_time": "2025-01-10T06:54:36.267435Z"
    }
   },
   "cell_type": "code",
   "source": "error_top100[error_top100['예측차이'] > 100000].value_counts()",
   "id": "91a4668de716b46b",
   "outputs": [
    {
     "data": {
      "text/plain": [
       "번지       아파트명         계약년월    층   건축년도  도로명            좌표X         좌표Y        평수  구     동      가까운공원ID  아파트_unique_key                 클러스터  학군  target    pred      예측차이      error       \n",
       "1-44     힐탑트레져1동      202301  3   2003  유엔빌리지길 200-16  127.013718  37.538466  67  용산구   한남동    P00198   용산구_한남동_1-44_힐탑트레져1동_2003      9     0   430000.0  278200.0  151800.0  2.304324e+10    1\n",
       "1496-24  트라움하우스3      202212  4   2002  명달로 97-14      127.002921  37.486202  82  서초구   서초동    P02373   서초구_서초동_1496-24_트라움하우스3_2002   15    1   640000.0  256800.0  383200.0  1.468422e+11    1\n",
       "189      개포주공4단지      202301  4   1982  삼성로 14         127.069985  37.485699  12  강남구   개포동    P02509   강남구_개포동_189_개포주공4단지_1982       17    1   370000.0  196400.0  173600.0  3.013696e+10    1\n",
       "193-1    힐데스하임빌라      202207  6   1998  남부순환로377길 26   127.045027  37.488125  73  강남구   도곡동    P02556   강남구_도곡동_193-1_힐데스하임빌라_1998     6     1   500000.0  346400.0  153600.0  2.359296e+10    1\n",
       "21-1     서울           202207  8   1976  여의나루로 121      126.931151  37.527059  60  영등포구  여의도동   P03011   영등포구_여의도동_21-1_서울_1976         27    0   555000.0  392000.0  163000.0  2.656900e+10    1\n",
       "227-7    더샵스타시티       202301  42  2007  아차산로 262       127.072632  37.537803  73  광진구   자양동    P00428   광진구_자양동_227-7_더샵스타시티_2007      29    0   420000.0  207600.0  212400.0  4.511376e+10    1\n",
       "369-1    현대1차         202207  6   1976  압구정로29길 71     127.027926  37.533027  59  강남구   압구정동   P02575   강남구_압구정동_369-1_현대1차_1976       13    1   800000.0  537400.0  262600.0  6.895876e+10    1\n",
       "419      아스테리움용산      202207  35  2012  한강대로30길 25     126.968860  37.527631  57  용산구   한강로2가  P00190   용산구_한강로2가_419_아스테리움용산_2012     13    0   480000.0  371200.0  108800.0  1.183744e+10    1\n",
       "467      타워팰리스1       202207  28  2002  언주로30길 56      127.054439  37.488223  52  강남구   도곡동    P02514   강남구_도곡동_467_타워팰리스1_2002        13    1   480000.0  359800.0  120200.0  1.444804e+10    1\n",
       "527      도곡렉슬         202207  15  2006  선릉로 221        127.048985  37.493029  25  강남구   도곡동    P02530   강남구_도곡동_527_도곡렉슬_2006          12    1   315000.0  210000.0  105000.0  1.102500e+10    1\n",
       "                      202208  15  2006  선릉로 221        127.048985  37.493029  25  강남구   도곡동    P02530   강남구_도곡동_527_도곡렉슬_2006          12    1   315000.0  210000.0  105000.0  1.102500e+10    1\n",
       "53-2     진흥           202209  6   1984  학동로88길 5       127.052121  37.518714  51  강남구   삼성동    P02578   강남구_삼성동_53-2_진흥_1984           21    1   380000.0  262000.0  118000.0  1.392400e+10    1\n",
       "612-28   비버리힐즈        202207  1   1998  사평대로12길 27     126.992966  37.496919  73  서초구   반포동    P02477   서초구_반포동_612-28_비버리힐즈_1998      6     1   450000.0  266300.0  183700.0  3.374569e+10    1\n",
       "829      나인원한남        202211  8   2019  한남대로 91        127.003365  37.536254  62  용산구   한남동    P00235   용산구_한남동_829_나인원한남_2019         21    0   945000.0  769000.0  176000.0  3.097600e+10    1\n",
       "847-34   방배대우유로카운티    202301  13  2002  방배로28길 90      126.996942  37.491138  65  서초구   방배동    P02486   서초구_방배동_847-34_방배대우유로카운티_2002  3     1   430000.0  280120.0  149880.0  2.246401e+10    1\n",
       "89       올림픽선수기자촌2단지  202208  3   1988  양재대로 1218      127.136372  37.517562  30  송파구   방이동    P02869   송파구_방이동_89_올림픽선수기자촌2단지_1988    24    1   230000.0  120500.0  109500.0  1.199025e+10    1\n",
       "Name: count, dtype: int64"
      ]
     },
     "execution_count": 95,
     "metadata": {},
     "output_type": "execute_result"
    }
   ],
   "execution_count": 95
  },
  {
   "metadata": {
    "ExecuteTime": {
     "end_time": "2025-01-10T07:57:14.885120Z",
     "start_time": "2025-01-10T06:54:36.331113Z"
    }
   },
   "cell_type": "code",
   "source": "error_top100.columns",
   "id": "f46fafa515bbc48",
   "outputs": [
    {
     "data": {
      "text/plain": [
       "Index(['번지', '아파트명', '계약년월', '층', '건축년도', '도로명', '좌표X', '좌표Y', '평수', '구', '동',\n",
       "       '가까운공원ID', '아파트_unique_key', '클러스터', '학군', 'target', 'pred', '예측차이',\n",
       "       'error'],\n",
       "      dtype='object')"
      ]
     },
     "execution_count": 96,
     "metadata": {},
     "output_type": "execute_result"
    }
   ],
   "execution_count": 96
  },
  {
   "metadata": {
    "ExecuteTime": {
     "end_time": "2025-01-10T07:49:55.138716Z",
     "start_time": "2025-01-10T06:54:36.425767Z"
    }
   },
   "cell_type": "code",
   "source": "",
   "id": "372e50e70fa5d9aa",
   "outputs": [],
   "execution_count": null
  },
  {
   "metadata": {
    "ExecuteTime": {
     "end_time": "2025-01-10T07:49:55.139231Z",
     "start_time": "2025-01-10T06:54:36.490337Z"
    }
   },
   "cell_type": "code",
   "source": "",
   "id": "9bcc80a7fafdc56e",
   "outputs": [],
   "execution_count": null
  },
  {
   "metadata": {
    "ExecuteTime": {
     "end_time": "2025-01-10T07:49:55.139449Z",
     "start_time": "2025-01-10T06:54:36.766919Z"
    }
   },
   "cell_type": "code",
   "source": "",
   "id": "a8e5cad396331a15",
   "outputs": [],
   "execution_count": null
  },
  {
   "metadata": {
    "ExecuteTime": {
     "end_time": "2025-01-10T07:49:55.139883Z",
     "start_time": "2025-01-10T06:54:36.988788Z"
    }
   },
   "cell_type": "code",
   "source": "",
   "id": "b8499fde3b94226e",
   "outputs": [],
   "execution_count": null
  },
  {
   "metadata": {
    "ExecuteTime": {
     "end_time": "2025-01-10T07:49:55.140045Z",
     "start_time": "2025-01-10T06:54:37.193911Z"
    }
   },
   "cell_type": "code",
   "source": "",
   "id": "406947739f2404b7",
   "outputs": [],
   "execution_count": null
  },
  {
   "metadata": {
    "ExecuteTime": {
     "end_time": "2025-01-10T07:49:55.140191Z",
     "start_time": "2025-01-10T06:54:37.374596Z"
    }
   },
   "cell_type": "code",
   "source": "",
   "id": "5dc36d05c8878717",
   "outputs": [],
   "execution_count": null
  }
 ],
 "metadata": {
  "kernelspec": {
   "display_name": "Python 3",
   "language": "python",
   "name": "python3"
  },
  "language_info": {
   "codemirror_mode": {
    "name": "ipython",
    "version": 2
   },
   "file_extension": ".py",
   "mimetype": "text/x-python",
   "name": "python",
   "nbconvert_exporter": "python",
   "pygments_lexer": "ipython2",
   "version": "2.7.6"
  }
 },
 "nbformat": 4,
 "nbformat_minor": 5
}
