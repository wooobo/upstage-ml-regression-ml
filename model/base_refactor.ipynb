{
 "cells": [
  {
   "metadata": {
    "ExecuteTime": {
     "end_time": "2025-01-09T13:29:58.759966Z",
     "start_time": "2025-01-09T13:29:58.457371Z"
    }
   },
   "cell_type": "code",
   "source": [
    "# visualization\n",
    "import matplotlib.pyplot as plt\n",
    "import matplotlib.font_manager as fm\n",
    "\n",
    "from backup.module.preprocess import drop_columns\n",
    "\n",
    "fe = fm.FontEntry(\n",
    "    fname=r'/usr/share/fonts/truetype/nanum/NanumGothic.ttf', # ttf 파일이 저장되어 있는 경로\n",
    "    name='NanumBarunGothic')                        # 이 폰트의 원하는 이름 설정\n",
    "fm.fontManager.ttflist.insert(0, fe)              # Matplotlib에 폰트 추가\n",
    "plt.rcParams.update({'font.size': 10, 'font.family': 'AppleGothic'}) # 폰트 설정\n",
    "plt.rc('font', family='AppleGothic')\n",
    "import seaborn as sns\n",
    "\n",
    "# utils\n",
    "import pandas as pd\n",
    "import numpy as np\n",
    "from tqdm import tqdm\n",
    "import pickle\n",
    "import warnings;warnings.filterwarnings('ignore')\n",
    "\n",
    "# Model\n",
    "from sklearn.preprocessing import LabelEncoder\n",
    "from sklearn.model_selection import train_test_split\n",
    "from sklearn.metrics import mean_squared_error\n",
    "from sklearn.ensemble import RandomForestRegressor\n",
    "from sklearn import metrics\n",
    "\n",
    "import eli5\n",
    "from eli5.sklearn import PermutationImportance"
   ],
   "id": "c4f07c1ef46945d",
   "outputs": [],
   "execution_count": 1
  },
  {
   "metadata": {
    "ExecuteTime": {
     "end_time": "2025-01-09T13:29:58.766427Z",
     "start_time": "2025-01-09T13:29:58.764100Z"
    }
   },
   "cell_type": "code",
   "source": [
    "# sys.path를 수정하여 모듈 경로를 설정\n",
    "import sys\n",
    "import os\n",
    "import pandas as pd\n",
    "\n",
    "# 프로젝트 루트 경로 추가\n",
    "project_root = os.path.abspath(\"..\")\n",
    "sys.path.append(project_root)\n",
    "# 모든 컬럼 출력 설정\n",
    "# pd.set_option('display.max_columns', None)\n",
    "# 모든 행 출력 설정\n",
    "# pd.set_option('display.max_rows', None)\n",
    "\n",
    "import module"
   ],
   "id": "eb3e01a70c3324fa",
   "outputs": [],
   "execution_count": 2
  },
  {
   "metadata": {
    "ExecuteTime": {
     "end_time": "2025-01-09T13:30:04.257663Z",
     "start_time": "2025-01-09T13:29:58.787724Z"
    }
   },
   "cell_type": "code",
   "source": "df, df_test_y = module.file_load.load_local_data()",
   "id": "4f69e96e93e1e0e5",
   "outputs": [],
   "execution_count": 3
  },
  {
   "metadata": {
    "ExecuteTime": {
     "end_time": "2025-01-09T13:30:04.436823Z",
     "start_time": "2025-01-09T13:30:04.429740Z"
    }
   },
   "cell_type": "code",
   "source": "df['is_test'].value_counts()      # train과 test data가 하나로 합쳐진 것을 확인할 수 있습니다.",
   "id": "1cac72146f407cb",
   "outputs": [
    {
     "data": {
      "text/plain": [
       "is_test\n",
       "0    1097155\n",
       "1       5607\n",
       "Name: count, dtype: int64"
      ]
     },
     "execution_count": 4,
     "metadata": {},
     "output_type": "execute_result"
    }
   ],
   "execution_count": 4
  },
  {
   "metadata": {
    "ExecuteTime": {
     "end_time": "2025-01-09T13:30:04.604929Z",
     "start_time": "2025-01-09T13:30:04.602366Z"
    }
   },
   "cell_type": "code",
   "source": [
    "# 결측치가 많거나 필요 없는 컬럼을 정리한다\n",
    "drop_columns = [\n",
    "    '본번','부번',\n",
    "       '해제사유발생일', 'k-단지분류(아파트,주상복합등등)',\n",
    "       'k-전화번호', 'k-팩스번호', '단지소개기존clob', 'k-세대타입(분양형태)', 'k-관리방식', 'k-복도유형',\n",
    "       'k-난방방식', 'k-전체동수', 'k-전체세대수', 'k-건설사(시공사)', 'k-시행사', 'k-사용검사일-사용승인일',\n",
    "       'k-연면적', 'k-주거전용면적', 'k-관리비부과면적', 'k-전용면적별세대현황(60㎡이하)',\n",
    "       'k-전용면적별세대현황(60㎡~85㎡이하)', 'k-85㎡~135㎡이하', 'k-135㎡초과', 'k-홈페이지',\n",
    "       'k-등록일자', 'k-수정일자', '고용보험관리번호', '경비비관리형태', '세대전기계약방법', '청소비관리형태',\n",
    "       '건축면적', '주차대수', '기타/의무/임대/임의=1/2/3/4', '단지승인일', '사용허가여부', '관리비 업로드',\n",
    "       '단지신청일'\n",
    "]"
   ],
   "id": "687643b502b9a749",
   "outputs": [],
   "execution_count": 5
  },
  {
   "metadata": {},
   "cell_type": "markdown",
   "source": "# 전처리",
   "id": "cec4cd9593ec6f4e"
  },
  {
   "metadata": {
    "ExecuteTime": {
     "end_time": "2025-01-09T13:30:04.878514Z",
     "start_time": "2025-01-09T13:30:04.632516Z"
    }
   },
   "cell_type": "code",
   "source": [
    "module.preprocess.컬럼_정리(df)\n",
    "df_select = module.preprocess.drop_columns(df, drop_columns)\n",
    "module.preprocess.번지_본번_부번_결측채우기(df_select)\n",
    "df_select = module.preprocess.remove_outliers_iqr(df_select, '전용면적')\n",
    "df_select['좌표X'].fillna(0, inplace=True)\n",
    "df_select['좌표Y'].fillna(0, inplace=True)"
   ],
   "id": "524d33e39dc09754",
   "outputs": [],
   "execution_count": 6
  },
  {
   "metadata": {
    "ExecuteTime": {
     "end_time": "2025-01-09T13:30:04.890770Z",
     "start_time": "2025-01-09T13:30:04.883567Z"
    }
   },
   "cell_type": "code",
   "source": "df_select['좌표Y'].value_counts()",
   "id": "9d972f7a7e91887b",
   "outputs": [
    {
     "data": {
      "text/plain": [
       "좌표Y\n",
       "0.000000     858366\n",
       "37.512752      2969\n",
       "37.480002      2816\n",
       "37.488521      2545\n",
       "37.497741      2495\n",
       "              ...  \n",
       "37.561735         1\n",
       "37.630117         1\n",
       "37.556293         1\n",
       "37.507791         1\n",
       "37.580320         1\n",
       "Name: count, Length: 735, dtype: int64"
      ]
     },
     "execution_count": 7,
     "metadata": {},
     "output_type": "execute_result"
    }
   ],
   "execution_count": 7
  },
  {
   "metadata": {},
   "cell_type": "markdown",
   "source": "# 파생변수",
   "id": "ea39a5cbe8ef7f6e"
  },
  {
   "metadata": {
    "ExecuteTime": {
     "end_time": "2025-01-09T13:30:06.555299Z",
     "start_time": "2025-01-09T13:30:05.068696Z"
    }
   },
   "cell_type": "code",
   "source": [
    "module.preprocess.시_군_구_add(df_select)\n",
    "module.preprocess.강남_add(df_select)\n",
    "module.preprocess.신축_add(df_select)\n",
    "# module.preprocess.계약_건축년도_차이(df_select)"
   ],
   "id": "99b78aee4f5151d2",
   "outputs": [],
   "execution_count": 8
  },
  {
   "metadata": {},
   "cell_type": "markdown",
   "source": "# Model Training",
   "id": "1df752cfb07be26"
  },
  {
   "metadata": {},
   "cell_type": "markdown",
   "source": "## 범주형 변수 Encoding",
   "id": "3afbdcde8557e5fa"
  },
  {
   "metadata": {
    "ExecuteTime": {
     "end_time": "2025-01-09T13:30:06.844710Z",
     "start_time": "2025-01-09T13:30:06.579409Z"
    }
   },
   "cell_type": "code",
   "source": "model_data = df_select.copy()",
   "id": "a4befac26e6522db",
   "outputs": [],
   "execution_count": 9
  },
  {
   "metadata": {
    "ExecuteTime": {
     "end_time": "2025-01-09T13:30:07.051167Z",
     "start_time": "2025-01-09T13:30:06.850391Z"
    }
   },
   "cell_type": "code",
   "source": "model_data.info()",
   "id": "a713dc696f6d6460",
   "outputs": [
    {
     "name": "stdout",
     "output_type": "stream",
     "text": [
      "<class 'pandas.core.frame.DataFrame'>\n",
      "Index: 1102762 entries, 0 to 5606\n",
      "Data columns (total 19 columns):\n",
      " #   Column   Non-Null Count    Dtype  \n",
      "---  ------   --------------    -----  \n",
      " 0   번지       1102762 non-null  object \n",
      " 1   아파트명     1102762 non-null  object \n",
      " 2   전용면적     1102762 non-null  float64\n",
      " 3   계약년월     1102762 non-null  int64  \n",
      " 4   계약일      1102762 non-null  int64  \n",
      " 5   층        1102762 non-null  int64  \n",
      " 6   건축년도     1102762 non-null  int64  \n",
      " 7   도로명      1102762 non-null  object \n",
      " 8   등기신청일자   1102762 non-null  object \n",
      " 9   거래유형     1102762 non-null  object \n",
      " 10  중개사소재지   1102762 non-null  object \n",
      " 11  좌표X      1102762 non-null  float64\n",
      " 12  좌표Y      1102762 non-null  float64\n",
      " 13  target   1097155 non-null  float64\n",
      " 14  is_test  1102762 non-null  int64  \n",
      " 15  시        1102762 non-null  object \n",
      " 16  구        1102762 non-null  object \n",
      " 17  동        1102762 non-null  object \n",
      " 18  강남여부     1102762 non-null  int64  \n",
      "dtypes: float64(4), int64(6), object(9)\n",
      "memory usage: 168.3+ MB\n"
     ]
    }
   ],
   "execution_count": 10
  },
  {
   "metadata": {
    "ExecuteTime": {
     "end_time": "2025-01-09T13:30:07.408979Z",
     "start_time": "2025-01-09T13:30:07.212420Z"
    }
   },
   "cell_type": "code",
   "source": "model_data.isnull().sum()",
   "id": "432b2c31bb1e3fad",
   "outputs": [
    {
     "data": {
      "text/plain": [
       "번지            0\n",
       "아파트명          0\n",
       "전용면적          0\n",
       "계약년월          0\n",
       "계약일           0\n",
       "층             0\n",
       "건축년도          0\n",
       "도로명           0\n",
       "등기신청일자        0\n",
       "거래유형          0\n",
       "중개사소재지        0\n",
       "좌표X           0\n",
       "좌표Y           0\n",
       "target     5607\n",
       "is_test       0\n",
       "시             0\n",
       "구             0\n",
       "동             0\n",
       "강남여부          0\n",
       "dtype: int64"
      ]
     },
     "execution_count": 11,
     "metadata": {},
     "output_type": "execute_result"
    }
   ],
   "execution_count": 11
  },
  {
   "metadata": {
    "ExecuteTime": {
     "end_time": "2025-01-09T13:30:09.523423Z",
     "start_time": "2025-01-09T13:30:07.583166Z"
    }
   },
   "cell_type": "code",
   "source": [
    "dt_train, dt_test = module.preprocess.split_train_test(model_data)\n",
    "categorical_columns_v2 = module.preprocess.범주형_filter(dt_train)\n",
    "label_encoders = module.preprocess.범주형_encoding(dt_train, dt_test, categorical_columns_v2)\n",
    "print(dt_train.shape, dt_test.shape)"
   ],
   "id": "ae3ef63768ad6c39",
   "outputs": [
    {
     "name": "stderr",
     "output_type": "stream",
     "text": [
      "100%|██████████| 9/9 [00:01<00:00,  5.57it/s]"
     ]
    },
    {
     "name": "stdout",
     "output_type": "stream",
     "text": [
      "(1097155, 18) (5607, 18)\n"
     ]
    },
    {
     "name": "stderr",
     "output_type": "stream",
     "text": [
      "\n"
     ]
    }
   ],
   "execution_count": 12
  },
  {
   "metadata": {},
   "cell_type": "markdown",
   "source": "## Model Training\n",
   "id": "6965824bbc4a624c"
  },
  {
   "metadata": {},
   "cell_type": "markdown",
   "source": "# 훈련데이터 분할",
   "id": "fb9319e479302a9b"
  },
  {
   "metadata": {
    "ExecuteTime": {
     "end_time": "2025-01-09T13:30:09.776293Z",
     "start_time": "2025-01-09T13:30:09.543867Z"
    }
   },
   "cell_type": "code",
   "source": "X_train, X_val, y_train, y_val = module.preprocess.holdout_split_X_y(dt_train)",
   "id": "1f81a7fa9d42bb22",
   "outputs": [],
   "execution_count": 13
  },
  {
   "metadata": {
    "ExecuteTime": {
     "end_time": "2025-01-09T13:30:09.785398Z",
     "start_time": "2025-01-09T13:30:09.782614Z"
    }
   },
   "cell_type": "code",
   "source": "X_train.shape, X_val.shape, y_train.shape, y_val.shape",
   "id": "79b6c1256eb120ac",
   "outputs": [
    {
     "data": {
      "text/plain": [
       "((877724, 17), (219431, 17), (877724,), (219431,))"
      ]
     },
     "execution_count": 14,
     "metadata": {},
     "output_type": "execute_result"
    }
   ],
   "execution_count": 14
  },
  {
   "metadata": {
    "ExecuteTime": {
     "end_time": "2025-01-09T13:30:09.986807Z",
     "start_time": "2025-01-09T13:30:09.981753Z"
    }
   },
   "cell_type": "code",
   "source": "X_train.head(1)",
   "id": "6116e7b8ceb3dc07",
   "outputs": [
    {
     "data": {
      "text/plain": [
       "          번지  아파트명   전용면적    계약년월  계약일   층  건축년도   도로명  등기신청일자  거래유형  중개사소재지  \\\n",
       "586784  1444  3131  79.47  201605   31  11  1988  4922       0     0       0   \n",
       "\n",
       "        좌표X  좌표Y  시   구    동  강남여부  \n",
       "586784  0.0  0.0  0  14  151     1  "
      ],
      "text/html": [
       "<div>\n",
       "<style scoped>\n",
       "    .dataframe tbody tr th:only-of-type {\n",
       "        vertical-align: middle;\n",
       "    }\n",
       "\n",
       "    .dataframe tbody tr th {\n",
       "        vertical-align: top;\n",
       "    }\n",
       "\n",
       "    .dataframe thead th {\n",
       "        text-align: right;\n",
       "    }\n",
       "</style>\n",
       "<table border=\"1\" class=\"dataframe\">\n",
       "  <thead>\n",
       "    <tr style=\"text-align: right;\">\n",
       "      <th></th>\n",
       "      <th>번지</th>\n",
       "      <th>아파트명</th>\n",
       "      <th>전용면적</th>\n",
       "      <th>계약년월</th>\n",
       "      <th>계약일</th>\n",
       "      <th>층</th>\n",
       "      <th>건축년도</th>\n",
       "      <th>도로명</th>\n",
       "      <th>등기신청일자</th>\n",
       "      <th>거래유형</th>\n",
       "      <th>중개사소재지</th>\n",
       "      <th>좌표X</th>\n",
       "      <th>좌표Y</th>\n",
       "      <th>시</th>\n",
       "      <th>구</th>\n",
       "      <th>동</th>\n",
       "      <th>강남여부</th>\n",
       "    </tr>\n",
       "  </thead>\n",
       "  <tbody>\n",
       "    <tr>\n",
       "      <th>586784</th>\n",
       "      <td>1444</td>\n",
       "      <td>3131</td>\n",
       "      <td>79.47</td>\n",
       "      <td>201605</td>\n",
       "      <td>31</td>\n",
       "      <td>11</td>\n",
       "      <td>1988</td>\n",
       "      <td>4922</td>\n",
       "      <td>0</td>\n",
       "      <td>0</td>\n",
       "      <td>0</td>\n",
       "      <td>0.0</td>\n",
       "      <td>0.0</td>\n",
       "      <td>0</td>\n",
       "      <td>14</td>\n",
       "      <td>151</td>\n",
       "      <td>1</td>\n",
       "    </tr>\n",
       "  </tbody>\n",
       "</table>\n",
       "</div>"
      ]
     },
     "execution_count": 15,
     "metadata": {},
     "output_type": "execute_result"
    }
   ],
   "execution_count": 15
  },
  {
   "metadata": {
    "ExecuteTime": {
     "end_time": "2025-01-09T13:30:10.180830Z",
     "start_time": "2025-01-09T13:30:10.164819Z"
    }
   },
   "cell_type": "code",
   "source": "X_train.isnull().sum()",
   "id": "3bbeeba82af64aa9",
   "outputs": [
    {
     "data": {
      "text/plain": [
       "번지        0\n",
       "아파트명      0\n",
       "전용면적      0\n",
       "계약년월      0\n",
       "계약일       0\n",
       "층         0\n",
       "건축년도      0\n",
       "도로명       0\n",
       "등기신청일자    0\n",
       "거래유형      0\n",
       "중개사소재지    0\n",
       "좌표X       0\n",
       "좌표Y       0\n",
       "시         0\n",
       "구         0\n",
       "동         0\n",
       "강남여부      0\n",
       "dtype: int64"
      ]
     },
     "execution_count": 16,
     "metadata": {},
     "output_type": "execute_result"
    }
   ],
   "execution_count": 16
  },
  {
   "metadata": {
    "ExecuteTime": {
     "end_time": "2025-01-09T13:30:16.428630Z",
     "start_time": "2025-01-09T13:30:10.220972Z"
    }
   },
   "cell_type": "code",
   "source": [
    "# RandomForestRegressor 를 이용해 회귀 모델을 적합시키겠습니다.\n",
    "model = RandomForestRegressor(n_estimators=5, criterion='squared_error', random_state=1, n_jobs=-1)\n",
    "model.fit(X_train, y_train)\n",
    "pred = model.predict(X_val)"
   ],
   "id": "62b2872ffe93c4f3",
   "outputs": [],
   "execution_count": 17
  },
  {
   "metadata": {
    "ExecuteTime": {
     "end_time": "2025-01-09T13:30:16.725796Z",
     "start_time": "2025-01-09T13:30:16.456331Z"
    }
   },
   "cell_type": "code",
   "source": "df_select.isnull().sum()",
   "id": "a654e8854cb91531",
   "outputs": [
    {
     "data": {
      "text/plain": [
       "번지            0\n",
       "아파트명          0\n",
       "전용면적          0\n",
       "계약년월          0\n",
       "계약일           0\n",
       "층             0\n",
       "건축년도          0\n",
       "도로명           0\n",
       "등기신청일자        0\n",
       "거래유형          0\n",
       "중개사소재지        0\n",
       "좌표X           0\n",
       "좌표Y           0\n",
       "target     5607\n",
       "is_test       0\n",
       "시             0\n",
       "구             0\n",
       "동             0\n",
       "강남여부          0\n",
       "dtype: int64"
      ]
     },
     "execution_count": 18,
     "metadata": {},
     "output_type": "execute_result"
    }
   ],
   "execution_count": 18
  },
  {
   "metadata": {
    "ExecuteTime": {
     "end_time": "2025-01-09T13:30:16.756654Z",
     "start_time": "2025-01-09T13:30:16.751672Z"
    }
   },
   "cell_type": "code",
   "source": "print(f'RMSE test: {np.sqrt(metrics.mean_squared_error(y_val, pred))}')",
   "id": "352d041885332758",
   "outputs": [
    {
     "name": "stdout",
     "output_type": "stream",
     "text": [
      "RMSE test: 6981.553986772343\n"
     ]
    }
   ],
   "execution_count": 19
  },
  {
   "metadata": {
    "ExecuteTime": {
     "end_time": "2025-01-09T13:30:16.817261Z",
     "start_time": "2025-01-09T13:30:16.794637Z"
    }
   },
   "cell_type": "code",
   "source": [
    "X_test = dt_test.drop(['target'], axis=1)\n",
    "\n",
    "real_test_pred = model.predict(X_test)\n",
    "print(f'RMSE test: {np.sqrt(metrics.mean_squared_error(df_test_y, real_test_pred))}')"
   ],
   "id": "c058038429b80b58",
   "outputs": [
    {
     "name": "stdout",
     "output_type": "stream",
     "text": [
      "RMSE test: 29276.578002365797\n"
     ]
    }
   ],
   "execution_count": 20
  },
  {
   "metadata": {
    "ExecuteTime": {
     "end_time": "2025-01-09T13:30:16.862231Z",
     "start_time": "2025-01-09T13:30:16.860021Z"
    }
   },
   "cell_type": "code",
   "source": [
    "# Squared_error를 계산하는 함수를 정의하겠습니다.\n",
    "def calculate_se(target, pred):\n",
    "    squared_errors = (target - pred) ** 2\n",
    "    return squared_errors\n"
   ],
   "id": "cba55395adae6179",
   "outputs": [],
   "execution_count": 21
  },
  {
   "metadata": {
    "ExecuteTime": {
     "end_time": "2025-01-09T13:30:16.889653Z",
     "start_time": "2025-01-09T13:30:16.879871Z"
    }
   },
   "cell_type": "code",
   "source": [
    "X_val = X_test\n",
    "X_val['target'] = df_test_y\n",
    "X_val['pred'] = real_test_pred\n",
    "X_val['예측차이'] = X_val['target'] - X_val['pred']\n",
    "# RMSE 계산\n",
    "squared_errors = calculate_se(X_val['target'], X_val['pred'])\n",
    "X_val['error'] = squared_errors\n",
    "# Error가 큰 순서대로 sorting 해 보겠습니다.\n",
    "X_val_sort = X_val.sort_values(by='error', ascending=False)       # 내림차순 sorting"
   ],
   "id": "efccbc2a620ab136",
   "outputs": [],
   "execution_count": 22
  },
  {
   "metadata": {
    "ExecuteTime": {
     "end_time": "2025-01-09T13:30:17.174446Z",
     "start_time": "2025-01-09T13:30:17.169966Z"
    }
   },
   "cell_type": "code",
   "source": [
    "X_val_sort_top100 = X_val.sort_values(by='error', ascending=False).head(100)        # 예측을 잘 하지못한 top 100개의 data\n",
    "X_val_sort_tail100 = X_val.sort_values(by='error', ascending=False).tail(100)       # 예측을 잘한 top 100개의 data"
   ],
   "id": "2cc078c44d187234",
   "outputs": [],
   "execution_count": 23
  },
  {
   "metadata": {
    "ExecuteTime": {
     "end_time": "2025-01-09T13:30:17.356420Z",
     "start_time": "2025-01-09T13:30:17.350419Z"
    }
   },
   "cell_type": "code",
   "source": [
    "# 해석을 위해 레이블인코딩 된 변수를 복원해줍니다.\n",
    "error_top100 = X_val_sort_top100.copy()\n",
    "for column in categorical_columns_v2 :     # 앞서 레이블 인코딩에서 정의했던 categorical_columns_v2 범주형 변수 리스트를 사용합니다.\n",
    "    error_top100[column] = label_encoders[column].inverse_transform(X_val_sort_top100[column])\n",
    "\n",
    "best_top100 = X_val_sort_tail100.copy()\n",
    "for column in categorical_columns_v2 :     # 앞서 레이블 인코딩에서 정의했던 categorical_columns_v2 범주형 변수 리스트를 사용합니다.\n",
    "    best_top100[column] = label_encoders[column].inverse_transform(X_val_sort_tail100[column])"
   ],
   "id": "b9490c2ca426939",
   "outputs": [],
   "execution_count": 24
  },
  {
   "metadata": {
    "ExecuteTime": {
     "end_time": "2025-01-09T13:30:17.536163Z",
     "start_time": "2025-01-09T13:30:17.531034Z"
    }
   },
   "cell_type": "code",
   "source": [
    "X_val_sort_top100.to_csv('top100_top_전용면적안함.csv', index=False)\n",
    "X_val_sort_tail100.to_csv('tail100_error_전용면적안함.csv', index=False)"
   ],
   "id": "b4885d95b0c347d3",
   "outputs": [],
   "execution_count": 25
  }
 ],
 "metadata": {
  "kernelspec": {
   "display_name": "Python 3",
   "language": "python",
   "name": "python3"
  },
  "language_info": {
   "codemirror_mode": {
    "name": "ipython",
    "version": 2
   },
   "file_extension": ".py",
   "mimetype": "text/x-python",
   "name": "python",
   "nbconvert_exporter": "python",
   "pygments_lexer": "ipython2",
   "version": "2.7.6"
  }
 },
 "nbformat": 4,
 "nbformat_minor": 5
}
