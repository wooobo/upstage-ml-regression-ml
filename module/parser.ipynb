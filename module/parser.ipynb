{
 "cells": [
  {
   "cell_type": "code",
   "id": "initial_id",
   "metadata": {
    "collapsed": true,
    "ExecuteTime": {
     "end_time": "2025-01-10T01:08:52.239364Z",
     "start_time": "2025-01-10T01:08:52.010045Z"
    }
   },
   "source": [
    "import file_load\n",
    "import pandas as pd\n",
    "\n",
    "from module.file_load import current_version\n",
    "\n",
    "\n",
    "def parser_local_test_set(dt_train, up_date=202207, down_date=202301):\n",
    "    test_set = dt_train[(dt_train['계약년월'] >= up_date) & (dt_train['계약년월'] <= down_date)]\n",
    "    dt_train_ = dt_train[dt_train['계약년월'] < up_date]\n",
    "\n",
    "    test_y = test_set['target']\n",
    "    test_set = test_set.drop(['target'], axis=1)\n",
    "    return (dt_train_.reset_index(drop=True), test_set.reset_index(drop=True), test_y)\n",
    "\n",
    "\n"
   ],
   "outputs": [],
   "execution_count": 1
  },
  {
   "metadata": {
    "ExecuteTime": {
     "end_time": "2025-01-10T01:09:07.130270Z",
     "start_time": "2025-01-10T01:08:52.244977Z"
    }
   },
   "cell_type": "code",
   "source": [
    "# origin_train = file_load.load_origin_train()\n",
    "\n",
    "# dt_train, dt_test, dt_test_y = parser_local_test_set(origin_train)\n",
    "#\n",
    "# dt_train.to_csv('../data/local_train.csv',  index=False)\n",
    "# dt_test.to_csv('../data/local_test.csv',  index=False)\n",
    "# dt_test_y.to_csv('../data/local_test_y.csv',  index=False)\n",
    "\n",
    "# -----\n",
    "current_version = file_load.load_merged_current_version()\n",
    "# dt_train, dt_test, dt_test_y = parser_local_test_set(current_version)\n",
    "\n",
    "# print(current_version['계약년월'].value_counts())\n",
    "\n"
   ],
   "id": "6f41b4620a5fc049",
   "outputs": [],
   "execution_count": 2
  },
  {
   "metadata": {
    "ExecuteTime": {
     "end_time": "2025-01-10T01:09:28.655772Z",
     "start_time": "2025-01-10T01:09:28.639875Z"
    }
   },
   "cell_type": "code",
   "source": [
    "display(current_version.columns)\n",
    "print(current_version['계약년월'].value_counts().sort_index())"
   ],
   "id": "490bb99efd47e5eb",
   "outputs": [
    {
     "data": {
      "text/plain": [
       "Index(['index', '시군구', '번지', '본번', '부번', '아파트명', '전용면적(㎡)', '계약년월', '계약일', '층',\n",
       "       '건축년도', '도로명', '해제사유발생일', '등기신청일자', '거래유형', '중개사소재지',\n",
       "       'k-단지분류(아파트,주상복합등등)', 'k-전화번호', 'k-팩스번호', '단지소개기존clob', 'k-세대타입(분양형태)',\n",
       "       'k-관리방식', 'k-복도유형', 'k-난방방식', 'k-전체동수', 'k-전체세대수', 'k-건설사(시공사)',\n",
       "       'k-시행사', 'k-사용검사일-사용승인일', 'k-연면적', 'k-주거전용면적', 'k-관리비부과면적',\n",
       "       'k-전용면적별세대현황(60㎡이하)', 'k-전용면적별세대현황(60㎡~85㎡이하)', 'k-85㎡~135㎡이하',\n",
       "       'k-135㎡초과', 'k-홈페이지', 'k-등록일자', 'k-수정일자', '고용보험관리번호', '경비비관리형태',\n",
       "       '세대전기계약방법', '청소비관리형태', '건축면적', '주차대수', '기타/의무/임대/임의=1/2/3/4', '단지승인일',\n",
       "       '사용허가여부', '관리비 업로드', '좌표X', '좌표Y', '단지신청일', 'target', '금리_단기1년전차이',\n",
       "       'nearest_subway_distance', 'nearest_bus_distance', '1차역세권', '2차역세권',\n",
       "       '1차버스정류장', '경과연도', '경과구분', '평수', '층_그룹', '평수_그룹', '시', '구', '동',\n",
       "       '아파트ID', '아파트ID거리', 'nearest_park_distance', '가까운공원이름', '가까운공원ID',\n",
       "       '공원갯수', '공원총면적', '공원생활권점수', '산책로갯수', '산책로총길이', '산책생활권점수', '생태문화길갯수',\n",
       "       '생태문화길총길이', '생태문화생활권점수', '한강지천길갯수', '한강지천길총길이', '한강지천생활권점수', '숲세권종합점수',\n",
       "       '숲세권등급', '한강거리', '지가지수', '아파트전세_전기대비증감률', '실업률', '민간소비', '소비자심리지수',\n",
       "       '경제심리지수', '여수신 금리차', 'is_test'],\n",
       "      dtype='object')"
      ]
     },
     "metadata": {},
     "output_type": "display_data"
    },
    {
     "name": "stdout",
     "output_type": "stream",
     "text": [
      "계약년월\n",
      "200701    4350\n",
      "200702    3749\n",
      "200703    5449\n",
      "200704    4442\n",
      "200705    3607\n",
      "          ... \n",
      "202305    3500\n",
      "202306    3867\n",
      "202307    3695\n",
      "202308    3864\n",
      "202309    1713\n",
      "Name: count, Length: 201, dtype: int64\n"
     ]
    }
   ],
   "execution_count": 6
  },
  {
   "metadata": {
    "ExecuteTime": {
     "end_time": "2025-01-10T01:09:20.854671Z",
     "start_time": "2025-01-10T01:09:19.084030Z"
    }
   },
   "cell_type": "code",
   "source": "dt_train, dt_test, dt_test_y = parser_local_test_set(current_version)",
   "id": "e796d08cc0a86947",
   "outputs": [],
   "execution_count": 5
  },
  {
   "metadata": {
    "ExecuteTime": {
     "end_time": "2025-01-10T01:09:31.532830Z",
     "start_time": "2025-01-10T01:09:31.526472Z"
    }
   },
   "cell_type": "code",
   "source": "dt_train.shape, dt_test.shape, dt_test_y.shape",
   "id": "449955080399c5fe",
   "outputs": [
    {
     "data": {
      "text/plain": [
       "((1097155, 95), (5607, 94), (5607,))"
      ]
     },
     "execution_count": 7,
     "metadata": {},
     "output_type": "execute_result"
    }
   ],
   "execution_count": 7
  },
  {
   "metadata": {
    "ExecuteTime": {
     "end_time": "2025-01-10T01:09:35.514090Z",
     "start_time": "2025-01-10T01:09:35.499430Z"
    }
   },
   "cell_type": "code",
   "source": "dt_train['계약년월'].value_counts().sort_index()",
   "id": "f66165f4a0ff1897",
   "outputs": [
    {
     "data": {
      "text/plain": [
       "계약년월\n",
       "200701    4350\n",
       "200702    3749\n",
       "200703    5449\n",
       "200704    4442\n",
       "200705    3607\n",
       "          ... \n",
       "202202     858\n",
       "202203    1472\n",
       "202204    1832\n",
       "202205    1770\n",
       "202206    1038\n",
       "Name: count, Length: 186, dtype: int64"
      ]
     },
     "execution_count": 8,
     "metadata": {},
     "output_type": "execute_result"
    }
   ],
   "execution_count": 8
  },
  {
   "metadata": {
    "ExecuteTime": {
     "end_time": "2025-01-10T01:09:36.199774Z",
     "start_time": "2025-01-10T01:09:36.193138Z"
    }
   },
   "cell_type": "code",
   "source": "dt_test['계약년월'].value_counts().sort_index()",
   "id": "52159e64cdbc67a8",
   "outputs": [
    {
     "data": {
      "text/plain": [
       "계약년월\n",
       "202207     690\n",
       "202208     732\n",
       "202209     620\n",
       "202210     576\n",
       "202211     646\n",
       "202212     855\n",
       "202301    1488\n",
       "Name: count, dtype: int64"
      ]
     },
     "execution_count": 9,
     "metadata": {},
     "output_type": "execute_result"
    }
   ],
   "execution_count": 9
  },
  {
   "metadata": {
    "ExecuteTime": {
     "end_time": "2025-01-10T01:09:51.563391Z",
     "start_time": "2025-01-10T01:09:36.806667Z"
    }
   },
   "cell_type": "code",
   "source": [
    "dt_train.to_csv('../data/local_train_v30.csv',  index=False)\n",
    "dt_test.to_csv('../data/local_test_v30.csv',  index=False)\n",
    "dt_test_y.to_csv('../data/local_test_y_v30.csv',  index=False)"
   ],
   "id": "f736e5df3f9cdeaf",
   "outputs": [],
   "execution_count": 10
  },
  {
   "metadata": {},
   "cell_type": "code",
   "outputs": [],
   "execution_count": null,
   "source": "",
   "id": "7cbb7a430449bd94"
  }
 ],
 "metadata": {
  "kernelspec": {
   "display_name": "Python 3",
   "language": "python",
   "name": "python3"
  },
  "language_info": {
   "codemirror_mode": {
    "name": "ipython",
    "version": 2
   },
   "file_extension": ".py",
   "mimetype": "text/x-python",
   "name": "python",
   "nbconvert_exporter": "python",
   "pygments_lexer": "ipython2",
   "version": "2.7.6"
  }
 },
 "nbformat": 4,
 "nbformat_minor": 5
}
